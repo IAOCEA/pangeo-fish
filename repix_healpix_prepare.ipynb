{
 "cells": [
  {
   "cell_type": "code",
   "execution_count": null,
   "metadata": {},
   "outputs": [],
   "source": [
    "import os\n",
    "import healpy as hp\n",
    "\n",
    "import numpy as np\n",
    "import xarray as xr\n",
    "from scipy import interpolate"
   ]
  },
  {
   "cell_type": "code",
   "execution_count": null,
   "metadata": {},
   "outputs": [],
   "source": [
    "class HEALBIN:\n",
    "    def __init__(self, nside):\n",
    "        self.nside = nside\n",
    "        nstep = int(np.log(nside) / np.log(2))\n",
    "        lidx = np.arange(nside * nside, dtype=\"int\")\n",
    "        xx = np.zeros([nside * nside], dtype=\"int\")\n",
    "        yy = np.zeros([nside * nside], dtype=\"int\")\n",
    "        th, ph = hp.pix2ang(nside, np.arange(nside * nside), nest=True)\n",
    "        # 1min\n",
    "        # for i in range(nstep):\n",
    "        #    xx = xx + (2**i) * (((lidx // (4**i)) % 4) % 2)\n",
    "        #    yy = yy + (2**i) * (((lidx // (4**i)) % 4) // 2)\n",
    "        i = [2**x for x in range(nstep)]\n",
    "        ii = [x * x for x in i]\n",
    "        for p in range(nstep):\n",
    "            a, b = divmod(((lidx // (ii[p])) % 4), 2)\n",
    "            xx += (i[p]) * b\n",
    "            yy += (i[p]) * a\n",
    "        self.lon = np.zeros([nside, nside])\n",
    "        self.lat = np.zeros([nside, nside])\n",
    "        self.lon[xx, yy] = -ph / np.pi * 180.0  # Q\n",
    "        self.lat[xx, yy] = 90.0 - th / np.pi * 180.0\n",
    "        self.lidx = lidx\n",
    "        self.nstep = nstep\n",
    "        self.xx = xx\n",
    "        self.yy = yy\n",
    "        self.th = th\n",
    "        self.ph = ph\n",
    "\n",
    "    def MARS2HEAL(self, marslon, marslat, rot=[0, 0]):\n",
    "        theta = (90.0 - (marslat - rot[1])) / 180.0 * np.pi\n",
    "        phi = -(marslon - rot[0]) / 180.0 * np.pi\n",
    "        pix, weights = hp.get_interp_weights(self.nside, theta, phi, nest=True)\n",
    "        pix -= (self.nside * self.nside) * (pix.min() // (self.nside * self.nside))\n",
    "\n",
    "        return (\n",
    "            self.xx[pix] * self.nside + self.yy[pix],\n",
    "            weights,\n",
    "            self.lon + rot[0],\n",
    "            self.lat - rot[1],\n",
    "        )\n",
    "\n",
    "    def REBINHEAL(self, pix, weights, data, nside=-1):\n",
    "        if nside == -1:\n",
    "            nside = self.nside\n",
    "        b = np.zeros([nside * nside])\n",
    "        # b[:]=np.nan\n",
    "        bh = np.zeros([nside * nside])\n",
    "        # bh[:]=np.nan\n",
    "        for iii in range(4):\n",
    "            b = b + np.bincount(\n",
    "                pix[iii, :],\n",
    "                weights=weights[iii, :] * (data).flatten(),\n",
    "                minlength=nside * nside,\n",
    "            )\n",
    "            bh = bh + np.bincount(\n",
    "                pix[iii, :], weights=weights[iii, :], minlength=nside * nside\n",
    "            )\n",
    "        b[bh > 0] /= bh[bh > 0]\n",
    "        b[bh == 0] = np.nan\n",
    "        del bh\n",
    "        res = b.reshape(nside, nside)\n",
    "        del b\n",
    "        return res"
   ]
  },
  {
   "cell_type": "code",
   "execution_count": null,
   "metadata": {},
   "outputs": [],
   "source": [
    "%%time\n",
    "tag_id = os.environ.get(\"tag_id\", \"SV_A11981\")\n",
    "model = os.environ.get(\"model\", \"merged\")\n",
    "healpy = os.environ.get(\"healpy\", \"4\")\n",
    "\n",
    "basepath = os.environ.get(\"basepath\", \"../data_local/\")\n",
    "basepath = os.environ.get(\"basepath\", \"/home/datawork-lops-iaocea/work/fish/marc/\")\n",
    "\n",
    "input_filename = basepath + \"diff/\" + tag_id + \"-\" + model + \".zarr\"\n",
    "\n",
    "nside = 4096 * 2 * 2\n",
    "if healpy == \"1\":\n",
    "    nside = 4096\n",
    "\n",
    "output_filename = \"../data_local/healpixbase_nside_\" + str(nside) + \"_\" + model + \".nc\"\n",
    "\n",
    "tag_id, model, healpy, basepath, input_filename, nside, output_filename"
   ]
  },
  {
   "cell_type": "code",
   "execution_count": null,
   "metadata": {},
   "outputs": [],
   "source": [
    "%%time\n",
    "# Initialize the pixelisation (may take few seconds)\n",
    "\n",
    "HB = HEALBIN(nside)\n",
    "# grid size is 0.3970387705733788 Km\n",
    "# CPU times: user 29.4 s, sys: 18.5 s, total: 47.9 s\n",
    "# Wall time: 46.9 s\n",
    "\n",
    "\n",
    "# 公称赤道半径 nominal equatorial Earth radius 6378.1 km（正確に）\n",
    "# 公称極半径 nominal polar Earth radius 6356.8 km（正確に）\n",
    "R = 6378.1\n",
    "R = 6356.8\n",
    "grid_size = R * np.sqrt(4 * np.pi / (12 * nside * nside))\n",
    "grid_size"
   ]
  },
  {
   "cell_type": "code",
   "execution_count": null,
   "metadata": {},
   "outputs": [],
   "source": [
    "ds = xr.open_dataset(\n",
    "    input_filename, engine=\"zarr\", chunks={\"time\": 1, \"ni\": -1, \"nj\": -1}\n",
    ")\n",
    "ds"
   ]
  },
  {
   "cell_type": "code",
   "execution_count": null,
   "metadata": {},
   "outputs": [],
   "source": [
    "%%time\n",
    "p, w, lon, lat = HB.MARS2HEAL(\n",
    "    ds.longitude.data.compute()[:, :].flatten(),\n",
    "    ds.latitude.data.compute()[:, :].flatten(),\n",
    "    rot=[30, 0],\n",
    ")"
   ]
  },
  {
   "cell_type": "raw",
   "metadata": {},
   "source": [
    "%%time\n",
    "p, w, lon, lat = HB.MARS2HEAL(\n",
    "    ds.longitude.data[:, :].flatten(), ds.latitude.data[:, :].flatten(), rot=[30, 0]\n",
    ")"
   ]
  },
  {
   "cell_type": "code",
   "execution_count": null,
   "metadata": {},
   "outputs": [],
   "source": [
    "# print((p//nside).min(),(p//nside).max(),(p%nside).min(),(p%nside).max())\n",
    "nside2 = (\n",
    "    max((p // nside).max() - (p // nside).min(), (p % nside).max() - (p % nside).min())\n",
    "    + 10\n",
    ")\n",
    "nside2"
   ]
  },
  {
   "cell_type": "code",
   "execution_count": null,
   "metadata": {},
   "outputs": [],
   "source": [
    "p2 = (p // nside - (p // nside).min()) * nside2 + (p % nside - (p % nside).min())\n",
    "# plt.scatter((p2.T) % nside2, (p2.T) // nside2)"
   ]
  },
  {
   "cell_type": "markdown",
   "metadata": {},
   "source": [
    "## prepare parameters \n"
   ]
  },
  {
   "cell_type": "code",
   "execution_count": null,
   "metadata": {},
   "outputs": [],
   "source": [
    "def regrid(pdf):\n",
    "    return HB.REBINHEAL(p2, w, pdf, nside=nside2)"
   ]
  },
  {
   "cell_type": "code",
   "execution_count": null,
   "metadata": {},
   "outputs": [],
   "source": [
    "H0 = xr.apply_ufunc(\n",
    "    regrid,\n",
    "    ds.H0.compute(),  # .isel(time=slice(0,2))\n",
    "    input_core_dims=[[\"nj\", \"ni\"]],\n",
    "    output_core_dims=[[\"x\", \"y\"]],\n",
    "    exclude_dims=set((\"nj\", \"ni\")),\n",
    "    vectorize=True,\n",
    "    dask=\"parallelized\",\n",
    "    dask_gufunc_kwargs={\n",
    "        \"output_sizes\": {\"x\": nside2, \"y\": nside2},\n",
    "    },\n",
    "    output_dtypes=[ds.H0.dtype],\n",
    ")"
   ]
  },
  {
   "cell_type": "code",
   "execution_count": null,
   "metadata": {},
   "outputs": [],
   "source": [
    "ds_healpy = H0.to_dataset(name=\"H0\")\n",
    "ds_healpy[\"longitude\"] = xr.DataArray(\n",
    "    data=lon[\n",
    "        (p // nside).min() : (p // nside).min() + nside2,\n",
    "        (p % nside).min() : (p % nside).min() + nside2,\n",
    "    ],\n",
    "    dims=[\"x\", \"y\"],\n",
    ")  # dict(lon\n",
    "ds_healpy[\"latitude\"] = xr.DataArray(\n",
    "    data=lat[\n",
    "        (p // nside).min() : (p // nside).min() + nside2,\n",
    "        (p % nside).min() : (p % nside).min() + nside2,\n",
    "    ],\n",
    "    dims=[\"x\", \"y\"],\n",
    ")  # dict(lon\n",
    "ds_healpy = (\n",
    "    ds_healpy.assign_coords({\"longitude\": ds_healpy.longitude})\n",
    "    .assign_coords({\"latitude\": ds_healpy.latitude})\n",
    "    .assign_coords({\"x\": ds_healpy.x})\n",
    "    .assign_coords({\"y\": ds_healpy.y})\n",
    "    .assign_attrs({\"grid_size\": grid_size})\n",
    ")\n",
    "ds_healpy = ds_healpy.assign(\n",
    "    {\"p2\": ([\"a\", \"b\"], p2), \"w\": ([\"a\", \"b\"], w), \"nside2\": nside2, \"nside\": nside}\n",
    ")"
   ]
  },
  {
   "cell_type": "code",
   "execution_count": null,
   "metadata": {},
   "outputs": [],
   "source": [
    "ds_healpy.to_netcdf(output_filename)"
   ]
  }
 ],
 "metadata": {
  "language_info": {
   "codemirror_mode": {
    "name": "ipython",
    "version": 3
   },
   "file_extension": ".py",
   "mimetype": "text/x-python",
   "name": "python",
   "nbconvert_exporter": "python",
   "pygments_lexer": "ipython3"
  }
 },
 "nbformat": 4,
 "nbformat_minor": 4
}
