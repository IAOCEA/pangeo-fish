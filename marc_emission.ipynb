{
 "cells": [
  {
   "cell_type": "code",
   "execution_count": null,
   "id": "4af5880f-6df8-468c-8966-5d105386b7ca",
   "metadata": {},
   "outputs": [],
   "source": [
    "import os\n",
    "\n",
    "import cf_xarray\n",
    "import numpy as np\n",
    "import pint_xarray\n",
    "import xarray as xr"
   ]
  },
  {
   "cell_type": "raw",
   "id": "f4798f38-1ecd-44ac-9381-f7ada048734b",
   "metadata": {},
   "source": [
    "import dask_hpcconfig\n",
    "\n",
    "# cluster = dask_hpcconfig.cluster(\"datarmor-local\")\n",
    "from distributed import Client\n",
    "\n",
    "cluster = dask_hpcconfig.cluster(\"datarmor-local\")\n",
    "client = Client(cluster)\n",
    "client"
   ]
  },
  {
   "cell_type": "code",
   "execution_count": null,
   "id": "0f68c253-2294-4f26-946f-aa15ccfc1dd0",
   "metadata": {
    "tags": []
   },
   "outputs": [],
   "source": [
    "import dask_hpcconfig\n",
    "\n",
    "from distributed import Client\n",
    "\n",
    "# overrides = {\"cluster.processes\": 7}\n",
    "# cluster = dask_hpcconfig.cluster(\"datarmor\", **overrides)\n",
    "cluster = dask_hpcconfig.cluster(\"datarmor-local\")\n",
    "\n",
    "\n",
    "# cluster = dask_hpcconfig.cluster(\"datarmor\")\n",
    "# cluster.scale(12)\n",
    "\n",
    "# cluster = dask_hpcconfig.cluster(\"datarmor-local\")\n",
    "client = Client(cluster)\n",
    "client"
   ]
  },
  {
   "cell_type": "raw",
   "id": "a7898fb2-a9be-4f7b-9d96-e92d391f2f03",
   "metadata": {},
   "source": [
    "from dask.distributed import Client\n",
    "\n",
    "client = Client()\n",
    "#client.cluster.adapt(minimum=4, maximum=6)\n",
    "client"
   ]
  },
  {
   "cell_type": "markdown",
   "id": "b3e44c15-1e69-4d5a-9f3c-d78059421116",
   "metadata": {},
   "source": [
    "## Load raw 'difference' data "
   ]
  },
  {
   "cell_type": "code",
   "execution_count": null,
   "id": "7b859e8b-2ccd-479e-bad7-22913b2019b0",
   "metadata": {},
   "outputs": [],
   "source": [
    "%%time\n",
    "\n",
    "tag_id = os.environ.get(\"tag_id\", \"SV_A11981\")\n",
    "model = os.environ.get(\"model\", \"merged\")\n",
    "healpy = os.environ.get(\"healpy\", \"healpy\")\n",
    "\n",
    "basepath = os.environ.get(\"basepath\", \"../data_local/\")\n",
    "basepath = os.environ.get(\"basepath\", \"/home/datawork-lops-iaocea/work/fish/marc/\")\n",
    "\n",
    "engine = \"zarr\"\n",
    "\n",
    "nside = 4096 * 2 * 2\n",
    "if healpy == \"1\":\n",
    "    nside = 4096\n",
    "\n",
    "if healpy == \"none\":\n",
    "    print(\"non\")\n",
    "    input_filename = basepath + \"diff/\" + tag_id + \"-\" + model + \".zarr\"\n",
    "    output_filename = basepath + \"emission/\" + tag_id + \"-\" + model + \".zarr\"\n",
    "    coord = [\"ni\", \"nj\"]\n",
    "else:\n",
    "    print(\"heal\")\n",
    "    input_filename = (\n",
    "        basepath + \"diff_healpix/\" + tag_id + \"-\" + model + \"-\" + str(nside) + \".zarr\"\n",
    "    )\n",
    "    output_filename = (\n",
    "        basepath\n",
    "        + \"emission_healpix/\"\n",
    "        + tag_id\n",
    "        + \"-\"\n",
    "        + model\n",
    "        + \"-\"\n",
    "        + str(nside)\n",
    "        + \".zarr\"\n",
    "    )\n",
    "    coord = [\"x\", \"y\"]\n",
    "\n",
    "tag_id, model, healpy, basepath, input_filename, nside, output_filename"
   ]
  },
  {
   "cell_type": "code",
   "execution_count": null,
   "id": "124f1371-7d2d-4391-82c9-c3d54b33218b",
   "metadata": {},
   "outputs": [],
   "source": [
    "# input_filename='/home/datawork-lops-iaocea/work/fish/marc/emission_healpix/A18832-f1_e2500-4096.zarr'\n",
    "# input_filename='/home/datawork-lops-iaocea/work/fish/marc/emission_healpix/SV_A11930-merged.zarr'\n",
    "# input_filename='/home/datawork-lops-iaocea/work/fish/marc/emission_healpix/SV_A11981-merged.zarr'\n",
    "\n",
    "\n",
    "raw_pdf = xr.open_dataset(\n",
    "    input_filename, engine=engine, chunks={coord[0]: -1, coord[1]: -1, \"time\": 1}\n",
    ")\n",
    "raw_pdf"
   ]
  },
  {
   "cell_type": "markdown",
   "id": "3cf59e64-7778-455c-9a89-3a515b664b30",
   "metadata": {},
   "source": [
    "## load tag data"
   ]
  },
  {
   "cell_type": "code",
   "execution_count": null,
   "id": "780f2612-8849-4a7d-a9c9-298b5e9c3d32",
   "metadata": {},
   "outputs": [],
   "source": [
    "tag_url = basepath + \"tag_nc/\" + tag_id + \".nc\"\n",
    "tag = xr.open_dataset(tag_url, engine=\"h5netcdf\")  # .compute()"
   ]
  },
  {
   "cell_type": "markdown",
   "id": "56b93a70-e697-4669-b26c-791112a9a3e9",
   "metadata": {},
   "source": [
    "# Comuting emission_probability from Temperature difference map\n",
    "\n"
   ]
  },
  {
   "cell_type": "code",
   "execution_count": null,
   "id": "9badc6d7-6c73-4de4-9190-cbfb19d7e070",
   "metadata": {},
   "outputs": [],
   "source": [
    "def convert_pdf(samples):\n",
    "    import numpy as np\n",
    "    import scipy\n",
    "\n",
    "    mean = np.zeros_like(samples)\n",
    "    fill_value = 0.75\n",
    "    std = np.full_like(samples, fill_value**2)\n",
    "    # std= # change to std*std\n",
    "    return scipy.stats.norm.pdf(samples, mean, std)\n",
    "\n",
    "\n",
    "raw_pdf[\"normal_pdf\"] = xr.apply_ufunc(\n",
    "    convert_pdf,\n",
    "    raw_pdf.diff_,  # .isel(time=slice(0,2))\n",
    "    input_core_dims=[[coord[0], coord[1]]],\n",
    "    output_core_dims=[[coord[0], coord[1]]],\n",
    "    vectorize=True,\n",
    "    dask=\"parallelized\",\n",
    "    #    dask_gufunc_kwargs={\n",
    "    #        \"output_sizes\": {\"x\": nside2 * 4, \"y\": nside2 * 4},\n",
    "    #    },\n",
    "    output_dtypes=[raw_pdf.diff_.dtype],\n",
    ")"
   ]
  },
  {
   "cell_type": "markdown",
   "id": "b96a3030-e097-4ed3-8a72-f4527d03af90",
   "metadata": {},
   "source": [
    "## Compute Mask"
   ]
  },
  {
   "cell_type": "code",
   "execution_count": null,
   "id": "b2cdb91b-04d4-487a-b714-a8f7f897c549",
   "metadata": {},
   "outputs": [],
   "source": [
    "ocean_mask = xr.where(np.isnan(raw_pdf.H0), False, True)"
   ]
  },
  {
   "cell_type": "markdown",
   "id": "65ed3e10-5bdf-4cf1-8c60-2397b768bc35",
   "metadata": {},
   "source": [
    "## Compute grid\n"
   ]
  },
  {
   "cell_type": "code",
   "execution_count": null,
   "id": "e3d09d05-6cca-48f9-9e5c-813b086a8ea3",
   "metadata": {},
   "outputs": [],
   "source": [
    "grid = raw_pdf.cf[[\"latitude\", \"longitude\"]].compute()\n",
    "grid = grid.reset_index(coord)"
   ]
  },
  {
   "cell_type": "markdown",
   "id": "55a55cb8-df1b-410d-9328-eccd0a884236",
   "metadata": {},
   "source": [
    "## Compute initial and final probability"
   ]
  },
  {
   "cell_type": "code",
   "execution_count": null,
   "id": "327395c9-c9ac-43b9-a4af-15200e7c0dd1",
   "metadata": {},
   "outputs": [],
   "source": [
    "from pangeo_fish import distributions"
   ]
  },
  {
   "cell_type": "code",
   "execution_count": null,
   "id": "67a55dc2-c77f-4c58-a72b-fffc0956297a",
   "metadata": {
    "tags": []
   },
   "outputs": [],
   "source": [
    "# TODO apply np.nan to ground later to save time with dask worker only np.nan\n",
    "#\n",
    "initial_pos = tag[[\"longitude\", \"latitude\", \"times\"]].sel(events=\"release\")\n",
    "cov = xr.DataArray(\n",
    "    [[1e-6, 0], [0, 1e-6]], dims=[\"i\", \"j\"], coords={\"i\": [\"X\", \"Y\"], \"j\": [\"X\", \"Y\"]}\n",
    ")\n",
    "initial_probability = distributions.normal_at(\n",
    "    grid, pos=initial_pos, cov=cov, normalize=True, axes=[\"latitude\", \"longitude\"]\n",
    ")\n",
    "# initial_probability"
   ]
  },
  {
   "cell_type": "code",
   "execution_count": null,
   "id": "915b5355-69ec-4593-ad9b-98918949ca10",
   "metadata": {
    "tags": []
   },
   "outputs": [],
   "source": [
    "final_pos = tag[[\"longitude\", \"latitude\", \"times\"]].sel(events=\"recapture\")\n",
    "cov = xr.DataArray(\n",
    "    [[1e-4, 0], [0, 3e-4]],\n",
    "    dims=[\"i\", \"j\"],\n",
    "    coords={\"i\": [\"latitude\", \"longitude\"], \"j\": [\"latitude\", \"longitude\"]},\n",
    ")\n",
    "final_probability = distributions.normal_at(\n",
    "    grid, pos=final_pos, cov=cov, normalize=True, axes=[\"latitude\", \"longitude\"]\n",
    ")\n",
    "# final_probability"
   ]
  },
  {
   "cell_type": "markdown",
   "id": "1bf2945a-3354-4130-af26-b8641ccab6aa",
   "metadata": {},
   "source": [
    "## Combine data and save"
   ]
  },
  {
   "cell_type": "code",
   "execution_count": null,
   "id": "46f7c131-a471-4741-ab05-dac0fafdd365",
   "metadata": {},
   "outputs": [],
   "source": [
    "raw_pdf = raw_pdf.assign(\n",
    "    {\n",
    "        \"initial\": initial_probability.normal_pdf.chunk({coord[0]: -1, coord[1]: -1}),\n",
    "        \"final\": final_probability.normal_pdf.chunk({coord[0]: -1, coord[1]: -1}),\n",
    "        \"mask\": ocean_mask,\n",
    "    }\n",
    ").assign_coords(grid)\n",
    "raw_pdf = raw_pdf.drop_vars([\"diff_\", \"H0\"])"
   ]
  },
  {
   "cell_type": "code",
   "execution_count": null,
   "id": "a7caea61-e913-4168-ae7b-5adf6c05af86",
   "metadata": {},
   "outputs": [],
   "source": [
    "from pangeo_fish import pdf\n",
    "\n",
    "emission_pdf = pdf.combine_emission_pdf(raw_pdf)\n",
    "emission_pdf = emission_pdf.unify_chunks()"
   ]
  },
  {
   "cell_type": "markdown",
   "id": "7dfd7a6d-0542-40fa-aba9-59f65eb19348",
   "metadata": {},
   "source": [
    "### below comput sigmamax"
   ]
  },
  {
   "cell_type": "code",
   "execution_count": null,
   "id": "c0da573d-a863-4ba2-897a-fd9b8b2ea0da",
   "metadata": {},
   "outputs": [],
   "source": [
    "ureg = pint_xarray.unit_registry\n",
    "\n",
    "timedelta = emission_pdf.time.isel(time=1) - emission_pdf.time.isel(time=0)\n",
    "timestep = (\n",
    "    timedelta.astype(\"m8[ns]\")\n",
    "    .assign_attrs({\"units\": \"ns\"})\n",
    "    .astype(\"float\")\n",
    "    .pint.quantify()\n",
    "    .pint.to(\"day\")\n",
    "    .item()\n",
    ")\n",
    "\n",
    "if raw_pdf.attrs.get(\"grid_size\") == None:\n",
    "    grid_spacing = (\n",
    "        raw_pdf.latitude.diff(dim=coord[1]).max().compute().pint.quantify().item()\n",
    "    )  # marc,\n",
    "    grid_spacing = ureg.Quantity(40008.6 / 360 * grid_spacing, \"km\")\n",
    "else:\n",
    "    grid_spacing = raw_pdf.attrs.get(\"grid_size\")\n",
    "    grid_spacing = ureg.Quantity(grid_spacing, \"km\")\n",
    "print(grid_spacing)\n",
    "max_speed = ureg.Quantity(60, \"km / day\")\n",
    "adjustment = 10  # arbitrary factor to avoid restricting the fish too much, the max_speed is a daily average\n",
    "max_distance = max_speed * timestep * adjustment  # .to(\"km\")\n",
    "max_pixels = ((max_distance) / grid_spacing).to(\"dimensionless\").m"
   ]
  },
  {
   "cell_type": "markdown",
   "id": "c0798b8d-4436-45cd-bb4b-72090d7fbbc2",
   "metadata": {},
   "source": [
    "With the distance in pixels above, we can define the maximum $\\sigma$: $\\sigma_{\\mathrm{max}} = \\frac{d_{\\mathrm{max}}}{t}$ with $t$ the truncation factor for gaussian kernels."
   ]
  },
  {
   "cell_type": "code",
   "execution_count": null,
   "id": "7546e9e2-9b33-4585-918d-09b63f21654f",
   "metadata": {},
   "outputs": [],
   "source": [
    "truncate = 4.0\n",
    "sigma_max = max_pixels / truncate\n",
    "sigma_max"
   ]
  },
  {
   "cell_type": "code",
   "execution_count": null,
   "id": "18a5a444-6065-470c-b3a4-a1b7eec1c399",
   "metadata": {
    "tags": []
   },
   "outputs": [],
   "source": [
    "%%time\n",
    "emission_pdf = emission_pdf.assign_attrs({\"sigma_max\": sigma_max})\n",
    "#"
   ]
  },
  {
   "cell_type": "code",
   "execution_count": null,
   "id": "78c39291-5c48-495b-aa55-0174eed25621",
   "metadata": {},
   "outputs": [],
   "source": [
    "%%time\n",
    "emission_pdf = emission_pdf.persist()"
   ]
  },
  {
   "cell_type": "code",
   "execution_count": null,
   "id": "96411611-277e-4d47-a5cb-de0fdaec18c6",
   "metadata": {},
   "outputs": [],
   "source": [
    "%%time\n",
    "emission_pdf.to_zarr(output_filename, mode=\"w\")"
   ]
  },
  {
   "cell_type": "code",
   "execution_count": null,
   "id": "e926a52b-2fc8-406a-b812-5630bec460a0",
   "metadata": {},
   "outputs": [],
   "source": []
  }
 ],
 "metadata": {
  "language_info": {
   "codemirror_mode": {
    "name": "ipython",
    "version": 3
   },
   "file_extension": ".py",
   "mimetype": "text/x-python",
   "name": "python",
   "nbconvert_exporter": "python",
   "pygments_lexer": "ipython3"
  }
 },
 "nbformat": 4,
 "nbformat_minor": 5
}
