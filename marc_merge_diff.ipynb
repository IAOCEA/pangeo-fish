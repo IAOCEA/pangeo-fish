{
 "cells": [
  {
   "cell_type": "markdown",
   "id": "08b0f878-9e32-4e73-93cd-e47c68d8b09c",
   "metadata": {},
   "source": [
    "# **This notebook is meant to upscale sptial resolution for the agrif datas with the child regions**"
   ]
  },
  {
   "cell_type": "code",
   "execution_count": null,
   "id": "9dd9d46d-5ed9-49e5-8450-fc769a6ebbae",
   "metadata": {
    "tags": []
   },
   "outputs": [],
   "source": [
    "import xarray as xr\n",
    "import numpy as np\n",
    "import os"
   ]
  },
  {
   "cell_type": "code",
   "execution_count": null,
   "id": "d4c60a71-8c1b-4c98-8f1f-95134d719783",
   "metadata": {
    "tags": []
   },
   "outputs": [],
   "source": [
    "def common_area(ds1, ds2):\n",
    "    return {\n",
    "        \"lon\": np.intersect1d(ds1.lon.data, ds2.lon.data),\n",
    "        \"lat\": np.intersect1d(ds1.lat.data, ds2.lat.data),\n",
    "    }\n",
    "\n",
    "\n",
    "def replace_diff(rang0, rang1):\n",
    "    rang1_ = remove_nan(rang1, \"H0\")\n",
    "    coords = common_area(rang0, rang1_)\n",
    "    # print('coords',coords)\n",
    "    rang0[\"H0\"].loc[coords].data = rang1[\"H0\"].loc[coords].data\n",
    "    rang0[\"diff_\"].loc[coords].data = rang1[\"diff_\"].loc[coords].data\n",
    "    return rang0\n",
    "\n",
    "\n",
    "def mean_areas(ds1, ds2):\n",
    "    coords = common_area(ds1, ds2)\n",
    "    return (\n",
    "        ds1.sel(lon=coords[\"lon\"], lat=coords[\"lat\"])\n",
    "        + ds2.sel(lon=coords[\"lon\"], lat=coords[\"lat\"])\n",
    "    ) / 2\n",
    "\n",
    "\n",
    "def remove_nan(ds, var):\n",
    "    ds = ds[var].dropna(dim=\"lat\", how=\"all\").dropna(dim=\"lon\", how=\"all\")\n",
    "    return ds\n",
    "\n",
    "\n",
    "def model_path(model, engine=\"zarr\"):\n",
    "    filename = basepath + \"diff/\" + tag_id + \"-\" + model\n",
    "    if engine == \"netcdf4\":\n",
    "        filename = filename + \".nc\"\n",
    "    else:\n",
    "        filename = filename + \".zarr\"\n",
    "    # print(filename)\n",
    "    return filename\n",
    "\n",
    "\n",
    "def load_model(model, engine=\"zarr\"):\n",
    "    # print(model,engine)\n",
    "    return (\n",
    "        xr.open_dataset(model_path(model, engine), engine=engine, chunks={})\n",
    "        .assign_coords(\n",
    "            lat=lambda ds: ds.latitude.isel(ni=0, drop=True)\n",
    "            .compute()\n",
    "            .astype(\"float32\"),\n",
    "            lon=lambda ds: ds.longitude.isel(nj=0, drop=True)\n",
    "            .compute()\n",
    "            .astype(\"float32\"),\n",
    "        )\n",
    "        .swap_dims({x: \"lon\", y: \"lat\"})\n",
    "    )  # .pipe(to_float32)"
   ]
  },
  {
   "cell_type": "code",
   "execution_count": null,
   "id": "82f56fec-e0ff-4266-918e-d163b15bdd8e",
   "metadata": {
    "tags": []
   },
   "outputs": [],
   "source": [
    "import dask_hpcconfig\n",
    "\n",
    "# cluster = dask_hpcconfig.cluster(\"datarmor-local\")\n",
    "from distributed import Client\n",
    "\n",
    "cluster = dask_hpcconfig.cluster(\"datarmor-local\")\n",
    "client = Client(cluster)\n",
    "client"
   ]
  },
  {
   "cell_type": "markdown",
   "id": "ce60bd2e-a214-4971-88c6-bffdb4ae99fb",
   "metadata": {},
   "source": [
    "___\n",
    "## **Opening all the files**"
   ]
  },
  {
   "cell_type": "code",
   "execution_count": null,
   "id": "62db3194-c2e0-4b9c-921d-1106897d8faf",
   "metadata": {
    "tags": []
   },
   "outputs": [],
   "source": [
    "tag_id = os.environ.get(\"tag_id\", \"SV_A11930\")\n",
    "method = os.environ.get(\"method\", \"linear\")\n",
    "basepath = os.environ.get(\"basepath\", \"/home/datawork-lops-iaocea/work/fish/marc/\")\n",
    "\n",
    "x = \"ni\"\n",
    "y = \"nj\"\n",
    "engine = \"zarr\"\n",
    "\n",
    "# engine='netcdf4'\n",
    "# basepath=os.environ.get('basepath','../data_local/')\n",
    "\n",
    "\n",
    "output_filename = model_path(\"merged\")\n",
    "\n",
    "rang1s = [\"pdc\", \"seine\", \"armor\", \"finis\", \"loire\", \"gironde\", \"adour\"]\n",
    "rang1 = {model: load_model(model, engine=engine) for model in rang1s}\n",
    "output_filename"
   ]
  },
  {
   "cell_type": "markdown",
   "id": "143818fb-54f8-47a0-8560-700c3f39a330",
   "metadata": {},
   "source": [
    "___\n",
    "### **Upscaling the rang0 data**"
   ]
  },
  {
   "cell_type": "code",
   "execution_count": null,
   "id": "f3c3f60f-b678-4754-a2e3-59a348f7c2ef",
   "metadata": {
    "tags": []
   },
   "outputs": [],
   "source": [
    "model = \"rang0\"\n",
    "rang0 = xr.open_dataset(model_path(model, engine), engine=engine, chunks={})\n",
    "rang0"
   ]
  },
  {
   "cell_type": "code",
   "execution_count": null,
   "id": "9007b819-7b32-4c60-9eaf-d0a31d6f67d0",
   "metadata": {
    "tags": []
   },
   "outputs": [],
   "source": [
    "rang1_ni = np.arange(min(rang0.ni.data), max(rang0.ni.data), 0.2)\n",
    "rang1_nj = np.arange(min(rang0.nj.data), max(rang0.nj.data), 0.2)\n",
    "\n",
    "rang0_upscale = rang0.interp(nj=rang1_nj, ni=rang1_ni, method=method)\n",
    "rang0_upscale[\"latitude\"] = rang0.latitude.interp(\n",
    "    nj=rang1_nj, ni=rang1_ni, method=\"linear\"\n",
    ")\n",
    "rang0_upscale[\"longitude\"] = rang0.longitude.interp(\n",
    "    nj=rang1_nj, ni=rang1_ni, method=\"linear\"\n",
    ")\n",
    "rang0_upscale = rang0_upscale.assign_coords(\n",
    "    lat=lambda ds: ds.latitude.isel(ni=0, drop=True).compute().astype(\"float32\"),\n",
    "    lon=lambda ds: ds.longitude.isel(nj=0, drop=True).compute().astype(\"float32\"),\n",
    ").swap_dims({x: \"lon\", y: \"lat\"})\n",
    "rang0_upscale"
   ]
  },
  {
   "cell_type": "markdown",
   "id": "1c5f502a-d8c2-4934-98ae-bd69e1d75714",
   "metadata": {},
   "source": [
    "# replacing"
   ]
  },
  {
   "cell_type": "raw",
   "id": "ce4913c8-24ec-4f30-aefb-02f788219f89",
   "metadata": {},
   "source": [
    "\n",
    "#rang1_ = remove_nan(rang1,\"diff_\")\n",
    "coords=common_area(rang0_upscale, rang1['pdc'])\n",
    "#print('coords',coords)\n",
    "rang0_upscale[\"H0\"].loc[coords]\n",
    "#tmp=rang0_upscale[\"H0\"].copy()\n",
    "#tmp=tmp.load()\n",
    "rang0_upscale[\"H0\"].loc[coords].data= rang1['pdc'][\"H0\"].loc[coords].data\n",
    "#= (\n",
    "#    rang1[\"H0\"].loc[coords].compute().data\n",
    "#)\n",
    "#rang0[\"diff_\"].loc[coords] = (\n",
    "#    rang1[\"diff_\"].loc[coords].compute().data\n",
    "#)    \n",
    "tmp"
   ]
  },
  {
   "cell_type": "code",
   "execution_count": null,
   "id": "2f81cde0-78a3-46bc-98e5-f8fe734bcbbf",
   "metadata": {
    "tags": []
   },
   "outputs": [],
   "source": [
    "for replace in rang1s:\n",
    "    print(replace)\n",
    "    rang0_upscale = replace_diff(rang0_upscale, rang1[replace])"
   ]
  },
  {
   "cell_type": "code",
   "execution_count": null,
   "id": "1a2a0876-2228-42f1-aa0e-b720bfc37a5d",
   "metadata": {
    "tags": []
   },
   "outputs": [],
   "source": [
    "for i, name in enumerate(rang1s[0:6]):\n",
    "    print(rang1s[i], rang1s[i + 1])\n",
    "    mean = mean_areas(rang1[rang1s[i]], rang1[rang1s[i + 1]])\n",
    "    rang0_upscale = replace_diff(rang0_upscale, mean)"
   ]
  },
  {
   "cell_type": "markdown",
   "id": "a1b6f6c8-0733-4412-a8d0-43e9c473e544",
   "metadata": {},
   "source": [
    "___\n",
    "### **Removing the lat and lon dimensions introduce at the begining**"
   ]
  },
  {
   "cell_type": "code",
   "execution_count": null,
   "id": "3c1e6b6c-daba-45b7-930c-c02033421701",
   "metadata": {},
   "outputs": [],
   "source": [
    "rang0_upscale = (\n",
    "    rang0_upscale.swap_dims({\"lon\": \"ni\", \"lat\": \"nj\"})\n",
    "    .drop((\"lat\", \"lon\"))\n",
    "    .chunk({\"time\": 1})\n",
    ")\n",
    "rang0_upscale"
   ]
  },
  {
   "cell_type": "code",
   "execution_count": null,
   "id": "d3daaaee-ad40-40ee-9465-9fba2e251c05",
   "metadata": {},
   "outputs": [],
   "source": [
    "%%time\n",
    "rang0_upscale.to_zarr(output_filename, mode=\"w\")"
   ]
  },
  {
   "cell_type": "raw",
   "id": "b8b6c708-23ab-49ff-af33-40d2b1a872d6",
   "metadata": {},
   "source": [
    ".diff_.isel(time=0).plot()"
   ]
  },
  {
   "cell_type": "code",
   "execution_count": null,
   "id": "5fcb24af-37fd-4af9-836c-008d51bec61a",
   "metadata": {},
   "outputs": [],
   "source": []
  }
 ],
 "metadata": {
  "language_info": {
   "codemirror_mode": {
    "name": "ipython",
    "version": 3
   },
   "file_extension": ".py",
   "mimetype": "text/x-python",
   "name": "python",
   "nbconvert_exporter": "python",
   "pygments_lexer": "ipython3"
  }
 },
 "nbformat": 4,
 "nbformat_minor": 5
}
