{
 "cells": [
  {
   "cell_type": "markdown",
   "id": "0",
   "metadata": {},
   "source": [
    "# Executing multiple parameters notebooks with papermill\n",
    "___\n"
   ]
  },
  {
   "cell_type": "raw",
   "id": "1",
   "metadata": {},
   "source": [
    "!pip install papermill"
   ]
  },
  {
   "cell_type": "code",
   "execution_count": null,
   "id": "2",
   "metadata": {},
   "outputs": [],
   "source": [
    "# Necessary imports\n",
    "\n",
    "import papermill as pm\n",
    "import s3fs\n",
    "import numpy as np\n",
    "from datetime import datetime\n",
    "import shutil\n",
    "import os\n",
    "from tqdm import tqdm"
   ]
  },
  {
   "cell_type": "code",
   "execution_count": null,
   "id": "3",
   "metadata": {
    "editable": true,
    "slideshow": {
     "slide_type": ""
    },
    "tags": []
   },
   "outputs": [],
   "source": [
    "# Connecting to the bucket\n",
    "s3 = s3fs.S3FileSystem(\n",
    "    anon=False,\n",
    "    client_kwargs={\n",
    "        \"endpoint_url\": \"https://s3.gra.perf.cloud.ovh.net\",\n",
    "    },\n",
    ")"
   ]
  },
  {
   "cell_type": "code",
   "execution_count": null,
   "id": "4",
   "metadata": {
    "editable": true,
    "slideshow": {
     "slide_type": ""
    },
    "tags": []
   },
   "outputs": [],
   "source": [
    "# Setting up path for the s3 file access\n",
    "tags_repo = \"gfts-ifremer/tags/bargip/cleaned/\"\n",
    "tag_list = [tag.replace(tags_repo, \"\") for tag in s3.ls(tags_repo)]\n",
    "\n",
    "cloud_root = \"s3://gfts-ifremer/tags/bargip\""
   ]
  },
  {
   "cell_type": "code",
   "execution_count": null,
   "id": "5",
   "metadata": {},
   "outputs": [],
   "source": [
    "# Setting up parameters for the computation\n",
    "remote = False\n",
    "\n",
    "if remote == True:\n",
    "    storage_options = {\n",
    "        \"anon\": False,\n",
    "        # 'profile' : \"gfts\",\n",
    "        \"client_kwargs\": {\n",
    "            \"endpoint_url\": \"https://s3.gra.perf.cloud.ovh.net\",\n",
    "            \"region_name\": \"gra\",\n",
    "        },\n",
    "    }\n",
    "    scratch_root = f\"{cloud_root}/tracks_2\"\n",
    "\n",
    "else:\n",
    "    storage_options = None\n",
    "    scratch_root = \"/home/jovyan/notebooks/papermill/tracks_results\"\n",
    "\n",
    "\n",
    "param = {\"storage_options\": storage_options, \"scratch_root\": scratch_root}"
   ]
  },
  {
   "cell_type": "code",
   "execution_count": null,
   "id": "6",
   "metadata": {},
   "outputs": [],
   "source": [
    "# Verifying the params for the location\n",
    "param"
   ]
  },
  {
   "cell_type": "markdown",
   "id": "7",
   "metadata": {},
   "source": [
    "![warning](data:image/png;base64,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)"
   ]
  },
  {
   "cell_type": "markdown",
   "id": "8",
   "metadata": {},
   "source": [
    "### BE CARFUL FOR THE PATH CHOOSEN FOR **SCRATCH ROOT**, THIS PATH IS THE DIRECTORY WHERE THE RESULT OF THE COMPUTATION WILL BE STORED. WATCH OUT TO NOT OVERWRITE SOMETHING !"
   ]
  },
  {
   "cell_type": "markdown",
   "id": "9",
   "metadata": {},
   "source": [
    "___\n",
    "### Explantion of the code below \n",
    "- nbs is a list of the notebooks that has been processed, wether they failed or not.\n",
    "- The code loops over the tag id present in tag list and calculates the time difference in the tagging events.\n",
    "- If the fish has observation over 2 days and has not been processed yet, it starts running a parametrized notebook.\n",
    "- If it succeds, the generated notebook is placed papermill_output/done, else, it goes at papermill_output/failed"
   ]
  },
  {
   "cell_type": "code",
   "execution_count": null,
   "id": "10",
   "metadata": {},
   "outputs": [],
   "source": [
    "import pandas as pd"
   ]
  },
  {
   "cell_type": "code",
   "execution_count": null,
   "id": "11",
   "metadata": {},
   "outputs": [],
   "source": [
    "s3.ls(\"gfts-ifremer/tags/bargip/\")"
   ]
  },
  {
   "cell_type": "code",
   "execution_count": null,
   "id": "12",
   "metadata": {},
   "outputs": [],
   "source": [
    "warm_plume = pd.read_csv(\n",
    "    \"s3://gfts-ifremer/tags/bargip/bar_flag_warm_plume.txt\", sep=\"\\t\"\n",
    ")"
   ]
  },
  {
   "cell_type": "code",
   "execution_count": null,
   "id": "13",
   "metadata": {},
   "outputs": [],
   "source": [
    "tag_list = list(warm_plume[warm_plume[\"warm_plume\"] == True][\"tag_name\"])"
   ]
  },
  {
   "cell_type": "code",
   "execution_count": null,
   "id": "14",
   "metadata": {},
   "outputs": [],
   "source": [
    "tag_list"
   ]
  },
  {
   "cell_type": "code",
   "execution_count": null,
   "id": "15",
   "metadata": {},
   "outputs": [],
   "source": [
    "%%time\n",
    "nbs = [nb.replace(\".ipynb\", \"\") for nb in os.listdir(\"papermill_output/done\")]\n",
    "for fail in os.listdir(\"papermill_output/failed/\"):\n",
    "    nbs.append(fail.replace(\".ipynb\", \"\"))\n",
    "\n",
    "for tag_name in tqdm(tag_list, desc=\"Processing tags\"):\n",
    "    try:\n",
    "        te = pd.read_csv(s3.open(f\"{cloud_root}/cleaned/{tag_name}/tagging_events.csv\"))\n",
    "        np_datetime1 = np.datetime64(\n",
    "            datetime.strptime(te[\"time\"][0], \"%Y-%m-%dT%H:%M:%SZ\")\n",
    "        )\n",
    "        np_datetime2 = np.datetime64(\n",
    "            datetime.strptime(te[\"time\"][1], \"%Y-%m-%dT%H:%M:%SZ\")\n",
    "        )\n",
    "        time_difference = (np_datetime2 - np_datetime1) / np.timedelta64(1, \"D\")\n",
    "\n",
    "        # if (tag_name not in nbs) and time_difference > 2:\n",
    "        if time_difference > 2:\n",
    "\n",
    "            print(tag_name)\n",
    "            param[\"tag_name\"] = tag_name\n",
    "            output_path = f\"papermill_output/{tag_name}.ipynb\"\n",
    "            destination_path = f\"papermill_output/done/{tag_name}.ipynb\"\n",
    "            pm.execute_notebook(\n",
    "                input_path=\"pangeo-fish_PP.ipynb\",\n",
    "                output_path=output_path,\n",
    "                parameters=param,\n",
    "            )\n",
    "            shutil.move(output_path, destination_path)\n",
    "    except Exception as e:\n",
    "        print(f\"Error for {tag_name}\")\n",
    "        destination_path = f\"papermill_output/failed/{tag_name}.ipynb\"\n",
    "        shutil.move(output_path, destination_path)"
   ]
  },
  {
   "cell_type": "code",
   "execution_count": null,
   "id": "16",
   "metadata": {},
   "outputs": [],
   "source": []
  }
 ],
 "metadata": {
  "language_info": {
   "codemirror_mode": {
    "name": "ipython",
    "version": 3
   },
   "file_extension": ".py",
   "mimetype": "text/x-python",
   "name": "python",
   "nbconvert_exporter": "python",
   "pygments_lexer": "ipython3"
  }
 },
 "nbformat": 4,
 "nbformat_minor": 5
}
