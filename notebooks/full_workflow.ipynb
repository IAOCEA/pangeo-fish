{
 "cells": [
  {
   "cell_type": "markdown",
   "id": "b90eb8a0-25ec-4de5-b711-795986ff4784",
   "metadata": {
    "tags": []
   },
   "source": [
    "# fish tracking"
   ]
  },
  {
   "cell_type": "markdown",
   "id": "86e6f639-2455-4f5d-a557-b78b1d821ecf",
   "metadata": {},
   "source": [
    "TOC:\n",
    "\n",
    "0. imports\n",
    "1. configuration\n",
    "2. paths (input data, outroot)\n",
    "3. cluster config\n",
    "4. open tag log and reference model\n",
    "    1. read tag data and clean\n",
    "    2. read reference model, clean and subset\n",
    "6. compute differences\n",
    "    1. align time\n",
    "    2. convert model depth to appropriate units (sigma → depth (→ pressure))\n",
    "    3. subtract tags from aligned model\n",
    "    4. save\n",
    "7. regrid to healpix\n",
    "    1. define healpix grid\n",
    "    2. create target grid\n",
    "    3. compute weights\n",
    "    4. regrid\n",
    "    5. save\n",
    "8. construct emission matrix\n",
    "    1. compute ocean mask\n",
    "    2. compute normal probability density function from differences and the configured parameters\n",
    "    3. compute maximum expected model parameter\n",
    "    4. save\n",
    "9. additional emission matrices: acoustic ranges\n",
    "    1. open and read acoustic detections for the selected tag\n",
    "    2. convert times to UTC\n",
    "    3. aggregate detections and compute weights\n",
    "    4. construct detection maps\n",
    "    5. weighted sum of the detection maps\n",
    "    6. save\n",
    "10. estimate the model parameter\n",
    "    1. select and create estimator instance\n",
    "    2. create an optimizer using the estimator and the expected parameter range\n",
    "    3. fit the model to the data to get the model parameter\n",
    "    4. save\n",
    "11. compute the state probabilities\n",
    "    1. use the configured estimator to predict the state probabilities\n",
    "    2. save\n",
    "12. compute the tracks\n",
    "    1. compute mean and mode from the precomputed state probabilities and apply the viterbi algorithm to the emission matrix to get the most probable track\n",
    "    2. save\n",
    "13. visualization\n",
    "    1. plot the emission matrix\n",
    "    2. plot the state probabilities\n",
    "    3. plot each of the tracks"
   ]
  },
  {
   "cell_type": "code",
   "execution_count": null,
   "id": "94ea188b-a3b6-4d00-9cf4-7c99c811f809",
   "metadata": {},
   "outputs": [],
   "source": [
    "import json\n",
    "\n",
    "import cf_xarray\n",
    "import dask\n",
    "import fsspec\n",
    "import intake\n",
    "import numba\n",
    "import numpy as np\n",
    "import pandas as pd\n",
    "import pint_xarray\n",
    "import xarray as xr\n",
    "from pint_xarray import unit_registry as ureg"
   ]
  },
  {
   "cell_type": "code",
   "execution_count": null,
   "id": "930a9e69-82ac-4618-b9c0-f0ab05542c22",
   "metadata": {},
   "outputs": [],
   "source": [
    "from pangeo_fish.hmm.estimator import EagerScoreEstimator\n",
    "from pangeo_fish.io import open_tag\n",
    "from pangeo_fish.pdf import combine_emission_pdf"
   ]
  },
  {
   "cell_type": "markdown",
   "id": "c535925e-793d-41be-a989-4fae4cdaaa67",
   "metadata": {},
   "source": [
    "configuration\n",
    "\n",
    "<div class=\"alert alert-info\">\n",
    "\n",
    "**Note**: This contains model parameters only\n",
    "    \n",
    "</div>"
   ]
  },
  {
   "cell_type": "code",
   "execution_count": null,
   "id": "6b83f247-d593-4f71-9884-195737b007b9",
   "metadata": {},
   "outputs": [],
   "source": [
    "tag_name = \"A19124\"\n",
    "bbox = {\"lat\": [45, 51], \"lon\": [-8, 0]}\n",
    "\n",
    "relative_depth_threshold = 0.6\n",
    "\n",
    "nside = 4096\n",
    "rot = {\"lat\": 0, \"lon\": 0}\n",
    "min_vertices = 3\n",
    "\n",
    "differences_std = 0.75\n",
    "recapture_std = 1e-2\n",
    "\n",
    "earth_radius = ureg.Quantity(6371, \"km\")\n",
    "adjustment_factor = 5  # for a more fuzzy search\n",
    "maximum_speed = ureg.Quantity(60, \"km / day\")\n",
    "truncate = 4\n",
    "\n",
    "receiver_buffer = ureg.Quantity(1000, \"m\")\n",
    "\n",
    "tolerance = 1e-2\n",
    "\n",
    "track_modes = [\"mean\", \"mode\", \"viterbi\", \"viterbi2\"]\n",
    "additional_track_quantities = [\"speed\", \"distance\"]"
   ]
  },
  {
   "cell_type": "markdown",
   "id": "e277bab6-5702-461a-a1c3-e545d45cf1c3",
   "metadata": {},
   "source": [
    "paths"
   ]
  },
  {
   "cell_type": "code",
   "execution_count": null,
   "id": "a6a19e76-606c-4a2f-a93f-b5d2c990823f",
   "metadata": {},
   "outputs": [],
   "source": [
    "tag_root = \"./data/\"\n",
    "tag_db_url = \"./data/all_pollack_11102023.csv\"\n",
    "tag_detections_url = \"./data/pollack_filtered_detections.csv\"\n",
    "\n",
    "catalog_url = \"https://data-taos.ifremer.fr/kerchunk/ref-copernicus.yaml\"\n",
    "\n",
    "scratch_root = \".\"\n",
    "target_root = f\"{scratch_root}/{tag_name}\"\n",
    "tracks_root = f\"{target_root}/tracks\""
   ]
  },
  {
   "cell_type": "markdown",
   "id": "548e2419-f405-47a7-b119-acaf1dee1e1e",
   "metadata": {},
   "source": [
    "cluster config"
   ]
  },
  {
   "cell_type": "code",
   "execution_count": null,
   "id": "1268b5c0-b1e8-4d12-b6c9-b3b7aa54f99b",
   "metadata": {},
   "outputs": [],
   "source": [
    "from distributed import LocalCluster\n",
    "\n",
    "cluster = LocalCluster()\n",
    "client = cluster.get_client()\n",
    "client"
   ]
  },
  {
   "cell_type": "markdown",
   "id": "fcacca5d-da66-475a-b195-5d2ee1078ae8",
   "metadata": {},
   "source": [
    "open tag data"
   ]
  },
  {
   "cell_type": "code",
   "execution_count": null,
   "id": "206aeb3c-9684-4eac-80e8-e94939529747",
   "metadata": {},
   "outputs": [],
   "source": [
    "tag = open_tag(tag_root, tag_name)\n",
    "tag"
   ]
  },
  {
   "cell_type": "markdown",
   "id": "82fb13ec-ffbc-468b-9520-52c732c23bd2",
   "metadata": {
    "tags": []
   },
   "source": [
    "## compare reference model with tag log"
   ]
  },
  {
   "cell_type": "code",
   "execution_count": null,
   "id": "046ec79f-1bf5-443a-9203-6339800f1906",
   "metadata": {},
   "outputs": [],
   "source": [
    "from pangeo_fish.cf import bounds_to_bins\n",
    "from pangeo_fish.dataset_utils import broadcast_variables\n",
    "from pangeo_fish.diff import diff_z\n",
    "from pangeo_fish.io import open_copernicus_catalog\n",
    "from pangeo_fish.tags import adapt_model_time, reshape_by_bins, to_time_slice"
   ]
  },
  {
   "cell_type": "markdown",
   "id": "4d0aca89-b82b-4663-9bae-a43e719cec35",
   "metadata": {},
   "source": [
    "drop data outside the reference interval"
   ]
  },
  {
   "cell_type": "code",
   "execution_count": null,
   "id": "6e70b18c-d478-4f97-9944-7e4c0267385d",
   "metadata": {
    "tags": []
   },
   "outputs": [],
   "source": [
    "time_slice = to_time_slice(tag[\"tagging_events/time\"])\n",
    "tag_log = tag[\"dst\"].ds.sel(time=time_slice)\n",
    "tag_log"
   ]
  },
  {
   "cell_type": "markdown",
   "id": "8e69532d-f2cf-4d3e-a344-402a1ee089c8",
   "metadata": {},
   "source": [
    "open and clean reference model"
   ]
  },
  {
   "cell_type": "code",
   "execution_count": null,
   "id": "6e0d742e-e504-4b03-9937-80023ad324ee",
   "metadata": {},
   "outputs": [],
   "source": [
    "# TODO: use intake to do the merging? Or do the merging directly in `kerchunk`?\n",
    "cat = intake.open_catalog(catalog_url)\n",
    "model = open_copernicus_catalog(cat)\n",
    "model"
   ]
  },
  {
   "cell_type": "code",
   "execution_count": null,
   "id": "6ba80d76-e11f-4862-a10f-267d6718b9f8",
   "metadata": {},
   "outputs": [],
   "source": [
    "model_subset = (\n",
    "    # align model time with tag log\n",
    "    model.sel(time=adapt_model_time(time_slice))\n",
    "    # subset the data to the region of interest using a bbox\n",
    "    .sel(lat=slice(*bbox[\"lat\"]), lon=slice(*bbox[\"lon\"]))\n",
    "    # drop data for depth layers that are too unlikely\n",
    "    .pipe(\n",
    "        lambda ds: ds.sel(\n",
    "            depth=slice(None, (tag_log[\"pressure\"].max() - ds[\"XE\"].min()).compute())\n",
    "        )\n",
    "    )\n",
    "    # broadcast spatial coordinates to 2D\n",
    "    .pipe(broadcast_variables, {\"lat\": \"latitude\", \"lon\": \"longitude\"})\n",
    ")\n",
    "model_subset"
   ]
  },
  {
   "cell_type": "markdown",
   "id": "59149aaf-e0a3-455b-9433-74fe521c4861",
   "metadata": {},
   "source": [
    "convert sigma level to depth"
   ]
  },
  {
   "cell_type": "code",
   "execution_count": null,
   "id": "f2007cd6-4f4d-4fba-b4ba-f3db715bbc28",
   "metadata": {},
   "outputs": [],
   "source": [
    "reference_model = (\n",
    "    model_subset.rename({\"depth\": \"level\"})\n",
    "    .chunk({\"level\": -1})\n",
    "    .assign(\n",
    "        {\n",
    "            \"depth\": lambda ds: ds[\"XE\"] + ds[\"level\"],\n",
    "            \"bottom\": lambda ds: ds[\"XE\"] + ds[\"H0\"],\n",
    "        }\n",
    "    )\n",
    ")\n",
    "reference_model"
   ]
  },
  {
   "cell_type": "markdown",
   "id": "6db75d1b-ed9b-4db2-8128-bb07f42d58b9",
   "metadata": {},
   "source": [
    "reshape the tag log"
   ]
  },
  {
   "cell_type": "code",
   "execution_count": null,
   "id": "266d2366-639d-418c-8e57-fa7f96a7f704",
   "metadata": {
    "tags": []
   },
   "outputs": [],
   "source": [
    "%%time\n",
    "reshaped_tag = reshape_by_bins(\n",
    "    tag_log,\n",
    "    dim=\"time\",\n",
    "    bins=(\n",
    "        reference_model.cf.add_bounds([\"time\"], output_dim=\"bounds\")\n",
    "        .pipe(bounds_to_bins, bounds_dim=\"bounds\")\n",
    "        .get(\"time_bins\")\n",
    "    ),\n",
    "    bin_dim=\"bincount\",\n",
    "    other_dim=\"obs\",\n",
    ").chunk({\"time\": 1})\n",
    "reshaped_tag"
   ]
  },
  {
   "cell_type": "markdown",
   "id": "c8a2e7fa-aeb7-49b6-b722-f8e637976541",
   "metadata": {},
   "source": [
    "subtract the tag data from the model"
   ]
  },
  {
   "cell_type": "code",
   "execution_count": null,
   "id": "f5ce043e-3183-4dee-ba42-b9a8ca7ac900",
   "metadata": {
    "tags": []
   },
   "outputs": [],
   "source": [
    "%%time\n",
    "diff = (\n",
    "    # TODO: rewrite the function to make it composable, using a depth threshold is too sharp.\n",
    "    diff_z(reference_model, reshaped_tag, depth_threshold=relative_depth_threshold)\n",
    "    .assign_attrs({\"tag_id\": tag.attrs[\"pit_tag_id\"]})\n",
    "    .assign(\n",
    "        {\n",
    "            \"H0\": reference_model[\"H0\"],\n",
    "            \"ocean_mask\": reference_model[\"H0\"].notnull(),\n",
    "        }\n",
    "    )\n",
    "    .chunk({\"time\": 1, \"lat\": -1, \"lon\": -1})\n",
    ")\n",
    "diff"
   ]
  },
  {
   "cell_type": "markdown",
   "id": "0de4667b-2de0-4f6e-89c8-16f1cb9bcc3c",
   "metadata": {},
   "source": [
    "save snapshot to disk"
   ]
  },
  {
   "cell_type": "code",
   "execution_count": null,
   "id": "4e4de873-5a73-460d-ae56-eb043930bc74",
   "metadata": {},
   "outputs": [],
   "source": [
    "%%time\n",
    "diff.to_zarr(f\"{target_root}/diff.zarr\", mode=\"w\", consolidated=True)"
   ]
  },
  {
   "cell_type": "markdown",
   "id": "35981044-6541-4a37-9ba1-fd7029304887",
   "metadata": {},
   "source": [
    "cleanup"
   ]
  },
  {
   "cell_type": "code",
   "execution_count": null,
   "id": "077c2973-e655-4ea9-9056-d45b079a046e",
   "metadata": {},
   "outputs": [],
   "source": [
    "del tag_log, cat, model, model_subset, reference_model, reshaped_tag, diff"
   ]
  },
  {
   "cell_type": "markdown",
   "id": "5267b551-39b3-42e2-8da4-20e9eeb32b3e",
   "metadata": {
    "tags": []
   },
   "source": [
    "## regrid to healpix"
   ]
  },
  {
   "cell_type": "code",
   "execution_count": null,
   "id": "a0216910-447a-439b-acda-9e2802992265",
   "metadata": {},
   "outputs": [],
   "source": [
    "from xarray_healpy import HealpyGridInfo, HealpyRegridder\n",
    "\n",
    "from pangeo_fish.grid import center_longitude"
   ]
  },
  {
   "cell_type": "markdown",
   "id": "366dbf36-ece2-4c46-ba37-433df7cedb16",
   "metadata": {},
   "source": [
    "open the diff and clean"
   ]
  },
  {
   "cell_type": "code",
   "execution_count": null,
   "id": "d885ad2b-c1de-41d1-b482-f3d62a2706b3",
   "metadata": {},
   "outputs": [],
   "source": [
    "%%time\n",
    "ds = (\n",
    "    xr.open_dataset(f\"{target_root}/diff.zarr\", engine=\"zarr\", chunks={})\n",
    "    .pipe(lambda ds: ds.merge(ds[[\"latitude\", \"longitude\"]].compute()))\n",
    "    .swap_dims({\"lat\": \"yi\", \"lon\": \"xi\"})\n",
    "    .drop_vars([\"lat\", \"lon\"])\n",
    ")\n",
    "ds"
   ]
  },
  {
   "cell_type": "markdown",
   "id": "7a0d291f-a050-4316-ae01-ed2366dd5b70",
   "metadata": {},
   "source": [
    "define the target grid"
   ]
  },
  {
   "cell_type": "code",
   "execution_count": null,
   "id": "3f3d4a72-44de-4b8c-8ce3-c42daedce7d1",
   "metadata": {},
   "outputs": [],
   "source": [
    "grid = HealpyGridInfo(level=int(np.log2(nside)), rot=rot)\n",
    "grid"
   ]
  },
  {
   "cell_type": "code",
   "execution_count": null,
   "id": "5c3847bd-b879-4181-a179-91d4921bb92a",
   "metadata": {},
   "outputs": [],
   "source": [
    "target_grid = grid.target_grid(ds).pipe(center_longitude, 0)\n",
    "target_grid"
   ]
  },
  {
   "cell_type": "markdown",
   "id": "2efc3e58-e711-4a5e-9204-031b08bc8b92",
   "metadata": {},
   "source": [
    "compute the interpolation weights"
   ]
  },
  {
   "cell_type": "code",
   "execution_count": null,
   "id": "b115e12b-1cc0-4f37-a41e-fdfa32f0db2e",
   "metadata": {
    "tags": []
   },
   "outputs": [],
   "source": [
    "%%time\n",
    "regridder = HealpyRegridder(\n",
    "    ds[[\"longitude\", \"latitude\", \"ocean_mask\"]],\n",
    "    target_grid,\n",
    "    method=\"bilinear\",\n",
    "    interpolation_kwargs={\"mask\": \"ocean_mask\", \"min_vertices\": min_vertices},\n",
    ")\n",
    "regridder"
   ]
  },
  {
   "cell_type": "markdown",
   "id": "63a01148-7a15-4232-b5b1-0ea2b0a53c34",
   "metadata": {},
   "source": [
    "regrid"
   ]
  },
  {
   "cell_type": "code",
   "execution_count": null,
   "id": "74db20c9-7a77-4e3b-9261-d06c95264682",
   "metadata": {},
   "outputs": [],
   "source": [
    "%%time\n",
    "regridded = regridder.regrid_ds(ds)\n",
    "regridded"
   ]
  },
  {
   "cell_type": "markdown",
   "id": "3150b205-ee00-4ed6-9835-7b1196a653c2",
   "metadata": {},
   "source": [
    "reshape to 2D"
   ]
  },
  {
   "cell_type": "code",
   "execution_count": null,
   "id": "e205da6b-9e00-40cb-85d7-1cfe8bb975e1",
   "metadata": {
    "tags": []
   },
   "outputs": [],
   "source": [
    "%%time\n",
    "reshaped = grid.to_2d(regridded).pipe(center_longitude, 0)\n",
    "reshaped"
   ]
  },
  {
   "cell_type": "markdown",
   "id": "3c54c8d0-7c5b-4bb5-9460-b514cbacbdcf",
   "metadata": {
    "tags": []
   },
   "source": [
    "save"
   ]
  },
  {
   "cell_type": "code",
   "execution_count": null,
   "id": "6ca83209-ed8c-4d3c-bf64-8e64e1b20a66",
   "metadata": {
    "tags": []
   },
   "outputs": [],
   "source": [
    "%%time\n",
    "reshaped.to_zarr(\n",
    "    f\"{target_root}/diff-regridded.zarr\",\n",
    "    mode=\"w\",\n",
    "    consolidated=True,\n",
    "    compute=True,\n",
    ")"
   ]
  },
  {
   "cell_type": "markdown",
   "id": "77abaa94-1529-451b-a742-f4191057b8e0",
   "metadata": {},
   "source": [
    "cleanup"
   ]
  },
  {
   "cell_type": "code",
   "execution_count": null,
   "id": "9e8a003a-3cf9-4d98-9b4f-02633c21bd50",
   "metadata": {},
   "outputs": [],
   "source": [
    "del ds, grid, target_grid, regridder, regridded, reshaped"
   ]
  },
  {
   "cell_type": "markdown",
   "id": "2d56856e-fd9f-4962-aaed-eedb58975839",
   "metadata": {
    "tags": []
   },
   "source": [
    "## construct emission matrix"
   ]
  },
  {
   "cell_type": "code",
   "execution_count": null,
   "id": "64d8f277-c6cc-4caf-b770-c071e8e981b1",
   "metadata": {
    "tags": []
   },
   "outputs": [],
   "source": [
    "from pangeo_fish.distributions import create_covariances, normal_at\n",
    "from pangeo_fish.pdf import normal\n",
    "from pangeo_fish.utils import temporal_resolution"
   ]
  },
  {
   "cell_type": "markdown",
   "id": "49a0b0f4-a179-4121-9e32-9896ebab1cb1",
   "metadata": {},
   "source": [
    "open data"
   ]
  },
  {
   "cell_type": "code",
   "execution_count": null,
   "id": "f5c48892-db62-4a8c-9290-5e5ddb202e75",
   "metadata": {
    "tags": []
   },
   "outputs": [],
   "source": [
    "differences = xr.open_dataset(\n",
    "    f\"{target_root}/diff-regridded.zarr\",\n",
    "    engine=\"zarr\",\n",
    "    chunks={},\n",
    ")\n",
    "differences"
   ]
  },
  {
   "cell_type": "markdown",
   "id": "9ab3cf63-2126-46c0-96b3-7d219205540a",
   "metadata": {},
   "source": [
    "initial and final position"
   ]
  },
  {
   "cell_type": "code",
   "execution_count": null,
   "id": "6e41c0c1-71d0-4952-bcea-bd1f4439f87f",
   "metadata": {},
   "outputs": [],
   "source": [
    "grid = differences[[\"latitude\", \"longitude\"]].compute()\n",
    "\n",
    "initial_position = tag[\"tagging_events\"].ds.sel(event_name=\"release\")\n",
    "cov = create_covariances(1e-6, coord_names=[\"latitude\", \"longitude\"])\n",
    "initial_probability = normal_at(\n",
    "    grid, pos=initial_position, cov=cov, normalize=True, axes=[\"latitude\", \"longitude\"]\n",
    ")\n",
    "\n",
    "final_position = tag[\"tagging_events\"].ds.sel(event_name=\"fish_death\")\n",
    "cov = create_covariances(recapture_std**2, coord_names=[\"latitude\", \"longitude\"])\n",
    "final_probability = normal_at(\n",
    "    grid, pos=final_position, cov=cov, normalize=True, axes=[\"latitude\", \"longitude\"]\n",
    ")"
   ]
  },
  {
   "cell_type": "markdown",
   "id": "16c4a14b-bea2-4103-bae1-38dc837d3ebe",
   "metadata": {},
   "source": [
    "maximum displacement"
   ]
  },
  {
   "cell_type": "code",
   "execution_count": null,
   "id": "fb3f737a-b31f-4bac-bcdf-47af11c0380d",
   "metadata": {},
   "outputs": [],
   "source": [
    "earth_radius_ = xr.DataArray(earth_radius, dims=None)\n",
    "\n",
    "timedelta = temporal_resolution(differences[\"time\"]).pint.quantify().pint.to(\"h\")\n",
    "grid_resolution = earth_radius_ * differences[\"resolution\"].pint.quantify()\n",
    "\n",
    "maximum_speed_ = xr.DataArray(maximum_speed, dims=None).pint.to(\"km / h\")\n",
    "max_grid_displacement = maximum_speed_ * timedelta * adjustment_factor / grid_resolution\n",
    "\n",
    "max_sigma = max_grid_displacement.pint.to(\"dimensionless\").pint.magnitude / truncate\n",
    "max_sigma"
   ]
  },
  {
   "cell_type": "markdown",
   "id": "7b439066-3a2c-43e7-bf7f-9b116fc4198f",
   "metadata": {},
   "source": [
    "emission probability matrix"
   ]
  },
  {
   "cell_type": "code",
   "execution_count": null,
   "id": "a04aa3cd-a194-49a3-ae48-9b0a7a3b07ab",
   "metadata": {
    "tags": []
   },
   "outputs": [],
   "source": [
    "%%time\n",
    "emission_pdf = (\n",
    "    normal(differences[\"diff\"], mean=0, std=differences_std, dims=[\"x\", \"y\"])\n",
    "    .to_dataset(name=\"pdf\")\n",
    "    .assign(\n",
    "        {\n",
    "            \"initial\": initial_probability,\n",
    "            \"final\": final_probability,\n",
    "            \"mask\": differences[\"ocean_mask\"],\n",
    "        }\n",
    "    )\n",
    "    .assign_attrs(differences.attrs | {\"max_sigma\": max_sigma})\n",
    "    .chunk()\n",
    ")\n",
    "emission_pdf"
   ]
  },
  {
   "cell_type": "markdown",
   "id": "3cadc3ed-a9eb-47a1-9f39-17d0358eac3c",
   "metadata": {},
   "source": [
    "save"
   ]
  },
  {
   "cell_type": "code",
   "execution_count": null,
   "id": "1353970b-4b02-4cca-822b-ea2e9c8ffe4a",
   "metadata": {},
   "outputs": [],
   "source": [
    "emission_pdf.to_zarr(f\"{target_root}/emission.zarr\", mode=\"w\", consolidated=True)"
   ]
  },
  {
   "cell_type": "markdown",
   "id": "21072c38-8115-47ce-8f31-0b5cd49b971e",
   "metadata": {},
   "source": [
    "cleanup"
   ]
  },
  {
   "cell_type": "code",
   "execution_count": null,
   "id": "6c3f46e5-0a73-467d-9b27-8e0bae5ea540",
   "metadata": {},
   "outputs": [],
   "source": [
    "del differences, grid, initial_probability, final_probability, emission_pdf"
   ]
  },
  {
   "cell_type": "markdown",
   "id": "3494a1c7-b31e-4039-8731-7ba1f8f771e3",
   "metadata": {
    "tags": []
   },
   "source": [
    "## additional emission probability matrix from acoustic ranges"
   ]
  },
  {
   "cell_type": "code",
   "execution_count": null,
   "id": "d5b9934d-417b-433b-8723-aa40548a6dbc",
   "metadata": {},
   "outputs": [],
   "source": [
    "from pangeo_fish import acoustic, utils"
   ]
  },
  {
   "cell_type": "markdown",
   "id": "a8a3d98c-a203-4b8e-99fe-c65c8a4fab87",
   "metadata": {},
   "source": [
    "open data and clean"
   ]
  },
  {
   "cell_type": "code",
   "execution_count": null,
   "id": "f822f0a7-10e8-4f3a-a830-30b9cee46d1c",
   "metadata": {},
   "outputs": [],
   "source": [
    "emission = xr.open_dataset(\n",
    "    f\"{target_root}/emission.zarr\", engine=\"zarr\", chunks={\"x\": -1, \"y\": -1}\n",
    ")"
   ]
  },
  {
   "cell_type": "markdown",
   "id": "428dd6c7-9b6d-41d6-9692-2e731868e9fb",
   "metadata": {},
   "source": [
    "construct the emission probabilities"
   ]
  },
  {
   "cell_type": "code",
   "execution_count": null,
   "id": "c158c024-3c8d-4ffc-8075-22e0020a7f47",
   "metadata": {},
   "outputs": [],
   "source": [
    "acoustic_pdf = acoustic.emission_probability(\n",
    "    tag, emission[[\"time\", \"cell_ids\", \"mask\"]].compute(), receiver_buffer\n",
    ")\n",
    "combined = emission.merge(acoustic_pdf)\n",
    "combined"
   ]
  },
  {
   "cell_type": "markdown",
   "id": "c23558a7-c284-4f26-ab1f-bbf327eae64d",
   "metadata": {},
   "source": [
    "save"
   ]
  },
  {
   "cell_type": "code",
   "execution_count": null,
   "id": "9de4ead6-a9c2-4442-8747-5d72d9e4a6f5",
   "metadata": {},
   "outputs": [],
   "source": [
    "combined.to_zarr(f\"{target_root}/emission-acoustic.zarr\", mode=\"w\", consolidated=True)"
   ]
  },
  {
   "cell_type": "markdown",
   "id": "e2fbb4fc-9d13-4fbc-9a2a-a2222cfa5ccc",
   "metadata": {},
   "source": [
    "cleanup"
   ]
  },
  {
   "cell_type": "code",
   "execution_count": null,
   "id": "9dae5709-7550-4f40-9c7a-bb3f2476dba1",
   "metadata": {},
   "outputs": [],
   "source": [
    "del emission, acoustic_pdf, combined"
   ]
  },
  {
   "cell_type": "markdown",
   "id": "9c8edd4e-4e21-430e-82a1-f34c00d829b8",
   "metadata": {
    "tags": []
   },
   "source": [
    "## estimate the model parameter"
   ]
  },
  {
   "cell_type": "code",
   "execution_count": null,
   "id": "edf362a3-8cf5-452f-8ab5-58c12cc29d90",
   "metadata": {},
   "outputs": [],
   "source": [
    "cluster.scale(1)"
   ]
  },
  {
   "cell_type": "code",
   "execution_count": null,
   "id": "82f202e3-5173-41c2-9c15-1d5bb8104671",
   "metadata": {},
   "outputs": [],
   "source": [
    "from pangeo_fish.hmm.estimator import EagerScoreEstimator\n",
    "from pangeo_fish.hmm.optimize import EagerBoundsSearch"
   ]
  },
  {
   "cell_type": "markdown",
   "id": "f93ea0ac-de2e-4dbf-aef8-c0a3ad841651",
   "metadata": {},
   "source": [
    "open the data"
   ]
  },
  {
   "cell_type": "code",
   "execution_count": null,
   "id": "ea0f6e9e-7ff6-40e7-a175-f3fb17395bf1",
   "metadata": {},
   "outputs": [],
   "source": [
    "emission = (\n",
    "    xr.open_dataset(\n",
    "        f\"{target_root}/emission-acoustic.zarr\",\n",
    "        engine=\"zarr\",\n",
    "        chunks={\"x\": -1, \"y\": -1, \"time\": \"auto\"},\n",
    "        inline_array=True,\n",
    "    )\n",
    "    .pipe(combine_emission_pdf)\n",
    "    .compute()  # convert to comment if the emission matrix does *not* fit in memory\n",
    ")\n",
    "emission"
   ]
  },
  {
   "cell_type": "markdown",
   "id": "ed1ed1ff-78f5-4f68-b49d-1f6d655a9d84",
   "metadata": {},
   "source": [
    "create and configure estimator and optimizer"
   ]
  },
  {
   "cell_type": "code",
   "execution_count": null,
   "id": "457ca9a1-6229-4895-99f2-b286c7cf2f6a",
   "metadata": {},
   "outputs": [],
   "source": [
    "estimator = EagerScoreEstimator()\n",
    "\n",
    "optimizer = EagerBoundsSearch(\n",
    "    estimator,\n",
    "    (1e-4, emission.attrs[\"max_sigma\"]),\n",
    "    optimizer_kwargs={\"disp\": 3, \"xtol\": tolerance},\n",
    ")"
   ]
  },
  {
   "cell_type": "markdown",
   "id": "11199a1d-1c06-4c8f-9f67-f442f1ce36b7",
   "metadata": {},
   "source": [
    "fit the model parameter to the data"
   ]
  },
  {
   "cell_type": "code",
   "execution_count": null,
   "id": "514d9946-2d65-4f54-9cb7-d7a970f00eb7",
   "metadata": {},
   "outputs": [],
   "source": [
    "%%time\n",
    "optimized = optimizer.fit(emission)\n",
    "optimized"
   ]
  },
  {
   "cell_type": "markdown",
   "id": "c5fd56d3-0111-4f44-910e-fb13b2e94f61",
   "metadata": {},
   "source": [
    "save"
   ]
  },
  {
   "cell_type": "code",
   "execution_count": null,
   "id": "42aa071c-cd67-4178-9899-ede525212e3b",
   "metadata": {},
   "outputs": [],
   "source": [
    "params = optimized.to_dict()\n",
    "with fsspec.open(f\"{target_root}/parameters.json\", mode=\"w\") as f:\n",
    "    json.dump(params, f)"
   ]
  },
  {
   "cell_type": "markdown",
   "id": "c7e41950-c709-4484-8aa1-a69ed4b2cc5d",
   "metadata": {},
   "source": [
    "## state probabilities"
   ]
  },
  {
   "cell_type": "markdown",
   "id": "3e83b399-ef59-47d8-aa88-8d52a03e4cb9",
   "metadata": {},
   "source": [
    "recreate the estimator"
   ]
  },
  {
   "cell_type": "code",
   "execution_count": null,
   "id": "9f29e4e5-9f3a-4ead-8484-8810150e5c4c",
   "metadata": {},
   "outputs": [],
   "source": [
    "with fsspec.open(f\"{target_root}/parameters.json\", mode=\"r\") as f:\n",
    "    params = json.load(f)\n",
    "optimized = EagerScoreEstimator(**params)\n",
    "optimized"
   ]
  },
  {
   "cell_type": "markdown",
   "id": "f88e4365-79ff-48f6-a2e5-7b7d69a389d0",
   "metadata": {},
   "source": [
    "load the data"
   ]
  },
  {
   "cell_type": "code",
   "execution_count": null,
   "id": "98f34555-ea91-47f2-bdb2-73572301082e",
   "metadata": {},
   "outputs": [],
   "source": [
    "emission = xr.open_dataset(\n",
    "    f\"{target_root}/emission-acoustic.zarr\",\n",
    "    engine=\"zarr\",\n",
    "    chunks={\"x\": -1, \"y\": -1, \"time\": \"auto\"},\n",
    "    inline_array=True,\n",
    ").pipe(combine_emission_pdf)\n",
    "emission"
   ]
  },
  {
   "cell_type": "markdown",
   "id": "547dada9-e81a-4d32-aead-e4e6711d216a",
   "metadata": {},
   "source": [
    "predict the state probabilities"
   ]
  },
  {
   "cell_type": "code",
   "execution_count": null,
   "id": "fc263e43-a686-482e-91e2-f03bf4483a13",
   "metadata": {},
   "outputs": [],
   "source": [
    "%%time\n",
    "states = optimized.predict_proba(emission)\n",
    "states"
   ]
  },
  {
   "cell_type": "markdown",
   "id": "43e78f51-60fa-4f43-ac47-cf5be9ba8399",
   "metadata": {},
   "source": [
    "save"
   ]
  },
  {
   "cell_type": "code",
   "execution_count": null,
   "id": "2ca9b579-b857-4b93-bfad-70d2f5238dd9",
   "metadata": {},
   "outputs": [],
   "source": [
    "%%time\n",
    "states.chunk({\"time\": \"auto\", \"x\": -1, \"y\": -1}).to_zarr(\n",
    "    f\"{target_root}/states.zarr\", mode=\"w\", consolidated=True\n",
    ")"
   ]
  },
  {
   "cell_type": "markdown",
   "id": "cf4c060d-a410-4895-899b-d8695c15b6db",
   "metadata": {},
   "source": [
    "cleanup"
   ]
  },
  {
   "cell_type": "code",
   "execution_count": null,
   "id": "8189b197-1b97-41c1-8e0f-63e9ce36576d",
   "metadata": {},
   "outputs": [],
   "source": [
    "del states"
   ]
  },
  {
   "cell_type": "markdown",
   "id": "a25069e5-3b2c-4ba9-a1bc-8ab900221259",
   "metadata": {},
   "source": [
    "## track decoding"
   ]
  },
  {
   "cell_type": "code",
   "execution_count": null,
   "id": "7f2973b3-39bf-4ab3-a7b0-5d67f88f52cb",
   "metadata": {},
   "outputs": [],
   "source": [
    "from pangeo_fish import tracks\n",
    "from pangeo_fish.hmm.estimator import EagerScoreEstimator"
   ]
  },
  {
   "cell_type": "markdown",
   "id": "e79dc903-0d5b-46be-b06d-1eee5e603ea1",
   "metadata": {},
   "source": [
    "open data"
   ]
  },
  {
   "cell_type": "code",
   "execution_count": null,
   "id": "eb46512b-b439-4f7d-a2ff-a291b0cf917d",
   "metadata": {},
   "outputs": [],
   "source": [
    "emission = (\n",
    "    xr.open_dataset(\n",
    "        f\"{target_root}/emission-acoustic.zarr\",\n",
    "        engine=\"zarr\",\n",
    "        chunks={\"x\": -1, \"y\": -1, \"time\": \"auto\"},\n",
    "        inline_array=True,\n",
    "    )\n",
    "    .pipe(combine_emission_pdf)\n",
    "    .compute()\n",
    ")\n",
    "emission"
   ]
  },
  {
   "cell_type": "code",
   "execution_count": null,
   "id": "799a82b8-a1ba-4724-9cd3-773b05e7c5a8",
   "metadata": {},
   "outputs": [],
   "source": [
    "states = xr.open_dataset(\n",
    "    f\"{target_root}/states.zarr\", engine=\"zarr\", chunks={}, inline_array=True\n",
    ").compute()\n",
    "states"
   ]
  },
  {
   "cell_type": "code",
   "execution_count": null,
   "id": "779af323-4d79-4d74-9417-ed5b45a454ed",
   "metadata": {},
   "outputs": [],
   "source": [
    "with fsspec.open(f\"{target_root}/parameters.json\", mode=\"r\") as f:\n",
    "    params = json.load(f)\n",
    "optimized = EagerScoreEstimator(**params)\n",
    "optimized"
   ]
  },
  {
   "cell_type": "markdown",
   "id": "39a3997a-775a-49ff-9710-7c447be2219e",
   "metadata": {},
   "source": [
    "decode tracks"
   ]
  },
  {
   "cell_type": "code",
   "execution_count": null,
   "id": "3c60f0e5-a29c-48e1-8374-1a33358a24fc",
   "metadata": {},
   "outputs": [],
   "source": [
    "%%time\n",
    "trajectories = optimized.decode(emission, states, mode=track_modes, progress=True).pipe(\n",
    "    tracks.additional_quantities, quantities=additional_track_quantities\n",
    ")\n",
    "trajectories"
   ]
  },
  {
   "cell_type": "markdown",
   "id": "e5a865e8-94a1-4dab-b7c5-1ae1b48c33e1",
   "metadata": {},
   "source": [
    "save"
   ]
  },
  {
   "cell_type": "code",
   "execution_count": null,
   "id": "56dbfd34-f26f-45dc-b8c7-3c84504e5c33",
   "metadata": {},
   "outputs": [],
   "source": [
    "from pangeo_fish.io import save_trajectories"
   ]
  },
  {
   "cell_type": "code",
   "execution_count": null,
   "id": "82785f81-e1e1-427c-ac44-168184114704",
   "metadata": {},
   "outputs": [],
   "source": [
    "save_trajectories(trajectories, tracks_root, format=\"parquet\")"
   ]
  },
  {
   "cell_type": "markdown",
   "id": "e7560973-f57f-4ac0-98f9-0fb792dd34e8",
   "metadata": {},
   "source": [
    "cleanup"
   ]
  },
  {
   "cell_type": "code",
   "execution_count": null,
   "id": "3f925d29-7ad8-4411-8438-eaddf3a2f339",
   "metadata": {},
   "outputs": [],
   "source": [
    "del emission, states, trajectories"
   ]
  }
 ],
 "metadata": {
  "language_info": {
   "codemirror_mode": {
    "name": "ipython",
    "version": 3
   },
   "file_extension": ".py",
   "mimetype": "text/x-python",
   "name": "python",
   "nbconvert_exporter": "python",
   "pygments_lexer": "ipython3"
  }
 },
 "nbformat": 4,
 "nbformat_minor": 5
}
