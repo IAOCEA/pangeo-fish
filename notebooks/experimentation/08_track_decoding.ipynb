{
 "cells": [
  {
   "cell_type": "markdown",
   "id": "4500c524-65cf-4edc-a7ba-0c06cf8c9619",
   "metadata": {
    "tags": []
   },
   "source": [
    "# track decoding\n",
    "\n",
    "With the model parameter $\\sigma$ estimated, we can proceed to estimating tracks.\n",
    "\n",
    "There's multiple different ways:\n",
    "- mean track\n",
    "- mode track\n",
    "- most probable track\n",
    "\n",
    "Of all of these, the most probable track is the most meaningful one."
   ]
  },
  {
   "cell_type": "code",
   "execution_count": null,
   "id": "419f0a40-b314-4d48-8b00-8417b5fd4bef",
   "metadata": {
    "tags": []
   },
   "outputs": [],
   "source": [
    "import json\n",
    "\n",
    "import fsspec\n",
    "import xarray as xr\n",
    "\n",
    "from pangeo_fish import tracks\n",
    "from pangeo_fish.hmm.estimator import EagerScoreEstimator\n",
    "from pangeo_fish.pdf import combine_emission_pdf"
   ]
  },
  {
   "cell_type": "markdown",
   "id": "6d49a497-7052-47e1-9a53-35294251b7ea",
   "metadata": {},
   "source": [
    "parametrize with [papermill](https://papermill.readthedocs.io/en/latest/)"
   ]
  },
  {
   "cell_type": "code",
   "execution_count": null,
   "id": "85f796a8-7430-4f54-9106-d99c7e6271e0",
   "metadata": {
    "tags": []
   },
   "outputs": [],
   "source": [
    "emission_path: str\n",
    "parameter_path: str\n",
    "\n",
    "track_modes: str | list = [\"mean\", \"mode\", \"viterbi\"]\n",
    "additional_track_quantities: str | list = [\"speed\", \"distance\"]\n",
    "\n",
    "states_path: str | None\n",
    "tracks_root: str\n",
    "\n",
    "scheduler_address: str | None = None"
   ]
  },
  {
   "cell_type": "raw",
   "id": "564f07fa-c742-4b50-99bf-bf7a2f47e45c",
   "metadata": {
    "tags": []
   },
   "source": [
    "emission_path = \"/home/jmagin/work/data/fish-intel/emission/A18832-f1_e2500-hp4096.zarr\"\n",
    "parameter_path = (\n",
    "    \"/home/jmagin/work/data/fish-intel/optimized/A18832-f1_e2500-hp4096.json\"\n",
    ")\n",
    "tracks_root = \"/home/jmagin/work/data/fish-intel/tracks/A18832-f1_e2500-hp4096\"\n",
    "\n",
    "track_modes = [\"viterbi\"]"
   ]
  },
  {
   "cell_type": "code",
   "execution_count": null,
   "id": "d6c922e2-464f-43a9-9726-4d71c4f361b7",
   "metadata": {
    "tags": []
   },
   "outputs": [],
   "source": [
    "emission_path = (\n",
    "    \"https://data-taos.ifremer.fr/fish_mid4096/A19230/copernicus/emission_4096.zarr\"\n",
    ")\n",
    "parameter_path = (\n",
    "    \"https://data-taos.ifremer.fr/fish_mid4096/A19230/copernicus/sigma_4096.json\"\n",
    ")\n",
    "tracks_root = \"/home/jmagin/work/data/fish-intel/tracks/A19230\"\n",
    "track_modes = [\"viterbi\", \"mean\"]"
   ]
  },
  {
   "cell_type": "markdown",
   "id": "4c95403b-2248-4b3d-8972-2ac672ccf1fa",
   "metadata": {},
   "source": [
    "create dask cluster"
   ]
  },
  {
   "cell_type": "code",
   "execution_count": null,
   "id": "b04b1bd3-4a48-4b4f-a453-294a5e81e2ce",
   "metadata": {
    "tags": []
   },
   "outputs": [],
   "source": [
    "from distributed import Client, LocalCluster\n",
    "\n",
    "if scheduler_address is None:\n",
    "    cluster = LocalCluster()\n",
    "    client = cluster.get_client()\n",
    "else:\n",
    "    client = Client(scheduler_address)\n",
    "client"
   ]
  },
  {
   "cell_type": "markdown",
   "id": "31b58cf1-742d-4eee-8912-75812daa11e6",
   "metadata": {},
   "source": [
    "open emission probabilities"
   ]
  },
  {
   "cell_type": "raw",
   "id": "7268403f-c907-4014-a711-d6272aabb4a5",
   "metadata": {
    "tags": []
   },
   "source": [
    "subset = {\"longitude\": (-8, 0), \"latitude\": (45, 50)}"
   ]
  },
  {
   "cell_type": "code",
   "execution_count": null,
   "id": "b9567e16-bf0a-4498-b38e-134b531b5a67",
   "metadata": {
    "tags": []
   },
   "outputs": [],
   "source": [
    "import operator\n",
    "from functools import reduce"
   ]
  },
  {
   "cell_type": "code",
   "execution_count": null,
   "id": "9a89940c-ccff-420b-b8ed-3dcc4749d3e8",
   "metadata": {
    "tags": []
   },
   "outputs": [],
   "source": [
    "from pangeo_fish.pdf import combine_emission_pdf"
   ]
  },
  {
   "cell_type": "code",
   "execution_count": null,
   "id": "513cfd27-bd25-4f8d-826d-ebb8c7af14a9",
   "metadata": {
    "tags": []
   },
   "outputs": [],
   "source": [
    "emission = (\n",
    "    xr.open_dataset(emission_path, engine=\"zarr\", chunks={}, inline_array=True)\n",
    "    .drop_vars(\"resolution\")\n",
    "    .pipe(combine_emission_pdf)\n",
    "    .transpose(\"time\", \"y\", \"x\")\n",
    "    .compute()\n",
    ")\n",
    "emission"
   ]
  },
  {
   "cell_type": "markdown",
   "id": "afbb9e43-5153-43ff-b565-016dff687e53",
   "metadata": {},
   "source": [
    "open state probabilities"
   ]
  },
  {
   "cell_type": "raw",
   "id": "0d5fabcf-f1c3-4fe8-95ea-ba03078b23ca",
   "metadata": {
    "tags": []
   },
   "source": [
    "%%time\n",
    "if states_path is not None:\n",
    "    states = xr.open_dataset(states_path, engine=\"zarr\", chunks={}, inline_array=True)\n",
    "else:\n",
    "    states = None\n",
    "states"
   ]
  },
  {
   "cell_type": "markdown",
   "id": "8d646737-fcfa-4478-b5c2-c65e7b5555ad",
   "metadata": {},
   "source": [
    "read the estimated parameters"
   ]
  },
  {
   "cell_type": "code",
   "execution_count": null,
   "id": "7c7de936-41f8-4002-bd29-9ea0dba23ac4",
   "metadata": {
    "tags": []
   },
   "outputs": [],
   "source": [
    "with fsspec.open(parameter_path, mode=\"r\") as f:\n",
    "    parameters = json.load(f)\n",
    "parameters.pop(\"tolerance\", None)\n",
    "parameters"
   ]
  },
  {
   "cell_type": "markdown",
   "id": "73ff40c8-ef54-4ea6-a8fa-df484004d85a",
   "metadata": {},
   "source": [
    "create the estimator"
   ]
  },
  {
   "cell_type": "code",
   "execution_count": null,
   "id": "e3e0c462-773e-48ea-8337-755994d0d947",
   "metadata": {
    "tags": []
   },
   "outputs": [],
   "source": [
    "estimator = EagerScoreEstimator(**parameters)\n",
    "estimator"
   ]
  },
  {
   "cell_type": "markdown",
   "id": "6379bfe1-54ce-499d-baed-776e08a2bff5",
   "metadata": {},
   "source": [
    "compute the tracks"
   ]
  },
  {
   "cell_type": "code",
   "execution_count": null,
   "id": "a0c257e9-aa86-4295-b8c7-680acec3b390",
   "metadata": {
    "tags": []
   },
   "outputs": [],
   "source": [
    "track_modes = [\"viterbi\", \"viterbi2\"]\n",
    "# track_modes = [\"mean\"]\n",
    "for mode in track_modes:\n",
    "    %time raw_track = estimator.decode(emission, mode=mode, is_states=\"states\" in emission)\n",
    "    track = tracks.additional_quantities(raw_track, additional_track_quantities)\n",
    "    track.df.to_parquet(f\"{tracks_root}/{mode}.parquet\")"
   ]
  },
  {
   "cell_type": "code",
   "execution_count": null,
   "id": "54dd1c42-07ce-4aa6-955f-e74d64973230",
   "metadata": {
    "tags": []
   },
   "outputs": [],
   "source": [
    "import cmocean\n",
    "import geopandas as gpd\n",
    "import holoviews as hv\n",
    "import hvplot.xarray\n",
    "import movingpandas as mpd\n",
    "import xarray as xr"
   ]
  },
  {
   "cell_type": "code",
   "execution_count": null,
   "id": "21ab85f2-123a-4e30-b016-ebfd21bbc87a",
   "metadata": {
    "tags": []
   },
   "outputs": [],
   "source": [
    "track_modes = [\"viterbi\", \"viterbi2\", \"mean\"]"
   ]
  },
  {
   "cell_type": "code",
   "execution_count": null,
   "id": "944a1120-de8f-4f57-b7d6-3f9908344e06",
   "metadata": {
    "tags": []
   },
   "outputs": [],
   "source": [
    "track_paths = [f\"{tracks_root}/{mode}.parquet\" for mode in track_modes]\n",
    "all_tracks = {\n",
    "    mode: mpd.Trajectory(\n",
    "        gpd.read_parquet(f\"{tracks_root}/{mode}.parquet\"), traj_id=mode\n",
    "    )\n",
    "    for mode in track_modes\n",
    "}"
   ]
  },
  {
   "cell_type": "code",
   "execution_count": null,
   "id": "e3343279-ab4f-4919-893a-e6bcc61a17cc",
   "metadata": {
    "tags": []
   },
   "outputs": [],
   "source": [
    "hv.Layout(\n",
    "    [\n",
    "        track.hvplot(c=\"speed\", tiles=\"CartoLight\", title=name, cmap=\"cmo.speed\")\n",
    "        for name, track in all_tracks.items()\n",
    "    ]\n",
    ").cols(2)"
   ]
  },
  {
   "cell_type": "raw",
   "id": "0ec1ce8b-d3a4-4fa3-b8aa-59ea4b490750",
   "metadata": {
    "tags": []
   },
   "source": [
    "fs, _ = fsspec.core.url_to_fs(tracks_root)\n",
    "fs.mkdirs(tracks_root, exist_ok=True)"
   ]
  },
  {
   "cell_type": "raw",
   "id": "1c1e94fb-66e6-4c2d-9ae6-b298ad2c531c",
   "metadata": {
    "tags": []
   },
   "source": [
    "state_modes = [\"mean\", \"mode\"]\n",
    "\n",
    "for mode in track_modes:\n",
    "    reuse_states = mode in state_modes and states is not None\n",
    "    raw_track = estimator.decode(\n",
    "        states if reuse_states else emission, mode=mode, is_states=reuse_states\n",
    "    )\n",
    "    track = tracks.additional_quantities(raw_track, additional_track_quantities)\n",
    "    track.df.to_parquet(f\"{tracks_root}/{mode}.parquet\")"
   ]
  },
  {
   "cell_type": "code",
   "execution_count": null,
   "id": "d2628529-60a0-42b6-9350-24a6dbb6e1c6",
   "metadata": {
    "tags": []
   },
   "outputs": [],
   "source": [
    "import dask\n",
    "import dask.array as da\n",
    "import numpy as np\n",
    "\n",
    "from pangeo_fish.distributions import gaussian_kernel\n",
    "from pangeo_fish.hmm.decode import kernel_state_metric\n",
    "from pangeo_fish.pdf import combine_emission_pdf"
   ]
  },
  {
   "cell_type": "raw",
   "id": "4cf0752f-a25b-4554-864c-69e2143c7cca",
   "metadata": {
    "tags": []
   },
   "source": [
    "sigma = parameters[\"sigma\"]\n",
    "emission_ = combine_emission_pdf(emission)\n",
    "ocean_mask = emission_.mask.compute()\n",
    "pdf = emission_[\"pdf\"].copy()\n",
    "pdf[{\"time\": 0}] = emission_.initial\n",
    "\n",
    "kernel = np.log(gaussian_kernel(np.full(shape=(2,), fill_value=sigma)))\n",
    "\n",
    "pdf_ = np.log(pdf.data)\n",
    "\n",
    "state_metrics = [pdf_[0, ...]]\n",
    "\n",
    "pos0 = np.argmax(pdf_[0, ...]).compute()\n",
    "initial_branches = np.where(pdf_[0, ...] != -np.inf, pos0, -1)\n",
    "branches = [initial_branches]"
   ]
  },
  {
   "cell_type": "raw",
   "id": "457fcf61-b8fe-4520-a2c9-64ecac8bfcb7",
   "metadata": {
    "tags": []
   },
   "source": [
    "for index in range(1, pdf_.shape[0]):\n",
    "    state_metric, positions = da.apply_gufunc(\n",
    "        kernel_state_metric,\n",
    "        \"(x,y),(x,y),(x,y),(n,m)->(x,y),(x,y)\",\n",
    "        state_metrics[index - 1],\n",
    "        branches[index - 1],\n",
    "        pdf_[index, ...],\n",
    "        kernel,\n",
    "        output_dtypes=[float, int],\n",
    "    )\n",
    "\n",
    "    state_metrics.append(np.where(ocean_mask, state_metric, -np.inf))\n",
    "    branches.append(np.where(ocean_mask, positions, -1))"
   ]
  },
  {
   "cell_type": "raw",
   "id": "ecda03c4-ffe4-47c5-90ec-8cb62d424f98",
   "metadata": {
    "tags": []
   },
   "source": [
    "%%time\n",
    "most_likely_position = np.argmax(state_metrics[-1])\n",
    "track_positions = [most_likely_position]\n",
    "n_branches = len(branches)\n",
    "for index in range(1, n_branches):\n",
    "    branch_index = n_branches - index\n",
    "    branch = branches[branch_index]\n",
    "    reshaped = np.reshape(branch, (-1,))\n",
    "    \n",
    "    track_positions.append(reshaped[track_positions[index - 1]])\n",
    "stacked = np.stack(track_positions[::-1])"
   ]
  },
  {
   "cell_type": "raw",
   "id": "c1ef3452-1f8f-4ca1-8c19-dd4fe0138fdf",
   "metadata": {
    "tags": []
   },
   "source": [
    "%%time\n",
    "computed = dask.compute(stacked)[0]\n",
    "computed"
   ]
  },
  {
   "cell_type": "raw",
   "id": "e16b60db-be15-4af4-b350-b798f3556115",
   "metadata": {
    "tags": []
   },
   "source": [
    "state_metrics_, branches = dask.compute(state_metrics, branches_)"
   ]
  },
  {
   "cell_type": "raw",
   "id": "3ed83b3a-d5ec-49ba-a622-72a0c7b403af",
   "metadata": {
    "tags": []
   },
   "source": [
    "sm = xr.DataArray(\n",
    "    np.stack(state_metrics, axis=0),\n",
    "    coords=emission.coords,\n",
    "    dims=(\"time\", \"x\", \"y\"),\n",
    "    name=\"state_metrics\",\n",
    ")\n",
    "sm"
   ]
  },
  {
   "cell_type": "raw",
   "id": "5e979ee2-57f6-4815-a8b5-515d65ae080c",
   "metadata": {
    "tags": []
   },
   "source": [
    "most_likely_position = np.argmax(state_metrics[-1]).compute()\n",
    "most_likely_position"
   ]
  },
  {
   "cell_type": "raw",
   "id": "52ca17ec-8712-4728-8cd2-5242fe76b672",
   "metadata": {},
   "source": [
    "positions = [most_likely_position]\n",
    "for index in range(1, "
   ]
  },
  {
   "cell_type": "raw",
   "id": "549c92db-7929-4dbb-b0f6-e63dbf344438",
   "metadata": {
    "tags": []
   },
   "source": [
    "lat = sm.latitude.data[x, y].compute()\n",
    "lon = sm.longitude.data[x, y].compute()"
   ]
  },
  {
   "cell_type": "raw",
   "id": "cd0a8499-c3c7-4831-a710-162397e91fd1",
   "metadata": {
    "tags": []
   },
   "source": [
    "x, y = np.unravel_index(computed, ocean_mask.shape)\n",
    "x, y"
   ]
  },
  {
   "cell_type": "raw",
   "id": "0c278d73-e304-48f7-8af9-2f06f987546b",
   "metadata": {
    "tags": []
   },
   "source": [
    "lat"
   ]
  },
  {
   "cell_type": "raw",
   "id": "da197406-caed-4675-a031-09a816b5eafb",
   "metadata": {
    "tags": []
   },
   "source": [
    "lon"
   ]
  },
  {
   "cell_type": "raw",
   "id": "39c73397-16f6-4275-9065-897d9e8f0385",
   "metadata": {
    "tags": []
   },
   "source": [
    "%%time\n",
    "sm.to_zarr(\"state_metrics.zarr\", mode=\"w\")"
   ]
  },
  {
   "cell_type": "raw",
   "id": "cef13376-fc07-454f-840f-0a2fb3982473",
   "metadata": {
    "tags": []
   },
   "source": [
    "sm_ = xr.open_dataset(\"state_metrics.zarr\", engine=\"zarr\", chunks={})\n",
    "sm_"
   ]
  },
  {
   "cell_type": "raw",
   "id": "0eb355cf-d11f-4847-b7ff-dfc46b9b9d89",
   "metadata": {
    "tags": []
   },
   "source": [
    "sm_.state_metrics.where(lambda arr: ~np.isinf(arr)).hvplot.quadmesh(\n",
    "    x=\"longitude\", y=\"latitude\", coastline=\"10m\", rasterize=True, cmap=\"cmo.amp\"\n",
    ")"
   ]
  },
  {
   "cell_type": "raw",
   "id": "79013296-54be-4517-92a2-d9fdac8ae79d",
   "metadata": {
    "tags": []
   },
   "source": [
    "sm_.state_metrics.isel(time=-1).argmax().compute()"
   ]
  },
  {
   "cell_type": "markdown",
   "id": "53cbe1f4-88ac-40e4-8db6-8e9f05d12456",
   "metadata": {},
   "source": [
    "Mathieu's implementation"
   ]
  },
  {
   "cell_type": "code",
   "execution_count": null,
   "id": "9cf75e99-96dc-41ef-96f1-9a80d89c9585",
   "metadata": {
    "tags": []
   },
   "outputs": [],
   "source": [
    "from pangeo_fish.distributions import gaussian_kernel"
   ]
  },
  {
   "cell_type": "code",
   "execution_count": null,
   "id": "5d3c03d6-1399-45a2-aec9-15496707d704",
   "metadata": {
    "tags": []
   },
   "outputs": [],
   "source": [
    "from rich.progress import track"
   ]
  },
  {
   "cell_type": "code",
   "execution_count": null,
   "id": "3b5e1a2f-111b-4f37-acb4-b841d5b1e555",
   "metadata": {
    "tags": []
   },
   "outputs": [],
   "source": [
    "import numba"
   ]
  },
  {
   "cell_type": "code",
   "execution_count": null,
   "id": "907e0d15-4632-4ed6-87a0-ae8dbf748e0f",
   "metadata": {
    "tags": []
   },
   "outputs": [],
   "source": [
    "@numba.njit\n",
    "def _propagate_timestep(M, kernel, emission, Tprevx, Tprevy):\n",
    "    row, col = M.shape\n",
    "    ks = kernel.shape[0]\n",
    "    Mtemp = np.full((row, col), fill_value=-np.inf)\n",
    "    Ttempx = np.full((row, col), fill_value=-1, dtype=\"int16\")\n",
    "    Ttempy = np.full((row, col), fill_value=-1, dtype=\"int16\")\n",
    "\n",
    "    for x in range(col):\n",
    "        for y in range(row):\n",
    "            if M[y, x] == -np.inf:\n",
    "                continue\n",
    "\n",
    "            kminlat = max(ks // 2 - y, 0)\n",
    "            kmaxlat = min((ks - 1) - (y + ks // 2 - (row - 1)), ks - 1)\n",
    "            kminlong = max(ks // 2 - x, 0)\n",
    "            kmaxlong = min((ks - 1) - (x + ks // 2 - (col - 1)), ks - 1)\n",
    "\n",
    "            mminlat = max(y - ks // 2, 0)\n",
    "            mmaxlat = min(y + ks // 2, row - 1)\n",
    "            mminlong = max(x - ks // 2, 0)\n",
    "            mmaxlong = min(x + ks // 2, col - 1)\n",
    "\n",
    "            B = (\n",
    "                emission[mminlat : mmaxlat + 1, mminlong : mmaxlong + 1]\n",
    "                + kernel[kminlat : kmaxlat + 1, kminlong : kmaxlong + 1]\n",
    "            )\n",
    "\n",
    "            Msub = B + M[y, x]\n",
    "\n",
    "            Mupdate = Mtemp[mminlat : mmaxlat + 1, mminlong : mmaxlong + 1]\n",
    "            Txupdate = Ttempx[mminlat : mmaxlat + 1, mminlong : mmaxlong + 1]\n",
    "            Tyupdate = Ttempy[mminlat : mmaxlat + 1, mminlong : mmaxlong + 1]\n",
    "\n",
    "            update = Msub > Mupdate\n",
    "\n",
    "            Mtemp[mminlat : mmaxlat + 1, mminlong : mmaxlong + 1] = np.where(\n",
    "                update, Msub, Mupdate\n",
    "            )\n",
    "            Ttempx[mminlat : mmaxlat + 1, mminlong : mmaxlong + 1] = np.where(\n",
    "                update, x, Txupdate\n",
    "            )\n",
    "            Ttempy[mminlat : mmaxlat + 1, mminlong : mmaxlong + 1] = np.where(\n",
    "                update, y, Tyupdate\n",
    "            )\n",
    "\n",
    "    return Mtemp, Ttempx, Ttempy"
   ]
  },
  {
   "cell_type": "code",
   "execution_count": null,
   "id": "d31dc05d-e6cb-4a97-a867-ad6273f786f0",
   "metadata": {
    "tags": []
   },
   "outputs": [],
   "source": [
    "@numba.njit\n",
    "def _reorder_track(Tprevx, Tprevy, Ttempx, Ttempy, index, M):\n",
    "    row, col = M.shape\n",
    "\n",
    "    Tx = np.full_like(Tprevx, fill_value=-1)\n",
    "    Ty = np.full_like(Tprevy, fill_value=-1)\n",
    "\n",
    "    for x in range(col):\n",
    "        for y in range(row):\n",
    "            if M[y, x] == -np.inf:\n",
    "                continue\n",
    "\n",
    "            Tx[y, x, :index] = Tprevx[Ttempy[y, x], Ttempx[y, x], :index]\n",
    "            Ty[y, x, :index] = Tprevy[Ttempy[y, x], Ttempx[y, x], :index]\n",
    "            Tx[y, x, index] = x\n",
    "            Ty[y, x, index] = y\n",
    "\n",
    "    return Tx, Ty"
   ]
  },
  {
   "cell_type": "code",
   "execution_count": null,
   "id": "40ac0cd7-e860-415e-bcc5-dd23e42ad49a",
   "metadata": {
    "tags": []
   },
   "outputs": [],
   "source": [
    "lik = emission.pdf.fillna(0).pipe(np.log).data\n",
    "lik[0, :, :] = (\n",
    "    emission.initial.fillna(0)\n",
    "    .pipe(lambda arr: (arr > 0.5).astype(float))\n",
    "    .pipe(np.log)\n",
    "    .data\n",
    ")\n",
    "ocean_mask = emission.mask.compute().data\n",
    "index = np.argmax(lik[0, ...])\n",
    "y0, x0 = np.unravel_index(index, lik.shape[1:])\n",
    "land = np.logical_not(ocean_mask)\n",
    "sigma = parameters[\"sigma\"]"
   ]
  },
  {
   "cell_type": "code",
   "execution_count": null,
   "id": "38127440-8d45-4052-afaf-cd22d41d2158",
   "metadata": {
    "tags": []
   },
   "outputs": [],
   "source": [
    "import hvplot.pandas\n",
    "import hvplot.xarray"
   ]
  },
  {
   "cell_type": "code",
   "execution_count": null,
   "id": "9aeec7b4-1a7c-4e57-8b2c-0a6ba285757c",
   "metadata": {
    "tags": []
   },
   "outputs": [],
   "source": [
    "import matplotlib.pyplot as plt"
   ]
  },
  {
   "cell_type": "code",
   "execution_count": null,
   "id": "cadbe897-7b4a-47c6-adad-9704fbb77d54",
   "metadata": {
    "tags": []
   },
   "outputs": [],
   "source": [
    "kern = np.log(gaussian_kernel(sigma=np.array([sigma, sigma]), type=\"continuous\"))"
   ]
  },
  {
   "cell_type": "code",
   "execution_count": null,
   "id": "b340b754-06ad-4eda-8ed6-f715c2f1867e",
   "metadata": {
    "tags": []
   },
   "outputs": [],
   "source": [
    "M = dask.compute(lik[0, ...])[0]\n",
    "Tprevx = np.full(M.shape + (lik.shape[0],), fill_value=-1, dtype=\"int16\")\n",
    "Tprevy = np.full(M.shape + (lik.shape[0],), fill_value=-1, dtype=\"int16\")\n",
    "Tprevx[y0, x0, 0] = x0\n",
    "Tprevy[y0, x0, 0] = y0\n",
    "\n",
    "for index in track(range(1, lik.shape[0]), description=\"propagating...\"):\n",
    "    lik_ = dask.compute(lik[index, ...])[0]\n",
    "\n",
    "    Mtemp, Ttempx, Ttempy = _propagate_timestep(M, kern, lik_, Tprevx, Tprevy)\n",
    "    Mtemp[land] = -np.inf\n",
    "\n",
    "    Tx, Ty = _reorder_track(Tprevx, Tprevy, Ttempx, Ttempy, index, Mtemp)\n",
    "\n",
    "    M = Mtemp\n",
    "    Tprevx = Tx\n",
    "    Tprevy = Ty\n",
    "M[land] = -np.inf"
   ]
  },
  {
   "cell_type": "code",
   "execution_count": null,
   "id": "eaf526f1-45f5-4025-a5db-eb149f0f8a98",
   "metadata": {
    "tags": []
   },
   "outputs": [],
   "source": [
    "plt.imshow(M)\n",
    "plt.colorbar()"
   ]
  },
  {
   "cell_type": "code",
   "execution_count": null,
   "id": "8d65c824-4644-4610-8d57-fe0c0e3cf3b1",
   "metadata": {
    "tags": []
   },
   "outputs": [],
   "source": [
    "print(np.sum(Tprevx != -1, axis=(0, 1)))"
   ]
  },
  {
   "cell_type": "code",
   "execution_count": null,
   "id": "0fe61361-1f73-4154-85f5-304e0be224cf",
   "metadata": {
    "tags": []
   },
   "outputs": [],
   "source": [
    "reshaped_x = Tprevx.reshape(-1, lik.shape[0])\n",
    "reshaped_y = Tprevy.reshape(-1, lik.shape[0])\n",
    "reshaped_M = M.reshape(-1)\n",
    "sort_indices = np.argsort(reshaped_M)\n",
    "sorted_M = reshaped_M[sort_indices]\n",
    "sorted_M"
   ]
  },
  {
   "cell_type": "markdown",
   "id": "f664d725-069e-4479-8592-119301c7fe95",
   "metadata": {},
   "source": [
    "Todo:\n",
    "- build a function to ingest lat / lon datasets into `movingpandas`, possibly into `TrajectoryCollection`s\n",
    "- compare the implementation here with the reference"
   ]
  },
  {
   "cell_type": "code",
   "execution_count": null,
   "id": "c4c5064c-afbf-4c80-8c77-f62ae345b0a5",
   "metadata": {
    "tags": []
   },
   "outputs": [],
   "source": [
    "import shapely"
   ]
  },
  {
   "cell_type": "code",
   "execution_count": null,
   "id": "e9c96469-5127-4c20-b4c0-9043bbb6e596",
   "metadata": {
    "tags": []
   },
   "outputs": [],
   "source": [
    "import movingpandas as mpd"
   ]
  },
  {
   "cell_type": "code",
   "execution_count": null,
   "id": "8c6cadc3-6f44-422c-a62b-0b185cb126b3",
   "metadata": {
    "tags": []
   },
   "outputs": [],
   "source": [
    "def combine_as_points(ds, x, y):\n",
    "    return xr.apply_ufunc(\n",
    "        shapely.points, ds[x], ds[y], input_core_dims=[(), ()], output_core_dims=[()]\n",
    "    )"
   ]
  },
  {
   "cell_type": "code",
   "execution_count": null,
   "id": "e4d1f538-913f-4973-98bf-940dbe275fae",
   "metadata": {
    "tags": []
   },
   "outputs": [],
   "source": [
    "x = xr.DataArray(reshaped_x[sort_indices, :][-10:, :], dims=[\"track_id\", \"time\"])\n",
    "y = xr.DataArray(reshaped_y[sort_indices, :][-10:, :], dims=[\"track_id\", \"time\"])\n",
    "selected = emission[[\"time\", \"longitude\", \"latitude\"]].isel(x=y, y=x)\n",
    "combined = selected.pipe(combine_as_points, \"longitude\", \"latitude\").drop_vars(\n",
    "    [\"longitude\", \"latitude\", \"cell_ids\"]\n",
    ")\n",
    "df = combined.assign_coords(track_id=lambda ds: ds.track_id).to_dataframe(\n",
    "    name=\"geometry\"\n",
    ")\n",
    "df"
   ]
  },
  {
   "cell_type": "code",
   "execution_count": null,
   "id": "a5691ba5-d3ce-4a7c-8b9a-76ca8b7cce00",
   "metadata": {
    "tags": []
   },
   "outputs": [],
   "source": [
    "import geopandas as gpd"
   ]
  },
  {
   "cell_type": "code",
   "execution_count": null,
   "id": "dc3f4f6e-fdbb-4277-912f-739c4653c2fd",
   "metadata": {
    "tags": []
   },
   "outputs": [],
   "source": [
    "coll = (\n",
    "    df.reset_index()\n",
    "    .set_index(\"time\")\n",
    "    .pipe(gpd.GeoDataFrame, crs=\"epsg:4326\")\n",
    "    .pipe(mpd.TrajectoryCollection, traj_id_col=\"track_id\")\n",
    ")"
   ]
  },
  {
   "cell_type": "code",
   "execution_count": null,
   "id": "ac275e7f-dd0e-4aa4-84fc-0cda286ec886",
   "metadata": {
    "tags": []
   },
   "outputs": [],
   "source": [
    "coll"
   ]
  },
  {
   "cell_type": "code",
   "execution_count": null,
   "id": "eb09ca8a-6980-4782-8363-8ba9e006e7a7",
   "metadata": {
    "tags": []
   },
   "outputs": [],
   "source": [
    "coll.hvplot(tiles=\"CartoLight\")"
   ]
  },
  {
   "cell_type": "code",
   "execution_count": null,
   "id": "41c3c427-b454-4c9a-8471-162014f37815",
   "metadata": {
    "tags": []
   },
   "outputs": [],
   "source": [
    "pos = np.argmax(M)\n",
    "posy = pos // M.shape[1]\n",
    "posy, posx = divmod(pos, M.shape[1])"
   ]
  },
  {
   "cell_type": "code",
   "execution_count": null,
   "id": "038d5381-7cfc-4991-8cf4-a5ebb2beb458",
   "metadata": {
    "jupyter": {
     "outputs_hidden": true
    },
    "tags": []
   },
   "outputs": [],
   "source": [
    "y = Tprevy[posy, posx, :]\n",
    "x = Tprevx[posy, posx, :]\n",
    "y, x"
   ]
  },
  {
   "cell_type": "code",
   "execution_count": null,
   "id": "f8e158f8-73ec-4ae1-a58e-005f348b61f7",
   "metadata": {
    "tags": []
   },
   "outputs": [],
   "source": [
    "import matplotlib.pyplot as plt"
   ]
  },
  {
   "cell_type": "code",
   "execution_count": null,
   "id": "463c0a76-69de-41d5-9393-7b5e523aa073",
   "metadata": {
    "tags": []
   },
   "outputs": [],
   "source": [
    "plt.imshow(M)"
   ]
  },
  {
   "cell_type": "code",
   "execution_count": null,
   "id": "ab088819-4eff-4445-a715-6ae3083b0517",
   "metadata": {
    "tags": []
   },
   "outputs": [],
   "source": [
    "plt.imshow(kern)"
   ]
  },
  {
   "cell_type": "code",
   "execution_count": null,
   "id": "5d43c9e7-4f26-4730-8655-ddb696bc7e4c",
   "metadata": {
    "tags": []
   },
   "outputs": [],
   "source": [
    "plt.imshow(lik[0, ...])"
   ]
  },
  {
   "cell_type": "code",
   "execution_count": null,
   "id": "26dec40c-9531-421a-87ca-0362068b9dc1",
   "metadata": {
    "tags": []
   },
   "outputs": [],
   "source": [
    "plt.imshow(M)\n",
    "plt.colorbar()"
   ]
  },
  {
   "cell_type": "code",
   "execution_count": null,
   "id": "275375af-218b-4145-b23c-8fdb1a5415f7",
   "metadata": {
    "tags": []
   },
   "outputs": [],
   "source": [
    "lik.shape"
   ]
  },
  {
   "cell_type": "code",
   "execution_count": null,
   "id": "170cec27-ecfb-4d99-85ab-ad2d72e0fef5",
   "metadata": {
    "tags": []
   },
   "outputs": [],
   "source": [
    "plt.imshow(lik[0, ...])"
   ]
  },
  {
   "cell_type": "markdown",
   "id": "3fe27591-1d47-4d00-a2de-d7c1a2680b5e",
   "metadata": {},
   "source": [
    "visualization"
   ]
  },
  {
   "cell_type": "code",
   "execution_count": null,
   "id": "e442c9ef-7393-415b-bc11-9b6b79a15752",
   "metadata": {
    "tags": []
   },
   "outputs": [],
   "source": [
    "y_ = xr.DataArray(x, dims=\"time\")\n",
    "x_ = xr.DataArray(y, dims=\"time\")"
   ]
  },
  {
   "cell_type": "code",
   "execution_count": null,
   "id": "0efdbb80-d996-4133-8b8e-0a7c5cf167a9",
   "metadata": {
    "tags": []
   },
   "outputs": [],
   "source": [
    "x_"
   ]
  },
  {
   "cell_type": "code",
   "execution_count": null,
   "id": "723e6cf3-a337-4b15-802a-e77aa70a6813",
   "metadata": {
    "tags": []
   },
   "outputs": [],
   "source": [
    "traj = (\n",
    "    emission[[\"time\", \"longitude\", \"latitude\"]]\n",
    "    .isel(x=x_, y=y_)\n",
    "    .to_pandas()\n",
    "    .pipe(mpd.Trajectory, traj_id=\"viterbi\", x=\"longitude\", y=\"latitude\")\n",
    ")\n",
    "traj.hvplot(tiles=\"CartoLight\")"
   ]
  },
  {
   "cell_type": "code",
   "execution_count": null,
   "id": "0d718139-ad12-4cb0-8d37-961df7e92b4b",
   "metadata": {
    "tags": []
   },
   "outputs": [],
   "source": [
    "estimator.decode(emission, mode=\"viterbi\")"
   ]
  },
  {
   "cell_type": "code",
   "execution_count": null,
   "id": "84a5810a-d362-4234-8aab-5579f2fef4a7",
   "metadata": {
    "tags": []
   },
   "outputs": [],
   "source": [
    "import cmocean\n",
    "import geopandas as gpd\n",
    "import holoviews as hv\n",
    "import hvplot.xarray\n",
    "import movingpandas as mpd\n",
    "import xarray as xr"
   ]
  },
  {
   "cell_type": "code",
   "execution_count": null,
   "id": "04379f40-8cbd-41f1-aaa7-f378d93bea8f",
   "metadata": {
    "tags": []
   },
   "outputs": [],
   "source": [
    "track_paths = [f\"{tracks_root}/{mode}.parquet\" for mode in track_modes]\n",
    "all_tracks = {\n",
    "    mode: mpd.Trajectory(\n",
    "        gpd.read_parquet(f\"{tracks_root}/{mode}.parquet\"), traj_id=mode\n",
    "    )\n",
    "    for mode in track_modes\n",
    "}"
   ]
  },
  {
   "cell_type": "code",
   "execution_count": null,
   "id": "3251f426-bbf6-4a42-85a8-88957c91b911",
   "metadata": {
    "tags": []
   },
   "outputs": [],
   "source": [
    "hv.Layout(\n",
    "    [\n",
    "        track.hvplot(c=\"speed\", tiles=\"CartoLight\", title=name, cmap=\"cmo.speed\")\n",
    "        for name, track in all_tracks.items()\n",
    "    ]\n",
    ").cols(2)"
   ]
  }
 ],
 "metadata": {
  "language_info": {
   "codemirror_mode": {
    "name": "ipython",
    "version": 3
   },
   "file_extension": ".py",
   "mimetype": "text/x-python",
   "name": "python",
   "nbconvert_exporter": "python",
   "pygments_lexer": "ipython3"
  }
 },
 "nbformat": 4,
 "nbformat_minor": 5
}
