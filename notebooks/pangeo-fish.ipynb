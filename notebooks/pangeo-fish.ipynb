{
 "cells": [
  {
   "cell_type": "markdown",
   "id": "86e6f639-2455-4f5d-a557-b78b1d821ecf",
   "metadata": {
    "editable": true,
    "slideshow": {
     "slide_type": ""
    },
    "tags": []
   },
   "source": [
    "# **Example Usage of Pangeo-Fish Software**\n",
    "\n",
    "\n",
    "**Overview:**\n",
    "This Jupyter notebook demonstrates the usage of the Pangeo-Fish software, a tool designed for analyzing biologging data in reference to Earth Observation (EO) data. Specifically, it utilizes data employed in the study conducted by M. Gonze et al. titled \"Combining acoustic telemetry with archival tagging to investigate the spatial dynamics of the understudied pollack *Pollachius pollachius*,\" accepted for publication in the Journal of Fish Biology.\n",
    "\n",
    "We showcase the application using the biologging tag 'A19124' attached to a pollack fish, along with reference EO data from the European Union Copernicus Marine Service Information (CMEMS) product 'NORTHWESTSHELF_ANALYSIS_FORECAST_PHY_004_013'. The biologging data consist of Data Storage Tag (DST) and teledetection by acoustic signals, along with release and recapture time and location of the species in question.  Both biologging data and the reference EO data are accessible with https and the access methods are incropolated in this notebook.   \n",
    "\n",
    "\n",
    "\n",
    "**Purpose:**\n",
    "By executing this notebook, users will learn how to set up a workflow for utilizing the Pangeo-Fish software. The workflow consists of 9 steps which are described below:\n",
    "\n",
    "1. **Configure the Notebook:** Prepare the notebook environment for analysis.\n",
    "2. **Compare Reference Model with DST Information:** Analyze and compare data from the reference model with information from the biologging data of the species in question. \n",
    "3. **Regrid the Grid from Reference Model Grid to Healpix Grid:** Transform the grid from the reference model to the Healpix grid for further analysis.\n",
    "4. **Construct Emission Matrix:** Create an emission matrix based on the transformed grid.\n",
    "5. **Compute Additional Emission Probability Matrix:** Calculate an additional emission probability matrix, particularly focusing on teledetection from acoustic signals.\n",
    "6. **Combine and Normalize Emission Matrix:** Merge the emission matrix and normalize it for further processing.\n",
    "7. **Estimate Model Parameters:** Determine the parameters of the model based on the normalized emission matrix.\n",
    "8. **Compute State Probabilities and Tracks:** Calculate the probability distribution of the species in question and compute the tracks.\n",
    "9. **Visualization:** Visualize the results of the analysis for interpretation and insight.\n",
    "\n",
    "Throughout this notebook, users will gain practical experience in setting up and executing a workflow using Pangeo-Fish, enabling them to apply similar methodologies to their own biologging data analysis tasks.\n",
    "\n"
   ]
  },
  {
   "cell_type": "markdown",
   "id": "c535925e-793d-41be-a989-4fae4cdaaa67",
   "metadata": {
    "editable": true,
    "slideshow": {
     "slide_type": ""
    },
    "tags": []
   },
   "source": [
    "## 1. **Configure the Notebook:** Prepare the notebook environment for analysis.\n",
    "\n",
    "In this step, we sets up the notebook environment for analysis. It includes installing necessary packages, importing required libraries, setting up parameters, and configuring the cluster for distributed computing. It also retrieves the tag data needed for analysis.\n",
    "\n",
    "    "
   ]
  },
  {
   "cell_type": "raw",
   "id": "a46fad06-7fb7-400a-b4ad-2ffe14fdf9df",
   "metadata": {
    "editable": true,
    "raw_mimetype": "",
    "slideshow": {
     "slide_type": ""
    },
    "tags": []
   },
   "source": [
    "# Run the following 3 lines of command to install pangeo-fish in the pangeo environment.\n",
    "# Note: These commands install required packages for the analysis.  \n",
    "# You may need to restart your kernel before executing the next cell.\n",
    "#\n",
    "!pip install rich dask_image zstandard xmovie\n",
    "!pip install git+https://github.com/iaocea/xarray-healpy\n",
    "!pip install -e ../."
   ]
  },
  {
   "cell_type": "code",
   "execution_count": null,
   "id": "94ea188b-a3b6-4d00-9cf4-7c99c811f809",
   "metadata": {
    "editable": true,
    "slideshow": {
     "slide_type": ""
    },
    "tags": []
   },
   "outputs": [],
   "source": [
    "# Import necessary libraries and modules.\n",
    "import xarray as xr\n",
    "from pint_xarray import unit_registry as ureg\n",
    "from pangeo_fish.io import open_tag"
   ]
  },
  {
   "cell_type": "code",
   "execution_count": null,
   "id": "f7dd510f-d3d2-4474-a983-2ebac4f13b45",
   "metadata": {
    "editable": true,
    "slideshow": {
     "slide_type": ""
    },
    "tags": [
     "parameters"
    ]
   },
   "outputs": [],
   "source": [
    "#\n",
    "# Set up execution parameters for the analysis.\n",
    "#\n",
    "# Note: This cell is tagged as parameters, allowing automatic updates when configuring with papermil.\n",
    "\n",
    "# tag_name corresponds to the name of the biologging tag name (DST identification number), \n",
    "# which is also a path for storing all the information for the specific fish tagged with tag_name.\n",
    "tag_name = \"A19124\"  \n",
    "\n",
    "# tag_root specifies the root URL for tag data used for this computation.\n",
    "tag_root = \"https://data-taos.ifremer.fr/data_tmp/cleaned/tag/\"\n",
    "\n",
    "# catalog_url specifies the URL for the catalog for reference data used.\n",
    "catalog_url = \"https://data-taos.ifremer.fr/kerchunk/ref-copernicus.yaml\"\n",
    "\n",
    "# scratch_root specifies the root directory for storing output files.\n",
    "scratch_root = \"s3://destine-gfts-data-lake/demo\"\n",
    "\n",
    "# storage_options specifies options for the filesystem storing output files.\n",
    "storage_options = {\n",
    "    'anon': False, \n",
    "    'profile' : \"gfts\",\n",
    "    'client_kwargs': {\n",
    "        \"endpoint_url\": \"https://s3.gra.perf.cloud.ovh.net\",\n",
    "        \"region_name\": \"gra\",\n",
    "    }\n",
    "}\n",
    "\n",
    "# if you are using local file system, activate following two lines\n",
    "# scratch_root = \".\"\n",
    "# storage_options = None\n",
    "\n",
    "# Default chunk value for time dimension.  This values depends on the configuration of your dask cluster.\n",
    "chunk_time=24\n",
    "\n",
    "#\n",
    "# Parameters for step 2. **Compare Reference Model with DST Information:**\n",
    "#\n",
    "# bbox, bounding box, defines the latitude and longitude range for the analysis area.\n",
    "bbox = {\"latitude\": [46, 51], \"longitude\": [-8, -1]} \n",
    "\n",
    "# relative_depth_threshold defines the acceptable fish depth relative to the maximum tag depth.\n",
    "# It determines whether the fish can be considered to be in a certain location based on depth.\n",
    "relative_depth_threshold = 0.8\n",
    "\n",
    "#\n",
    "# Parameters for step 3. **Regrid the Grid from Reference Model Grid to Healpix Grid:** \n",
    "#\n",
    "# nside defines the resolution of the healpix grid used for regridding.\n",
    "nside = 4096 #*2\n",
    "\n",
    "# min_vertices sets the minimum number of vertices for a valid transcription for regridding.\n",
    "min_vertices = 1\n",
    "\n",
    "#\n",
    "# Parameters for step 4. **Construct Emission Matrix:**\n",
    "#\n",
    "# differences_std sets the standard deviation for scipy.stats.norm.pdf.\n",
    "# It expresses the estimated certainty of the field of difference.\n",
    "differences_std = 0.75\n",
    "\n",
    "# recapture_std sets the covariance for recapture event.\n",
    "# It shows the certainty of the final recapture area if it is known.\n",
    "recapture_std = 1e-2\n",
    "\n",
    "# earth_radius defines the radius of the Earth used for distance calculations.\n",
    "earth_radius = ureg.Quantity(6371, \"km\")\n",
    "\n",
    "# maximum_speed sets the maximum allowable speed for the tagged fish.\n",
    "maximum_speed = ureg.Quantity(60, \"km / day\")\n",
    "\n",
    "# adjustment_factor adjusts parameters for a more fuzzy search.\n",
    "# It will factor the allowed maximum displacement of the fish.\n",
    "adjustment_factor = 5  \n",
    "\n",
    "# truncate sets the truncating factor for computed maximum allowed sigma for convolution process.\n",
    "truncate = 4\n",
    "\n",
    "#\n",
    "# Parameters for step 5. **Compute Additional Emission Probability Matrix:**\n",
    "#\n",
    "# receiver_buffer sets the maximum allowed detection distance for acoustic receivers.\n",
    "receiver_buffer = ureg.Quantity(1000, \"m\")\n",
    "\n",
    "#\n",
    "# Parameters for step 7. **Estimate Model Parameters:** \n",
    "#\n",
    "# tolerance sets the tolerance level for optimised parameter serarch computation.\n",
    "tolerance = 1e-3\n",
    "\n",
    "#\n",
    "# Parameters for step 8. **Compute State Probabilities and Tracks:** \n",
    "#\n",
    "# track_modes defines the modes for track calculation.\n",
    "track_modes = [\"mean\", \"mode\"]\n",
    "\n",
    "# additional_track_quantities sets quantities to compute for tracks using moving pandas.\n",
    "additional_track_quantities = [\"speed\", \"distance\"]\n",
    "\n",
    "\n",
    "#\n",
    "# Parameters for step 9. **Visualization:** \n",
    "#\n",
    "# time_step defines for each time_step value we visualize state and emission matrix. \n",
    "time_step = 3\n"
   ]
  },
  {
   "cell_type": "raw",
   "id": "31f36487-8603-489e-a824-511b0b8ab866",
   "metadata": {
    "tags": []
   },
   "source": [
    "storage_options = None\n",
    "tag_root = \"/home/datawork-taos-s/public/data_tmp/cleaned/tag\"\n",
    "tag_root = \"/home/datawork-taos-s/intranet/data/taos/formatted\"\n",
    "tag_name = \"A18879\"  \n",
    "tag_name = \"A19017\"\n",
    "\n",
    "catalog_url = \"/home/datawork-taos-s/intranet/kerchunk/ref-copernicus.yaml\"\n",
    "\n",
    "scratch_root = \"/home/datawork-taos-s/public/fish-intel/bugfixed_00\"\n"
   ]
  },
  {
   "cell_type": "code",
   "execution_count": null,
   "id": "db67df3c-954f-4ed9-b399-5a37ba9fad3d",
   "metadata": {},
   "outputs": [],
   "source": []
  },
  {
   "cell_type": "code",
   "execution_count": null,
   "id": "a6a19e76-606c-4a2f-a93f-b5d2c990823f",
   "metadata": {
    "editable": true,
    "slideshow": {
     "slide_type": ""
    },
    "tags": []
   },
   "outputs": [],
   "source": [
    "# Define target root directories for storing analysis results.\n",
    "target_root = f\"{scratch_root}/{tag_name}\"\n",
    "\n",
    "# Defines default chunk size for optimisation.  \n",
    "default_chunk = {\"time\": chunk_time, \"lat\": -1, \"lon\": -1}\n",
    "default_chunk_xy = {\"time\": chunk_time, \"x\": -1, \"y\": -1}\n"
   ]
  },
  {
   "cell_type": "code",
   "execution_count": null,
   "id": "1268b5c0-b1e8-4d12-b6c9-b3b7aa54f99b",
   "metadata": {
    "editable": true,
    "scrolled": true,
    "slideshow": {
     "slide_type": ""
    },
    "tags": []
   },
   "outputs": [],
   "source": [
    "# Set up a local cluster for distributed computing.\n",
    "from distributed import LocalCluster\n",
    "cluster = LocalCluster()\n",
    "client = cluster.get_client()\n",
    "client"
   ]
  },
  {
   "cell_type": "code",
   "execution_count": null,
   "id": "7b36327a-6842-4e2e-a53d-8e0380a7ad8c",
   "metadata": {
    "tags": []
   },
   "outputs": [],
   "source": [
    "tag_root"
   ]
  },
  {
   "cell_type": "code",
   "execution_count": null,
   "id": "206aeb3c-9684-4eac-80e8-e94939529747",
   "metadata": {
    "editable": true,
    "scrolled": true,
    "slideshow": {
     "slide_type": ""
    },
    "tags": []
   },
   "outputs": [],
   "source": [
    "#Open and retrieve the tag data required for the analysis\n",
    "tag = open_tag(tag_root, tag_name)\n",
    "tag"
   ]
  },
  {
   "cell_type": "markdown",
   "id": "524fe17c-43b2-498b-a06b-91ddfba27b81",
   "metadata": {
    "editable": true,
    "slideshow": {
     "slide_type": ""
    },
    "tags": []
   },
   "source": [
    "## 2. **Compare Reference Model with DST Tag Information:** Analyze and compare data from the reference model with information from the biologging data of the species in question. \n",
    "\n",
    "In this step, we compare the reference model data with Data Storage Tag information.\n",
    "The process involves reading and cleaning the reference model, aligning time, converting depth units, subtracting tag data from the model, and saving the results."
   ]
  },
  {
   "cell_type": "code",
   "execution_count": null,
   "id": "7f50d96f-aac2-4461-8189-53d831310973",
   "metadata": {
    "editable": true,
    "slideshow": {
     "slide_type": ""
    },
    "tags": []
   },
   "outputs": [],
   "source": [
    "# Import necessary libraries\n",
    "import intake\n",
    "from pangeo_fish.cf import bounds_to_bins\n",
    "from pangeo_fish.diff import diff_z\n",
    "from pangeo_fish.io import open_copernicus_catalog\n",
    "from pangeo_fish.tags import adapt_model_time, reshape_by_bins, to_time_slice\n",
    "\n",
    "# Drop data outside the reference interval\n",
    "time_slice = to_time_slice(tag[\"tagging_events/time\"])\n",
    "tag_log = tag[\"dst\"].ds.sel(time=time_slice)\n",
    "\n",
    "# Open and clean reference model\n",
    "cat = intake.open_catalog(catalog_url)\n",
    "model = open_copernicus_catalog(cat)\n",
    "\n",
    "# Subset the reference_model by \n",
    "# - align model time with the time of tag_log, also\n",
    "# - drop data for depth later that are unlikely due to the observed pressure from tag_log\n",
    "# - defined latitude and longitude of bbox.  \n",
    "#\n",
    "reference_model = (\n",
    "    model.sel(time=adapt_model_time(time_slice))\n",
    "    .sel(lat=slice(*bbox[\"latitude\"]), lon=slice(*bbox[\"longitude\"]))\n",
    "    .pipe(\n",
    "        lambda ds: ds.sel(\n",
    "            depth=slice(None, (tag_log[\"pressure\"].max() - ds[\"XE\"].min()).compute())\n",
    "        )\n",
    "    )\n",
    ").chunk({\"time\": chunk_time, \"lat\": -1, \"lon\": -1,\"depth\":-1})\n",
    "reference_model"
   ]
  },
  {
   "cell_type": "code",
   "execution_count": null,
   "id": "9a2694b1-e00d-4f1a-9315-70007becd8a7",
   "metadata": {
    "editable": true,
    "slideshow": {
     "slide_type": ""
    },
    "tags": []
   },
   "outputs": [],
   "source": [
    "%%time\n",
    "# Reshape the tag log, so that it bins to the time step of reference_model\n",
    "reshaped_tag = reshape_by_bins(\n",
    "    tag_log,\n",
    "    dim=\"time\",\n",
    "    bins=(\n",
    "        reference_model.cf.add_bounds([\"time\"], output_dim=\"bounds\")\n",
    "        .pipe(bounds_to_bins, bounds_dim=\"bounds\")\n",
    "        .get(\"time_bins\")\n",
    "    ),\n",
    "    bin_dim=\"bincount\",\n",
    "    other_dim=\"obs\",\n",
    ").chunk({\"time\": chunk_time})"
   ]
  },
  {
   "cell_type": "code",
   "execution_count": null,
   "id": "dbdf5532-14ea-4ff5-834a-813104d73c70",
   "metadata": {
    "tags": []
   },
   "outputs": [],
   "source": [
    "# Verify the data\n",
    "import hvplot.xarray\n",
    "import cmocean\n",
    "from pangeo_fish.io import save_html_hvplot\n",
    "plot=((-tag['dst'].pressure).hvplot(width=1000,height=500,color='blue')*(-tag_log).hvplot.scatter(x='time',y='pressure',color='red',size=5,width=1000,height=500)\n",
    "      *((tag['dst'].temperature).hvplot(width=1000,height=500,color='blue')*(tag_log).hvplot.scatter(x='time',y='temperature',color='red',size=5,width=1000,height=500)))\n",
    "filepath = f\"{target_root}/tags.html\"\n",
    "\n",
    "save_html_hvplot(plot, filepath, storage_options)\n",
    "\n",
    "plot"
   ]
  },
  {
   "cell_type": "code",
   "execution_count": null,
   "id": "47d102fc-0520-4f23-989a-340e79f94395",
   "metadata": {
    "editable": true,
    "slideshow": {
     "slide_type": ""
    },
    "tags": []
   },
   "outputs": [],
   "source": [
    "# Subtract the time_bined tag_log from the reference_model. \n",
    "# Here, for each time_bin, each observed value are compared with the correspoindng depth of reference_model using diff_z function.  \n",
    "#\n",
    "diff = (\n",
    "    diff_z(reference_model, reshaped_tag, depth_threshold=relative_depth_threshold)\n",
    "    .assign_attrs({\"tag_id\": tag_name})\n",
    "    .assign(\n",
    "        {\n",
    "            \"H0\": reference_model[\"H0\"],\n",
    "            \"ocean_mask\": reference_model[\"H0\"].notnull(),\n",
    "        }\n",
    "    )\n",
    ")\n",
    "\n",
    "# Persist the diff data\n",
    "diff = diff.chunk(default_chunk).persist()\n",
    "diff"
   ]
  },
  {
   "cell_type": "code",
   "execution_count": null,
   "id": "74efae4e-53d2-4852-9b20-c5e3028e0c63",
   "metadata": {
    "editable": true,
    "scrolled": true,
    "slideshow": {
     "slide_type": ""
    },
    "tags": []
   },
   "outputs": [],
   "source": [
    "# Verify the data\n",
    "diff[\"diff\"].count([\"lat\", \"lon\"]).plot()"
   ]
  },
  {
   "cell_type": "code",
   "execution_count": null,
   "id": "d4c0325b-523c-4d58-8319-151183bb1376",
   "metadata": {
    "editable": true,
    "slideshow": {
     "slide_type": ""
    },
    "tags": []
   },
   "outputs": [],
   "source": [
    "%%time\n",
    "# Save snapshot to disk\n",
    "diff.to_zarr(\n",
    "    f\"{target_root}/diff.zarr\", mode=\"w\", storage_options=storage_options\n",
    ")\n",
    "\n",
    "# Cleanup\n",
    "del tag_log, cat, model, reference_model, reshaped_tag, diff"
   ]
  },
  {
   "cell_type": "markdown",
   "id": "517857a8-f73f-4627-b628-32e8ed9f1046",
   "metadata": {
    "editable": true,
    "slideshow": {
     "slide_type": ""
    },
    "tags": []
   },
   "source": [
    "## 3. **Regrid the Grid from Reference Model Grid to Healpix Grid:** Transform the grid from the reference model to the Healpix grid for further analysis.\n",
    "\n",
    "In this step, we regrid the data from the reference model grid to a Healpix grid. This process involves defining the Healpix grid, creating the target grid, computing interpolation weights, performing the regridding, and saving the regridded data.\n"
   ]
  },
  {
   "cell_type": "code",
   "execution_count": null,
   "id": "844d775f-73e5-40fc-8d3e-a50b342ccb3f",
   "metadata": {
    "editable": true,
    "slideshow": {
     "slide_type": ""
    },
    "tags": []
   },
   "outputs": [],
   "source": [
    "# Import necessary libraries\n",
    "import numpy as np\n",
    "from xarray_healpy import HealpyGridInfo, HealpyRegridder\n",
    "from pangeo_fish.grid import center_longitude"
   ]
  },
  {
   "cell_type": "code",
   "execution_count": null,
   "id": "01cd261f-a25e-483f-9090-72ed65f621cc",
   "metadata": {
    "editable": true,
    "slideshow": {
     "slide_type": ""
    },
    "tags": []
   },
   "outputs": [],
   "source": [
    "%%time\n",
    "\n",
    "# Open the diff data and performs cleaning operations to prepare it for regridding.\n",
    "\n",
    "ds = (\n",
    "    xr.open_dataset(f\"{target_root}/diff.zarr\", engine=\"zarr\", chunks={},\n",
    "                    storage_options=storage_options)\n",
    "    .pipe(lambda ds: ds.merge(ds[[\"latitude\", \"longitude\"]].compute()))\n",
    "    .swap_dims({\"lat\": \"yi\", \"lon\": \"xi\"})\n",
    "    .drop_vars([\"lat\", \"lon\"])\n",
    ")\n",
    "ds\n"
   ]
  },
  {
   "cell_type": "code",
   "execution_count": null,
   "id": "07db0e3e-9c9a-4274-a894-8556666a2438",
   "metadata": {
    "editable": true,
    "slideshow": {
     "slide_type": ""
    },
    "tags": []
   },
   "outputs": [],
   "source": [
    "%%time\n",
    "# Define the target Healpix grid information\n",
    "grid = HealpyGridInfo(level=int(np.log2(nside)))\n",
    "target_grid = grid.target_grid(ds).pipe(center_longitude, 0)\n",
    "target_grid"
   ]
  },
  {
   "cell_type": "code",
   "execution_count": null,
   "id": "f56410ac-7d35-478c-a201-cca8079032a2",
   "metadata": {
    "editable": true,
    "slideshow": {
     "slide_type": ""
    },
    "tags": []
   },
   "outputs": [],
   "source": [
    "%%time\n",
    "# Compute the interpolation weights for regridding the diff data\n",
    "regridder = HealpyRegridder(\n",
    "    ds[[\"longitude\", \"latitude\", \"ocean_mask\"]],\n",
    "    target_grid,\n",
    "    method=\"bilinear\",\n",
    "    interpolation_kwargs={\"mask\": \"ocean_mask\", \"min_vertices\": min_vertices},\n",
    ")\n",
    "regridder\n"
   ]
  },
  {
   "cell_type": "code",
   "execution_count": null,
   "id": "0516c5cd-cfc1-400c-803c-5a5850af3b49",
   "metadata": {
    "editable": true,
    "slideshow": {
     "slide_type": ""
    },
    "tags": []
   },
   "outputs": [],
   "source": [
    "%%time\n",
    "# Perform the regridding operation using the computed interpolation weights.\n",
    "regridded = regridder.regrid_ds(ds)\n",
    "regridded"
   ]
  },
  {
   "cell_type": "code",
   "execution_count": null,
   "id": "14c1c5f4-9bbc-49b6-a5f5-e26c48563823",
   "metadata": {
    "editable": true,
    "slideshow": {
     "slide_type": ""
    },
    "tags": []
   },
   "outputs": [],
   "source": [
    "%%time\n",
    "# Reshape the regridded data to 2D\n",
    "reshaped = grid.to_2d(regridded).pipe(center_longitude, 0)\n",
    "reshaped = reshaped.persist()\n",
    "reshaped\n"
   ]
  },
  {
   "cell_type": "code",
   "execution_count": null,
   "id": "5713698c-1e41-4a61-8db4-2e25fe5e795d",
   "metadata": {
    "editable": true,
    "slideshow": {
     "slide_type": ""
    },
    "tags": []
   },
   "outputs": [],
   "source": [
    "# This cell verifies the regridded data by plotting the count of non-NaN values.\n",
    "reshaped[\"diff\"].count([\"x\", \"y\"]).plot()"
   ]
  },
  {
   "cell_type": "code",
   "execution_count": null,
   "id": "16bc2531-c9cc-4d86-9714-89fcfb345d1e",
   "metadata": {
    "editable": true,
    "slideshow": {
     "slide_type": ""
    },
    "tags": []
   },
   "outputs": [],
   "source": [
    "%%time\n",
    "# This cell saves the regridded data to Zarr format, then cleans up unnecessary variables to free up memory after the regridding process.  \n",
    "reshaped.chunk(default_chunk_xy).to_zarr(\n",
    "    f\"{target_root}/diff-regridded.zarr\",\n",
    "    mode=\"w\",\n",
    "    consolidated=True,\n",
    "    compute=True,\n",
    "    storage_options=storage_options,\n",
    ")\n",
    "# Cleanup unnecessary variables to free up memory\n",
    "del ds, grid, target_grid, regridder, regridded, reshaped"
   ]
  },
  {
   "cell_type": "markdown",
   "id": "3a8b02c2-827e-4e0e-bf36-1e1a8187edcc",
   "metadata": {
    "editable": true,
    "slideshow": {
     "slide_type": ""
    },
    "tags": []
   },
   "source": [
    "## 4. **Construct Emission Matrix:** Create an emission matrix based on the transformed grid.\n",
    "\n",
    "In this step, we construct the emission probability matrix based on the differences between the observed tag temperature and the reference sea temperature computed in Workflow 2 and regridded in Workflow 3. The emission probability matrix represents the likelihood of observing a specific temperature difference given the model parameters and configurations.\n"
   ]
  },
  {
   "cell_type": "code",
   "execution_count": null,
   "id": "1f68e324-396d-4433-9955-b0ca96f9cd55",
   "metadata": {
    "editable": true,
    "slideshow": {
     "slide_type": ""
    },
    "tags": []
   },
   "outputs": [],
   "source": [
    "# Import necessary libraries\n",
    "from toolz.dicttoolz import valfilter\n",
    "from pangeo_fish.distributions import create_covariances, normal_at\n",
    "from pangeo_fish.pdf import normal\n"
   ]
  },
  {
   "cell_type": "code",
   "execution_count": null,
   "id": "5d4b5abc-e758-4512-adac-9108e8947ee8",
   "metadata": {
    "editable": true,
    "scrolled": true,
    "slideshow": {
     "slide_type": ""
    },
    "tags": []
   },
   "outputs": [],
   "source": [
    "%%time\n",
    "# Open the regridded diff data \n",
    "differences = xr.open_dataset(\n",
    "    f\"{target_root}/diff-regridded.zarr\",\n",
    "    engine=\"zarr\",\n",
    "    chunks={},\n",
    "    storage_options=storage_options,\n",
    ").pipe(lambda ds: ds.merge(ds[[\"latitude\", \"longitude\"]].compute()))\n",
    "differences"
   ]
  },
  {
   "cell_type": "code",
   "execution_count": null,
   "id": "adfdc4e0-1a5b-48ac-82c1-3ce99fc3c8e4",
   "metadata": {
    "editable": true,
    "slideshow": {
     "slide_type": ""
    },
    "tags": []
   },
   "outputs": [],
   "source": [
    "%%time\n",
    "# Compute initial and final position\n",
    "grid = differences[[\"latitude\", \"longitude\"]].compute()\n",
    "\n",
    "initial_position = tag[\"tagging_events\"].ds.sel(event_name=\"release\")\n",
    "cov = create_covariances(1e-6, coord_names=[\"latitude\", \"longitude\"])\n",
    "initial_probability = normal_at(\n",
    "    grid, pos=initial_position, cov=cov, normalize=True, axes=[\"latitude\", \"longitude\"]\n",
    ")\n",
    "\n",
    "final_position = tag[\"tagging_events\"].ds.sel(event_name=\"fish_death\")\n",
    "if final_position[[\"longitude\", \"latitude\"]].to_dataarray().isnull().all():\n",
    "    final_probability = None\n",
    "else:\n",
    "    cov = create_covariances(recapture_std**2, coord_names=[\"latitude\", \"longitude\"])\n",
    "    final_probability = normal_at(\n",
    "        grid,\n",
    "        pos=final_position,\n",
    "        cov=cov,\n",
    "        normalize=True,\n",
    "        axes=[\"latitude\", \"longitude\"],\n",
    "    )\n"
   ]
  },
  {
   "cell_type": "code",
   "execution_count": null,
   "id": "f8c066be-cec3-4ab4-96aa-c557f8e00192",
   "metadata": {
    "editable": true,
    "slideshow": {
     "slide_type": ""
    },
    "tags": []
   },
   "outputs": [],
   "source": [
    "%%time\n",
    "#compute emission probability matrix\n",
    "\n",
    "emission_pdf = (\n",
    "    normal(differences[\"diff\"], mean=0, std=differences_std, dims=[\"y\", \"x\"])\n",
    "    .to_dataset(name=\"pdf\")\n",
    "    .assign(\n",
    "        valfilter(\n",
    "            lambda x: x is not None,\n",
    "            {\n",
    "                \"initial\": initial_probability,\n",
    "                \"final\": final_probability,\n",
    "                \"mask\": differences[\"ocean_mask\"],\n",
    "            },\n",
    "        )\n",
    "    )\n",
    "    .assign_attrs(differences.attrs )#| {\"max_sigma\": max_sigma})\n",
    ")\n",
    "\n",
    "emission_pdf=emission_pdf.chunk(default_chunk_xy).persist()\n",
    "emission_pdf"
   ]
  },
  {
   "cell_type": "code",
   "execution_count": null,
   "id": "fbe63b9d-dfdc-4370-8def-57a80efcb17c",
   "metadata": {
    "editable": true,
    "slideshow": {
     "slide_type": ""
    },
    "tags": []
   },
   "outputs": [],
   "source": [
    "#Verify the data\n",
    "emission_pdf[\"pdf\"].count([\"x\", \"y\"]).plot()"
   ]
  },
  {
   "cell_type": "code",
   "execution_count": null,
   "id": "5a59d9e9-95ad-4611-9eec-776fcb82c329",
   "metadata": {
    "editable": true,
    "slideshow": {
     "slide_type": ""
    },
    "tags": []
   },
   "outputs": [],
   "source": [
    "# This cell saves the emission data to Zarr format, then cleans up unnecessary variables to free up memory.\n",
    "\n",
    "emission_pdf.to_zarr(\n",
    "    f\"{target_root}/emission.zarr\", mode=\"w\", consolidated=True,\n",
    "    storage_options=storage_options,\n",
    ")\n",
    "\n",
    "\n",
    "del differences, grid, initial_probability, final_probability, emission_pdf"
   ]
  },
  {
   "cell_type": "markdown",
   "id": "cc00b914-1f62-4d50-bbf2-0670368bfd06",
   "metadata": {
    "editable": true,
    "slideshow": {
     "slide_type": ""
    },
    "tags": []
   },
   "source": [
    "## 5. **Compute Additional Emission Probability Matrix:** Calculate an additional emission probability matrix, particularly focusing on teledetection from acoustic signals.\n",
    "\n",
    "In this step, we compute additional emission probabilities based on acoustic detections for the selected tag. These additional probabilities enhance the emission probability matrix constructed in step 4 by incorporating information from acoustic telemetry."
   ]
  },
  {
   "cell_type": "code",
   "execution_count": null,
   "id": "1a0d2398-bf16-48df-91a6-1d336da19d77",
   "metadata": {
    "editable": true,
    "scrolled": true,
    "slideshow": {
     "slide_type": ""
    },
    "tags": []
   },
   "outputs": [],
   "source": [
    "%%time \n",
    "# Import necessary libraries and open data and perform initial setup\n",
    "from pangeo_fish import acoustic, utils\n",
    "import hvplot.xarray\n",
    "emission = xr.open_dataset(\n",
    "    f\"{target_root}/emission.zarr\", engine=\"zarr\", chunks={},#\"x\": -1, \"y\": -1},\n",
    "    storage_options=storage_options,\n",
    ")\n",
    "emission"
   ]
  },
  {
   "cell_type": "code",
   "execution_count": null,
   "id": "7bcf9542-6b10-4d1b-860c-e6939516566c",
   "metadata": {
    "editable": true,
    "slideshow": {
     "slide_type": ""
    },
    "tags": []
   },
   "outputs": [],
   "source": [
    "# Construct the emission probabilities based on acoustic detections\n",
    "\n",
    "acoustic_pdf = acoustic.emission_probability(\n",
    "    tag, \n",
    "    emission[[\"time\", \"cell_ids\", \"mask\"]].compute(), \n",
    "    receiver_buffer,\n",
    "    nondetections=\"mask\",\n",
    ")\n",
    "acoustic_pdf=acoustic_pdf.persist()\n",
    "acoustic_pdf"
   ]
  },
  {
   "cell_type": "code",
   "execution_count": null,
   "id": "493bde96-9b26-4dc7-894d-0f7926dc937c",
   "metadata": {
    "editable": true,
    "slideshow": {
     "slide_type": ""
    },
    "tags": []
   },
   "outputs": [],
   "source": [
    "# Verify the data and visualize the acoustic detections\n",
    "tag['acoustic'][\"deployment_id\"].hvplot.scatter(\n",
    "    c='red',marker='x')*(\n",
    "    acoustic_pdf['acoustic'] != 0).sum(dim=('y', 'x')).hvplot()"
   ]
  },
  {
   "cell_type": "code",
   "execution_count": null,
   "id": "7db576e9-7d02-4be6-8075-83605c2ad343",
   "metadata": {},
   "outputs": [],
   "source": [
    "acoustic_pdf['acoustic'].count(dim=('y', 'x')).hvplot()"
   ]
  },
  {
   "cell_type": "code",
   "execution_count": null,
   "id": "f7a631b8-0b3f-4519-92d5-3e418be6f5ef",
   "metadata": {
    "editable": true,
    "slideshow": {
     "slide_type": ""
    },
    "tags": []
   },
   "outputs": [],
   "source": [
    "# Merge and save the combined emission probability matrix with acoustic probabilities\n",
    "\n",
    "combined = emission.merge(acoustic_pdf)\n",
    "combined"
   ]
  },
  {
   "cell_type": "code",
   "execution_count": null,
   "id": "3a7f717c-51d4-4169-acb5-be6a6f42c505",
   "metadata": {
    "editable": true,
    "slideshow": {
     "slide_type": ""
    },
    "tags": []
   },
   "outputs": [],
   "source": [
    "# This cell saves the emission data to Zarr format, then cleans up unnecessary variables to free up memory.\n",
    "\n",
    "combined.to_zarr(\n",
    "    f\"{target_root}/emission_acoustic.zarr\", mode=\"w\", consolidated=True,    \n",
    "    storage_options=storage_options    \n",
    ")\n",
    "#cleanup\n",
    "\n",
    "del emission, acoustic_pdf, combined"
   ]
  },
  {
   "cell_type": "markdown",
   "id": "ff35d52d-6caa-4cab-92b7-d796020862a1",
   "metadata": {
    "editable": true,
    "slideshow": {
     "slide_type": ""
    },
    "tags": []
   },
   "source": [
    "## 6. **Combine and Normalize Emission Matrix:** Merge the emission matrix and normalize it for further processing.\n",
    "\n",
    "In this step, we combine the emission probability matrix constructed in Workflow 4 and 5 then normalize it to ensure that the probabilities sum up to one. This step prepares the combined emission matrix for further analysis and interpretation.\n"
   ]
  },
  {
   "cell_type": "code",
   "execution_count": null,
   "id": "5d5ca63d-35e9-4a55-af45-52cea678be17",
   "metadata": {
    "editable": true,
    "slideshow": {
     "slide_type": ""
    },
    "tags": []
   },
   "outputs": [],
   "source": [
    "# Import necessary libraries \n",
    "from pangeo_fish.pdf import combine_emission_pdf\n",
    "import hvplot.xarray"
   ]
  },
  {
   "cell_type": "code",
   "execution_count": null,
   "id": "a3d5c93e-1045-4b57-a148-597a6bfc5727",
   "metadata": {
    "editable": true,
    "scrolled": true,
    "slideshow": {
     "slide_type": ""
    },
    "tags": []
   },
   "outputs": [],
   "source": [
    "# Open and combine the emission probability matrix\n",
    "\n",
    "combined = (\n",
    "    xr.open_dataset(\n",
    "        f\"{target_root}/emission_acoustic.zarr\",\n",
    "        engine=\"zarr\",\n",
    "        chunks=default_chunk_xy,\n",
    "        inline_array=True,\n",
    "        storage_options=storage_options          \n",
    "    )\n",
    "    .pipe(combine_emission_pdf)\n",
    "    .chunk(default_chunk_xy)\n",
    "    .persist()  # convert to comment if the emission matrix does *not* fit in memory\n",
    ")\n",
    "combined"
   ]
  },
  {
   "cell_type": "code",
   "execution_count": null,
   "id": "44f6b86e-1d62-402e-a72d-6604a66fa18d",
   "metadata": {
    "editable": true,
    "scrolled": true,
    "slideshow": {
     "slide_type": ""
    },
    "tags": []
   },
   "outputs": [],
   "source": [
    "# Verify the data and visualize the sum of probabilities\n",
    "combined[\"pdf\"].sum([\"x\", \"y\"]).hvplot(width=400)"
   ]
  },
  {
   "cell_type": "code",
   "execution_count": null,
   "id": "c31505f9-122d-4280-9c29-7cea21cc6e1c",
   "metadata": {
    "editable": true,
    "scrolled": true,
    "slideshow": {
     "slide_type": ""
    },
    "tags": []
   },
   "outputs": [],
   "source": [
    "# Save the combined and normalized emission matrix\n",
    "combined.to_zarr(\n",
    "    f\"{target_root}/combined.zarr\", mode=\"w\", consolidated=True,\n",
    "    storage_options=storage_options    \n",
    ")\n",
    "del combined"
   ]
  },
  {
   "cell_type": "markdown",
   "id": "66f79d0a-c196-4cd1-9f3f-a7d745417dac",
   "metadata": {
    "editable": true,
    "slideshow": {
     "slide_type": ""
    },
    "tags": []
   },
   "source": [
    "## 7. **Estimate Model Parameters:** Determine the parameters of the model based on the normalized emission matrix.\n",
    "\n",
    "This step first estimates maxixmum allowed value of  model parameter 'sigma' max_sigma.  Then we\n",
    "create an optimizer with an expected parameter range, fitting the model to the normalized emission matrix.  \n",
    "The resulting optimized parameters is saved to a json file.  "
   ]
  },
  {
   "cell_type": "code",
   "execution_count": null,
   "id": "4e8335be-41d5-470b-bee7-8f9d09db5e1f",
   "metadata": {
    "editable": true,
    "scrolled": true,
    "slideshow": {
     "slide_type": ""
    },
    "tags": []
   },
   "outputs": [],
   "source": [
    "# Import necessary libraries and modules for data analysis.\n",
    "import xarray as xr\n",
    "import pandas as pd\n",
    "from pangeo_fish.hmm.estimator import EagerScoreEstimator\n",
    "from pangeo_fish.hmm.optimize import EagerBoundsSearch\n",
    "from pangeo_fish.utils import temporal_resolution\n",
    "# Open the data\n",
    "emission = (\n",
    "    xr.open_dataset(\n",
    "        f\"{target_root}/combined.zarr\",\n",
    "        engine=\"zarr\",\n",
    "        chunks={},\n",
    "        inline_array=True,\n",
    "        storage_options=storage_options            \n",
    "    )\n",
    ")\n",
    "emission"
   ]
  },
  {
   "cell_type": "code",
   "execution_count": null,
   "id": "dccac4fe-cf28-403c-a00b-b78b8cf0e0be",
   "metadata": {
    "editable": true,
    "slideshow": {
     "slide_type": ""
    },
    "tags": []
   },
   "outputs": [],
   "source": [
    "# Compute maximum displacement for each reference model time step\n",
    "# and estimate maximum sigma value for limiting the optimisation step\n",
    "\n",
    "earth_radius_ = xr.DataArray(earth_radius, dims=None)\n",
    "\n",
    "timedelta = temporal_resolution(emission[\"time\"]).pint.quantify().pint.to(\"h\")\n",
    "grid_resolution = earth_radius_ * emission[\"resolution\"].pint.quantify()\n",
    "\n",
    "maximum_speed_ = xr.DataArray(maximum_speed, dims=None).pint.to(\"km / h\")\n",
    "max_grid_displacement = maximum_speed_ * timedelta * adjustment_factor / grid_resolution\n",
    "max_sigma = max_grid_displacement.pint.to(\"dimensionless\").pint.magnitude / truncate\n",
    "emission.attrs[\"max_sigma\"]=max_sigma\n",
    "max_sigma"
   ]
  },
  {
   "cell_type": "code",
   "execution_count": null,
   "id": "83bffb27-7bb0-4a3d-abd1-ab7d41d80f4a",
   "metadata": {
    "editable": true,
    "slideshow": {
     "slide_type": ""
    },
    "tags": []
   },
   "outputs": [],
   "source": [
    "# Create and configure estimator and optimizer\n",
    "emission = emission.compute()  # Convert to comment if the emission matrix does *not* fit in memory\n",
    "estimator = EagerScoreEstimator()\n",
    "optimizer = EagerBoundsSearch(\n",
    "    estimator,\n",
    "    (1e-4, emission.attrs[\"max_sigma\"]),\n",
    "    optimizer_kwargs={\"disp\": 3, \"xtol\": tolerance},\n",
    ")"
   ]
  },
  {
   "cell_type": "code",
   "execution_count": null,
   "id": "7706e4c4-6825-4640-96db-3b721197ff12",
   "metadata": {
    "editable": true,
    "scrolled": true,
    "slideshow": {
     "slide_type": ""
    },
    "tags": []
   },
   "outputs": [],
   "source": [
    "%%time\n",
    "# Fit the model parameter to the data\n",
    "optimized = optimizer.fit(emission)"
   ]
  },
  {
   "cell_type": "code",
   "execution_count": null,
   "id": "61d228ec-3653-4aac-a58b-630a1f436f34",
   "metadata": {},
   "outputs": [],
   "source": [
    "# Save the optimized parameters\n",
    "params=optimized.to_dict()\n",
    "pd.DataFrame.from_dict(params, orient='index').to_json(f\"{target_root}/parameters.json\", \n",
    "                                                               storage_options=storage_options    )       "
   ]
  },
  {
   "cell_type": "code",
   "execution_count": null,
   "id": "9763d257-f9cd-40e6-8847-56afca0cae10",
   "metadata": {},
   "outputs": [],
   "source": [
    "# Cleanup\n",
    "del optimized,  emission "
   ]
  },
  {
   "cell_type": "markdown",
   "id": "d2795b7d-c67f-494d-a337-4640e496f606",
   "metadata": {},
   "source": [
    "## 8. **Compute State Probabilities and Tracks:** Calculate the probability distribution of the species in question and compute the tracks.\n",
    "\n",
    "This step involves predicting state probabilities using the optimised parameter sigma computed in the last step together with normalized emission matrix.  "
   ]
  },
  {
   "cell_type": "code",
   "execution_count": null,
   "id": "863ec27c-bb42-43de-8138-8f2f878c73be",
   "metadata": {},
   "outputs": [],
   "source": [
    "# Import necessary libraries and modules for data analysis.\n",
    "import xarray as xr\n",
    "import pandas as pd\n",
    "import hvplot.xarray\n",
    "from pangeo_fish.hmm.estimator import EagerScoreEstimator\n",
    "from pangeo_fish.io import save_trajectories\n",
    "\n",
    "# Recreate the Estimator\n",
    "params=pd.read_json(f\"{target_root}/parameters.json\", storage_options=storage_options    ).to_dict()[0]\n",
    "optimized = EagerScoreEstimator(**params)\n",
    "optimized"
   ]
  },
  {
   "cell_type": "code",
   "execution_count": null,
   "id": "a471abe4-5e9a-4402-b9dd-8e8a9463ef05",
   "metadata": {
    "scrolled": true
   },
   "outputs": [],
   "source": [
    "%%time\n",
    "# Load the Data\n",
    "emission = (\n",
    "    xr.open_dataset(\n",
    "        f\"{target_root}/combined.zarr\",\n",
    "        engine=\"zarr\",\n",
    "        chunks=default_chunk_xy,\n",
    "        inline_array=True,\n",
    "        storage_options=storage_options            \n",
    "    ).compute()\n",
    ")\n",
    "\n",
    "# Predict the State Probabilities\n",
    "\n",
    "states = optimized.predict_proba(emission)\n",
    "states = states.to_dataset().chunk(default_chunk_xy).persist()\n",
    "states"
   ]
  },
  {
   "cell_type": "code",
   "execution_count": null,
   "id": "3a54bd04-6a87-4103-815b-83fa1ed48562",
   "metadata": {},
   "outputs": [],
   "source": [
    "# Verify the data and visualize the sum of probabilities\n",
    "states.sum([\"x\", \"y\"]).hvplot() +states.count([\"x\", \"y\"]).hvplot()"
   ]
  },
  {
   "cell_type": "code",
   "execution_count": null,
   "id": "6d75e225-7026-41a9-9af2-30e032b658e1",
   "metadata": {},
   "outputs": [],
   "source": [
    "%%time\n",
    "# Save probability distirbution, state matrix.  \n",
    "states.chunk(default_chunk_xy).to_zarr(\n",
    "    f\"{target_root}/states.zarr\", mode=\"w\", consolidated=True,  \n",
    "        storage_options=storage_options                \n",
    ")"
   ]
  },
  {
   "cell_type": "code",
   "execution_count": null,
   "id": "66289339-fc81-4947-a64e-ff36c1d14b06",
   "metadata": {},
   "outputs": [],
   "source": [
    "%%time \n",
    "#decode tracks\n",
    "\n",
    "trajectories = optimized.decode(\n",
    "    emission,\n",
    "    states.fillna(0),\n",
    "    mode=track_modes,\n",
    "    progress=False,\n",
    "    additional_quantities=additional_track_quantities,\n",
    ")\n",
    "trajectories"
   ]
  },
  {
   "cell_type": "code",
   "execution_count": null,
   "id": "dcbcad62-73c3-437c-997a-a01cf0e5ea75",
   "metadata": {},
   "outputs": [],
   "source": [
    "# Save trajectories. \n",
    "# Here we can chose format parquet for loading files from 'R'\n",
    "# or chose to  format 'geoparquet' for further analysis of tracks using \n",
    "# geopands. \n",
    "\n",
    "save_trajectories(trajectories, target_root,storage_options, format=\"parquet\")"
   ]
  },
  {
   "cell_type": "code",
   "execution_count": null,
   "id": "46330036-1044-4820-91ad-2324bc66edbe",
   "metadata": {},
   "outputs": [],
   "source": [
    "# Cleanup\n",
    "del optimized,  emission, states, trajectories"
   ]
  },
  {
   "cell_type": "markdown",
   "id": "71b55dbb-d709-4297-af4e-d527d03c2a99",
   "metadata": {},
   "source": [
    "## 9. **Visualization:** Visualize the results of the analysis for interpretation and insight.\n",
    "\n",
    "\n",
    "In this step, we visualize various aspects of the analysis results to gain insights and interpret the model outcomes. We plot the emission matrix, which represents the likelihood of observing a specific temperature difference given the model parameters and configurations. Additionally, we visualize the state probabilities, showing the likelihood of the system being in different states at each time step. We also plot each of the tracks of the tagged fish, displaying their movement patterns over time. Finally, we create a movie that combines the emission matrix and state probabilities to provide a comprehensive visualization of the analysis results.\n"
   ]
  },
  {
   "cell_type": "code",
   "execution_count": null,
   "id": "b95116a3-2fac-4457-bd2e-5e103bab4f4d",
   "metadata": {},
   "outputs": [],
   "source": [
    "# Import necessary libraries\n",
    "import holoviews as hv\n",
    "import hvplot.xarray\n",
    "import cmocean\n",
    "import xmovie\n",
    "from pangeo_fish import visualization\n",
    "from pangeo_fish.io import read_trajectories, save_html_hvplot"
   ]
  },
  {
   "cell_type": "code",
   "execution_count": null,
   "id": "7de587ce-0064-4b27-a0ea-d6cc35e685a7",
   "metadata": {},
   "outputs": [],
   "source": [
    "# load trajectories \n",
    "trajectories = read_trajectories( track_modes,target_root,storage_options, format=\"parquet\")"
   ]
  },
  {
   "cell_type": "code",
   "execution_count": null,
   "id": "ad9a2063-17ff-4085-9ce9-2b9d27984472",
   "metadata": {},
   "outputs": [],
   "source": [
    "# Plot trajectoriesand plot.  \n",
    "\n",
    "plots = [\n",
    "    traj.hvplot(c=\"speed\", tiles=\"CartoLight\", title=traj.id, cmap=\"cmo.speed\"\n",
    "#                ,xlim=bbox['longitude'],        ylim=bbox['latitude']\n",
    "                ,width=300,height=300)\n",
    "    for traj in trajectories.trajectories\n",
    "]\n",
    "plot=hv.Layout(plots).cols(2)\n",
    "\n",
    "filepath = f\"{target_root}/trajectories.html\"\n",
    "save_html_hvplot(plot, filepath, storage_options)\n",
    "\n",
    "plot"
   ]
  },
  {
   "cell_type": "code",
   "execution_count": null,
   "id": "d60cc66f-9b49-4eac-a907-e5ed2d9834d9",
   "metadata": {
    "scrolled": true
   },
   "outputs": [],
   "source": [
    "# load files for plotting\n",
    "\n",
    "emission = (\n",
    "    xr.open_dataset(\n",
    "        f\"{target_root}/combined.zarr\",\n",
    "        engine=\"zarr\",\n",
    "        chunks={},\n",
    "        inline_array=True,\n",
    "        storage_options=storage_options,\n",
    "    )\n",
    "    .rename_vars({\"pdf\": \"emission\"})\n",
    "    .drop_vars([\"final\", \"initial\"])\n",
    ")#.where(emission[\"mask\"])\n",
    "states = (\n",
    "    xr.open_dataset(\n",
    "        f\"{target_root}/states.zarr\", \n",
    "        engine=\"zarr\", \n",
    "        chunks={}, \n",
    "        inline_array=True,\n",
    "        storage_options=storage_options,\n",
    "    ).where(emission[\"mask\"])\n",
    ")\n",
    "data = xr.merge([states, emission.drop_vars([\"mask\"])])\n"
   ]
  },
  {
   "cell_type": "code",
   "execution_count": null,
   "id": "8bdd47a3-bc01-4fd5-a2cf-57851f2ec9ab",
   "metadata": {
    "scrolled": true
   },
   "outputs": [],
   "source": [
    "%%time\n",
    "# visualize states and emission matrix.  Save the visualisation in an html file.  \n",
    "# \n",
    "plot1 = visualization.plot_map(data[\"states\"],bbox)\n",
    "plot2 = visualization.plot_map(data[\"emission\"],bbox)\n",
    "plot=hv.Layout([plot1, plot2]).cols(2)\n",
    "filepath = f\"{target_root}/states_emission.html\"\n",
    "\n",
    "save_html_hvplot(plot, filepath, storage_options)\n",
    "\n",
    "plot"
   ]
  },
  {
   "cell_type": "code",
   "execution_count": null,
   "id": "7f9b9b5d-3c1e-41d0-a21d-07cc43060ca7",
   "metadata": {},
   "outputs": [],
   "source": [
    "%%time\n",
    "## Create Movies \n",
    "#\n",
    "mov = xmovie.Movie(\n",
    "    (data\n",
    "     .isel(time=slice(0,data.time.size-1,time_step))\n",
    "     .chunk({\"time\": 1, \"x\": -1, \"y\": -1})\n",
    "     .pipe(lambda ds: ds.merge(ds[[\"longitude\", \"latitude\"]].compute())))\n",
    "    .pipe(\n",
    "        visualization.filter_by_states\n",
    "    ),\n",
    "    plotfunc=visualization.create_frame,\n",
    "    input_check=False,\n",
    "    pixelwidth=15 * 400,\n",
    "    pixelheight=12 * 400,\n",
    "    dpi=400,\n",
    ")"
   ]
  },
  {
   "cell_type": "code",
   "execution_count": null,
   "id": "d3ca3a2d-77bf-40fc-aee8-8a7f35fc7503",
   "metadata": {},
   "outputs": [],
   "source": [
    "## with s3fs, this does not work due to https://github.com/jbusecke/xmovie/issues/162\n",
    "# use local file system\n",
    "#!mkdir movie\n",
    "#mov.save(f\"./movie/states.mp4\", parallel=True, overwrite_existing=True, )\n",
    "mov.save(f\"{target_root}/states.mp4\", parallel=True, overwrite_existing=True, )"
   ]
  }
 ],
 "metadata": {
  "kernelspec": {
   "display_name": "Python 3 (ipykernel)",
   "language": "python",
   "name": "python3"
  },
  "language_info": {
   "codemirror_mode": {
    "name": "ipython",
    "version": 3
   },
   "file_extension": ".py",
   "mimetype": "text/x-python",
   "name": "python",
   "nbconvert_exporter": "python",
   "pygments_lexer": "ipython3",
   "version": "3.11.7"
  }
 },
 "nbformat": 4,
 "nbformat_minor": 5
}
