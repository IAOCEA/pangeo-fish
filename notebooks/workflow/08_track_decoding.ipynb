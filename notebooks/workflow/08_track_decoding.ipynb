{
 "cells": [
  {
   "cell_type": "markdown",
   "id": "4500c524-65cf-4edc-a7ba-0c06cf8c9619",
   "metadata": {
    "tags": []
   },
   "source": [
    "# track decoding\n",
    "\n",
    "With the model parameter $\\sigma$ estimated, we can proceed to estimating tracks.\n",
    "\n",
    "There's multiple different ways:\n",
    "- mean track\n",
    "- mode track\n",
    "- most probable track\n",
    "\n",
    "Of all of these, the most probable track is the most meaningful one."
   ]
  },
  {
   "cell_type": "code",
   "execution_count": null,
   "id": "419f0a40-b314-4d48-8b00-8417b5fd4bef",
   "metadata": {
    "tags": []
   },
   "outputs": [],
   "source": [
    "import xarray as xr\n",
    "import fsspec\n",
    "import json\n",
    "\n",
    "from pangeo_fish.hmm.estimator import EagerScoreEstimator\n",
    "from pangeo_fish import tracks\n",
    "from pangeo_fish.pdf import combine_emission_pdf"
   ]
  },
  {
   "cell_type": "markdown",
   "id": "6d49a497-7052-47e1-9a53-35294251b7ea",
   "metadata": {},
   "source": [
    "parametrize with [papermill](https://papermill.readthedocs.io/en/latest/)"
   ]
  },
  {
   "cell_type": "code",
   "execution_count": null,
   "id": "85f796a8-7430-4f54-9106-d99c7e6271e0",
   "metadata": {
    "tags": []
   },
   "outputs": [],
   "source": [
    "emission_path: str\n",
    "parameter_path: str\n",
    "\n",
    "track_modes: str | list = [\"mean\", \"mode\", \"viterbi\"]\n",
    "additional_track_quantities: str | list = [\"speed\", \"distance\"]\n",
    "\n",
    "states_path: str | None\n",
    "tracks_root: str\n",
    "\n",
    "scheduler_address: str | None = None"
   ]
  },
  {
   "cell_type": "markdown",
   "id": "4c95403b-2248-4b3d-8972-2ac672ccf1fa",
   "metadata": {},
   "source": [
    "create dask cluster"
   ]
  },
  {
   "cell_type": "code",
   "execution_count": null,
   "id": "b04b1bd3-4a48-4b4f-a453-294a5e81e2ce",
   "metadata": {
    "tags": []
   },
   "outputs": [],
   "source": [
    "from distributed import Client, LocalCluster\n",
    "\n",
    "if scheduler_address is None:\n",
    "    cluster = LocalCluster()\n",
    "    client = cluster.get_client()\n",
    "else:\n",
    "    client = Client(scheduler_address)\n",
    "client"
   ]
  },
  {
   "cell_type": "markdown",
   "id": "31b58cf1-742d-4eee-8912-75812daa11e6",
   "metadata": {},
   "source": [
    "open emission probabilities"
   ]
  },
  {
   "cell_type": "code",
   "execution_count": null,
   "id": "513cfd27-bd25-4f8d-826d-ebb8c7af14a9",
   "metadata": {
    "tags": []
   },
   "outputs": [],
   "source": [
    "emission = (\n",
    "    xr.open_dataset(emission_path, engine=\"zarr\", chunks={}, inline_array=True)\n",
    "    .pipe(combine_emission_pdf)\n",
    "    .drop_vars(\"resolution\")\n",
    ")\n",
    "emission"
   ]
  },
  {
   "cell_type": "markdown",
   "id": "afbb9e43-5153-43ff-b565-016dff687e53",
   "metadata": {},
   "source": [
    "open state probabilities"
   ]
  },
  {
   "cell_type": "code",
   "execution_count": null,
   "id": "8b9676f7-85cc-4570-b586-f1aef74cb8eb",
   "metadata": {
    "tags": []
   },
   "outputs": [],
   "source": [
    "%%time\n",
    "if states_path is not None:\n",
    "    states = xr.open_dataset(states_path, engine=\"zarr\", chunks={}, inline_array=True)\n",
    "else:\n",
    "    states = None\n",
    "states"
   ]
  },
  {
   "cell_type": "markdown",
   "id": "8d646737-fcfa-4478-b5c2-c65e7b5555ad",
   "metadata": {},
   "source": [
    "read the estimated parameters"
   ]
  },
  {
   "cell_type": "code",
   "execution_count": null,
   "id": "7c7de936-41f8-4002-bd29-9ea0dba23ac4",
   "metadata": {
    "tags": []
   },
   "outputs": [],
   "source": [
    "with fsspec.open(parameter_path, mode=\"r\") as f:\n",
    "    parameters = json.load(f)\n",
    "    parameters.drop_vars("resolution")\n",
    "parameters"
   ]
  },
  {
   "cell_type": "markdown",
   "id": "73ff40c8-ef54-4ea6-a8fa-df484004d85a",
   "metadata": {},
   "source": [
    "create the estimator"
   ]
  },
  {
   "cell_type": "code",
   "execution_count": null,
   "id": "e3e0c462-773e-48ea-8337-755994d0d947",
   "metadata": {
    "tags": []
   },
   "outputs": [],
   "source": [
    "estimator = EagerScoreEstimator(**parameters)\n",
    "estimator"
   ]
  },
  {
   "cell_type": "markdown",
   "id": "6379bfe1-54ce-499d-baed-776e08a2bff5",
   "metadata": {},
   "source": [
    "compute the tracks"
   ]
  },
  {
   "cell_type": "code",
   "execution_count": null,
   "id": "5b50b99d-ccd2-44c7-bbf0-a34e680e430f",
   "metadata": {
    "tags": []
   },
   "outputs": [],
   "source": [
    "fs, _ = fsspec.core.url_to_fs(tracks_root)\n",
    "fs.mkdirs(tracks_root, exist_ok=True)"
   ]
  },
  {
   "cell_type": "code",
   "execution_count": null,
   "id": "1a20331b-8521-4adc-ba3f-dc124f7b5783",
   "metadata": {
    "tags": []
   },
   "outputs": [],
   "source": [
    "state_modes = [\"mean\", \"mode\"]\n",
    "\n",
    "for mode in track_modes:\n",
    "    reuse_states = mode in state_modes and states is not None\n",
    "    raw_track = estimator.decode(\n",
    "        states if reuse_states else emission, mode=mode, is_states=reuse_states\n",
    "    )\n",
    "    track = tracks.additional_quantities(raw_track, additional_track_quantities)\n",
    "    track.df.to_parquet(f\"{tracks_root}/{mode}.parquet\")"
   ]
  },
  {
   "cell_type": "markdown",
   "id": "10469279-c7c5-4b8e-8019-0187f20cb06a",
   "metadata": {},
   "source": [
    "visualization"
   ]
  },
  {
   "cell_type": "code",
   "execution_count": null,
   "id": "84a5810a-d362-4234-8aab-5579f2fef4a7",
   "metadata": {
    "tags": []
   },
   "outputs": [],
   "source": [
    "import cmocean\n",
    "import hvplot.xarray\n",
    "import movingpandas as mpd\n",
    "import geopandas as gpd\n",
    "import xarray as xr\n",
    "import holoviews as hv"
   ]
  },
  {
   "cell_type": "code",
   "execution_count": null,
   "id": "04379f40-8cbd-41f1-aaa7-f378d93bea8f",
   "metadata": {
    "tags": []
   },
   "outputs": [],
   "source": [
    "track_paths = [f\"{tracks_root}/{mode}.parquet\" for mode in track_modes]\n",
    "tracks = {\n",
    "    mode: mpd.Trajectory(\n",
    "        gpd.read_parquet(f\"{tracks_root}/{mode}.parquet\"), traj_id=mode\n",
    "    )\n",
    "    for mode in track_modes\n",
    "}"
   ]
  },
  {
   "cell_type": "code",
   "execution_count": null,
   "id": "3251f426-bbf6-4a42-85a8-88957c91b911",
   "metadata": {
    "tags": []
   },
   "outputs": [],
   "source": [
    "hv.Layout(\n",
    "    [\n",
    "        track.hvplot(c=\"speed\", tiles=\"CartoLight\", title=name, cmap=\"cmo.speed\")\n",
    "        for name, track in tracks.items()\n",
    "    ]\n",
    ").cols(2)"
   ]
  }
 ],
 "metadata": {
  "language_info": {
   "codemirror_mode": {
    "name": "ipython",
    "version": 3
   },
   "file_extension": ".py",
   "mimetype": "text/x-python",
   "name": "python",
   "nbconvert_exporter": "python",
   "pygments_lexer": "ipython3"
  }
 },
 "nbformat": 4,
 "nbformat_minor": 5
}
