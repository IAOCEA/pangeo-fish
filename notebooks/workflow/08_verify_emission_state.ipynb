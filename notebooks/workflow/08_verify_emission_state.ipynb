{
 "cells": [
  {
   "cell_type": "markdown",
   "id": "286d1bed-388d-4c70-89e8-c4fda47eeb0d",
   "metadata": {},
   "source": [
    "## Creating short movies to verify emission and state probability\n",
    "By adding this notebook in the workflow, you can create movies of emission probability together with state probability function.  The notebook is setted that it creates short movie (once in 24 time step). \n",
    "You can adjust it to have long movie by adjusting time_step=1. "
   ]
  },
  {
   "cell_type": "markdown",
   "id": "2655cd63-a804-4eb4-8f32-327489dfebc0",
   "metadata": {
    "tags": []
   },
   "source": [
    "## parametrize with [papermill](https://papermill.readthedocs.io/en/latest/)"
   ]
  },
  {
   "cell_type": "code",
   "execution_count": null,
   "id": "4183dbfa-b3e4-4a3e-ac42-661b5aa22577",
   "metadata": {
    "tags": [
     "parameters"
    ]
   },
   "outputs": [],
   "source": [
    "#Notebook specification\n",
    "time_step: str  = 6\n",
    "\n",
    "\n",
    "\n",
    "#Dask parameters (Machine, and configuration dependent) \n",
    "#cluster_size: int | None = None\n",
    "cluster_name: str = \"datarmor-local\"\n",
    "cluster_overrides: dict = {\n",
    "        \"cluster.threads_per_worker\": 28,\n",
    "        \"cluster.n_workers\": 1,\n",
    "    }\n",
    "cluster_size: int = 1\n",
    "\n",
    "\n",
    "#Run specific \n",
    "working_path: str = \"/home/datawork-taos-s/public/fish/\"\n",
    "tag_name: str = \"A18832\"\n",
    "tag_base_path: str = \"/home/datawork-lops-iaocea/data/fish-intel/tag/nc/\"\n",
    "tag_db_path: str = \"/home/datawork-lops-iaocea/data/fish-intel/acoustic/FishIntel_tagging_France.csv\"\n",
    "detections_path: str = \"/home/datawork-lops-iaocea/data/fish-intel/acoustic/detections_recaptured_fishintel.csv\"\n",
    "ref_model_name: str = \"copernicus\"\n",
    "nside: int = 4096  # healpix resolution\n",
    "\n",
    "# we can set the parameter acoustic to use acoustic information or not\n",
    "# acoustic: str = \"\"\n",
    "acoustic: str = \"/acoustic\"\n"
   ]
  },
  {
   "cell_type": "markdown",
   "id": "e983e855-11b2-4260-b2ae-5d90f84e66a7",
   "metadata": {},
   "source": [
    "## set path using the parameters\n"
   ]
  },
  {
   "cell_type": "code",
   "execution_count": null,
   "id": "c50e49f5-15de-4670-95f0-37aabf382c39",
   "metadata": {},
   "outputs": [],
   "source": [
    "tag_url = tag_base_path +   tag_name + \".nc\"\n",
    "emission_path =  working_path + tag_name + \"/\" + ref_model_name + acoustic + \"/emission_\"+ str(nside) +\".zarr\"\n",
    "state_path =  working_path + tag_name + \"/\" + ref_model_name + acoustic + \"/state_\"+ str(nside) +\".zarr\"\n",
    "output_path =  working_path + tag_name + \"/\" + ref_model_name + acoustic + \"/state_\"+ str(nside) + \"_\" + str(time_step) + \"hours.mp4\"\n"
   ]
  },
  {
   "cell_type": "markdown",
   "id": "79ae2a85-0053-420c-962f-b8751f4024cf",
   "metadata": {},
   "source": [
    "## Start Dask cluster"
   ]
  },
  {
   "cell_type": "code",
   "execution_count": null,
   "id": "f5359216-e8db-40e2-8dc8-fe02c7ec45d9",
   "metadata": {},
   "outputs": [],
   "source": [
    "import dask_hpcconfig\n",
    "from distributed import Client"
   ]
  },
  {
   "cell_type": "code",
   "execution_count": null,
   "id": "cf277f93-e4b4-4547-bd01-4fd5d061c52e",
   "metadata": {},
   "outputs": [],
   "source": [
    "domainname=!domainname\n",
    "\n",
    "if domainname == [\"nisdatarmor\"]:\n",
    "    cluster = dask_hpcconfig.cluster(cluster_name, **cluster_overrides)\n",
    "    if cluster_size is not None:\n",
    "        cluster.scale(cluster_size)\n",
    "else:\n",
    "    cluster = dask_hpcconfig.cluster(\"local\")\n",
    "\n",
    "client = Client(cluster)\n",
    "client"
   ]
  },
  {
   "cell_type": "markdown",
   "id": "83ca837c-ed86-46dc-b6f7-1565395c5b80",
   "metadata": {},
   "source": [
    "imports"
   ]
  },
  {
   "cell_type": "code",
   "execution_count": null,
   "id": "f7599fe4-4245-468d-aab9-b4e7c0e63392",
   "metadata": {},
   "outputs": [],
   "source": [
    "import warnings\n",
    "\n",
    "import matplotlib.pyplot as plt\n",
    "import xarray as xr\n",
    "from shapely.errors import ShapelyDeprecationWarning\n",
    "from xmovie import Movie\n",
    "\n",
    "warnings.filterwarnings(\n",
    "    action=\"ignore\",\n",
    "    category=ShapelyDeprecationWarning,  # in cartopy\n",
    ")\n",
    "warnings.filterwarnings(\n",
    "    action=\"ignore\",\n",
    "    category=UserWarning,\n",
    "    message=r\"No `(vmin|vmax)` provided. Data limits are calculated from input. Depending on the input this can take long. Pass `\\1` to avoid this step\",\n",
    ")\n",
    "%matplotlib inline"
   ]
  },
  {
   "cell_type": "code",
   "execution_count": null,
   "id": "931ddced-3b29-47b8-b46e-de0c3259c3c6",
   "metadata": {},
   "outputs": [],
   "source": [
    "ds_e = xr.open_dataset(emission_path, engine=\"zarr\", chunks={\"x\": -1, \"y\": -1})\n",
    "ds = xr.open_dataset(state_path, engine=\"zarr\", chunks={\"x\": -1, \"y\": -1})\n",
    "ds[\"pdf\"] = ds_e.pdf"
   ]
  },
  {
   "cell_type": "raw",
   "id": "8693ed44-ab51-4b47-9720-14e72d9f73c4",
   "metadata": {
    "tags": []
   },
   "source": [
    "ds.states.sum(dim=[\"x\",\"y\"]).compute().plot()"
   ]
  },
  {
   "cell_type": "raw",
   "id": "09f4b952-a437-466c-b1ee-4e62611d4a59",
   "metadata": {
    "tags": []
   },
   "source": [
    "ds.states.count(dim=[\"x\",\"y\"]).compute().plot()"
   ]
  },
  {
   "cell_type": "raw",
   "id": "9928ecec-f496-40f6-a2bb-0ac7a620600e",
   "metadata": {
    "tags": []
   },
   "source": [
    "ds.states.sum(dim=[\"time\"]).compute().plot()"
   ]
  },
  {
   "cell_type": "code",
   "execution_count": null,
   "id": "8d1b3d27-db6e-498f-b618-a44415539529",
   "metadata": {
    "tags": []
   },
   "outputs": [],
   "source": [
    "def drop_0_subset(ds):\n",
    "    cond = ds.states.sum(dim=\"time\", skipna=True).compute() > 0.0\n",
    "    return ds.where(cond, drop=True)\n",
    "\n",
    "\n",
    "ds_subset = ds.pipe(drop_0_subset)"
   ]
  },
  {
   "cell_type": "code",
   "execution_count": null,
   "id": "f4e6a7c7-1a88-4bbf-8088-e463e405db4d",
   "metadata": {},
   "outputs": [],
   "source": [
    "bbox = (\n",
    "    ds_subset.longitude.min(),\n",
    "    ds_subset.latitude.min(),\n",
    "    ds_subset.longitude.max(),\n",
    "    ds_subset.latitude.max(),\n",
    ")\n",
    "\n",
    "\n",
    "def geo_subset(ds, bbox):\n",
    "    x0, y0, x1, y1 = bbox\n",
    "    cond = (\n",
    "        (ds.longitude.compute() >= x0)\n",
    "        & (ds.longitude.compute() <= x1)\n",
    "        & (ds.latitude.compute() >= y0)\n",
    "        & (ds.latitude.compute() <= y1)\n",
    "    )\n",
    "\n",
    "    return ds.where(cond, drop=True)\n",
    "\n",
    "\n",
    "ds = ds_subset.pipe(geo_subset, bbox)\n",
    "ds  # [\"pdf\"] =\n",
    "# ds_e.pipe(geo_subset, bbox).pdf"
   ]
  },
  {
   "cell_type": "code",
   "execution_count": null,
   "id": "75c0f5c0-e9ee-4bb4-8033-195176fee8f4",
   "metadata": {
    "tags": []
   },
   "outputs": [],
   "source": [
    "def custom_plotfunc(ds, fig, tt, *args, **kwargs):\n",
    "    import warnings\n",
    "\n",
    "    import cartopy.crs as ccrs\n",
    "    import cartopy.feature as cf\n",
    "    import cmocean\n",
    "    import matplotlib.pyplot as plt\n",
    "    from shapely.errors import ShapelyDeprecationWarning\n",
    "\n",
    "    warnings.filterwarnings(\n",
    "        action=\"ignore\",\n",
    "        category=ShapelyDeprecationWarning,  # in cartopy\n",
    "    )\n",
    "    warnings.filterwarnings(\n",
    "        action=\"ignore\",\n",
    "        category=UserWarning,\n",
    "        message=r\"No `(vmin|vmax)` provided. Data limits are calculated from input. Depending on the input this can take long. Pass `\\1` to avoid this step\",\n",
    "    )\n",
    "    %matplotlib inline\n",
    "\n",
    "    projection = ccrs.Mercator()\n",
    "    crs = ccrs.PlateCarree()\n",
    "    bbox = (\n",
    "        ds.longitude.min(),\n",
    "        ds.latitude.min(),\n",
    "        ds.longitude.max(),\n",
    "        ds.latitude.max(),\n",
    "    )\n",
    "    x0, y0, x1, y1 = bbox\n",
    "\n",
    "    (ax, ax2) = fig.subplots(\n",
    "        ncols=2,\n",
    "        # sharex=True,\n",
    "        # sharey=True,\n",
    "        subplot_kw=dict(projection=projection, frameon=True),\n",
    "    )\n",
    "\n",
    "    ax.add_feature(cf.COASTLINE.with_scale(\"10m\"), lw=0.5)\n",
    "    ax.add_feature(cf.BORDERS.with_scale(\"10m\"), lw=0.3)\n",
    "    ax.set_extent([x0, x1, y0, y1], crs=crs)\n",
    "    gl = ax.gridlines(\n",
    "        crs=crs,\n",
    "        draw_labels=True,\n",
    "        linewidth=0.6,\n",
    "        color=\"gray\",\n",
    "        alpha=0.5,\n",
    "        linestyle=\"-.\",\n",
    "    )\n",
    "    gl.xlabel_style = {\"size\": 15}\n",
    "    gl.ylabel_style = {\"size\": 15}\n",
    "\n",
    "    cbar_kwargs = {\n",
    "        \"orientation\": \"horizontal\",\n",
    "        \"shrink\": 0.9,\n",
    "        \"pad\": 0.1,\n",
    "        \"aspect\": 80,\n",
    "        \"label\": \"State Probability\",\n",
    "    }\n",
    "\n",
    "    ds.states.isel(time=tt).plot(\n",
    "        ax=ax,\n",
    "        x=\"longitude\",\n",
    "        y=\"latitude\",\n",
    "        cbar_kwargs=cbar_kwargs,\n",
    "        transform=ccrs.PlateCarree(),\n",
    "        # vmin=0,\n",
    "        # vmax=0.00001,\n",
    "        cmap=\"cool\",\n",
    "    )\n",
    "\n",
    "    ax2.add_feature(cf.COASTLINE.with_scale(\"10m\"), lw=0.5)\n",
    "    ax2.add_feature(cf.BORDERS.with_scale(\"10m\"), lw=0.3)\n",
    "    ax2.set_extent([x0, x1, y0, y1], crs=crs)\n",
    "\n",
    "    gl2 = ax2.gridlines(\n",
    "        crs=crs,\n",
    "        draw_labels=True,\n",
    "        linewidth=0.6,\n",
    "        color=\"gray\",\n",
    "        alpha=0.5,\n",
    "        linestyle=\"-.\",\n",
    "    )\n",
    "    gl2.xlabel_style = {\"size\": 15}\n",
    "    gl2.ylabel_style = {\"size\": 15}\n",
    "\n",
    "    cbar_kwargs = {\n",
    "        \"orientation\": \"horizontal\",\n",
    "        \"shrink\": 0.9,\n",
    "        \"pad\": 0.1,\n",
    "        \"aspect\": 80,\n",
    "        \"label\": \"Emission Probability\",\n",
    "    }\n",
    "\n",
    "    ds.pdf.isel(time=tt).plot(\n",
    "        ax=ax2,\n",
    "        x=\"longitude\",\n",
    "        y=\"latitude\",\n",
    "        cbar_kwargs=cbar_kwargs,\n",
    "        transform=ccrs.PlateCarree(),\n",
    "        # vmin=0,\n",
    "        # vmax=0.0001,\n",
    "        cmap=\"cool\",\n",
    "    )\n",
    "\n",
    "    return None, None"
   ]
  },
  {
   "cell_type": "code",
   "execution_count": null,
   "id": "954c6308-ac60-469f-b75d-f035f0f07777",
   "metadata": {},
   "outputs": [],
   "source": [
    "%%time\n",
    "\n",
    "mov = Movie(\n",
    "    ds.isel(time=slice(0, ds.time.size + 1, time_step)),\n",
    "    custom_plotfunc,\n",
    "    input_check=False,\n",
    ")"
   ]
  },
  {
   "cell_type": "code",
   "execution_count": null,
   "id": "dcfd227f-336a-4775-b035-61b25700154e",
   "metadata": {
    "tags": []
   },
   "outputs": [],
   "source": [
    "%%time\n",
    "# mov.preview(1)\n",
    "\n",
    "mov.save(output_path, progress=True, overwrite_existing=True)\n",
    "# mov.render_single_frame(10)"
   ]
  },
  {
   "cell_type": "code",
   "execution_count": null,
   "id": "7cea9417-a7bb-4924-9502-eca16149d8c1",
   "metadata": {
    "tags": []
   },
   "outputs": [],
   "source": [
    "!chmod o+r $output_path"
   ]
  },
  {
   "cell_type": "raw",
   "id": "f4e74c43-870c-4194-b395-94b83b89e9b7",
   "metadata": {
    "tags": []
   },
   "source": [
    "!rm -rf *.png"
   ]
  },
  {
   "cell_type": "raw",
   "id": "68e4ab75-e963-4036-942f-da2d8b124180",
   "metadata": {},
   "source": [
    "%%time\n",
    "#does not work yet. \n",
    "mov.save(\n",
    "    'movie_parallel.mp4',\n",
    "    parallel=True,\n",
    "    overwrite_existing=True,\n",
    ")"
   ]
  },
  {
   "cell_type": "code",
   "execution_count": null,
   "id": "f0576baa-3a36-486a-b31a-e55d4a389cff",
   "metadata": {},
   "outputs": [],
   "source": []
  }
 ],
 "metadata": {
  "kernelspec": {
   "display_name": "Python 3 (ipykernel)",
   "language": "python",
   "name": "python3"
  },
  "language_info": {
   "codemirror_mode": {
    "name": "ipython",
    "version": 3
   },
   "file_extension": ".py",
   "mimetype": "text/x-python",
   "name": "python",
   "nbconvert_exporter": "python",
   "pygments_lexer": "ipython3",
   "version": "3.11.4"
  }
 },
 "nbformat": 4,
 "nbformat_minor": 5
}
