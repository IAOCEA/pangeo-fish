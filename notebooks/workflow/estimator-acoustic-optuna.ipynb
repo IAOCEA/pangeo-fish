{
 "cells": [
  {
   "cell_type": "markdown",
   "id": "136f301d-f3f2-43ef-8498-a342668f96ae",
   "metadata": {},
   "source": [
    "# optimization using `optuna`"
   ]
  },
  {
   "cell_type": "code",
   "execution_count": null,
   "id": "6e4cf1e3-cef6-419c-8f95-87783a7c1dbb",
   "metadata": {},
   "outputs": [],
   "source": [
    "import fsspec\n",
    "import xarray as xr"
   ]
  },
  {
   "cell_type": "code",
   "execution_count": null,
   "id": "69f9f061-81ed-4593-8185-7a49e7fe0de2",
   "metadata": {},
   "outputs": [],
   "source": [
    "import cmocean\n",
    "import holoviews as hv\n",
    "import hvplot.pandas\n",
    "import hvplot.xarray\n",
    "import matplotlib\n",
    "\n",
    "hv.output(widget_location=\"bottom\")\n",
    "if not hasattr(matplotlib.cm, \"_cmap_registry\"):\n",
    "    matplotlib.cm._cmap_registry = matplotlib.cm._colormaps"
   ]
  },
  {
   "cell_type": "code",
   "execution_count": null,
   "id": "e90f9479-ffbb-4adf-ba97-0fda038e5069",
   "metadata": {},
   "outputs": [],
   "source": [
    "root = \"file:///home/jmagin/work/data/fish-intel\"\n",
    "\n",
    "name = \"A18832-f1_e2500-4096\""
   ]
  },
  {
   "cell_type": "code",
   "execution_count": null,
   "id": "dc5248ba-7831-4605-97d5-55659f069e90",
   "metadata": {},
   "outputs": [],
   "source": [
    "import logging\n",
    "\n",
    "\n",
    "def create_default_formatter() -> logging.Formatter:\n",
    "    \"\"\"Create a default formatter of log messages.\n",
    "    This function is not supposed to be directly accessed by library users.\n",
    "    \"\"\"\n",
    "    header = \"[%(levelname)1.1s %(asctime)s]\"\n",
    "    message = \"%(message)s\"\n",
    "    return logging.Formatter(f\"{header} {message}\")\n",
    "\n",
    "\n",
    "def setup_logging():\n",
    "    logger = logging.getLogger(__name__)\n",
    "\n",
    "    consoleHandler = logging.StreamHandler()\n",
    "    formatter = create_default_formatter()\n",
    "    consoleHandler.setFormatter(formatter)\n",
    "    consoleHandler.setLevel(logging.DEBUG)\n",
    "    logger.addHandler(consoleHandler)\n",
    "    logger.setLevel(logging.INFO)\n",
    "\n",
    "    return logger\n",
    "\n",
    "\n",
    "logger = setup_logging()"
   ]
  },
  {
   "cell_type": "markdown",
   "id": "a88fbc82-c9c2-4de5-b9de-a8b90f91fa47",
   "metadata": {},
   "source": [
    "## the actual optimization\n",
    "\n",
    "To find the most optimal parameter, we follow the [Parallel hyper-parameter optimization of XGBoost with Optuna and Dask (multiple clusters)](https://github.com/coiled/dask-xgboost-nyctaxi/blob/main/Modeling%203%20-%20Parallel%20HPO%20of%20XGBoost%20with%20Optuna%20and%20Dask%20(multi%20cluster).ipynb) notebook.\n",
    "\n",
    "This will use `optuna` to find the actual parameter, but have it use multiple threads where each thread gets its own `distributed` cluster."
   ]
  },
  {
   "cell_type": "code",
   "execution_count": null,
   "id": "92462161-4a8e-4cb4-ba97-7583ed4561bf",
   "metadata": {},
   "outputs": [],
   "source": [
    "import threading\n",
    "import warnings\n",
    "\n",
    "import dask\n",
    "import numpy as np\n",
    "import optuna\n",
    "from distributed import Client, LocalCluster\n",
    "from toolz.functoolz import curry\n",
    "\n",
    "from pangeo_fish.pdf import combine_emission_pdf\n",
    "from pangeo_fish.hmm.estimator import EagerScoreEstimator"
   ]
  },
  {
   "cell_type": "code",
   "execution_count": null,
   "id": "05e3b807-094b-4992-b1ce-cf91dc1ea114",
   "metadata": {},
   "outputs": [],
   "source": [
    "cluster = LocalCluster(n_workers=1)\n",
    "client = cluster.get_client()\n",
    "client"
   ]
  },
  {
   "cell_type": "code",
   "execution_count": null,
   "id": "5dd709a8-5613-459a-a3a7-b7056a631b8c",
   "metadata": {},
   "outputs": [],
   "source": [
    "def fix_encoding(ds):\n",
    "    out = ds.copy()\n",
    "\n",
    "    for var in out.variables.values():\n",
    "        var.encoding.pop(\"preferred_chunks\")\n",
    "        var.encoding.pop(\"chunks\")\n",
    "\n",
    "    return out"
   ]
  },
  {
   "cell_type": "code",
   "execution_count": null,
   "id": "296fe7a7-faa8-4883-8c45-87f80d39c95e",
   "metadata": {},
   "outputs": [],
   "source": [
    "clients = {}\n",
    "\n",
    "\n",
    "def get_client():\n",
    "    thread_id = threading.get_ident()\n",
    "\n",
    "    try:\n",
    "        return clients[thread_id]\n",
    "    except KeyError:\n",
    "        pass\n",
    "\n",
    "    with warnings.catch_warnings():\n",
    "        warnings.filterwarnings(\n",
    "            \"ignore\",\n",
    "            category=UserWarning,\n",
    "            module=\"distributed\",\n",
    "            message=\".*Port 8787 is already in use.\",\n",
    "        )\n",
    "\n",
    "        cluster = LocalCluster(n_workers=1, memory_limit=\"2GB\")\n",
    "        logger.info(f\"opened cluster dashboard at: {cluster.dashboard_link}\")\n",
    "    client = Client(cluster, set_as_default=False)\n",
    "\n",
    "    clients[thread_id] = client\n",
    "\n",
    "    return client\n",
    "\n",
    "\n",
    "def objective(trial, path):\n",
    "    client = get_client()\n",
    "    data = (\n",
    "        xr.open_dataset(\n",
    "            path, engine=\"zarr\", chunks={\"x\": -1, \"y\": -1, \"time\": 1}, inline_array=True\n",
    "        )\n",
    "        .pipe(fix_encoding)\n",
    "        .pipe(combine_emission_pdf)\n",
    "    )\n",
    "\n",
    "    params = {\"sigma\": trial.suggest_float(\"sigma\", 1e-5, data.attrs[\"sigma_max\"])}\n",
    "\n",
    "    estimator = EagerScoreEstimator()\n",
    "\n",
    "    def f(x):\n",
    "        time.sleep(10)\n",
    "\n",
    "        return x**2\n",
    "\n",
    "    with client.as_current():\n",
    "        return estimator.set_params(**params).score(data).item()"
   ]
  },
  {
   "cell_type": "code",
   "execution_count": null,
   "id": "f3d26d99-2542-4d31-9df3-32fee6925076",
   "metadata": {},
   "outputs": [],
   "source": [
    "import time\n",
    "from contextlib import contextmanager\n",
    "\n",
    "\n",
    "@contextmanager\n",
    "def isolated_clients():\n",
    "    global clients\n",
    "\n",
    "    backup = clients\n",
    "\n",
    "    try:\n",
    "        clients = {}\n",
    "        yield\n",
    "    finally:\n",
    "        for thread_id, client in clients.items():\n",
    "            # make sure we don't cancel anything\n",
    "            while [_ for _ in client.processing().values() if _]:\n",
    "                time.sleep(2)\n",
    "            client.shutdown()\n",
    "            client.close()\n",
    "\n",
    "        clusters = backup"
   ]
  },
  {
   "cell_type": "markdown",
   "id": "35645325-1ef0-4e66-afff-d4684ac77726",
   "metadata": {},
   "source": [
    "optimization configuration"
   ]
  },
  {
   "cell_type": "code",
   "execution_count": null,
   "id": "4ad3ad0d-2d63-490b-a8e5-4890a890445a",
   "metadata": {},
   "outputs": [],
   "source": [
    "N_TRIALS = 64\n",
    "N_JOBS = 8"
   ]
  },
  {
   "cell_type": "markdown",
   "id": "8a10388e-03f7-4ea7-b2f0-a05bdb15e341",
   "metadata": {},
   "source": [
    "## just the tag log"
   ]
  },
  {
   "cell_type": "code",
   "execution_count": null,
   "id": "b9271773-7e3b-489c-a050-71f18047463b",
   "metadata": {},
   "outputs": [],
   "source": [
    "%%time\n",
    "path = f\"{root}/emission/{name}.zarr\"\n",
    "\n",
    "study = optuna.create_study(study_name=\"parallel-pangeo-fish-tag_log\")\n",
    "\n",
    "with isolated_clients():\n",
    "    study.optimize(curry(objective)(path=path), n_trials=N_TRIALS, n_jobs=N_JOBS)\n",
    "\n",
    "study.best_params"
   ]
  },
  {
   "cell_type": "code",
   "execution_count": null,
   "id": "a31e8059-80c5-4be7-a264-3388d442f11a",
   "metadata": {},
   "outputs": [],
   "source": [
    "optuna.visualization.plot_optimization_history(study)"
   ]
  },
  {
   "cell_type": "code",
   "execution_count": null,
   "id": "0c7bbe3b-6a2a-44eb-9a7a-b11f57c86bd0",
   "metadata": {},
   "outputs": [],
   "source": [
    "%%time\n",
    "estimator = EagerScoreEstimator(**study.best_params)\n",
    "\n",
    "data = (\n",
    "    xr.open_dataset(path, engine=\"zarr\", chunks={\"x\": -1, \"y\": -1}, inline_array=True)\n",
    "    .pipe(fix_encoding)\n",
    "    .pipe(combine_emission_pdf)\n",
    ")\n",
    "\n",
    "state_probabilities = (\n",
    "    estimator.predict_proba(data)\n",
    "    .pipe(lambda ds: dask.optimize(ds)[0])\n",
    "    .to_dataset(name=\"states\")\n",
    "    .assign_attrs(study.best_params)\n",
    ")\n",
    "state_probabilities"
   ]
  },
  {
   "cell_type": "code",
   "execution_count": null,
   "id": "fbfc8a08-5897-4c2a-9ccc-96c06d8e3b26",
   "metadata": {
    "tags": []
   },
   "outputs": [],
   "source": [
    "%%time\n",
    "outpath = f\"{root}/state/{name}.zarr\"\n",
    "state_probabilities.to_zarr(outpath, mode=\"w\", consolidated=True, compute=True)"
   ]
  },
  {
   "cell_type": "markdown",
   "id": "956869b0-e25e-4efa-ae8c-d669526598f7",
   "metadata": {},
   "source": [
    "## tag log and acoustic detections"
   ]
  },
  {
   "cell_type": "code",
   "execution_count": null,
   "id": "e500071c-11e0-4cd1-bf43-d71007a79ae3",
   "metadata": {},
   "outputs": [],
   "source": [
    "%%time\n",
    "path = f\"{root}/emission/{name}-acoustic.zarr\"\n",
    "\n",
    "study = optuna.create_study(study_name=\"parallel-pangeo-fish-tag_log+acoustic\")\n",
    "\n",
    "with isolated_clients():\n",
    "    study.optimize(curry(objective)(path=path), n_trials=N_TRIALS, n_jobs=N_JOBS)\n",
    "\n",
    "study.best_params"
   ]
  },
  {
   "cell_type": "code",
   "execution_count": null,
   "id": "11b144f5-1b9e-4d3c-bf9f-2de9d04c530e",
   "metadata": {},
   "outputs": [],
   "source": [
    "optuna.visualization.plot_optimization_history(study)"
   ]
  },
  {
   "cell_type": "code",
   "execution_count": null,
   "id": "421521b1-046f-414b-844f-f83a4f77cb01",
   "metadata": {},
   "outputs": [],
   "source": [
    "%%time\n",
    "estimator = EagerScoreEstimator(**study.best_params)\n",
    "\n",
    "data = (\n",
    "    xr.open_dataset(path, engine=\"zarr\", chunks={\"x\": -1, \"y\": -1}, inline_array=True)\n",
    "    .pipe(fix_encoding)\n",
    "    .pipe(combine_emission_pdf)\n",
    ")\n",
    "\n",
    "state_probabilities = (\n",
    "    estimator.predict_proba(data)\n",
    "    .pipe(lambda ds: dask.optimize(ds)[0])\n",
    "    .to_dataset(name=\"states\")\n",
    "    .assign_attrs(study.best_params)\n",
    ")\n",
    "state_probabilities"
   ]
  },
  {
   "cell_type": "code",
   "execution_count": null,
   "id": "4a7ebf44-a762-460c-8e92-2034e64eb894",
   "metadata": {
    "tags": []
   },
   "outputs": [],
   "source": [
    "%%time\n",
    "outpath = f\"{root}/state/{name}-acoustic.zarr\"\n",
    "state_probabilities.to_zarr(outpath, mode=\"w\", consolidated=True, compute=True)"
   ]
  },
  {
   "cell_type": "markdown",
   "id": "4ceb4a6c-62f2-48fc-9bc9-6686258105a3",
   "metadata": {},
   "source": [
    "## plot the result"
   ]
  },
  {
   "cell_type": "code",
   "execution_count": null,
   "id": "931ddced-3b29-47b8-b46e-de0c3259c3c6",
   "metadata": {},
   "outputs": [],
   "source": [
    "tag_log = xr.open_dataset(f\"{root}/state/{name}.zarr\", engine=\"zarr\", chunks={})\n",
    "acoustic = xr.open_dataset(\n",
    "    f\"{root}/state/{name}-acoustic.zarr\", engine=\"zarr\", chunks={}\n",
    ")"
   ]
  },
  {
   "cell_type": "code",
   "execution_count": null,
   "id": "44969de3-9c88-4997-a9b7-9c7212698f49",
   "metadata": {},
   "outputs": [],
   "source": [
    "acoustic"
   ]
  },
  {
   "cell_type": "code",
   "execution_count": null,
   "id": "933c90d0-96d1-4bd6-a561-bf8c4f7a1004",
   "metadata": {
    "tags": []
   },
   "outputs": [],
   "source": [
    "plot1 = tag_log.states.hvplot.quadmesh(\n",
    "    x=\"longitude\",\n",
    "    y=\"latitude\",\n",
    "    rasterize=True,\n",
    "    coastline=\"10m\",\n",
    "    geo=True,\n",
    "    cmap=\"cmo.amp\",\n",
    "    title=f\"tag log – sigma = {tag_log.attrs['sigma']:.4f}\",\n",
    ").opts(frame_width=500)\n",
    "plot2 = acoustic.states.hvplot.quadmesh(\n",
    "    x=\"longitude\",\n",
    "    y=\"latitude\",\n",
    "    rasterize=True,\n",
    "    coastline=\"10m\",\n",
    "    geo=True,\n",
    "    cmap=\"cmo.amp\",\n",
    "    title=f\"tag log + acoustic detections – sigma = {acoustic.attrs['sigma']:.4f}\",\n",
    ").opts(frame_width=500)\n",
    "plot1 + plot2"
   ]
  }
 ],
 "metadata": {
  "language_info": {
   "codemirror_mode": {
    "name": "ipython",
    "version": 3
   },
   "file_extension": ".py",
   "mimetype": "text/x-python",
   "name": "python",
   "nbconvert_exporter": "python",
   "pygments_lexer": "ipython3"
  }
 },
 "nbformat": 4,
 "nbformat_minor": 5
}
