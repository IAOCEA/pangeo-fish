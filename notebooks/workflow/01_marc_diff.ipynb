{
 "cells": [
  {
   "cell_type": "markdown",
   "id": "da8eb767-1c3c-4114-99fc-1c55c9476c0a",
   "metadata": {
    "tags": []
   },
   "source": [
    "# temperature differences\n",
    "\n",
    "In this notebook, we compute the difference between the temperature mesured by the tag and the temperature from the reference model\n",
    "\n",
    "**Summary:**\n",
    "\n",
    "1. Opening the data: reference model (mars) and tag log\n",
    "2. Set up the dask cluster\n",
    "3. Data alignment\n",
    "4. Compute the differences\n",
    "5. Save to disk"
   ]
  },
  {
   "cell_type": "code",
   "execution_count": null,
   "id": "47590a14-4478-4952-ad85-c7a885bca9ab",
   "metadata": {
    "tags": []
   },
   "outputs": [],
   "source": [
    "import cf_xarray\n",
    "import dask\n",
    "import fsspec\n",
    "import intake\n",
    "import numba\n",
    "import numpy as np\n",
    "import pandas as pd\n",
    "import xarray as xr\n",
    "\n",
    "from pangeo_fish.cf import bounds_to_bins\n",
    "from pangeo_fish.diff import marc_diff_z\n",
    "from pangeo_fish.model import marc_sigma_to_depth\n",
    "from pangeo_fish.tags import adapt_model_time, reshape_by_bins, to_time_slice"
   ]
  },
  {
   "cell_type": "markdown",
   "id": "840e9cdb-9af4-4c66-8110-83e174905bd9",
   "metadata": {},
   "source": [
    "parametrize with [papermill](https://papermill.readthedocs.io/en/latest/)"
   ]
  },
  {
   "cell_type": "code",
   "execution_count": null,
   "id": "0c3b2f1b-cadd-42e7-8b61-5b90ea3e39b7",
   "metadata": {},
   "outputs": [],
   "source": [
    "#scheduler_address: str | None = None\n",
    "catalog_parameters: dict = {}\n",
    "relative_depth_threshold: float = 0.8\n",
    "tag_name: str = \"A18832\"\n",
    "working_path: str = \"/home/datawork-taos-s/public/fish/\"\n",
    "#working_path: str | \"/Users/todaka/python/git/pangeo-fish/data_local/fish-intel/\"\n",
    "ref_model_name: str = \"marc-f1-2500\"\n",
    "cluster_size: int = 50\n",
    "# subset with location(iroise ocean) for quick computational tests\n",
    "# This should be able to seted as 'None' or value (for copernicus, mars, ...)\n",
    "# so that we can pass in the parameter for \n",
    "bbox = (\n",
    "    -8,\n",
    "    45,\n",
    "    0,\n",
    "    51,\n",
    ")"
   ]
  },
  {
   "cell_type": "code",
   "execution_count": null,
   "id": "b01240fd-2159-4079-ae03-f544c8ff7c8c",
   "metadata": {},
   "outputs": [],
   "source": [
    "\n",
    "domainname=!domainname\n",
    "\n",
    "if domainname == [\"nisdatarmor\"]:\n",
    "    # Datarmor\n",
    "    tag_base_path = \"/home/datawork-lops-iaocea/data/fish-intel/\"\n",
    "    catalog = \"/home/datawork-taos-s/intranet/kerchunk/ref-marc.yaml\"\n",
    "    cluster_name=\"datarmor\"\n",
    "else:\n",
    "    # local PC\n",
    "    tag_base_path: str = \"/Users/todaka/python/git/pangeo-fish/data_local/fish-intel/\"\n",
    "    catalog = \"https://data-taos.ifremer.fr/kerchunk/ref-marc.yaml\"\n",
    "    cluster_name=\"local\"\n",
    "\n",
    "tag_url = tag_base_path + \"tag/nc/\" + tag_name + \".nc\"\n",
    "tag_db_path = tag_base_path + \"acoustic/FishIntel_tagging_France.csv\"\n",
    "detections_path = tag_base_path + \"/acoustic/detections_recaptured_fishintel.csv\"\n",
    "\n",
    "output_path = working_path + tag_name + \"/\" + ref_model_name + \"/diff.zarr\""
   ]
  },
  {
   "cell_type": "code",
   "execution_count": null,
   "id": "5821d368-005f-4c15-a5b8-5bd2762ab729",
   "metadata": {},
   "outputs": [],
   "source": [
    "import dask_hpcconfig\n",
    "from distributed import Client"
   ]
  },
  {
   "cell_type": "code",
   "execution_count": null,
   "id": "e36a7c07-47d6-4de7-89eb-0782238eb9c4",
   "metadata": {},
   "outputs": [],
   "source": [
    "if domainname == [\"nisdatarmor\"]:\n",
    "    overrides = {}\n",
    "    # overrides = { \"cluster.cores\": 28 , \"cluster.processes\": 6 }    \n",
    "    cluster = dask_hpcconfig.cluster(\"datarmor\", **overrides)\n",
    "#    cluster = dask_hpcconfig.cluster(\"datarmor-local\")\n",
    "    cluster.scale(cluster_size)\n",
    "else:\n",
    "    cluster = dask_hpcconfig.cluster(\"local\")\n",
    "\n",
    "client = Client(cluster)\n",
    "client"
   ]
  },
  {
   "cell_type": "markdown",
   "id": "cc937595-002b-441c-9d86-671fc0820b8d",
   "metadata": {
    "tags": []
   },
   "source": [
    "## Open the data: reference model (mars) and tag log"
   ]
  },
  {
   "cell_type": "markdown",
   "id": "b4ef2aa5-14ba-4468-8238-7e3e5985b6a3",
   "metadata": {},
   "source": [
    "open the tag log"
   ]
  },
  {
   "cell_type": "code",
   "execution_count": null,
   "id": "e55e6a6e-0c04-4761-aeeb-16364bb1ec09",
   "metadata": {
    "tags": []
   },
   "outputs": [],
   "source": [
    "tag = xr.open_dataset(fsspec.open(tag_url).open(), engine=\"h5netcdf\").load()\n",
    "tag"
   ]
  },
  {
   "cell_type": "markdown",
   "id": "7f279d9a-3a96-4d66-824f-f96f293b6345",
   "metadata": {},
   "source": [
    "open the reference model\n",
    "\n",
    "TODO: for now, we will directly read the data, but in the future we might want to use [xpublish](https://github.com/xpublish-community/xpublish) to hide the reading / preprocessing of the reference model (especially computing the depth / pressure and stitching together different models)"
   ]
  },
  {
   "cell_type": "code",
   "execution_count": null,
   "id": "5b0d4f78-aaeb-4d14-96db-8d3e6e8fcc26",
   "metadata": {
    "tags": []
   },
   "outputs": [],
   "source": [
    "cat = intake.open_catalog(catalog)[\"marc\"]\n",
    "catalog_parameters: dict = {  \"region\": \"f1_e2500\",  \"year\": \"2022\"}\n",
    "\n",
    "catalog_kwargs = {\n",
    "    \"chunks\": {\"ni\": -1, \"nj\": -1, \"level\": -1, \"time\": 1},\n",
    "    \"inline_array\": True,\n",
    "}\n",
    "ds = (\n",
    "    cat(**catalog_kwargs, **catalog_parameters)\n",
    "    .to_dask()[[\"H0\", \"level\", \"XE\", \"theta\", \"b\", \"hc\", \"TEMP\"]]\n",
    "    .assign_coords(time=lambda ds: ds.time.astype(\"datetime64[ns]\"))\n",
    ")\n",
    "ds"
   ]
  },
  {
   "cell_type": "markdown",
   "id": "086d84fd-bb16-41db-adda-0f4b087711d4",
   "metadata": {
    "tags": []
   },
   "source": [
    "## data alignment\n",
    "\n",
    "In order to compare measured temperature with the model, we need to\n",
    "1. align time ranges\n",
    "2. calculate the modelled depth\n",
    "3. group the measured data into bins"
   ]
  },
  {
   "cell_type": "markdown",
   "id": "37c7e1de-feda-416e-90c1-70078c3ff85a",
   "metadata": {},
   "source": [
    "### align time ranges"
   ]
  },
  {
   "cell_type": "code",
   "execution_count": null,
   "id": "9b76184c-1b8f-44c2-b286-a97a7f989016",
   "metadata": {
    "tags": []
   },
   "outputs": [],
   "source": [
    "slice_ = to_time_slice(tag.times)"
   ]
  },
  {
   "cell_type": "code",
   "execution_count": null,
   "id": "dce50a2c-006e-491b-94fe-93086ee4519f",
   "metadata": {
    "tags": []
   },
   "outputs": [],
   "source": [
    "tag_log = tag.sel(time=slice_)\n",
    "tag_log"
   ]
  },
  {
   "cell_type": "code",
   "execution_count": null,
   "id": "80b61319-4f9a-4eac-b840-57b3ed07b529",
   "metadata": {
    "tags": []
   },
   "outputs": [],
   "source": [
    "model_subset = ds.sel(time=adapt_model_time(slice_))\n",
    "model_subset"
   ]
  },
  {
   "cell_type": "code",
   "execution_count": null,
   "id": "10c8abc1-55b6-45e1-bf0e-86c0f6df2fb0",
   "metadata": {
    "tags": []
   },
   "outputs": [],
   "source": [
    "\n",
    "def geo_subset(ds, bbox):\n",
    "    x0, y0, x1, y1 = bbox\n",
    "    cond = (\n",
    "        (ds.longitude.compute() >= x0)\n",
    "        & (ds.longitude.compute() <= x1)\n",
    "        & (ds.latitude.compute() >= y0)\n",
    "        & (ds.latitude.compute() <= y1)\n",
    "    )\n",
    "\n",
    "    return ds.where(cond, drop=True)\n",
    "model_subset = model_subset.pipe(geo_subset, bbox)\n",
    "model_subset"
   ]
  },
  {
   "cell_type": "markdown",
   "id": "54a1a1c2-2254-40e1-bd48-e2916460fd0b",
   "metadata": {},
   "source": [
    "### Convert sigma level to depth\n",
    "\n",
    "The formula for the computation of the depth is model-specific.\n",
    "\n",
    "*TODO*:\n",
    "- calculate the modelled pressure and use that to compute the diff – essentially, that's what the tag measured\n",
    "- have the hosted model (using `xpublish`) calculate the depth – that way, we don't need to worry about the model-specific formula"
   ]
  },
  {
   "cell_type": "code",
   "execution_count": null,
   "id": "a5e944d5-ce8b-4045-a0c3-2ee365dd48e3",
   "metadata": {
    "tags": []
   },
   "outputs": [],
   "source": [
    "reference_model_ = marc_sigma_to_depth(model_subset)\n",
    "reference_model_"
   ]
  },
  {
   "cell_type": "markdown",
   "id": "94e5bdb9-c7fd-4a8e-b220-68329f5033da",
   "metadata": {},
   "source": [
    "### reshape the tag data\n",
    "\n",
    "To further align both datasets, we need to reshape the data into bins, such that the `temperature(measured_time)` and `depth(measured_time)` coordinates become `temperature(model_time, obs)` and `depth(model_time, obs)`."
   ]
  },
  {
   "cell_type": "markdown",
   "id": "df73f629-f001-4ff2-a706-4d725f3264d0",
   "metadata": {},
   "source": [
    "determine the bins"
   ]
  },
  {
   "cell_type": "code",
   "execution_count": null,
   "id": "838a2ea0-31f8-4083-a1e5-d4650e65cb80",
   "metadata": {
    "tags": []
   },
   "outputs": [],
   "source": [
    "reference_model = reference_model_.cf.add_bounds([\"time\"], output_dim=\"bounds\").pipe(\n",
    "    bounds_to_bins, bounds_dim=\"bounds\"\n",
    ")\n",
    "reference_model"
   ]
  },
  {
   "cell_type": "markdown",
   "id": "618ef1fc-dd07-40d7-bffd-4c22aad41edb",
   "metadata": {},
   "source": [
    "reshape"
   ]
  },
  {
   "cell_type": "code",
   "execution_count": null,
   "id": "b0cfe4bf-66ea-4386-a24c-c9735d8084d4",
   "metadata": {
    "tags": []
   },
   "outputs": [],
   "source": [
    "%%time\n",
    "reshaped_tag = (\n",
    "    tag_log[[\"water_temperature\", \"pressure\"]]\n",
    "    .pipe(\n",
    "        reshape_by_bins,\n",
    "        dim=\"time\",\n",
    "        bins=reference_model.time_bins,\n",
    "        bin_dim=\"bincount\",\n",
    "        other_dim=\"obs\",\n",
    "    )\n",
    "    .assign_coords(time=lambda ds: reference_model.time.isel(time=ds.bincount))\n",
    "    .swap_dims({\"bincount\": \"time\"})\n",
    "    .drop_vars([\"bincount\", \"time_bins\"])\n",
    "    .chunk({\"time\": 1})\n",
    ")\n",
    "reshaped_tag"
   ]
  },
  {
   "cell_type": "markdown",
   "id": "3a6e6d45-52da-4621-b752-d15ba56e9434",
   "metadata": {},
   "source": [
    "## compute the differences\n",
    "\n",
    "Now that both datasets are aligned, we can compute the actual difference. However, since the model's depth is a function of time and position, we can't just subtract the tag log from the model. Instead, we have to find the matching depth for each pixel separately, take the temperature at that depth and calculate the difference. Finally, we can compute the mean along the observation dimension to get a single value per pixel and timestep."
   ]
  },
  {
   "cell_type": "code",
   "execution_count": null,
   "id": "8d5d08e5-332c-4d21-aa3f-131917b651fa",
   "metadata": {
    "tags": []
   },
   "outputs": [],
   "source": [
    "diff = (\n",
    "    marc_diff_z(reference_model, reshaped_tag, depth_threshold=relative_depth_threshold)\n",
    "    .to_dataset()\n",
    "    .assign_attrs({\"tag_id\": tag_log.attrs[\"tag_id\"]})\n",
    "    .assign({\"H0\": reference_model.H0})\n",
    ")\n",
    "diff"
   ]
  },
  {
   "cell_type": "markdown",
   "id": "928a4a28-0bbd-433f-81cb-3c24de6440d1",
   "metadata": {},
   "source": [
    "## Save the differences to disk"
   ]
  },
  {
   "cell_type": "code",
   "execution_count": null,
   "id": "8aac0179-c39d-4962-abe2-f0e041c82c3e",
   "metadata": {
    "tags": []
   },
   "outputs": [],
   "source": [
    "%%time\n",
    "# need to drop the bins since zarr cannot represent that\n",
    "diff.drop_vars([\"time_bins\"]).to_zarr(output_path, mode=\"w\", consolidated=True)"
   ]
  },
  {
   "cell_type": "code",
   "execution_count": null,
   "id": "bea81201-95ad-4d96-8523-eca872bd32e4",
   "metadata": {},
   "outputs": [],
   "source": [
    "import xarray as xr\n",
    "\n",
    "diff_ = xr.open_zarr(output_path)"
   ]
  },
  {
   "cell_type": "code",
   "execution_count": null,
   "id": "e9f8ade3-0b09-40fc-811a-b2dcf05e1038",
   "metadata": {},
   "outputs": [],
   "source": [
    "import hvplot.xarray\n",
    "\n",
    "diff_[\"diff\"].isel(time=0).plot(x=\"longitude\", y=\"latitude\")"
   ]
  },
  {
   "cell_type": "code",
   "execution_count": null,
   "id": "5a2f415c-6c61-4ed4-b134-c1d11eded3f1",
   "metadata": {},
   "outputs": [],
   "source": []
  }
 ],
 "metadata": {
  "kernelspec": {
   "display_name": "Python 3 (ipykernel)",
   "language": "python",
   "name": "python3"
  },
  "language_info": {
   "codemirror_mode": {
    "name": "ipython",
    "version": 3
   },
   "file_extension": ".py",
   "mimetype": "text/x-python",
   "name": "python",
   "nbconvert_exporter": "python",
   "pygments_lexer": "ipython3",
   "version": "3.11.4"
  }
 },
 "nbformat": 4,
 "nbformat_minor": 5
}
