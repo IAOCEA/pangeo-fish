{
 "cells": [
  {
   "cell_type": "markdown",
   "id": "286d1bed-388d-4c70-89e8-c4fda47eeb0d",
   "metadata": {},
   "source": [
    "## Creating short movies to verify emission and state probability\n",
    "By adding this notebook in the workflow, you can create movies of emission probability together with state probability function.  The notebook is setted that it creates short movie (once in 24 time step). \n",
    "You can adjust it to have long movie by adjusting time_step=1. "
   ]
  },
  {
   "cell_type": "code",
   "execution_count": null,
   "id": "f1c93491-ce9d-49b8-83f8-903062006713",
   "metadata": {
    "tags": []
   },
   "outputs": [],
   "source": [
    "import dask\n",
    "from distributed import LocalCluster"
   ]
  },
  {
   "cell_type": "code",
   "execution_count": null,
   "id": "05e3b807-094b-4992-b1ce-cf91dc1ea114",
   "metadata": {
    "scrolled": true,
    "tags": []
   },
   "outputs": [],
   "source": [
    "cluster = LocalCluster(n_workers=1)#, threads_per_worker=1)\n",
    "client = cluster.get_client()\n",
    "client"
   ]
  },
  {
   "cell_type": "code",
   "execution_count": null,
   "id": "f7599fe4-4245-468d-aab9-b4e7c0e63392",
   "metadata": {},
   "outputs": [],
   "source": [
    "import warnings\n",
    "\n",
    "import matplotlib.pyplot as plt\n",
    "import xarray as xr\n",
    "from shapely.errors import ShapelyDeprecationWarning\n",
    "from xmovie import Movie\n",
    "\n",
    "warnings.filterwarnings(\n",
    "    action=\"ignore\",\n",
    "    category=ShapelyDeprecationWarning,  # in cartopy\n",
    ")\n",
    "warnings.filterwarnings(\n",
    "    action=\"ignore\",\n",
    "    category=UserWarning,\n",
    "    message=r\"No `(vmin|vmax)` provided. Data limits are calculated from input. Depending on the input this can take long. Pass `\\1` to avoid this step\",\n",
    ")\n",
    "%matplotlib inline"
   ]
  },
  {
   "cell_type": "code",
   "execution_count": null,
   "id": "e90f9479-ffbb-4adf-ba97-0fda038e5069",
   "metadata": {
    "tags": []
   },
   "outputs": [],
   "source": [
    "\n",
    "# with acoustic\n",
    "root = \"file:///Users/todaka/python/git/pangeo-fish/data_local/fish-intel/A18832-f1_e2500-hp4096-\"\n",
    "\n",
    "emission_path = \"-acoustic_tina\"\n",
    "states_path = \"-acoustic_tina_bugfix\"\n",
    "path_e = f\"{root}emission{emission_path}.zarr\"\n",
    "path = f\"{root}state{states_path}.zarr\"\n",
    "\n",
    "# without acoustic\n",
    "root = \"file:///Users/todaka/python/git/pangeo-fish/data_local/fish-intel/A18832-f1_e2500-hp4096-\"\n",
    "\n",
    "emission_path = \"tina\"\n",
    "states_path = \"tina_new_bugfix\"\n",
    "path_e = f\"{root}emission_{emission_path}.zarr\"\n",
    "path = f\"{root}state_{states_path}.zarr\"\n",
    "\n",
    "time_step = 6\n",
    "path"
   ]
  },
  {
   "cell_type": "code",
   "execution_count": null,
   "id": "931ddced-3b29-47b8-b46e-de0c3259c3c6",
   "metadata": {},
   "outputs": [],
   "source": [
    "ds_e = xr.open_dataset(path_e, engine=\"zarr\", chunks={\"x\": -1, \"y\": -1})\n",
    "ds = xr.open_dataset(path, engine=\"zarr\", chunks={\"x\": -1, \"y\": -1})\n",
    "ds[\"pdf\"] = ds_e.pdf"
   ]
  },
  {
   "cell_type": "raw",
   "id": "8693ed44-ab51-4b47-9720-14e72d9f73c4",
   "metadata": {
    "tags": []
   },
   "source": [
    "ds.states.sum(dim=[\"x\",\"y\"]).compute().plot()"
   ]
  },
  {
   "cell_type": "raw",
   "id": "09f4b952-a437-466c-b1ee-4e62611d4a59",
   "metadata": {
    "tags": []
   },
   "source": [
    "ds.states.count(dim=[\"x\",\"y\"]).compute().plot()"
   ]
  },
  {
   "cell_type": "raw",
   "id": "9928ecec-f496-40f6-a2bb-0ac7a620600e",
   "metadata": {
    "tags": []
   },
   "source": [
    "ds.states.sum(dim=[\"time\"]).compute().plot()"
   ]
  },
  {
   "cell_type": "code",
   "execution_count": null,
   "id": "8d1b3d27-db6e-498f-b618-a44415539529",
   "metadata": {
    "tags": []
   },
   "outputs": [],
   "source": [
    "def drop_0_subset(ds):\n",
    "    cond = ds.states.sum(dim=\"time\", skipna=True).compute() > 0.0\n",
    "    return ds.where(cond, drop=True)\n",
    "\n",
    "\n",
    "ds_subset = ds.pipe(drop_0_subset)"
   ]
  },
  {
   "cell_type": "code",
   "execution_count": null,
   "id": "f4e6a7c7-1a88-4bbf-8088-e463e405db4d",
   "metadata": {},
   "outputs": [],
   "source": [
    "bbox = (\n",
    "    ds_subset.longitude.min(),\n",
    "    ds_subset.latitude.min(),\n",
    "    ds_subset.longitude.max(),\n",
    "    ds_subset.latitude.max(),\n",
    ")\n",
    "\n",
    "\n",
    "def geo_subset(ds, bbox):\n",
    "    x0, y0, x1, y1 = bbox\n",
    "    cond = (\n",
    "        (ds.longitude.compute() >= x0)\n",
    "        & (ds.longitude.compute() <= x1)\n",
    "        & (ds.latitude.compute() >= y0)\n",
    "        & (ds.latitude.compute() <= y1)\n",
    "    )\n",
    "\n",
    "    return ds.where(cond, drop=True)\n",
    "\n",
    "\n",
    "ds = ds_subset.pipe(geo_subset, bbox)\n",
    "ds  # [\"pdf\"] =\n",
    "# ds_e.pipe(geo_subset, bbox).pdf"
   ]
  },
  {
   "cell_type": "code",
   "execution_count": null,
   "id": "75c0f5c0-e9ee-4bb4-8033-195176fee8f4",
   "metadata": {
    "scrolled": true,
    "tags": []
   },
   "outputs": [],
   "source": [
    "def custom_plotfunc(ds, fig, tt, *args, **kwargs):\n",
    "    import warnings\n",
    "\n",
    "    import cartopy.crs as ccrs\n",
    "    import cartopy.feature as cf\n",
    "    import cmocean\n",
    "    import matplotlib.pyplot as plt\n",
    "    from shapely.errors import ShapelyDeprecationWarning\n",
    "\n",
    "    warnings.filterwarnings(\n",
    "        action=\"ignore\",\n",
    "        category=ShapelyDeprecationWarning,  # in cartopy\n",
    "    )\n",
    "    warnings.filterwarnings(\n",
    "        action=\"ignore\",\n",
    "        category=UserWarning,\n",
    "        message=r\"No `(vmin|vmax)` provided. Data limits are calculated from input. Depending on the input this can take long. Pass `\\1` to avoid this step\",\n",
    "    )\n",
    "    %matplotlib inline\n",
    "\n",
    "    projection = ccrs.Mercator()\n",
    "    crs = ccrs.PlateCarree()\n",
    "    bbox = (\n",
    "        ds.longitude.min(),\n",
    "        ds.latitude.min(),\n",
    "        ds.longitude.max(),\n",
    "        ds.latitude.max(),\n",
    "    )\n",
    "    x0, y0, x1, y1 = bbox\n",
    "\n",
    "    (ax, ax2) = fig.subplots(\n",
    "        ncols=2,\n",
    "        # sharex=True,\n",
    "        # sharey=True,\n",
    "        subplot_kw=dict(projection=projection, frameon=True),\n",
    "    )\n",
    "\n",
    "    ax.add_feature(cf.COASTLINE.with_scale(\"10m\"), lw=0.5)\n",
    "    ax.add_feature(cf.BORDERS.with_scale(\"10m\"), lw=0.3)\n",
    "    ax.set_extent([x0, x1, y0, y1], crs=crs)\n",
    "    gl = ax.gridlines(\n",
    "        crs=crs,\n",
    "        draw_labels=True,\n",
    "        linewidth=0.6,\n",
    "        color=\"gray\",\n",
    "        alpha=0.5,\n",
    "        linestyle=\"-.\",\n",
    "    )\n",
    "    gl.xlabel_style = {\"size\": 15}\n",
    "    gl.ylabel_style = {\"size\": 15}\n",
    "\n",
    "    cbar_kwargs = {\n",
    "        \"orientation\": \"horizontal\",\n",
    "        \"shrink\": 0.9,\n",
    "        \"pad\": 0.1,\n",
    "        \"aspect\": 80,\n",
    "        \"label\": \"State Probability\",\n",
    "    }\n",
    "\n",
    "    ds.states.isel(time=tt).plot(\n",
    "        ax=ax,\n",
    "        x=\"longitude\",\n",
    "        y=\"latitude\",\n",
    "        cbar_kwargs=cbar_kwargs,\n",
    "        transform=ccrs.PlateCarree(),\n",
    "        # vmin=0,\n",
    "        # vmax=0.00001,\n",
    "        cmap=\"cool\",\n",
    "    )\n",
    "\n",
    "    ax2.add_feature(cf.COASTLINE.with_scale(\"10m\"), lw=0.5)\n",
    "    ax2.add_feature(cf.BORDERS.with_scale(\"10m\"), lw=0.3)\n",
    "    ax2.set_extent([x0, x1, y0, y1], crs=crs)\n",
    "\n",
    "    gl2 = ax2.gridlines(\n",
    "        crs=crs,\n",
    "        draw_labels=True,\n",
    "        linewidth=0.6,\n",
    "        color=\"gray\",\n",
    "        alpha=0.5,\n",
    "        linestyle=\"-.\",\n",
    "    )\n",
    "    gl2.xlabel_style = {\"size\": 15}\n",
    "    gl2.ylabel_style = {\"size\": 15}\n",
    "\n",
    "    cbar_kwargs = {\n",
    "        \"orientation\": \"horizontal\",\n",
    "        \"shrink\": 0.9,\n",
    "        \"pad\": 0.1,\n",
    "        \"aspect\": 80,\n",
    "        \"label\": \"Emission Probability\",\n",
    "    }\n",
    "\n",
    "    ds.pdf.isel(time=tt).plot(\n",
    "        ax=ax2,\n",
    "        x=\"longitude\",\n",
    "        y=\"latitude\",\n",
    "        cbar_kwargs=cbar_kwargs,\n",
    "        transform=ccrs.PlateCarree(),\n",
    "        # vmin=0,\n",
    "        # vmax=0.0001,\n",
    "        cmap=\"cool\",\n",
    "    )\n",
    "\n",
    "    return None, None"
   ]
  },
  {
   "cell_type": "code",
   "execution_count": null,
   "id": "954c6308-ac60-469f-b75d-f035f0f07777",
   "metadata": {},
   "outputs": [],
   "source": [
    "%%time\n",
    "\n",
    "mov = Movie(\n",
    "    ds.isel(time=slice(0, ds.time.size + 1, time_step)),\n",
    "    custom_plotfunc,\n",
    "    input_check=False,\n",
    ")"
   ]
  },
  {
   "cell_type": "code",
   "execution_count": null,
   "id": "dcfd227f-336a-4775-b035-61b25700154e",
   "metadata": {
    "scrolled": true,
    "tags": []
   },
   "outputs": [],
   "source": [
    "%%time\n",
    "# mov.preview(1)\n",
    "path = f\"{name}_{states_path}_{time_step}hours.mp4\"\n",
    "mov.save(path, progress=True, overwrite_existing=True)\n",
    "# mov.render_single_frame(10)"
   ]
  },
  {
   "cell_type": "code",
   "execution_count": null,
   "id": "4b908540-52d4-42ba-a9fb-04203b441dfc",
   "metadata": {
    "tags": []
   },
   "outputs": [],
   "source": [
    "!rm -rf *.png"
   ]
  },
  {
   "cell_type": "raw",
   "id": "68e4ab75-e963-4036-942f-da2d8b124180",
   "metadata": {},
   "source": [
    "%%time\n",
    "#does not work yet. \n",
    "mov.save(\n",
    "    'movie_parallel.mp4',\n",
    "    parallel=True,\n",
    "    overwrite_existing=True,\n",
    ")"
   ]
  },
  {
   "cell_type": "code",
   "execution_count": null,
   "id": "f0576baa-3a36-486a-b31a-e55d4a389cff",
   "metadata": {},
   "outputs": [],
   "source": []
  }
 ],
 "metadata": {
  "kernelspec": {
   "display_name": "Python 3 (ipykernel)",
   "language": "python",
   "name": "python3"
  },
  "language_info": {
   "codemirror_mode": {
    "name": "ipython",
    "version": 3
   },
   "file_extension": ".py",
   "mimetype": "text/x-python",
   "name": "python",
   "nbconvert_exporter": "python",
   "pygments_lexer": "ipython3",
   "version": "3.11.4"
  }
 },
 "nbformat": 4,
 "nbformat_minor": 5
}
