{
 "cells": [
  {
   "cell_type": "markdown",
   "id": "136f301d-f3f2-43ef-8498-a342668f96ae",
   "metadata": {},
   "source": [
    "# optimization using `optuna`"
   ]
  },
  {
   "cell_type": "markdown",
   "id": "62e4aaab-b959-4d90-84b5-27d6c3a9b1b0",
   "metadata": {},
   "source": [
    "imports"
   ]
  },
  {
   "cell_type": "code",
   "execution_count": null,
   "id": "8862fc7c-0561-48eb-9128-60d4b7bfa29e",
   "metadata": {
    "tags": []
   },
   "outputs": [],
   "source": [
    "import json\n",
    "\n",
    "import fsspec\n",
    "import optuna\n",
    "import xarray as xr\n",
    "\n",
    "from toolz.functoolz import curry"
   ]
  },
  {
   "cell_type": "code",
   "execution_count": null,
   "id": "cc22a20f-b2bc-4ed1-b67e-307e401bf081",
   "metadata": {
    "tags": []
   },
   "outputs": [],
   "source": [
    "from pangeo_fish.hmm.estimator import EagerScoreEstimator\n",
    "from pangeo_fish.pdf import combine_emission_pdf\n",
    "from pangeo_fish.hmm.optimize.optuna import get_client, isolated_clients"
   ]
  },
  {
   "cell_type": "markdown",
   "id": "eae5d7c1-2d98-4ce7-9067-fe3e234af1cd",
   "metadata": {},
   "source": [
    "parametrize with [papermill](https://papermill.readthedocs.io/en/latest/)"
   ]
  },
  {
   "cell_type": "code",
   "execution_count": null,
   "id": "af6a1e5f-f7cc-45f1-8164-968069d591c0",
   "metadata": {
    "tags": [
     "parameters"
    ]
   },
   "outputs": [],
   "source": [
    "input_path: str\n",
    "output_path: str\n",
    "\n",
    "tolerance: float = 1e-2\n",
    "n_trials: int = 64\n",
    "n_jobs: int = 8"
   ]
  },
  {
   "cell_type": "markdown",
   "id": "d87ecae3-66c2-4531-a138-a72980fa5f93",
   "metadata": {},
   "source": [
    "## open the data"
   ]
  },
  {
   "cell_type": "code",
   "execution_count": null,
   "id": "00cc8a52-30d0-4d42-9d55-80145d1a5000",
   "metadata": {
    "tags": []
   },
   "outputs": [],
   "source": [
    "data = xr.open_dataset(\n",
    "    input_path, engine=\"zarr\", chunks={\"x\": -1, \"y\": -1}, inline_array=True\n",
    ").pipe(combine_emission_pdf)\n",
    "data"
   ]
  },
  {
   "cell_type": "markdown",
   "id": "c2018b46-eeb0-4e34-b948-90d2832e25c2",
   "metadata": {},
   "source": [
    "## select the estimator"
   ]
  },
  {
   "cell_type": "code",
   "execution_count": null,
   "id": "696ff665-5e91-4289-894a-3bee29799f4c",
   "metadata": {
    "tags": []
   },
   "outputs": [],
   "source": [
    "estimator = EagerScoreEstimator()"
   ]
  },
  {
   "cell_type": "markdown",
   "id": "69864f32-e67c-4272-a13b-23e2abf5e611",
   "metadata": {},
   "source": [
    "## prepare the optimization"
   ]
  },
  {
   "cell_type": "markdown",
   "id": "a88fbc82-c9c2-4de5-b9de-a8b90f91fa47",
   "metadata": {},
   "source": [
    "To find the most optimal parameter, we follow the [Parallel hyper-parameter optimization of XGBoost with Optuna and Dask (multiple clusters)](https://github.com/coiled/dask-xgboost-nyctaxi/blob/main/Modeling%203%20-%20Parallel%20HPO%20of%20XGBoost%20with%20Optuna%20and%20Dask%20(multi%20cluster).ipynb) notebook.\n",
    "\n",
    "This will use `optuna` to find the actual parameter, but have it use multiple threads where each thread gets its own `distributed` cluster."
   ]
  },
  {
   "cell_type": "code",
   "execution_count": null,
   "id": "296fe7a7-faa8-4883-8c45-87f80d39c95e",
   "metadata": {},
   "outputs": [],
   "source": [
    "def objective(trial, estimator, data):\n",
    "    client = get_client()\n",
    "\n",
    "    params = {\"sigma\": trial.suggest_float(\"sigma\", 1e-5, data.attrs[\"max_sigma\"])}\n",
    "\n",
    "    with client.as_current():\n",
    "        return estimator.set_params(**params).score(data).item()"
   ]
  },
  {
   "cell_type": "markdown",
   "id": "8a10388e-03f7-4ea7-b2f0-a05bdb15e341",
   "metadata": {},
   "source": [
    "## execute the optimization"
   ]
  },
  {
   "cell_type": "code",
   "execution_count": null,
   "id": "b9271773-7e3b-489c-a050-71f18047463b",
   "metadata": {},
   "outputs": [],
   "source": [
    "%%time\n",
    "study = optuna.create_study(study_name=\"parallel-pangeo-fish\")\n",
    "\n",
    "with isolated_clients():\n",
    "    study.optimize(\n",
    "        curry(objective)(estimator=estimator, data=data),\n",
    "        n_trials=n_trials,\n",
    "        n_jobs=n_jobs,\n",
    "    )\n",
    "\n",
    "study.best_params"
   ]
  },
  {
   "cell_type": "code",
   "execution_count": null,
   "id": "a31e8059-80c5-4be7-a264-3388d442f11a",
   "metadata": {},
   "outputs": [],
   "source": [
    "optuna.visualization.plot_optimization_history(study)"
   ]
  },
  {
   "cell_type": "code",
   "execution_count": null,
   "id": "18fe4e94-3b7e-4c7a-a826-9025be251676",
   "metadata": {},
   "outputs": [],
   "source": [
    "optimized = estimator.set_params(**study.best_params)\n",
    "optimized"
   ]
  },
  {
   "cell_type": "markdown",
   "id": "181e6eb4-4248-47d4-8fee-d3032a507f5a",
   "metadata": {},
   "source": [
    "## store the optimized parameters to disk"
   ]
  },
  {
   "cell_type": "code",
   "execution_count": null,
   "id": "d45576e1-27b3-46e5-ba13-c8d324851e9d",
   "metadata": {
    "tags": []
   },
   "outputs": [],
   "source": [
    "params = optimized.to_dict()\n",
    "with fsspec.open(output_path, mode=\"w\") as f:\n",
    "    json.dump(params, f)"
   ]
  }
 ],
 "metadata": {
  "language_info": {
   "codemirror_mode": {
    "name": "ipython",
    "version": 3
   },
   "file_extension": ".py",
   "mimetype": "text/x-python",
   "name": "python",
   "nbconvert_exporter": "python",
   "pygments_lexer": "ipython3"
  }
 },
 "nbformat": 4,
 "nbformat_minor": 5
}
