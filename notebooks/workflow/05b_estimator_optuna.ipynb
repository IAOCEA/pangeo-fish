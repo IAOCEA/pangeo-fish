{
 "cells": [
  {
   "cell_type": "markdown",
   "id": "136f301d-f3f2-43ef-8498-a342668f96ae",
   "metadata": {},
   "source": [
    "# optimization using `optuna`"
   ]
  },
  {
   "cell_type": "markdown",
   "id": "62e4aaab-b959-4d90-84b5-27d6c3a9b1b0",
   "metadata": {},
   "source": [
    "imports"
   ]
  },
  {
   "cell_type": "code",
   "execution_count": null,
   "id": "8862fc7c-0561-48eb-9128-60d4b7bfa29e",
   "metadata": {
    "tags": []
   },
   "outputs": [],
   "source": [
    "import json\n",
    "import threading\n",
    "import time\n",
    "import warnings\n",
    "from contextlib import contextmanager\n",
    "\n",
    "import dask\n",
    "import fsspec\n",
    "import numpy as np\n",
    "import optuna\n",
    "import xarray as xr\n",
    "from distributed import Client, LocalCluster\n",
    "from toolz.functoolz import curry"
   ]
  },
  {
   "cell_type": "code",
   "execution_count": null,
   "id": "cc22a20f-b2bc-4ed1-b67e-307e401bf081",
   "metadata": {
    "tags": []
   },
   "outputs": [],
   "source": [
    "from pangeo_fish.hmm.estimator import EagerScoreEstimator\n",
    "from pangeo_fish.pdf import combine_emission_pdf"
   ]
  },
  {
   "cell_type": "markdown",
   "id": "eae5d7c1-2d98-4ce7-9067-fe3e234af1cd",
   "metadata": {},
   "source": [
    "parametrize with [papermill](https://papermill.readthedocs.io/en/latest/)"
   ]
  },
  {
   "cell_type": "code",
   "execution_count": null,
   "id": "af6a1e5f-f7cc-45f1-8164-968069d591c0",
   "metadata": {
    "tags": [
     "parameters"
    ]
   },
   "outputs": [],
   "source": [
    "input_path: str\n",
    "output_path: str\n",
    "\n",
    "tolerance: float = 1e-2\n",
    "n_trials: int = 64\n",
    "n_jobs: int = 8\n",
    "\n",
    "scheduler_address: str | None = None"
   ]
  },
  {
   "cell_type": "markdown",
   "id": "d87ecae3-66c2-4531-a138-a72980fa5f93",
   "metadata": {},
   "source": [
    "## open the data"
   ]
  },
  {
   "cell_type": "code",
   "execution_count": null,
   "id": "00cc8a52-30d0-4d42-9d55-80145d1a5000",
   "metadata": {
    "tags": []
   },
   "outputs": [],
   "source": [
    "data = xr.open_dataset(\n",
    "    input_path, engine=\"zarr\", chunks={\"x\": -1, \"y\": -1}, inline_array=True\n",
    ").pipe(combine_emission_pdf)\n",
    "data"
   ]
  },
  {
   "cell_type": "markdown",
   "id": "74a03863-b4e5-4ba0-b572-cca4b5e3159f",
   "metadata": {},
   "source": [
    "## verify the data"
   ]
  },
  {
   "cell_type": "code",
   "execution_count": null,
   "id": "e5609009-a911-466b-8551-d6a343f6e5e7",
   "metadata": {
    "tags": []
   },
   "outputs": [],
   "source": [
    "import hvplot.xarray"
   ]
  },
  {
   "cell_type": "code",
   "execution_count": null,
   "id": "b5dc04d0-6399-44fa-9fee-3462a8d72f86",
   "metadata": {},
   "outputs": [],
   "source": [
    "data.pdf.count([\"x\", \"y\"]).hvplot(title=\"count of valid values\")"
   ]
  },
  {
   "cell_type": "markdown",
   "id": "c2018b46-eeb0-4e34-b948-90d2832e25c2",
   "metadata": {},
   "source": [
    "## select the estimator"
   ]
  },
  {
   "cell_type": "code",
   "execution_count": null,
   "id": "696ff665-5e91-4289-894a-3bee29799f4c",
   "metadata": {
    "tags": []
   },
   "outputs": [],
   "source": [
    "estimator = EagerScoreEstimator()"
   ]
  },
  {
   "cell_type": "markdown",
   "id": "69864f32-e67c-4272-a13b-23e2abf5e611",
   "metadata": {},
   "source": [
    "## prepare the optimization"
   ]
  },
  {
   "cell_type": "code",
   "execution_count": null,
   "id": "dc5248ba-7831-4605-97d5-55659f069e90",
   "metadata": {},
   "outputs": [],
   "source": [
    "import logging\n",
    "\n",
    "\n",
    "def create_default_formatter() -> logging.Formatter:\n",
    "    \"\"\"Create a default formatter of log messages.\n",
    "    This function is not supposed to be directly accessed by library users.\n",
    "    \"\"\"\n",
    "    header = \"[%(levelname)1.1s %(asctime)s]\"\n",
    "    message = \"%(message)s\"\n",
    "    return logging.Formatter(f\"{header} {message}\")\n",
    "\n",
    "\n",
    "def setup_logging():\n",
    "    logger = logging.getLogger(__name__)\n",
    "\n",
    "    consoleHandler = logging.StreamHandler()\n",
    "    formatter = create_default_formatter()\n",
    "    consoleHandler.setFormatter(formatter)\n",
    "    consoleHandler.setLevel(logging.DEBUG)\n",
    "    logger.addHandler(consoleHandler)\n",
    "    logger.setLevel(logging.INFO)\n",
    "\n",
    "    return logger\n",
    "\n",
    "\n",
    "logger = setup_logging()"
   ]
  },
  {
   "cell_type": "markdown",
   "id": "a88fbc82-c9c2-4de5-b9de-a8b90f91fa47",
   "metadata": {},
   "source": [
    "To find the most optimal parameter, we follow the [Parallel hyper-parameter optimization of XGBoost with Optuna and Dask (multiple clusters)](https://github.com/coiled/dask-xgboost-nyctaxi/blob/main/Modeling%203%20-%20Parallel%20HPO%20of%20XGBoost%20with%20Optuna%20and%20Dask%20(multi%20cluster).ipynb) notebook.\n",
    "\n",
    "This will use `optuna` to find the actual parameter, but have it use multiple threads where each thread gets its own `distributed` cluster."
   ]
  },
  {
   "cell_type": "code",
   "execution_count": null,
   "id": "296fe7a7-faa8-4883-8c45-87f80d39c95e",
   "metadata": {},
   "outputs": [],
   "source": [
    "clients = {}\n",
    "\n",
    "\n",
    "def get_client():\n",
    "    thread_id = threading.get_ident()\n",
    "\n",
    "    try:\n",
    "        return clients[thread_id]\n",
    "    except KeyError:\n",
    "        pass\n",
    "\n",
    "    with warnings.catch_warnings():\n",
    "        warnings.filterwarnings(\n",
    "            \"ignore\",\n",
    "            category=UserWarning,\n",
    "            module=\"distributed\",\n",
    "            message=\".*Port 8787 is already in use.\",\n",
    "        )\n",
    "\n",
    "        cluster = LocalCluster(n_workers=1, memory_limit=\"2GB\")\n",
    "        logger.info(f\"opened cluster dashboard at: {cluster.dashboard_link}\")\n",
    "    client = Client(cluster, set_as_default=False)\n",
    "\n",
    "    clients[thread_id] = client\n",
    "\n",
    "    return client\n",
    "\n",
    "\n",
    "def objective(trial, estimator, data):\n",
    "    client = get_client()\n",
    "\n",
    "    params = {\"sigma\": trial.suggest_float(\"sigma\", 1e-5, data.attrs[\"sigma_max\"])}\n",
    "\n",
    "    with client.as_current():\n",
    "        return estimator.set_params(**params).score(data).item()"
   ]
  },
  {
   "cell_type": "code",
   "execution_count": null,
   "id": "f3d26d99-2542-4d31-9df3-32fee6925076",
   "metadata": {},
   "outputs": [],
   "source": [
    "@contextmanager\n",
    "def isolated_clients():\n",
    "    global clients\n",
    "\n",
    "    backup = clients\n",
    "\n",
    "    try:\n",
    "        clients = {}\n",
    "        yield\n",
    "    finally:\n",
    "        for thread_id, client in clients.items():\n",
    "            # make sure we don't cancel anything\n",
    "            while [_ for _ in client.processing().values() if _]:\n",
    "                time.sleep(2)\n",
    "            client.shutdown()\n",
    "            client.close()\n",
    "\n",
    "        clusters = backup"
   ]
  },
  {
   "cell_type": "markdown",
   "id": "8a10388e-03f7-4ea7-b2f0-a05bdb15e341",
   "metadata": {},
   "source": [
    "## execute the optimization"
   ]
  },
  {
   "cell_type": "code",
   "execution_count": null,
   "id": "b9271773-7e3b-489c-a050-71f18047463b",
   "metadata": {},
   "outputs": [],
   "source": [
    "%%time\n",
    "path = f\"{root}/emission/{name}.zarr\"\n",
    "\n",
    "study = optuna.create_study(study_name=\"parallel-pangeo-fish-tag_log\")\n",
    "\n",
    "with isolated_clients():\n",
    "    study.optimize(\n",
    "        curry(objective)(estimator=estimator, data=data),\n",
    "        n_trials=n_trials,\n",
    "        n_jobs=n_jobs,\n",
    "    )\n",
    "\n",
    "study.best_params"
   ]
  },
  {
   "cell_type": "code",
   "execution_count": null,
   "id": "a31e8059-80c5-4be7-a264-3388d442f11a",
   "metadata": {},
   "outputs": [],
   "source": [
    "optuna.visualization.plot_optimization_history(study)"
   ]
  },
  {
   "cell_type": "code",
   "execution_count": null,
   "id": "18fe4e94-3b7e-4c7a-a826-9025be251676",
   "metadata": {},
   "outputs": [],
   "source": [
    "optimized = estimator.set_params(**study.best_params)\n",
    "optimized"
   ]
  },
  {
   "cell_type": "markdown",
   "id": "181e6eb4-4248-47d4-8fee-d3032a507f5a",
   "metadata": {},
   "source": [
    "## store the optimized parameters to disk"
   ]
  },
  {
   "cell_type": "code",
   "execution_count": null,
   "id": "d45576e1-27b3-46e5-ba13-c8d324851e9d",
   "metadata": {
    "tags": []
   },
   "outputs": [],
   "source": [
    "params = optimized.to_dict()\n",
    "with fsspec.open(output_path, mode=\"w\") as f:\n",
    "    json.dump(params, f)"
   ]
  }
 ],
 "metadata": {
  "language_info": {
   "codemirror_mode": {
    "name": "ipython",
    "version": 3
   },
   "file_extension": ".py",
   "mimetype": "text/x-python",
   "name": "python",
   "nbconvert_exporter": "python",
   "pygments_lexer": "ipython3"
  }
 },
 "nbformat": 4,
 "nbformat_minor": 5
}
