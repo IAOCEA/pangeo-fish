{
 "cells": [
  {
   "cell_type": "markdown",
   "id": "136f301d-f3f2-43ef-8498-a342668f96ae",
   "metadata": {},
   "source": [
    "# optimization using `optuna`"
   ]
  },
  {
   "cell_type": "code",
   "execution_count": null,
   "id": "6e4cf1e3-cef6-419c-8f95-87783a7c1dbb",
   "metadata": {
    "tags": []
   },
   "outputs": [],
   "source": [
    "import fsspec\n",
    "import xarray as xr"
   ]
  },
  {
   "cell_type": "code",
   "execution_count": null,
   "id": "69f9f061-81ed-4593-8185-7a49e7fe0de2",
   "metadata": {
    "tags": []
   },
   "outputs": [],
   "source": [
    "import cmocean\n",
    "import holoviews as hv\n",
    "import hvplot.pandas\n",
    "import hvplot.xarray\n",
    "import matplotlib\n",
    "\n",
    "hv.output(widget_location=\"bottom\")\n",
    "if not hasattr(matplotlib.cm, \"_cmap_registry\"):\n",
    "    matplotlib.cm._cmap_registry = matplotlib.cm._colormaps"
   ]
  },
  {
   "cell_type": "code",
   "execution_count": null,
   "id": "e90f9479-ffbb-4adf-ba97-0fda038e5069",
   "metadata": {
    "tags": []
   },
   "outputs": [],
   "source": [
    "root = \"file:///home/jmagin/work/data/fish-intel\"\n",
    "\n",
    "name = \"A18832-f1_e2500-4096\""
   ]
  },
  {
   "cell_type": "markdown",
   "id": "a88fbc82-c9c2-4de5-b9de-a8b90f91fa47",
   "metadata": {},
   "source": [
    "## the actual optimization\n",
    "\n",
    "For the optimization, we use the `EagerBoundsOptimizer`:"
   ]
  },
  {
   "cell_type": "code",
   "execution_count": null,
   "id": "f1c93491-ce9d-49b8-83f8-903062006713",
   "metadata": {
    "tags": []
   },
   "outputs": [],
   "source": [
    "import dask\n",
    "from distributed import LocalCluster"
   ]
  },
  {
   "cell_type": "code",
   "execution_count": null,
   "id": "05e3b807-094b-4992-b1ce-cf91dc1ea114",
   "metadata": {
    "tags": []
   },
   "outputs": [],
   "source": [
    "cluster = LocalCluster(n_workers=1)\n",
    "client = cluster.get_client()\n",
    "client"
   ]
  },
  {
   "cell_type": "code",
   "execution_count": null,
   "id": "5dd709a8-5613-459a-a3a7-b7056a631b8c",
   "metadata": {
    "tags": []
   },
   "outputs": [],
   "source": [
    "def fix_encoding(ds):\n",
    "    out = ds.copy()\n",
    "\n",
    "    for var in out.variables.values():\n",
    "        var.encoding.pop(\"preferred_chunks\")\n",
    "        var.encoding.pop(\"chunks\")\n",
    "\n",
    "    return out"
   ]
  },
  {
   "cell_type": "code",
   "execution_count": null,
   "id": "25e83632-e2a7-4d8f-b109-2cd77a992f5e",
   "metadata": {
    "tags": []
   },
   "outputs": [],
   "source": [
    "from pangeo_fish.hmm.estimator import EagerScoreEstimator\n",
    "from pangeo_fish.hmm.optimize import EagerBoundsSearch\n",
    "from pangeo_fish.pdf import combine_emission_pdf"
   ]
  },
  {
   "cell_type": "markdown",
   "id": "8a10388e-03f7-4ea7-b2f0-a05bdb15e341",
   "metadata": {},
   "source": [
    "## just the tag log"
   ]
  },
  {
   "cell_type": "code",
   "execution_count": null,
   "id": "1c4bf123-f394-4187-a24e-e185c6f45200",
   "metadata": {
    "tags": []
   },
   "outputs": [],
   "source": [
    "%%time\n",
    "path = f\"{root}/emission/{name}.zarr\"\n",
    "\n",
    "data = (\n",
    "    xr.open_dataset(path, engine=\"zarr\", chunks={\"x\": -1, \"y\": -1}, inline_array=True)\n",
    "    .pipe(fix_encoding)\n",
    "    .pipe(combine_emission_pdf)\n",
    ")\n",
    "data"
   ]
  },
  {
   "cell_type": "code",
   "execution_count": null,
   "id": "3abd822e-2fe0-4f1a-9099-65160e219185",
   "metadata": {},
   "outputs": [],
   "source": [
    "estimator = EagerScoreEstimator()\n",
    "optimizer = EagerBoundsSearch(\n",
    "    estimator,\n",
    "    (1e-4, data.attrs[\"max_sigma\"]),\n",
    "    optimizer_kwargs={\"disp\": 3, \"xtol\": 1e-2},\n",
    ")\n",
    "optimized = optimizer.fit(data)\n",
    "optimized"
   ]
  },
  {
   "cell_type": "code",
   "execution_count": null,
   "id": "0c7bbe3b-6a2a-44eb-9a7a-b11f57c86bd0",
   "metadata": {},
   "outputs": [],
   "source": [
    "%%time\n",
    "state_probabilities = (\n",
    "    optimized.predict_proba(data)\n",
    "    .pipe(lambda ds: dask.optimize(ds)[0])\n",
    "    .to_dataset(name=\"states\")\n",
    "    .assign_attrs(sigma=optimized.sigma)\n",
    ")\n",
    "state_probabilities"
   ]
  },
  {
   "cell_type": "code",
   "execution_count": null,
   "id": "fbfc8a08-5897-4c2a-9ccc-96c06d8e3b26",
   "metadata": {
    "tags": []
   },
   "outputs": [],
   "source": [
    "%%time\n",
    "outpath = f\"{root}/state/{name}-scipy.zarr\"\n",
    "state_probabilities.to_zarr(outpath, mode=\"w\", consolidated=True, compute=True)"
   ]
  },
  {
   "cell_type": "markdown",
   "id": "956869b0-e25e-4efa-ae8c-d669526598f7",
   "metadata": {},
   "source": [
    "## tag log and acoustic detections"
   ]
  },
  {
   "cell_type": "code",
   "execution_count": null,
   "id": "9e570049-104f-4f0b-bcb8-051836170da2",
   "metadata": {},
   "outputs": [],
   "source": [
    "%%time\n",
    "path = f\"{root}/emission/{name}-acoustic.zarr\"\n",
    "\n",
    "data = (\n",
    "    xr.open_dataset(path, engine=\"zarr\", chunks={\"x\": -1, \"y\": -1}, inline_array=True)\n",
    "    .pipe(fix_encoding)\n",
    "    .pipe(combine_emission_pdf)\n",
    ")\n",
    "\n",
    "estimator = EagerScoreEstimator()\n",
    "optimizer = EagerBoundsSearch(\n",
    "    estimator,\n",
    "    (1e-4, data.attrs[\"sigma_max\"]),\n",
    "    optimizer_kwargs={\"disp\": 3, \"xtol\": 1e-2},\n",
    ")\n",
    "optimized = optimizer.fit(data)\n",
    "optimized"
   ]
  },
  {
   "cell_type": "code",
   "execution_count": null,
   "id": "c81ddf89-7cfe-4285-8fd6-6684c2d6b129",
   "metadata": {},
   "outputs": [],
   "source": [
    "%%time\n",
    "state_probabilities = (\n",
    "    optimized.predict_proba(data)\n",
    "    .pipe(lambda ds: dask.optimize(ds)[0])\n",
    "    .to_dataset(name=\"states\")\n",
    "    .assign_attrs(sigma=optimized.sigma)\n",
    ")\n",
    "state_probabilities"
   ]
  },
  {
   "cell_type": "code",
   "execution_count": null,
   "id": "0e75f904-2018-4990-99f4-74bff90734cd",
   "metadata": {
    "tags": []
   },
   "outputs": [],
   "source": [
    "%%time\n",
    "outpath = f\"{root}/state/{name}-acoustic-scipy.zarr\"\n",
    "state_probabilities.to_zarr(outpath, mode=\"w\", consolidated=True, compute=True)"
   ]
  },
  {
   "cell_type": "markdown",
   "id": "4ceb4a6c-62f2-48fc-9bc9-6686258105a3",
   "metadata": {},
   "source": [
    "## plot the result"
   ]
  },
  {
   "cell_type": "code",
   "execution_count": null,
   "id": "931ddced-3b29-47b8-b46e-de0c3259c3c6",
   "metadata": {},
   "outputs": [],
   "source": [
    "tag_log = xr.open_dataset(f\"{root}/state/{name}-scipy.zarr\", engine=\"zarr\", chunks={})\n",
    "acoustic = xr.open_dataset(\n",
    "    f\"{root}/state/{name}-acoustic-scipy.zarr\", engine=\"zarr\", chunks={}\n",
    ")"
   ]
  },
  {
   "cell_type": "code",
   "execution_count": null,
   "id": "933c90d0-96d1-4bd6-a561-bf8c4f7a1004",
   "metadata": {
    "tags": []
   },
   "outputs": [],
   "source": [
    "plot1 = tag_log.states.hvplot.quadmesh(\n",
    "    x=\"longitude\",\n",
    "    y=\"latitude\",\n",
    "    rasterize=True,\n",
    "    coastline=\"10m\",\n",
    "    geo=True,\n",
    "    cmap=\"cmo.amp\",\n",
    "    title=f\"tag log – sigma = {tag_log.attrs['sigma']:.4f}\",\n",
    ")\n",
    "plot2 = acoustic.states.hvplot.quadmesh(\n",
    "    x=\"longitude\",\n",
    "    y=\"latitude\",\n",
    "    rasterize=True,\n",
    "    coastline=\"10m\",\n",
    "    geo=True,\n",
    "    cmap=\"cmo.amp\",\n",
    "    title=f\"tag log + acoustic detections – sigma = {acoustic.attrs['sigma']:.4f}\",\n",
    ")\n",
    "plot1 + plot2"
   ]
  }
 ],
 "metadata": {
  "language_info": {
   "codemirror_mode": {
    "name": "ipython",
    "version": 3
   },
   "file_extension": ".py",
   "mimetype": "text/x-python",
   "name": "python",
   "nbconvert_exporter": "python",
   "pygments_lexer": "ipython3"
  }
 },
 "nbformat": 4,
 "nbformat_minor": 5
}
