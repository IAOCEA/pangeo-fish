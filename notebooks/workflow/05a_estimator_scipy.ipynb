{
 "cells": [
  {
   "cell_type": "markdown",
   "id": "136f301d-f3f2-43ef-8498-a342668f96ae",
   "metadata": {},
   "source": [
    "# optimization using `scipy.optimize.minimize`"
   ]
  },
  {
   "cell_type": "markdown",
   "id": "b1289053-7771-434d-bf6b-5cc0fd954929",
   "metadata": {},
   "source": [
    "imports"
   ]
  },
  {
   "cell_type": "code",
   "execution_count": null,
   "id": "edc20a9d-d2b3-4d53-8a0a-4889a048e26f",
   "metadata": {
    "tags": []
   },
   "outputs": [],
   "source": [
    "import json\n",
    "\n",
    "import dask\n",
    "import fsspec\n",
    "import xarray as xr"
   ]
  },
  {
   "cell_type": "code",
   "execution_count": null,
   "id": "25e83632-e2a7-4d8f-b109-2cd77a992f5e",
   "metadata": {
    "tags": []
   },
   "outputs": [],
   "source": [
    "from pangeo_fish.hmm.estimator import EagerScoreEstimator\n",
    "from pangeo_fish.hmm.optimize import EagerBoundsSearch\n",
    "from pangeo_fish.pdf import combine_emission_pdf"
   ]
  },
  {
   "cell_type": "markdown",
   "id": "070601d0-5e99-4535-80fb-1892546b8ad0",
   "metadata": {},
   "source": [
    "parametrize using papermill"
   ]
  },
  {
   "cell_type": "code",
   "execution_count": null,
   "id": "4183dbfa-b3e4-4a3e-ac42-661b5aa22577",
   "metadata": {
    "tags": [
     "parameters"
    ]
   },
   "outputs": [],
   "source": [
    "input_path: str\n",
    "output_path: str\n",
    "\n",
    "tolerance: float = 1e-2\n",
    "\n",
    "scheduler_address: str | None = None"
   ]
  },
  {
   "cell_type": "code",
   "execution_count": null,
   "id": "e90f9479-ffbb-4adf-ba97-0fda038e5069",
   "metadata": {
    "tags": []
   },
   "outputs": [],
   "source": [
    "root = \"/home/jmagin/work/data/fish-intel\"\n",
    "\n",
    "name = \"A18832-f1_e2500-hp4096\"\n",
    "input_path = f\"{root}/emission/{name}.zarr\"\n",
    "output_path = f\"{root}/optimized/{name}.json\""
   ]
  },
  {
   "cell_type": "markdown",
   "id": "eacd0f78-43f7-4002-9a7f-668ac714e5e3",
   "metadata": {},
   "source": [
    "set up the dask cluster"
   ]
  },
  {
   "cell_type": "code",
   "execution_count": null,
   "id": "76ee3167-5459-4d22-b5eb-da2d9a385104",
   "metadata": {
    "tags": []
   },
   "outputs": [],
   "source": [
    "from distributed import Client, LocalCluster\n",
    "\n",
    "if scheduler_address is None:\n",
    "    cluster = LocalCluster(n_workers=1)\n",
    "    client = cluster.get_client()\n",
    "else:\n",
    "    client = Client(scheduler_address)\n",
    "client"
   ]
  },
  {
   "cell_type": "markdown",
   "id": "a88fbc82-c9c2-4de5-b9de-a8b90f91fa47",
   "metadata": {},
   "source": [
    "## optimization"
   ]
  },
  {
   "cell_type": "markdown",
   "id": "0da7b587-94d6-42d4-b8a2-af42bc0195a7",
   "metadata": {},
   "source": [
    "load the data"
   ]
  },
  {
   "cell_type": "code",
   "execution_count": null,
   "id": "1c4bf123-f394-4187-a24e-e185c6f45200",
   "metadata": {
    "tags": []
   },
   "outputs": [],
   "source": [
    "data = xr.open_dataset(\n",
    "    input_path, engine=\"zarr\", chunks={\"x\": -1, \"y\": -1}, inline_array=True\n",
    ").pipe(combine_emission_pdf)\n",
    "data"
   ]
  },
  {
   "cell_type": "markdown",
   "id": "a427f149-b89a-4a89-84f5-de972c6eb628",
   "metadata": {},
   "source": [
    "verify the data is good:"
   ]
  },
  {
   "cell_type": "code",
   "execution_count": null,
   "id": "18117ba4-1991-43db-abdc-9173a4650252",
   "metadata": {
    "tags": []
   },
   "outputs": [],
   "source": [
    "import hvplot.xarray"
   ]
  },
  {
   "cell_type": "code",
   "execution_count": null,
   "id": "cd619ad3-4e68-4b03-851a-633035e55bd5",
   "metadata": {},
   "outputs": [],
   "source": [
    "data.pdf.count([\"x\", \"y\"]).hvplot(title=\"count of valid values\")"
   ]
  },
  {
   "cell_type": "markdown",
   "id": "4b219fee-7e25-4cb1-b809-96c5f9db94fd",
   "metadata": {},
   "source": [
    "instatiate the estimator"
   ]
  },
  {
   "cell_type": "code",
   "execution_count": null,
   "id": "4c61198a-4f9a-4a01-87da-aad9ea7245fa",
   "metadata": {
    "tags": []
   },
   "outputs": [],
   "source": [
    "estimator = EagerScoreEstimator()"
   ]
  },
  {
   "cell_type": "markdown",
   "id": "3c10d918-00c2-4c10-b963-5c1f7ba5a6c4",
   "metadata": {},
   "source": [
    "optimize the parameters"
   ]
  },
  {
   "cell_type": "code",
   "execution_count": null,
   "id": "a9d2c941-3cf8-43dc-955e-411e03383aed",
   "metadata": {
    "tags": []
   },
   "outputs": [],
   "source": [
    "%%time\n",
    "optimizer = EagerBoundsSearch(\n",
    "    estimator,\n",
    "    (1e-4, data.attrs[\"max_sigma\"]),\n",
    "    optimizer_kwargs={\"disp\": 3, \"xtol\": tolerance},\n",
    ")\n",
    "optimized = optimizer.fit(data)\n",
    "optimized"
   ]
  },
  {
   "cell_type": "markdown",
   "id": "f0129a75-fcef-4d85-8653-f36d9fa2ee9d",
   "metadata": {},
   "source": [
    "store the parameters to disk"
   ]
  },
  {
   "cell_type": "code",
   "execution_count": null,
   "id": "b328e4e5-32bf-49fd-90cc-c115b4dd3b82",
   "metadata": {
    "tags": []
   },
   "outputs": [],
   "source": [
    "params = optimized.to_dict() | {\"tolerance\": tolerance}\n",
    "with fsspec.open(output_path, mode=\"w\") as f:\n",
    "    json.dump(params, f)"
   ]
  }
 ],
 "metadata": {
  "language_info": {
   "codemirror_mode": {
    "name": "ipython",
    "version": 3
   },
   "file_extension": ".py",
   "mimetype": "text/x-python",
   "name": "python",
   "nbconvert_exporter": "python",
   "pygments_lexer": "ipython3"
  }
 },
 "nbformat": 4,
 "nbformat_minor": 5
}
