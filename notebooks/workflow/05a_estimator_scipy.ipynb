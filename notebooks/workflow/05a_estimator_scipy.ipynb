{
 "cells": [
  {
   "cell_type": "markdown",
   "id": "136f301d-f3f2-43ef-8498-a342668f96ae",
   "metadata": {},
   "source": [
    "# optimization using `scipy.optimize.minimize`"
   ]
  },
  {
   "cell_type": "markdown",
   "id": "b1289053-7771-434d-bf6b-5cc0fd954929",
   "metadata": {},
   "source": [
    "imports"
   ]
  },
  {
   "cell_type": "code",
   "execution_count": null,
   "id": "edc20a9d-d2b3-4d53-8a0a-4889a048e26f",
   "metadata": {
    "tags": []
   },
   "outputs": [],
   "source": [
    "import json\n",
    "\n",
    "import dask\n",
    "import fsspec\n",
    "import xarray as xr"
   ]
  },
  {
   "cell_type": "code",
   "execution_count": null,
   "id": "25e83632-e2a7-4d8f-b109-2cd77a992f5e",
   "metadata": {
    "tags": []
   },
   "outputs": [],
   "source": [
    "from pangeo_fish.hmm.estimator import EagerScoreEstimator\n",
    "from pangeo_fish.hmm.optimize import EagerBoundsSearch\n",
    "from pangeo_fish.pdf import combine_emission_pdf"
   ]
  },
  {
   "cell_type": "markdown",
   "id": "2b9b2cd1-7d86-41cf-a674-9b07a800301b",
   "metadata": {
    "tags": []
   },
   "source": [
    "## parametrize with [papermill](https://papermill.readthedocs.io/en/latest/)"
   ]
  },
  {
   "cell_type": "code",
   "execution_count": null,
   "id": "4183dbfa-b3e4-4a3e-ac42-661b5aa22577",
   "metadata": {
    "tags": [
     "parameters"
    ]
   },
   "outputs": [],
   "source": [
    "#Notebook specification\n",
    "tolerance: float = 1e-2\n",
    "cluster_size: int = 1\n",
    "# cluster_size: int = 1\n",
    "# This step is important to chose cluster_size as one.\n",
    "\n",
    "\n",
    "#Dask parameters (Machine, and configuration dependent) \n",
    "cluster_name: str = \"datarmor-local\"\n",
    "cluster_overrides: dict = {}\n",
    "\n",
    "#Run specific \n",
    "working_path: str = \"/home/datawork-taos-s/public/fish/\"\n",
    "tag_name: str = \"A18832\"\n",
    "tag_base_path: str = \"/home/datawork-lops-iaocea/data/fish-intel/tag/nc/\"\n",
    "tag_db_path: str = \"/home/datawork-lops-iaocea/data/fish-intel/acoustic/FishIntel_tagging_France.csv\"\n",
    "detections_path: str = \"/home/datawork-lops-iaocea/data/fish-intel/acoustic/detections_recaptured_fishintel.csv\"\n",
    "\n",
    "ref_model_name: str = \"copernicus\"\n",
    "# we can set the parameter acoustic to use acoustic information or not\n",
    "# acoustic: str = \"\"\n",
    "acoustic: str = \"/acoustic\"\n",
    "\n",
    "nside: int = 4096  # healpix resolution"
   ]
  },
  {
   "cell_type": "markdown",
   "id": "24816ebc-1f7d-4cd6-85a2-40e79a560ba8",
   "metadata": {},
   "source": [
    "## set path using the parameters\n"
   ]
  },
  {
   "cell_type": "code",
   "execution_count": null,
   "id": "c50e49f5-15de-4670-95f0-37aabf382c39",
   "metadata": {},
   "outputs": [],
   "source": [
    "tag_url = tag_base_path +   tag_name + \".nc\"\n",
    "\n",
    "input_path = working_path + tag_name + \"/\" + ref_model_name + acoustic + \"/emission_\"+ str(nside) +\".zarr\"\n",
    "output_path = working_path + tag_name + \"/\" + ref_model_name + acoustic + \"/sigma_\"+ str(nside) +\".json\""
   ]
  },
  {
   "cell_type": "markdown",
   "id": "a210407c-5aa8-42b9-bb96-ee0b96ad8263",
   "metadata": {},
   "source": [
    "## Specify machine dependent parameters\n",
    "\n"
   ]
  },
  {
   "cell_type": "code",
   "execution_count": null,
   "id": "9093ae3d-124f-4dab-971f-e6e4bd0295bc",
   "metadata": {},
   "outputs": [],
   "source": [
    "domainname=!domainname\n",
    "\n",
    "if domainname == [\"nisdatarmor\"]:\n",
    "    # Datarmor\n",
    "    catalog = \"/home/datawork-taos-s/intranet/kerchunk/ref-copernicus.yaml\"\n",
    "else:\n",
    "    # local PC\n",
    "    catalog = \"https://data-taos.ifremer.fr/kerchunk/ref-copernicus.yaml\""
   ]
  },
  {
   "cell_type": "markdown",
   "id": "0a33a577-ecab-448f-9049-87a11813fc69",
   "metadata": {},
   "source": [
    "## Start Dask cluster\n",
    "### Specific for this notebook"
   ]
  },
  {
   "cell_type": "code",
   "execution_count": null,
   "id": "2c1dd529-9ec0-460f-a934-0274008ef7e8",
   "metadata": {},
   "outputs": [],
   "source": [
    "import dask_hpcconfig\n",
    "from distributed import Client\n",
    "\n",
    "if domainname == [\"nisdatarmor\"]:\n",
    "    n_worker_per_node = 1\n",
    "    n_threads_per_worker = 28\n",
    "    print(n_worker_per_node, n_threads_per_worker)\n",
    "    overrides = {\n",
    "        \"cluster.threads_per_worker\": n_threads_per_worker,\n",
    "        \"cluster.n_workers\": n_worker_per_node,\n",
    "    }\n",
    "    cluster = dask_hpcconfig.cluster(\"datarmor-local\", **overrides)\n",
    "else:\n",
    "    n_worker_per_node = 1\n",
    "    print(n_worker_per_node)\n",
    "    overrides = {\n",
    "        \"cluster.n_workers\": n_worker_per_node,\n",
    "    }\n",
    "    cluster = dask_hpcconfig.cluster(\"local\")\n",
    "\n",
    "client = Client(cluster)\n",
    "client"
   ]
  },
  {
   "cell_type": "markdown",
   "id": "0da7b587-94d6-42d4-b8a2-af42bc0195a7",
   "metadata": {},
   "source": [
    "## open the data"
   ]
  },
  {
   "cell_type": "code",
   "execution_count": null,
   "id": "1c4bf123-f394-4187-a24e-e185c6f45200",
   "metadata": {
    "tags": []
   },
   "outputs": [],
   "source": [
    "%%time\n",
    "data = xr.open_dataset(\n",
    "    input_path, engine=\"zarr\", chunks={\"x\": -1, \"y\": -1}, inline_array=True\n",
    ").pipe(combine_emission_pdf)\n",
    "data"
   ]
  },
  {
   "cell_type": "code",
   "execution_count": null,
   "id": "de3dd246-c255-4847-bda8-a7fb4daa08b1",
   "metadata": {},
   "outputs": [],
   "source": [
    "%%time\n",
    "#drop dask before the compute\n",
    "data=data.compute()\n",
    "data"
   ]
  },
  {
   "cell_type": "markdown",
   "id": "a427f149-b89a-4a89-84f5-de972c6eb628",
   "metadata": {},
   "source": [
    "## verify the data"
   ]
  },
  {
   "cell_type": "code",
   "execution_count": null,
   "id": "18117ba4-1991-43db-abdc-9173a4650252",
   "metadata": {
    "tags": []
   },
   "outputs": [],
   "source": [
    "import hvplot.xarray"
   ]
  },
  {
   "cell_type": "code",
   "execution_count": null,
   "id": "cd619ad3-4e68-4b03-851a-633035e55bd5",
   "metadata": {},
   "outputs": [],
   "source": [
    "data.pdf.count([\"x\", \"y\"]).hvplot(title=\"count of valid values\")"
   ]
  },
  {
   "cell_type": "markdown",
   "id": "4b219fee-7e25-4cb1-b809-96c5f9db94fd",
   "metadata": {},
   "source": [
    "## select the estimator"
   ]
  },
  {
   "cell_type": "code",
   "execution_count": null,
   "id": "4c61198a-4f9a-4a01-87da-aad9ea7245fa",
   "metadata": {
    "tags": []
   },
   "outputs": [],
   "source": [
    "%%time\n",
    "estimator = EagerScoreEstimator()"
   ]
  },
  {
   "cell_type": "markdown",
   "id": "3c10d918-00c2-4c10-b963-5c1f7ba5a6c4",
   "metadata": {},
   "source": [
    "## optimize the parameters"
   ]
  },
  {
   "cell_type": "code",
   "execution_count": null,
   "id": "a9d2c941-3cf8-43dc-955e-411e03383aed",
   "metadata": {
    "tags": []
   },
   "outputs": [],
   "source": [
    "%%time\n",
    "optimizer = EagerBoundsSearch(\n",
    "    estimator,\n",
    "    (1e-4, data.attrs[\"max_sigma\"]),\n",
    "    optimizer_kwargs={\"disp\": 3, \"xtol\": tolerance},\n",
    ")\n",
    "optimized = optimizer.fit(data)\n",
    "optimized"
   ]
  },
  {
   "cell_type": "markdown",
   "id": "f0129a75-fcef-4d85-8653-f36d9fa2ee9d",
   "metadata": {},
   "source": [
    "## store the optimized parameters to disk"
   ]
  },
  {
   "cell_type": "code",
   "execution_count": null,
   "id": "b328e4e5-32bf-49fd-90cc-c115b4dd3b82",
   "metadata": {
    "tags": []
   },
   "outputs": [],
   "source": [
    "%%time\n",
    "params = optimized.to_dict() | {\"tolerance\": tolerance}\n",
    "with fsspec.open(output_path, mode=\"w\") as f:\n",
    "    json.dump(params, f)"
   ]
  }
 ],
 "metadata": {
  "kernelspec": {
   "display_name": "Python 3 (ipykernel)",
   "language": "python",
   "name": "python3"
  },
  "language_info": {
   "codemirror_mode": {
    "name": "ipython",
    "version": 3
   },
   "file_extension": ".py",
   "mimetype": "text/x-python",
   "name": "python",
   "nbconvert_exporter": "python",
   "pygments_lexer": "ipython3",
   "version": "3.11.4"
  }
 },
 "nbformat": 4,
 "nbformat_minor": 5
}
