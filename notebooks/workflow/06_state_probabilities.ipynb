{
 "cells": [
  {
   "cell_type": "markdown",
   "id": "1abfd357-a508-4045-b54a-37255da49d59",
   "metadata": {
    "tags": []
   },
   "source": [
    "# state probabilities"
   ]
  },
  {
   "cell_type": "code",
   "execution_count": null,
   "id": "9873ed02-4a39-44ce-8914-c311eb3ed971",
   "metadata": {
    "tags": []
   },
   "outputs": [],
   "source": [
    "import json\n",
    "\n",
    "import fsspec\n",
    "import xarray as xr\n",
    "\n",
    "from pangeo_fish.hmm.estimator import EagerScoreEstimator\n",
    "from pangeo_fish.pdf import combine_emission_pdf"
   ]
  },
  {
   "cell_type": "markdown",
   "id": "055be0b2-0f55-4dff-bf35-75b106b74fbc",
   "metadata": {},
   "source": [
    "parametrize with [papermill](https://papermill.readthedocs.io/en/latest/)"
   ]
  },
  {
   "cell_type": "code",
   "execution_count": null,
   "id": "b8e93577-d20a-4cba-a1fd-8d4ce61944f0",
   "metadata": {
    "tags": [
     "parameters"
    ]
   },
   "outputs": [],
   "source": [
    "emission_path: str\n",
    "parameter_path: str\n",
    "\n",
    "states_path: str\n",
    "\n",
    "scheduler_address: str | None = None"
   ]
  },
  {
   "cell_type": "markdown",
   "id": "d608b900-706b-4699-bba9-6b23eae84915",
   "metadata": {},
   "source": [
    "dask cluster"
   ]
  },
  {
   "cell_type": "code",
   "execution_count": null,
   "id": "efc4b7d9-b03b-4ffb-9e50-04f10b780764",
   "metadata": {
    "tags": []
   },
   "outputs": [],
   "source": [
    "from distributed import Client, LocalCluster\n",
    "\n",
    "if scheduler_address is None:\n",
    "    cluster = LocalCluster()\n",
    "    client = cluster.get_client()\n",
    "else:\n",
    "    client = Client(scheduler_address)\n",
    "client"
   ]
  },
  {
   "cell_type": "markdown",
   "id": "6a1ad54f-c3a2-41a8-92b2-237ab9d641c5",
   "metadata": {},
   "source": [
    "open the emission probabilities"
   ]
  },
  {
   "cell_type": "code",
   "execution_count": null,
   "id": "2d04b81b-82ed-4ac8-b579-556a87d32780",
   "metadata": {
    "tags": []
   },
   "outputs": [],
   "source": [
    "emission = (\n",
    "    xr.open_dataset(emission_path, engine=\"zarr\", chunks={}, inline_array=True)\n",
    "    .pipe(combine_emission_pdf)\n",
    "    .drop_vars(\"resolution\")\n",
    ")\n",
    "emission"
   ]
  },
  {
   "cell_type": "markdown",
   "id": "1aef7242-bafc-4947-a840-c147813d6976",
   "metadata": {},
   "source": [
    "read the parameters"
   ]
  },
  {
   "cell_type": "code",
   "execution_count": null,
   "id": "da367cdf-17e8-468f-9dfa-48108cfff467",
   "metadata": {
    "tags": []
   },
   "outputs": [],
   "source": [
    "with fsspec.open(parameter_path, mode=\"r\") as f:\n",
    "    parameters = json.load(f)\n",
    "parameters.pop(\"tolerance\", None)\n",
    "parameters"
   ]
  },
  {
   "cell_type": "markdown",
   "id": "f64782f4-1bc3-4e06-b81a-81852997742b",
   "metadata": {},
   "source": [
    "create the estimator"
   ]
  },
  {
   "cell_type": "code",
   "execution_count": null,
   "id": "4249cd8a-8218-4043-af66-5382d3fad735",
   "metadata": {
    "tags": []
   },
   "outputs": [],
   "source": [
    "estimator = EagerScoreEstimator(**parameters)\n",
    "estimator"
   ]
  },
  {
   "cell_type": "markdown",
   "id": "49809cbf-4a6b-4e8f-b111-82f8bdd18b38",
   "metadata": {},
   "source": [
    "compute the state probabilities"
   ]
  },
  {
   "cell_type": "code",
   "execution_count": null,
   "id": "cef45abe-9cc0-41f5-89f9-69cdf171d829",
   "metadata": {
    "tags": []
   },
   "outputs": [],
   "source": [
    "%%time\n",
    "states = estimator.predict_proba(emission)\n",
    "states"
   ]
  },
  {
   "cell_type": "markdown",
   "id": "fac6950f-be7e-4afe-9df2-3acadd8b7112",
   "metadata": {},
   "source": [
    "write to disk"
   ]
  },
  {
   "cell_type": "code",
   "execution_count": null,
   "id": "bc9a9083-835f-43df-b994-e7807ee6e2d6",
   "metadata": {
    "tags": []
   },
   "outputs": [],
   "source": [
    "%%time\n",
    "states.to_zarr(states_path, mode=\"w\", consolidated=True)"
   ]
  },
  {
   "cell_type": "markdown",
   "id": "ff587ce2-654d-45ab-9a40-591a4652ad92",
   "metadata": {},
   "source": [
    "## visualization"
   ]
  },
  {
   "cell_type": "code",
   "execution_count": null,
   "id": "c6098183-5605-41b0-96f2-4b093006ebf8",
   "metadata": {
    "tags": []
   },
   "outputs": [],
   "source": [
    "import hvplot.xarray\n",
    "import cmocean"
   ]
  },
  {
   "cell_type": "code",
   "execution_count": null,
   "id": "8fc4617f-9090-411f-b25c-69127eaecad4",
   "metadata": {
    "tags": []
   },
   "outputs": [],
   "source": [
    "states_path = \"/home/jmagin/work/data/fish-intel/states/A18832-f1_e2500-hp4096.zarr\"\n",
    "states_ = xr.open_dataset(states_path, engine=\"zarr\", chunks={})\n",
    "states_"
   ]
  },
  {
   "cell_type": "code",
   "execution_count": null,
   "id": "45d6a308-d702-4a38-8923-dc97c50d6781",
   "metadata": {
    "tags": []
   },
   "outputs": [],
   "source": [
    "states_.states.count(dim=[\"x\", \"y\"]).plot()"
   ]
  }
 ],
 "metadata": {
  "language_info": {
   "codemirror_mode": {
    "name": "ipython",
    "version": 3
   },
   "file_extension": ".py",
   "mimetype": "text/x-python",
   "name": "python",
   "nbconvert_exporter": "python",
   "pygments_lexer": "ipython3"
  }
 },
 "nbformat": 4,
 "nbformat_minor": 5
}
