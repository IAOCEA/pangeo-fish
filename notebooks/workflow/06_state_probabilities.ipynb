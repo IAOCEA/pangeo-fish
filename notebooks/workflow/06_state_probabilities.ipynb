{
 "cells": [
  {
   "cell_type": "markdown",
   "id": "1abfd357-a508-4045-b54a-37255da49d59",
   "metadata": {
    "tags": []
   },
   "source": [
    "# state probabilities"
   ]
  },
  {
   "cell_type": "markdown",
   "id": "c4ecdcf1-d624-4040-904a-51756b059acb",
   "metadata": {},
   "source": [
    "imports"
   ]
  },
  {
   "cell_type": "code",
   "execution_count": null,
   "id": "9873ed02-4a39-44ce-8914-c311eb3ed971",
   "metadata": {
    "tags": []
   },
   "outputs": [],
   "source": [
    "import json\n",
    "\n",
    "import fsspec\n",
    "import xarray as xr\n",
    "\n",
    "from pangeo_fish.hmm.estimator import EagerScoreEstimator\n",
    "from pangeo_fish.pdf import combine_emission_pdf"
   ]
  },
  {
   "cell_type": "markdown",
   "id": "de7bd5d6-3042-4fe4-b4f5-972c45cb74d9",
   "metadata": {
    "tags": []
   },
   "source": [
    "## parametrize with [papermill](https://papermill.readthedocs.io/en/latest/)"
   ]
  },
  {
   "cell_type": "code",
   "execution_count": null,
   "id": "4183dbfa-b3e4-4a3e-ac42-661b5aa22577",
   "metadata": {
    "tags": [
     "parameters"
    ]
   },
   "outputs": [],
   "source": [
    "# Notebook specification\n",
    "cluster_size: int = 1\n",
    "\n",
    "# Dask parameters (Machine, and configuration dependent)\n",
    "# cluster_size: int | None = None\n",
    "cluster_name: str = \"datarmor-local\"\n",
    "cluster_overrides: dict = {}\n",
    "\n",
    "# Run specific\n",
    "working_path: str = \"/home/datawork-taos-s/public/fish/\"\n",
    "tag_name: str = \"A18832\"\n",
    "tag_base_path: str = \"/home/datawork-lops-iaocea/data/fish-intel/tag/nc/\"\n",
    "tag_db_path: str = (\n",
    "    \"/home/datawork-lops-iaocea/data/fish-intel/acoustic/FishIntel_tagging_France.csv\"\n",
    ")\n",
    "detections_path: str = \"/home/datawork-lops-iaocea/data/fish-intel/acoustic/detections_recaptured_fishintel.csv\"\n",
    "ref_model_name: str = \"copernicus\"\n",
    "nside: int = 4096  # healpix resolution\n",
    "\n",
    "# we can set the parameter acoustic to use acoustic information or not\n",
    "acoustic: str = \"/acoustic\""
   ]
  },
  {
   "cell_type": "markdown",
   "id": "81a44e15-9a59-472f-b21c-ce097eac4695",
   "metadata": {},
   "source": [
    "## set path using the parameters\n"
   ]
  },
  {
   "cell_type": "code",
   "execution_count": null,
   "id": "c50e49f5-15de-4670-95f0-37aabf382c39",
   "metadata": {},
   "outputs": [],
   "source": [
    "tag_url = tag_base_path + tag_name + \".nc\"\n",
    "input_path = (\n",
    "    working_path\n",
    "    + tag_name\n",
    "    + \"/\"\n",
    "    + ref_model_name\n",
    "    + acoustic\n",
    "    + \"/emission_\"\n",
    "    + str(nside)\n",
    "    + \".zarr\"\n",
    ")\n",
    "parameter_path = (\n",
    "    working_path\n",
    "    + tag_name\n",
    "    + \"/\"\n",
    "    + ref_model_name\n",
    "    + acoustic\n",
    "    + \"/sigma_\"\n",
    "    + str(nside)\n",
    "    + \".json\"\n",
    ")\n",
    "output_path = (\n",
    "    working_path\n",
    "    + tag_name\n",
    "    + \"/\"\n",
    "    + ref_model_name\n",
    "    + acoustic\n",
    "    + \"/state_\"\n",
    "    + str(nside)\n",
    "    + \".zarr\"\n",
    ")"
   ]
  },
  {
   "cell_type": "markdown",
   "id": "70cc8825-0e18-4489-b31f-3111672b5b6a",
   "metadata": {},
   "source": [
    "## Start Dask cluster"
   ]
  },
  {
   "cell_type": "code",
   "execution_count": null,
   "id": "975b8976-6278-49c0-90c7-cf2665418726",
   "metadata": {},
   "outputs": [],
   "source": [
    "import dask_hpcconfig\n",
    "from distributed import Client"
   ]
  },
  {
   "cell_type": "code",
   "execution_count": null,
   "id": "b041c191-f9d0-4b06-87ba-9842c19c20ca",
   "metadata": {},
   "outputs": [],
   "source": [
    "domainname = !domainname\n",
    "\n",
    "if domainname == [\"nisdatarmor\"]:\n",
    "    cluster = dask_hpcconfig.cluster(cluster_name, **cluster_overrides)\n",
    "    if cluster_size is not None:\n",
    "        cluster.scale(cluster_size)\n",
    "else:\n",
    "    cluster = dask_hpcconfig.cluster(\"local\")\n",
    "\n",
    "client = Client(cluster)\n",
    "client"
   ]
  },
  {
   "cell_type": "markdown",
   "id": "6a1ad54f-c3a2-41a8-92b2-237ab9d641c5",
   "metadata": {},
   "source": [
    "open the emission probabilities"
   ]
  },
  {
   "cell_type": "code",
   "execution_count": null,
   "id": "2d04b81b-82ed-4ac8-b579-556a87d32780",
   "metadata": {
    "tags": []
   },
   "outputs": [],
   "source": [
    "emission = (\n",
    "    xr.open_dataset(input_path, engine=\"zarr\", chunks={}, inline_array=True)\n",
    "    .pipe(combine_emission_pdf)\n",
    "    .drop_vars(\"resolution\")\n",
    ")\n",
    "emission"
   ]
  },
  {
   "cell_type": "markdown",
   "id": "1aef7242-bafc-4947-a840-c147813d6976",
   "metadata": {},
   "source": [
    "read the parameters"
   ]
  },
  {
   "cell_type": "code",
   "execution_count": null,
   "id": "da367cdf-17e8-468f-9dfa-48108cfff467",
   "metadata": {
    "tags": []
   },
   "outputs": [],
   "source": [
    "with fsspec.open(parameter_path, mode=\"r\") as f:\n",
    "    parameters = json.load(f)\n",
    "parameters.pop(\"tolerance\", None)\n",
    "parameters"
   ]
  },
  {
   "cell_type": "markdown",
   "id": "f64782f4-1bc3-4e06-b81a-81852997742b",
   "metadata": {},
   "source": [
    "create the estimator"
   ]
  },
  {
   "cell_type": "code",
   "execution_count": null,
   "id": "4249cd8a-8218-4043-af66-5382d3fad735",
   "metadata": {
    "tags": []
   },
   "outputs": [],
   "source": [
    "%%time\n",
    "estimator = EagerScoreEstimator(**parameters)\n",
    "estimator"
   ]
  },
  {
   "cell_type": "markdown",
   "id": "49809cbf-4a6b-4e8f-b111-82f8bdd18b38",
   "metadata": {},
   "source": [
    "compute the state probabilities"
   ]
  },
  {
   "cell_type": "code",
   "execution_count": null,
   "id": "cef45abe-9cc0-41f5-89f9-69cdf171d829",
   "metadata": {
    "tags": []
   },
   "outputs": [],
   "source": [
    "%%time\n",
    "states = estimator.predict_proba(emission)\n",
    "states"
   ]
  },
  {
   "cell_type": "markdown",
   "id": "fac6950f-be7e-4afe-9df2-3acadd8b7112",
   "metadata": {},
   "source": [
    "write to disk"
   ]
  },
  {
   "cell_type": "code",
   "execution_count": null,
   "id": "bc9a9083-835f-43df-b994-e7807ee6e2d6",
   "metadata": {
    "tags": []
   },
   "outputs": [],
   "source": [
    "%%time\n",
    "states.chunk({\"time\": \"auto\", \"x\": -1, \"y\": -1}).to_zarr(\n",
    "    output_path, mode=\"w\", consolidated=True\n",
    ")"
   ]
  },
  {
   "cell_type": "markdown",
   "id": "ff587ce2-654d-45ab-9a40-591a4652ad92",
   "metadata": {},
   "source": [
    "## visualization"
   ]
  },
  {
   "cell_type": "code",
   "execution_count": null,
   "id": "1a1d8e0c-1b7b-45e1-854d-b82ea0fc6610",
   "metadata": {},
   "outputs": [],
   "source": [
    "states_ = xr.open_dataset(output_path, engine=\"zarr\", chunks={})\n",
    "states_"
   ]
  },
  {
   "cell_type": "code",
   "execution_count": null,
   "id": "45d6a308-d702-4a38-8923-dc97c50d6781",
   "metadata": {
    "tags": []
   },
   "outputs": [],
   "source": [
    "states_.states.count(dim=[\"x\", \"y\"]).plot()"
   ]
  },
  {
   "cell_type": "code",
   "execution_count": null,
   "id": "36ff6a82-97eb-427e-90b0-f5268dfb5bb7",
   "metadata": {
    "tags": []
   },
   "outputs": [],
   "source": [
    "states_[\"states\"].isel(time=5).plot(x=\"longitude\", y=\"latitude\")"
   ]
  },
  {
   "cell_type": "code",
   "execution_count": null,
   "id": "c21f70a3-8c0f-4312-a788-440c9a5a1ac3",
   "metadata": {},
   "outputs": [],
   "source": []
  }
 ],
 "metadata": {
  "language_info": {
   "codemirror_mode": {
    "name": "ipython",
    "version": 3
   },
   "file_extension": ".py",
   "mimetype": "text/x-python",
   "name": "python",
   "nbconvert_exporter": "python",
   "pygments_lexer": "ipython3"
  }
 },
 "nbformat": 4,
 "nbformat_minor": 5
}
