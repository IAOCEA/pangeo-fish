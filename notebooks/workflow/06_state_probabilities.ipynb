{
 "cells": [
  {
   "cell_type": "markdown",
   "id": "1abfd357-a508-4045-b54a-37255da49d59",
   "metadata": {
    "tags": []
   },
   "source": [
    "# state probabilities"
   ]
  },
  {
   "cell_type": "code",
   "execution_count": null,
   "id": "9873ed02-4a39-44ce-8914-c311eb3ed971",
   "metadata": {
    "tags": []
   },
   "outputs": [],
   "source": [
    "import json\n",
    "\n",
    "import fsspec\n",
    "import xarray as xr\n",
    "\n",
    "from pangeo_fish.hmm.estimator import EagerScoreEstimator\n",
    "from pangeo_fish.pdf import combine_emission_pdf"
   ]
  },
  {
   "cell_type": "markdown",
   "id": "055be0b2-0f55-4dff-bf35-75b106b74fbc",
   "metadata": {},
   "source": [
    "parametrize with [papermill](https://papermill.readthedocs.io/en/latest/)"
   ]
  },
  {
   "cell_type": "code",
   "execution_count": null,
   "id": "4183dbfa-b3e4-4a3e-ac42-661b5aa22577",
   "metadata": {
    "tags": [
     "parameters"
    ]
   },
   "outputs": [],
   "source": [
    "\n",
    "# cluster_size: int = 1\n",
    "# This step is important to chose cluster_size as one.\n",
    "cluster_size: int = 1\n",
    "\n",
    "working_path: str = \"/home/datawork-taos-s/public/fish/\"\n",
    "tag_name: str = \"A18832\"\n",
    "tag_base_path: str = \"/home/datawork-lops-iaocea/data/fish-intel/tag/nc/\"\n",
    "tag_db_path: str = \"/home/datawork-lops-iaocea/data/fish-intel/acoustic/FishIntel_tagging_France.csv\"\n",
    "detections_path: str = \"/home/datawork-lops-iaocea/data/fish-intel/acoustic/detections_recaptured_fishintel.csv\"\n",
    "\n",
    "ref_model_name: str = \"copernicus\"\n",
    "\n",
    "# we can set the parameter acoustic to use acoustic information or not\n",
    "acoustic: str = \"/acoustic\"\n",
    "\n",
    "nside: int = 4096  # healpix resolution"
   ]
  },
  {
   "cell_type": "code",
   "execution_count": null,
   "id": "c50e49f5-15de-4670-95f0-37aabf382c39",
   "metadata": {},
   "outputs": [],
   "source": [
    "\n",
    "domainname=!domainname\n",
    "\n",
    "if domainname == [\"nisdatarmor\"]:\n",
    "    # Datarmor\n",
    "#    tag_base_path = \"/home/datawork-lops-iaocea/data/fish-intel/\"\n",
    "#    tag_base_path = \"/home/datawork-taos-s/intranet/data/tag/\"\n",
    "    catalog = \"/home/datawork-taos-s/intranet/kerchunk/ref-copernicus.yaml\"\n",
    "    cluster_name=\"datarmor\"\n",
    "else:\n",
    "    # local PC\n",
    "#    tag_base_path: str = \"/Users/todaka/python/git/pangeo-fish/data_local/fish-intel/\"\n",
    "    catalog = \"https://data-taos.ifremer.fr/kerchunk/ref-copernicus.yaml\"\n",
    "    cluster_name=\"local\"\n",
    "\n",
    "tag_url = tag_base_path +   tag_name + \".nc\"\n",
    "\n",
    "input_path = working_path + tag_name + \"/\" + ref_model_name + acoustic + \"/emission_\"+ str(nside) +\".zarr\"\n",
    "parameter_path = working_path + tag_name + \"/\" + ref_model_name + acoustic + \"/sigma_\"+ str(nside) +\".json\"\n",
    "output_path = working_path + tag_name + \"/\" + ref_model_name + acoustic + \"/state_\"+ str(nside) +\".json\""
   ]
  },
  {
   "cell_type": "markdown",
   "id": "ac4a6f92-3437-477c-bde6-03fc2b15a0d0",
   "metadata": {},
   "source": [
    "### Set up Dask\n",
    "\n"
   ]
  },
  {
   "cell_type": "code",
   "execution_count": null,
   "id": "be1ef85d-7573-4a58-93a3-bf78e554cd24",
   "metadata": {},
   "outputs": [],
   "source": [
    "import dask_hpcconfig\n",
    "from distributed import Client\n",
    "\n",
    "if domainname == [\"nisdatarmor\"]:\n",
    "    overrides = {}\n",
    "    # overrides = { \"cluster.cores\": 28 , \"cluster.processes\": 6 }\n",
    "    cluster = dask_hpcconfig.cluster(cluster_name, **overrides)\n",
    "    cluster.scale(cluster_size)\n",
    "else:\n",
    "    cluster = dask_hpcconfig.cluster(\"local\")\n",
    "\n",
    "client = Client(cluster)\n",
    "client"
   ]
  },
  {
   "cell_type": "markdown",
   "id": "6a1ad54f-c3a2-41a8-92b2-237ab9d641c5",
   "metadata": {},
   "source": [
    "open the emission probabilities"
   ]
  },
  {
   "cell_type": "code",
   "execution_count": null,
   "id": "2d04b81b-82ed-4ac8-b579-556a87d32780",
   "metadata": {
    "tags": []
   },
   "outputs": [],
   "source": [
    "emission = (\n",
    "    xr.open_dataset(input_path, engine=\"zarr\", chunks={}, inline_array=True)\n",
    "    .pipe(combine_emission_pdf)\n",
    "    .drop_vars(\"resolution\")\n",
    ")\n",
    "emission"
   ]
  },
  {
   "cell_type": "markdown",
   "id": "1aef7242-bafc-4947-a840-c147813d6976",
   "metadata": {},
   "source": [
    "read the parameters"
   ]
  },
  {
   "cell_type": "code",
   "execution_count": null,
   "id": "da367cdf-17e8-468f-9dfa-48108cfff467",
   "metadata": {
    "tags": []
   },
   "outputs": [],
   "source": [
    "with fsspec.open(parameter_path, mode=\"r\") as f:\n",
    "    parameters = json.load(f)\n",
    "parameters.pop(\"tolerance\", None)\n",
    "parameters"
   ]
  },
  {
   "cell_type": "markdown",
   "id": "f64782f4-1bc3-4e06-b81a-81852997742b",
   "metadata": {},
   "source": [
    "create the estimator"
   ]
  },
  {
   "cell_type": "code",
   "execution_count": null,
   "id": "4249cd8a-8218-4043-af66-5382d3fad735",
   "metadata": {
    "tags": []
   },
   "outputs": [],
   "source": [
    "estimator = EagerScoreEstimator(**parameters)\n",
    "estimator"
   ]
  },
  {
   "cell_type": "markdown",
   "id": "49809cbf-4a6b-4e8f-b111-82f8bdd18b38",
   "metadata": {},
   "source": [
    "compute the state probabilities"
   ]
  },
  {
   "cell_type": "code",
   "execution_count": null,
   "id": "cef45abe-9cc0-41f5-89f9-69cdf171d829",
   "metadata": {
    "tags": []
   },
   "outputs": [],
   "source": [
    "%%time\n",
    "states = estimator.predict_proba(emission)\n",
    "states"
   ]
  },
  {
   "cell_type": "markdown",
   "id": "fac6950f-be7e-4afe-9df2-3acadd8b7112",
   "metadata": {},
   "source": [
    "write to disk"
   ]
  },
  {
   "cell_type": "code",
   "execution_count": null,
   "id": "bc9a9083-835f-43df-b994-e7807ee6e2d6",
   "metadata": {
    "tags": []
   },
   "outputs": [],
   "source": [
    "%%time\n",
    "states.to_zarr(output_path, mode=\"w\", consolidated=True)"
   ]
  },
  {
   "cell_type": "markdown",
   "id": "ff587ce2-654d-45ab-9a40-591a4652ad92",
   "metadata": {},
   "source": [
    "## visualization"
   ]
  },
  {
   "cell_type": "code",
   "execution_count": null,
   "id": "1a1d8e0c-1b7b-45e1-854d-b82ea0fc6610",
   "metadata": {},
   "outputs": [],
   "source": [
    "states_ = xr.open_dataset(output_path, engine=\"zarr\", chunks={})\n",
    "states_"
   ]
  },
  {
   "cell_type": "code",
   "execution_count": null,
   "id": "45d6a308-d702-4a38-8923-dc97c50d6781",
   "metadata": {
    "tags": []
   },
   "outputs": [],
   "source": [
    "states_.states.count(dim=[\"x\", \"y\"]).plot()\n"
   ]
  },
  {
   "cell_type": "code",
   "execution_count": null,
   "id": "36ff6a82-97eb-427e-90b0-f5268dfb5bb7",
   "metadata": {
    "tags": []
   },
   "outputs": [],
   "source": [
    "states_[\"states\"].isel(time=5).plot(x=\"longitude\", y=\"latitude\")"
   ]
  },
  {
   "cell_type": "code",
   "execution_count": null,
   "id": "c21f70a3-8c0f-4312-a788-440c9a5a1ac3",
   "metadata": {},
   "outputs": [],
   "source": []
  }
 ],
 "metadata": {
  "kernelspec": {
   "display_name": "Python 3 (ipykernel)",
   "language": "python",
   "name": "python3"
  },
  "language_info": {
   "codemirror_mode": {
    "name": "ipython",
    "version": 3
   },
   "file_extension": ".py",
   "mimetype": "text/x-python",
   "name": "python",
   "nbconvert_exporter": "python",
   "pygments_lexer": "ipython3",
   "version": "3.11.4"
  }
 },
 "nbformat": 4,
 "nbformat_minor": 5
}
