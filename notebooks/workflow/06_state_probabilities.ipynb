{
 "cells": [
  {
   "cell_type": "markdown",
   "id": "1abfd357-a508-4045-b54a-37255da49d59",
   "metadata": {
    "tags": []
   },
   "source": [
    "# state probabilities"
   ]
  },
  {
   "cell_type": "code",
   "execution_count": null,
   "id": "9873ed02-4a39-44ce-8914-c311eb3ed971",
   "metadata": {
    "tags": []
   },
   "outputs": [],
   "source": [
    "import json\n",
    "\n",
    "import fsspec\n",
    "import xarray as xr\n",
    "\n",
    "from pangeo_fish.hmm.estimator import EagerScoreEstimator\n",
    "from pangeo_fish.pdf import combine_emission_pdf"
   ]
  },
  {
   "cell_type": "markdown",
   "id": "055be0b2-0f55-4dff-bf35-75b106b74fbc",
   "metadata": {},
   "source": [
    "parametrize with [papermill](https://papermill.readthedocs.io/en/latest/)"
   ]
  },
  {
   "cell_type": "code",
   "execution_count": null,
   "id": "4183dbfa-b3e4-4a3e-ac42-661b5aa22577",
   "metadata": {
    "tags": [
     "parameters"
    ]
   },
   "outputs": [],
   "source": [
    "\n",
    "# scheduler_address: str | None = None\n",
    "tag_name: str = \"A18832\"\n",
    "working_path: str = \"/home/datawork-taos-s/public/fish/\"\n",
    "# working_path: str | \"/Users/todaka/python/git/pangeo-fish/data_local/fish-intel/\"\n",
    "ref_model_name: str = \"copernicus\"\n",
    "\n",
    "nside: int = 4096  # healpix resolution\n",
    "\n",
    "# we can set the parameter acoustic to use acoustic information or not\n",
    "# acoustic: str = \"\"\n",
    "acoustic: str = \"/acoustic\"\n",
    "\n",
    "# cluster_size: int = 1\n",
    "# This step is important to chose cluster_size as one.\n",
    "cluster_size: int = 1"
   ]
  },
  {
   "cell_type": "code",
   "execution_count": null,
   "id": "c50e49f5-15de-4670-95f0-37aabf382c39",
   "metadata": {},
   "outputs": [],
   "source": [
    "\n",
    "domainname=!domainname\n",
    "\n",
    "if domainname == [\"nisdatarmor\"]:\n",
    "    # Datarmor\n",
    "    tag_base_path = \"/home/datawork-lops-iaocea/data/fish-intel/\"\n",
    "    catalog = \"/home/datawork-taos-s/intranet/kerchunk/ref-copernicus.yaml\"\n",
    "# This step, we use a local cluster.  \n",
    "    cluster_name=\"datarmor\"\n",
    "    #cluster_name=\"datarmor-local\"\n",
    "\n",
    "else:\n",
    "    # local PC\n",
    "    tag_base_path: str = \"/Users/todaka/python/git/pangeo-fish/data_local/fish-intel/\"\n",
    "    catalog = \"https://data-taos.ifremer.fr/kerchunk/ref-copernicus.yaml\"\n",
    "    cluster_name=\"local\"\n",
    "\n",
    "tag_url = tag_base_path + \"tag/nc/\" + tag_name + \".nc\"\n",
    "tag_db_path = tag_base_path + \"acoustic/FishIntel_tagging_France.csv\"\n",
    "detections_path = tag_base_path + \"/acoustic/detections_recaptured_fishintel.csv\"\n",
    "\n",
    "input_path = working_path + tag_name + \"/\" + ref_model_name + acoustic + \"/emission_\"+ str(nside) +\".zarr\"\n",
    "parameter_path = working_path + tag_name + \"/\" + ref_model_name + acoustic + \"/sigma_\"+ str(nside) +\".json\"\n",
    "output_path = working_path + tag_name + \"/\" + ref_model_name + acoustic + \"/state_\"+ str(nside) +\".json\""
   ]
  },
  {
   "cell_type": "markdown",
   "id": "ac4a6f92-3437-477c-bde6-03fc2b15a0d0",
   "metadata": {},
   "source": [
    "### Set up Dask\n",
    "\n"
   ]
  },
  {
   "cell_type": "code",
   "execution_count": null,
   "id": "be1ef85d-7573-4a58-93a3-bf78e554cd24",
   "metadata": {},
   "outputs": [],
   "source": [
    "import dask_hpcconfig\n",
    "from distributed import Client\n",
    "if domainname == [\"nisdatarmor\"]:\n",
    "    overrides = {}\n",
    "    # overrides = { \"cluster.cores\": 28 , \"cluster.processes\": 6 }    \n",
    "    cluster = dask_hpcconfig.cluster(cluster_name, **overrides)\n",
    "    cluster.scale(cluster_size)\n",
    "else:\n",
    "    cluster = dask_hpcconfig.cluster(\"local\")\n",
    "\n",
    "client = Client(cluster)\n",
    "client"
   ]
  },
  {
   "cell_type": "markdown",
   "id": "6a1ad54f-c3a2-41a8-92b2-237ab9d641c5",
   "metadata": {},
   "source": [
    "open the emission probabilities"
   ]
  },
  {
   "cell_type": "code",
   "execution_count": null,
   "id": "2d04b81b-82ed-4ac8-b579-556a87d32780",
   "metadata": {
    "tags": []
   },
   "outputs": [],
   "source": [
    "emission = (\n",
    "    xr.open_dataset(input_path, engine=\"zarr\", chunks={}, inline_array=True)\n",
    "    .pipe(combine_emission_pdf)\n",
    "    .drop_vars(\"resolution\")\n",
    ")\n",
    "emission"
   ]
  },
  {
   "cell_type": "markdown",
   "id": "1aef7242-bafc-4947-a840-c147813d6976",
   "metadata": {},
   "source": [
    "read the parameters"
   ]
  },
  {
   "cell_type": "code",
   "execution_count": null,
   "id": "da367cdf-17e8-468f-9dfa-48108cfff467",
   "metadata": {
    "tags": []
   },
   "outputs": [],
   "source": [
    "with fsspec.open(parameter_path, mode=\"r\") as f:\n",
    "    parameters = json.load(f)\n",
    "    parameters.pop('tolerance')\n",
    "parameters"
   ]
  },
  {
   "cell_type": "markdown",
   "id": "f64782f4-1bc3-4e06-b81a-81852997742b",
   "metadata": {},
   "source": [
    "create the estimator"
   ]
  },
  {
   "cell_type": "code",
   "execution_count": null,
   "id": "4249cd8a-8218-4043-af66-5382d3fad735",
   "metadata": {
    "tags": []
   },
   "outputs": [],
   "source": [
    "estimator = EagerScoreEstimator(**parameters)\n",
    "estimator"
   ]
  },
  {
   "cell_type": "markdown",
   "id": "49809cbf-4a6b-4e8f-b111-82f8bdd18b38",
   "metadata": {},
   "source": [
    "compute the state probabilities"
   ]
  },
  {
   "cell_type": "code",
   "execution_count": null,
   "id": "cef45abe-9cc0-41f5-89f9-69cdf171d829",
   "metadata": {
    "tags": []
   },
   "outputs": [],
   "source": [
    "%%time\n",
    "states = estimator.predict_proba(emission)\n",
    "states"
   ]
  },
  {
   "cell_type": "markdown",
   "id": "fac6950f-be7e-4afe-9df2-3acadd8b7112",
   "metadata": {},
   "source": [
    "write to disk"
   ]
  },
  {
   "cell_type": "code",
   "execution_count": null,
   "id": "db9435d6-b751-4f4b-9a36-b97e4ecab11c",
   "metadata": {
    "tags": []
   },
   "outputs": [],
   "source": [
    "%%time\n",
    "states.to_zarr(output_path, mode=\"w\", consolidated=True)"
   ]
  },
  {
   "cell_type": "markdown",
   "id": "f2746232-8032-4cbf-a5ba-90e029144bef",
   "metadata": {},
   "source": [
    "## visualization"
   ]
  },
  {
   "cell_type": "code",
   "execution_count": null,
   "id": "1a1d8e0c-1b7b-45e1-854d-b82ea0fc6610",
   "metadata": {
    "scrolled": true
   },
   "outputs": [],
   "source": [
    "states_ = xr.open_zarr(output_path)\n",
    "states_"
   ]
  },
  {
   "cell_type": "code",
   "execution_count": null,
   "id": "5b99637c-f056-4e18-bcd5-4a2cbb81125f",
   "metadata": {},
   "outputs": [],
   "source": [
    "states_[\"states\"].isel(time=5).plot(x=\"longitude\", y=\"latitude\")"
   ]
  },
  {
   "cell_type": "code",
   "execution_count": null,
   "id": "40e84c71-5f8e-49ae-aa39-82850b652c56",
   "metadata": {},
   "outputs": [],
   "source": []
  }
 ],
 "metadata": {
  "kernelspec": {
   "display_name": "pangeo-fish-iaocea",
   "language": "python",
   "name": "pangeo-fish-iaocea"
  },
  "language_info": {
   "codemirror_mode": {
    "name": "ipython",
    "version": 3
   },
   "file_extension": ".py",
   "mimetype": "text/x-python",
   "name": "python",
   "nbconvert_exporter": "python",
   "pygments_lexer": "ipython3",
   "version": "3.11.4"
  }
 },
 "nbformat": 4,
 "nbformat_minor": 5
}
