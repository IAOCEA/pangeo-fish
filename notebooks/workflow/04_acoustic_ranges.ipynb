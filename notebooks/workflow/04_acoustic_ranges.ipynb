{
 "cells": [
  {
   "cell_type": "markdown",
   "id": "f71fc144-4915-413e-a283-97a79266a263",
   "metadata": {},
   "source": [
    "# emission probability from acoustic ranges"
   ]
  },
  {
   "cell_type": "markdown",
   "id": "29bd7d53-2541-4940-9188-71204a20b8da",
   "metadata": {},
   "source": [
    "imports"
   ]
  },
  {
   "cell_type": "code",
   "execution_count": null,
   "id": "23ccf5c8-a54b-44eb-a8c5-9f3f2a248f1c",
   "metadata": {},
   "outputs": [],
   "source": [
    "import io\n",
    "import pathlib\n",
    "\n",
    "import cf_xarray\n",
    "import dask\n",
    "import flox.xarray\n",
    "import numpy as np\n",
    "import pandas as pd\n",
    "import xarray as xr\n",
    "from pangeo_fish import utils\n",
    "from pangeo_fish.acoustic import (\n",
    "    count_detections,\n",
    "    extract_receivers,\n",
    "    search_acoustic_tag_id,\n",
    ")\n",
    "from pangeo_fish.healpy import (\n",
    "    astronomic_to_cartesian,\n",
    "    astronomic_to_cell_ids,\n",
    "    buffer_points,\n",
    "    geographic_to_astronomic,\n",
    ")\n",
    "\n",
    "xr.set_options(keep_attrs=True, display_expand_data=False)"
   ]
  },
  {
   "cell_type": "markdown",
   "id": "2509947c-7e02-4558-9e78-8832a9f6b6ff",
   "metadata": {
    "tags": []
   },
   "source": [
    "## parametrize with [papermill](https://papermill.readthedocs.io/en/latest/)"
   ]
  },
  {
   "cell_type": "code",
   "execution_count": null,
   "id": "f5991bd1-3462-47b1-857b-82ed5be04f7c",
   "metadata": {
    "tags": [
     "parameters"
    ]
   },
   "outputs": [],
   "source": [
    "#Notebook specification\n",
    "receiver_buffer: float = 1000.0  # in [m]\n",
    "\n",
    "\n",
    "#Dask parameters (Machine, and configuration dependent) \n",
    "cluster_size: int | None = None\n",
    "cluster_name: str = \"datarmor-local\"\n",
    "cluster_overrides: dict = {}\n",
    "\n",
    "#Run specific \n",
    "working_path: str = \"/home/datawork-taos-s/public/fish/\"\n",
    "tag_name: str = \"A18832\"\n",
    "tag_base_path: str = \"/home/datawork-lops-iaocea/data/fish-intel/tag/nc/\"\n",
    "tag_db_path: str = \"/home/datawork-lops-iaocea/data/fish-intel/acoustic/FishIntel_tagging_France.csv\"\n",
    "detections_path: str = \"/home/datawork-lops-iaocea/data/fish-intel/acoustic/detections_recaptured_fishintel.csv\"\n",
    "\n",
    "ref_model_name: str = \"copernicus\"\n",
    "nside: int = 4096  # healpix resolution"
   ]
  },
  {
   "cell_type": "markdown",
   "id": "6214c974-d625-42b4-ad52-b661a1245209",
   "metadata": {},
   "source": [
    "## set path using the parameters\n"
   ]
  },
  {
   "cell_type": "code",
   "execution_count": null,
   "id": "f562d435-0485-453b-8a14-75cff91da5d2",
   "metadata": {},
   "outputs": [],
   "source": [
    "tag_url = tag_base_path +   tag_name + \".nc\"\n",
    "\n",
    "input_path = working_path + tag_name + \"/\" + ref_model_name + \"/emission_\"+ str(nside) +\".zarr\"\n",
    "output_path = working_path + tag_name + \"/\" + ref_model_name + \"/acoustic/emission_\"+ str(nside) +\".zarr\""
   ]
  },
  {
   "cell_type": "markdown",
   "id": "371defd6-8b88-4e0a-9a2b-f8b5015c60c8",
   "metadata": {},
   "source": [
    "## Specify machine dependent parameters\n",
    "\n"
   ]
  },
  {
   "cell_type": "code",
   "execution_count": null,
   "id": "b758fa98-5eb5-4b6c-85c3-a1fe95a73495",
   "metadata": {},
   "outputs": [],
   "source": [
    "domainname=!domainname\n",
    "\n",
    "if domainname == [\"nisdatarmor\"]:\n",
    "    # Datarmor\n",
    "    catalog = \"/home/datawork-taos-s/intranet/kerchunk/ref-copernicus.yaml\"\n",
    "else:\n",
    "    # local PC\n",
    "    catalog = \"https://data-taos.ifremer.fr/kerchunk/ref-copernicus.yaml\""
   ]
  },
  {
   "cell_type": "markdown",
   "id": "e2a4a031-1ac8-45d3-a139-31f99555c718",
   "metadata": {},
   "source": [
    "## Start Dask cluster"
   ]
  },
  {
   "cell_type": "code",
   "execution_count": null,
   "id": "4cfbcb1e-c318-494d-9a0f-b439264f9c56",
   "metadata": {},
   "outputs": [],
   "source": [
    "import dask_hpcconfig\n",
    "from distributed import Client"
   ]
  },
  {
   "cell_type": "code",
   "execution_count": null,
   "id": "6cbc90bf-88d1-4a5e-97a8-9a628642f5eb",
   "metadata": {},
   "outputs": [],
   "source": [
    "if domainname == [\"nisdatarmor\"]:\n",
    "    cluster = dask_hpcconfig.cluster(cluster_name, **cluster_overrides)\n",
    "    if cluster_size is not None:\n",
    "        cluster.scale(cluster_size)\n",
    "else:\n",
    "    cluster = dask_hpcconfig.cluster(\"local\")\n",
    "\n",
    "client = Client(cluster)\n",
    "client"
   ]
  },
  {
   "cell_type": "markdown",
   "id": "6887afe0-7f8a-4d22-8fd0-ebaabc023940",
   "metadata": {},
   "source": [
    "## open data"
   ]
  },
  {
   "cell_type": "markdown",
   "id": "0d6bb070-ac41-4f35-a299-f4e8dea1a53e",
   "metadata": {},
   "source": [
    "tag database"
   ]
  },
  {
   "cell_type": "code",
   "execution_count": null,
   "id": "bee8361b-e26d-45f8-9ea9-b5c038da0025",
   "metadata": {},
   "outputs": [],
   "source": [
    "tag_database = pd.read_csv(tag_db_path, sep=\",\")\n",
    "tag_database.head(2)"
   ]
  },
  {
   "cell_type": "markdown",
   "id": "7cd8ddbd-acf3-4823-8683-f7528c5c0f28",
   "metadata": {},
   "source": [
    "detections"
   ]
  },
  {
   "cell_type": "code",
   "execution_count": null,
   "id": "ff516b28-ca7f-4219-aa07-1c8004c0c51d",
   "metadata": {},
   "outputs": [],
   "source": [
    "# work around the weird quoting\n",
    "with open(detections_path, mode=\"r\") as f:\n",
    "    lines = (line.replace('\"', \"\") for line in f)\n",
    "    data = \"\\n\".join(lines)\n",
    "content = io.StringIO(data)\n",
    "\n",
    "detection_database = (\n",
    "    pd.read_csv(content, parse_dates=[1])\n",
    "    .rename(columns={\"date_time\": \"time\"})\n",
    "    .set_index(\"time\")\n",
    ")\n",
    "detection_database.head(2)"
   ]
  },
  {
   "cell_type": "markdown",
   "id": "88eb00d5-8d82-49eb-9267-b4721891575e",
   "metadata": {},
   "source": [
    "base grid"
   ]
  },
  {
   "cell_type": "code",
   "execution_count": null,
   "id": "a16c12b6",
   "metadata": {},
   "outputs": [],
   "source": [
    "ds = xr.open_dataset(input_path, engine=\"zarr\", chunks={\"x\": -1, \"y\": -1})\n",
    "ds"
   ]
  },
  {
   "cell_type": "markdown",
   "id": "400c01da-a5b6-4444-b6ad-5af8fda45131",
   "metadata": {},
   "source": [
    "## select detections"
   ]
  },
  {
   "cell_type": "markdown",
   "id": "f5909e98-5b37-44d4-a29c-e88de4478973",
   "metadata": {},
   "source": [
    "extract receiver locations"
   ]
  },
  {
   "cell_type": "code",
   "execution_count": null,
   "id": "bb761106-762b-4d93-8de7-efff4f55df6c",
   "metadata": {},
   "outputs": [],
   "source": [
    "receivers = extract_receivers(detection_database).to_xarray()\n",
    "receivers"
   ]
  },
  {
   "cell_type": "code",
   "execution_count": null,
   "id": "dea17dc9-e309-4ddb-895b-82b7eb9cbf42",
   "metadata": {},
   "outputs": [],
   "source": [
    "acoustic_tag_id = search_acoustic_tag_id(tag_database, ds.attrs[\"tag_id\"])\n",
    "acoustic_tag_id"
   ]
  },
  {
   "cell_type": "code",
   "execution_count": null,
   "id": "e2382105-6fc4-474c-9724-47d58e7da35b",
   "metadata": {
    "tags": []
   },
   "outputs": [],
   "source": [
    "detections = (\n",
    "    detection_database[[\"deployment_id\", \"acoustic_tag_id\"]]\n",
    "    .reset_index()\n",
    "    .set_index(\"acoustic_tag_id\")\n",
    "    .loc[acoustic_tag_id]\n",
    "    .set_index(\"time\")\n",
    "    .to_xarray()\n",
    ")\n",
    "detections"
   ]
  },
  {
   "cell_type": "markdown",
   "id": "9cc9932a-d149-4d24-ab59-ffa4c14e9077",
   "metadata": {},
   "source": [
    "## detection weights"
   ]
  },
  {
   "cell_type": "markdown",
   "id": "bf8c0acc-a58c-46d3-ad84-19777017b676",
   "metadata": {},
   "source": [
    "count detections"
   ]
  },
  {
   "cell_type": "code",
   "execution_count": null,
   "id": "e1273290-e978-496a-b26c-a08ca1dbaf39",
   "metadata": {},
   "outputs": [],
   "source": [
    "time_intervals = (\n",
    "    ds[[\"time\"]]\n",
    "    .cf.add_bounds(keys=\"time\")[\"time_bounds\"]\n",
    "    .pipe(cf_xarray.bounds_to_vertices, bounds_dim=\"bounds\")\n",
    "    .pipe(pd.IntervalIndex.from_breaks)\n",
    ")\n",
    "time_intervals"
   ]
  },
  {
   "cell_type": "code",
   "execution_count": null,
   "id": "86571387-fc93-460f-a73c-1d2d1e3546c0",
   "metadata": {},
   "outputs": [],
   "source": [
    "weights = (\n",
    "    count_detections(detections, by=time_intervals)\n",
    "    .swap_dims({\"time_bins\": \"time\"})\n",
    "    .assign_coords(time=ds.time)\n",
    "    .pipe(lambda ds: ds.merge(receivers.sel(deployment_id=ds[\"deployment_id\"])))\n",
    "    .pipe(utils.normalize, dim=\"deployment_id\")\n",
    "    .fillna(0)\n",
    "    .rename_vars({\"count\": \"weights\"})[\"weights\"]\n",
    ")\n",
    "weights"
   ]
  },
  {
   "cell_type": "markdown",
   "id": "5bc97201-2821-4f61-b45e-4957f90cb489",
   "metadata": {},
   "source": [
    "## detection maps\n",
    "\n",
    "The stations have a detection range given by `receiver_buffers`. For the maps, we select all pixels within that range and set those to `1`."
   ]
  },
  {
   "cell_type": "code",
   "execution_count": null,
   "id": "57d90116-f1df-45a6-9b27-7670f40ce621",
   "metadata": {},
   "outputs": [],
   "source": [
    "rot = {k.removeprefix(\"rot_\"): v for k, v in ds.attrs.items() if k.startswith(\"rot_\")}\n",
    "phi, theta = geographic_to_astronomic(\n",
    "    lon=receivers.deploy_longitude, lat=receivers.deploy_latitude, rot=rot\n",
    ")\n",
    "cartesian_positions = astronomic_to_cartesian(theta=theta, phi=phi, dim=\"deployment_id\")\n",
    "cartesian_positions"
   ]
  },
  {
   "cell_type": "markdown",
   "id": "69cda290-2261-4edf-af38-eaa93e869f84",
   "metadata": {},
   "source": [
    "Unfortunately, the cell ids stored as a coordinate are not the correct ones, so we have to reconstruct the correct ones."
   ]
  },
  {
   "cell_type": "code",
   "execution_count": null,
   "id": "181e6fc9-a587-4499-8d29-8e19264b07d7",
   "metadata": {
    "tags": []
   },
   "outputs": [],
   "source": [
    "phi, theta = geographic_to_astronomic(lat=ds.latitude, lon=ds.longitude, rot=rot)\n",
    "cell_ids = astronomic_to_cell_ids(nside=ds.attrs[\"nside\"], phi=phi, theta=theta)\n",
    "cell_ids"
   ]
  },
  {
   "cell_type": "code",
   "execution_count": null,
   "id": "ce1e8210-d348-459c-846f-5915a4714664",
   "metadata": {},
   "outputs": [],
   "source": [
    "masks = buffer_points(\n",
    "    cell_ids,\n",
    "    cartesian_positions,\n",
    "    nside=ds.attrs[\"nside\"],\n",
    "    buffer_size=receiver_buffer,\n",
    "    factor=2**16,\n",
    "    intersect=True,\n",
    ")\n",
    "masks"
   ]
  },
  {
   "cell_type": "code",
   "execution_count": null,
   "id": "cf7b8d35-6567-45d5-99d1-ebbde9d60385",
   "metadata": {},
   "outputs": [],
   "source": [
    "combined_mask = masks.sum(dim=\"deployment_id\").astype(bool)\n",
    "combined_mask"
   ]
  },
  {
   "cell_type": "code",
   "execution_count": null,
   "id": "92956522-ae68-4655-a6c6-6a904f51097b",
   "metadata": {},
   "outputs": [],
   "source": [
    "grid = ds.cf[[\"latitude\", \"longitude\"]]\n",
    "grid"
   ]
  },
  {
   "cell_type": "markdown",
   "id": "4dd98a80-4bbb-42e8-8f65-99f436b994b3",
   "metadata": {},
   "source": [
    "## apply weights"
   ]
  },
  {
   "cell_type": "code",
   "execution_count": null,
   "id": "6c013fee-b485-43d1-ac76-cc060175f737",
   "metadata": {},
   "outputs": [],
   "source": [
    "reindexed = weights.reindex(time=ds.time, fill_value=0).chunk({\"time\": 1})\n",
    "reindexed"
   ]
  },
  {
   "cell_type": "code",
   "execution_count": null,
   "id": "51a9b9d2-5d4e-4027-a920-93bfda47ffbe",
   "metadata": {},
   "outputs": [],
   "source": [
    "fill_values = reindexed.sum(dim=\"deployment_id\").pipe(lambda ds: 1 - ds)\n",
    "fill_values"
   ]
  },
  {
   "cell_type": "code",
   "execution_count": null,
   "id": "8f0de6fe-59a9-46ce-a9d3-cd0584606ee7",
   "metadata": {},
   "outputs": [],
   "source": [
    "%%time\n",
    "acoustic_pdfs = (\n",
    "    (reindexed * masks.astype(float))\n",
    "    .sum(dim=\"deployment_id\")\n",
    "    .where(combined_mask, fill_values)\n",
    "    .chunk()\n",
    ")\n",
    "acoustic_pdfs"
   ]
  },
  {
   "cell_type": "markdown",
   "id": "f6e3cb65-c417-4289-80a2-21aeb0f4b96b",
   "metadata": {},
   "source": [
    "## assign and store to disk"
   ]
  },
  {
   "cell_type": "code",
   "execution_count": null,
   "id": "4a57a424-c134-46e2-983e-2cf659ad9ba9",
   "metadata": {},
   "outputs": [],
   "source": [
    "%%time\n",
    "combined = ds.assign(acoustic=acoustic_pdfs)\n",
    "combined"
   ]
  },
  {
   "cell_type": "markdown",
   "id": "7517d21e-5fd2-4113-a272-b002a331ee07",
   "metadata": {},
   "source": [
    "write to disk"
   ]
  },
  {
   "cell_type": "code",
   "execution_count": null,
   "id": "f808b5b0-3438-4d9b-a536-70f7326236d2",
   "metadata": {},
   "outputs": [],
   "source": [
    "%%time\n",
    "combined.drop_vars([\"time_bins\"]).to_zarr(output_path, mode=\"w\", consolidated=True)"
   ]
  },
  {
   "cell_type": "markdown",
   "id": "f2746232-8032-4cbf-a5ba-90e029144bef",
   "metadata": {},
   "source": [
    "## visualization"
   ]
  },
  {
   "cell_type": "code",
   "execution_count": null,
   "id": "ab545b9c-a628-438f-a018-08bfc51f9dcb",
   "metadata": {},
   "outputs": [],
   "source": [
    "emission_ = xr.open_zarr(output_path)\n",
    "emission_"
   ]
  },
  {
   "cell_type": "code",
   "execution_count": null,
   "id": "e4487a69-a6cd-4eb2-86e7-c80b404866ba",
   "metadata": {},
   "outputs": [],
   "source": [
    "emission_[\"acoustic\"].isel(time=0).plot(x=\"longitude\", y=\"latitude\")"
   ]
  },
  {
   "cell_type": "raw",
   "id": "d25b340f-f9ed-4f45-b75b-c21a151534a5",
   "metadata": {
    "tags": []
   },
   "source": [
    "import cmocean\n",
    "import holoviews as hv\n",
    "import hvplot.pandas\n",
    "import hvplot.xarray\n",
    "\n",
    "hv.output(widget_location=\"top\")"
   ]
  },
  {
   "cell_type": "raw",
   "id": "f0b01fac-6636-40a5-8782-b78af08af84e",
   "metadata": {
    "tags": []
   },
   "source": [
    "ds = xr.open_dataset(output_path, engine=\"zarr\", chunks={})"
   ]
  },
  {
   "cell_type": "raw",
   "id": "2ac6124a-1f58-420e-9998-59f74536cbda",
   "metadata": {
    "tags": []
   },
   "source": [
    "plot1 = ds.acoustic.hvplot.quadmesh(\n",
    "    x=\"longitude\",\n",
    "    y=\"latitude\",\n",
    "    geo=True,\n",
    "    rasterize=True,\n",
    "    coastline=\"10m\",\n",
    "    cmap=\"cmo.amp\",\n",
    "    projection=\"Miller\",\n",
    "    clim=(0, 1),\n",
    ").opts(frame_width=400)\n",
    "plot2 = receivers.to_pandas().hvplot.points(\n",
    "    x=\"deploy_longitude\", y=\"deploy_latitude\", geo=True, tiles=\"CartoLight\"\n",
    ")\n",
    "(plot1 + plot2).cols(1)"
   ]
  },
  {
   "cell_type": "raw",
   "id": "ae7a4cd0-3b75-447b-bdca-b2dca264aa80",
   "metadata": {
    "tags": []
   },
   "source": [
    "(ds.pdf * ds.acoustic).hvplot.quadmesh(\n",
    "    x=\"longitude\",\n",
    "    y=\"latitude\",\n",
    "    geo=True,\n",
    "    rasterize=True,\n",
    "    coastline=\"10m\",\n",
    "    cmap=\"cmo.amp\",\n",
    "    projection=\"Miller\",\n",
    "    clim=(0, 1),\n",
    ").opts(frame_width=400)"
   ]
  },
  {
   "cell_type": "code",
   "execution_count": null,
   "id": "8b882b6f-e117-4d87-9953-a5757c431300",
   "metadata": {},
   "outputs": [],
   "source": []
  }
 ],
 "metadata": {
  "kernelspec": {
   "display_name": "pangeo-fish-0723",
   "language": "python",
   "name": "pangeo-fish-0723"
  },
  "language_info": {
   "codemirror_mode": {
    "name": "ipython",
    "version": 3
   },
   "file_extension": ".py",
   "mimetype": "text/x-python",
   "name": "python",
   "nbconvert_exporter": "python",
   "pygments_lexer": "ipython3",
   "version": "3.11.4"
  }
 },
 "nbformat": 4,
 "nbformat_minor": 5
}
