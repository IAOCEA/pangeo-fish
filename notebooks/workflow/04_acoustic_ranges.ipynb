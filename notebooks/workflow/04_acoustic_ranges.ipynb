{
 "cells": [
  {
   "cell_type": "markdown",
   "id": "f71fc144-4915-413e-a283-97a79266a263",
   "metadata": {},
   "source": [
    "# emission probability from acoustic ranges"
   ]
  },
  {
   "cell_type": "markdown",
   "id": "3c8b50dd-84c4-4190-bc7d-7cb47353f29e",
   "metadata": {},
   "source": [
    "parametrize with [papermill](https://papermill.readthedocs.io/en/latest/)"
   ]
  },
  {
   "cell_type": "code",
   "execution_count": null,
   "id": "f5991bd1-3462-47b1-857b-82ed5be04f7c",
   "metadata": {
    "tags": [
     "parameters"
    ]
   },
   "outputs": [],
   "source": [
    "scheduler_address: str | None = None\n",
    "\n",
    "tag_db_path: str\n",
    "detections_path: str\n",
    "\n",
    "receiver_buffer: float = 1000.0  # in [m]\n",
    "\n",
    "emission_path: str\n",
    "output_path: str"
   ]
  },
  {
   "cell_type": "code",
   "execution_count": null,
   "id": "1c4eef4f-22f4-4b1b-88bb-d40abd72439c",
   "metadata": {
    "tags": []
   },
   "outputs": [],
   "source": [
    "import pathlib\n",
    "\n",
    "# root directory, only needed for the defaults in the next cell\n",
    "root = pathlib.Path.home() / \"work/data/fish-intel\"\n",
    "\n",
    "tag_db_path: str = (\n",
    "    f\"{root}/acoustic/FishIntel_tagging_France.csv\"  # path to the tag database\n",
    ")\n",
    "detections_path: str = (\n",
    "    f\"{root}/acoustic/detections_recaptured_fishintel.csv\"  # path to the detections\n",
    ")\n",
    "emission_path: str = (\n",
    "    f\"{root}/emission/A18832-f1_e2500-hp4096.zarr\"  # path to the grid file\n",
    ")\n",
    "\n",
    "output_path: str = f\"{root}/emission/A18832-f1_e2500-hp4096-acoustic.zarr\"  # path to write the new emission matrix"
   ]
  },
  {
   "cell_type": "markdown",
   "id": "fadda6d6-fc07-4131-9faa-e5da0bf847b7",
   "metadata": {},
   "source": [
    "create dask cluster"
   ]
  },
  {
   "cell_type": "code",
   "execution_count": null,
   "id": "97a29e0b-54ac-4ef8-a330-26593981b0b3",
   "metadata": {},
   "outputs": [],
   "source": [
    "from distributed import Client, LocalCluster\n",
    "\n",
    "if scheduler_address is None:\n",
    "    cluster = LocalCluster()\n",
    "    client = cluster.get_client()\n",
    "else:\n",
    "    client = Client(scheduler_address)\n",
    "client"
   ]
  },
  {
   "cell_type": "markdown",
   "id": "956d767b-619b-430f-ab31-592dee215cce",
   "metadata": {},
   "source": [
    "imports"
   ]
  },
  {
   "cell_type": "code",
   "execution_count": null,
   "id": "23ccf5c8-a54b-44eb-a8c5-9f3f2a248f1c",
   "metadata": {},
   "outputs": [],
   "source": [
    "import io\n",
    "import pathlib\n",
    "\n",
    "import cf_xarray\n",
    "import dask\n",
    "import flox.xarray\n",
    "import numpy as np\n",
    "import pandas as pd\n",
    "import xarray as xr\n",
    "\n",
    "from pangeo_fish import utils\n",
    "from pangeo_fish.acoustic import (\n",
    "    count_detections,\n",
    "    extract_receivers,\n",
    "    search_acoustic_tag_id,\n",
    ")\n",
    "from pangeo_fish.healpy import (\n",
    "    astronomic_to_cartesian,\n",
    "    astronomic_to_cell_ids,\n",
    "    buffer_points,\n",
    "    geographic_to_astronomic,\n",
    ")"
   ]
  },
  {
   "cell_type": "code",
   "execution_count": null,
   "id": "2d8f08bd-a81e-4005-b4df-e0bacf8423cd",
   "metadata": {},
   "outputs": [],
   "source": [
    "from pangeo_fish.distributions import normal_at"
   ]
  },
  {
   "cell_type": "code",
   "execution_count": null,
   "id": "fe8375f1-0325-49c3-9740-42cfd110db9a",
   "metadata": {},
   "outputs": [],
   "source": [
    "import cmocean\n",
    "import holoviews as hv\n",
    "import hvplot.pandas\n",
    "import hvplot.xarray\n",
    "import matplotlib\n",
    "\n",
    "if not hasattr(matplotlib.cm, \"_cmap_registry\"):\n",
    "    matplotlib.cm._cmap_registry = matplotlib.cm._colormaps\n",
    "\n",
    "hv.output(widget_location=\"top\")"
   ]
  },
  {
   "cell_type": "markdown",
   "id": "0d6bb070-ac41-4f35-a299-f4e8dea1a53e",
   "metadata": {},
   "source": [
    "tag database"
   ]
  },
  {
   "cell_type": "code",
   "execution_count": null,
   "id": "bee8361b-e26d-45f8-9ea9-b5c038da0025",
   "metadata": {},
   "outputs": [],
   "source": [
    "tag_database = pd.read_csv(tag_db_path, sep=\";\")\n",
    "tag_database.head(2)"
   ]
  },
  {
   "cell_type": "markdown",
   "id": "7cd8ddbd-acf3-4823-8683-f7528c5c0f28",
   "metadata": {},
   "source": [
    "detections"
   ]
  },
  {
   "cell_type": "code",
   "execution_count": null,
   "id": "ff516b28-ca7f-4219-aa07-1c8004c0c51d",
   "metadata": {},
   "outputs": [],
   "source": [
    "# work around the weird quoting\n",
    "with open(detections_path, mode=\"r\") as f:\n",
    "    lines = (line.replace('\"', \"\") for line in f)\n",
    "    data = \"\\n\".join(lines)\n",
    "content = io.StringIO(data)\n",
    "\n",
    "detection_database = (\n",
    "    pd.read_csv(content, parse_dates=[1])\n",
    "    .rename(columns={\"date_time\": \"time\"})\n",
    "    .set_index(\"time\")\n",
    ")\n",
    "detection_database.head(2)"
   ]
  },
  {
   "cell_type": "markdown",
   "id": "88eb00d5-8d82-49eb-9267-b4721891575e",
   "metadata": {},
   "source": [
    "base grid"
   ]
  },
  {
   "cell_type": "code",
   "execution_count": null,
   "id": "a16c12b6",
   "metadata": {},
   "outputs": [],
   "source": [
    "ds = xr.open_dataset(emission_path, engine=\"zarr\", chunks={\"x\": -1, \"y\": -1})\n",
    "ds"
   ]
  },
  {
   "cell_type": "markdown",
   "id": "f5909e98-5b37-44d4-a29c-e88de4478973",
   "metadata": {},
   "source": [
    "extract receiver locations"
   ]
  },
  {
   "cell_type": "code",
   "execution_count": null,
   "id": "bb761106-762b-4d93-8de7-efff4f55df6c",
   "metadata": {},
   "outputs": [],
   "source": [
    "receivers = extract_receivers(detection_database).to_xarray()\n",
    "receivers"
   ]
  },
  {
   "cell_type": "code",
   "execution_count": null,
   "id": "dea17dc9-e309-4ddb-895b-82b7eb9cbf42",
   "metadata": {},
   "outputs": [],
   "source": [
    "acoustic_tag_id = search_acoustic_tag_id(tag_database, ds.attrs[\"tag_id\"])\n",
    "acoustic_tag_id"
   ]
  },
  {
   "cell_type": "code",
   "execution_count": null,
   "id": "e2382105-6fc4-474c-9724-47d58e7da35b",
   "metadata": {
    "tags": []
   },
   "outputs": [],
   "source": [
    "detections = (\n",
    "    detection_database[[\"receiver_id\", \"acoustic_tag_id\"]]\n",
    "    .reset_index()\n",
    "    .set_index(\"acoustic_tag_id\")\n",
    "    .loc[acoustic_tag_id]\n",
    "    .set_index(\"time\")\n",
    "    .to_xarray()\n",
    ")\n",
    "detections"
   ]
  },
  {
   "cell_type": "markdown",
   "id": "bf8c0acc-a58c-46d3-ad84-19777017b676",
   "metadata": {},
   "source": [
    "count detections"
   ]
  },
  {
   "cell_type": "code",
   "execution_count": null,
   "id": "e1273290-e978-496a-b26c-a08ca1dbaf39",
   "metadata": {},
   "outputs": [],
   "source": [
    "time_intervals = (\n",
    "    ds[[\"time\"]]\n",
    "    .cf.add_bounds(keys=\"time\")[\"time_bounds\"]\n",
    "    .pipe(cf_xarray.bounds_to_vertices, bounds_dim=\"bounds\")\n",
    "    .pipe(pd.IntervalIndex.from_breaks)\n",
    ")\n",
    "time_intervals"
   ]
  },
  {
   "cell_type": "code",
   "execution_count": null,
   "id": "86571387-fc93-460f-a73c-1d2d1e3546c0",
   "metadata": {},
   "outputs": [],
   "source": [
    "weights = (\n",
    "    count_detections(detections, by=time_intervals)\n",
    "    .swap_dims({\"time_bins\": \"time\"})\n",
    "    .assign_coords(time=ds.time)\n",
    "    .pipe(lambda ds: ds.merge(receivers.sel(receiver_id=ds[\"receiver_id\"])))\n",
    "    .pipe(utils.normalize, dim=\"receiver_id\")\n",
    "    .fillna(0)\n",
    "    .rename_vars({\"count\": \"weights\"})[\"weights\"]\n",
    ")\n",
    "weights"
   ]
  },
  {
   "cell_type": "markdown",
   "id": "5699f508-3ceb-4a30-a87e-45a8270a2ee4",
   "metadata": {
    "tags": []
   },
   "source": [
    "#### `query_disc`"
   ]
  },
  {
   "cell_type": "raw",
   "id": "334a202f-9e22-4523-b7bf-a68b9cf85752",
   "metadata": {},
   "source": [
    "rot = [30, 0]\n",
    "nside = 4096\n",
    "sector_id = 0\n",
    "\n",
    "radius = 1000.0"
   ]
  },
  {
   "cell_type": "code",
   "execution_count": null,
   "id": "57d90116-f1df-45a6-9b27-7670f40ce621",
   "metadata": {},
   "outputs": [],
   "source": [
    "rot = {k.removeprefix(\"rot_\"): v for k, v in ds.attrs.items() if k.startswith(\"rot_\")}\n",
    "phi, theta = geographic_to_astronomic(\n",
    "    lon=receivers.deploy_longitude, lat=receivers.deploy_latitude, rot=rot\n",
    ")\n",
    "cartesian_positions = astronomic_to_cartesian(theta=theta, phi=phi, dim=\"receiver_id\")\n",
    "cartesian_positions"
   ]
  },
  {
   "cell_type": "code",
   "execution_count": null,
   "id": "181e6fc9-a587-4499-8d29-8e19264b07d7",
   "metadata": {
    "tags": []
   },
   "outputs": [],
   "source": [
    "phi, theta = geographic_to_astronomic(lat=ds.latitude, lon=ds.longitude, rot=rot)\n",
    "cell_ids = astronomic_to_cell_ids(nside=ds.attrs[\"nside\"], phi=phi, theta=theta)\n",
    "cell_ids"
   ]
  },
  {
   "cell_type": "code",
   "execution_count": null,
   "id": "e7b6232a-c9a6-41f8-a5f7-94948fa7c07a",
   "metadata": {
    "tags": []
   },
   "outputs": [],
   "source": [
    "ds.cell_ids.compute()"
   ]
  },
  {
   "cell_type": "code",
   "execution_count": null,
   "id": "dacf3979-2a6e-4848-be40-3aaf71be9e33",
   "metadata": {},
   "outputs": [],
   "source": [
    "masks = buffer_points(\n",
    "    cell_ids,\n",
    "    cartesian_positions,\n",
    "    nside=ds.attrs[\"nside\"],\n",
    "    buffer_size=receiver_buffer,\n",
    "    factor=2**16,\n",
    "    intersect=True,\n",
    ")\n",
    "masks"
   ]
  },
  {
   "cell_type": "code",
   "execution_count": null,
   "id": "cf7b8d35-6567-45d5-99d1-ebbde9d60385",
   "metadata": {},
   "outputs": [],
   "source": [
    "combined_mask = masks.sum(dim=\"receiver_id\").astype(bool)\n",
    "combined_mask"
   ]
  },
  {
   "cell_type": "code",
   "execution_count": null,
   "id": "92956522-ae68-4655-a6c6-6a904f51097b",
   "metadata": {},
   "outputs": [],
   "source": [
    "grid = ds.cf[[\"latitude\", \"longitude\"]]\n",
    "grid"
   ]
  },
  {
   "cell_type": "markdown",
   "id": "4dd98a80-4bbb-42e8-8f65-99f436b994b3",
   "metadata": {},
   "source": [
    "#### apply weights"
   ]
  },
  {
   "cell_type": "code",
   "execution_count": null,
   "id": "6c013fee-b485-43d1-ac76-cc060175f737",
   "metadata": {},
   "outputs": [],
   "source": [
    "reindexed = weights.reindex(time=ds.time, fill_value=0).chunk({\"time\": 1})\n",
    "reindexed"
   ]
  },
  {
   "cell_type": "code",
   "execution_count": null,
   "id": "51a9b9d2-5d4e-4027-a920-93bfda47ffbe",
   "metadata": {},
   "outputs": [],
   "source": [
    "fill_values = reindexed.sum(dim=\"receiver_id\").pipe(lambda ds: 1 - ds)\n",
    "fill_values"
   ]
  },
  {
   "cell_type": "code",
   "execution_count": null,
   "id": "8f0de6fe-59a9-46ce-a9d3-cd0584606ee7",
   "metadata": {},
   "outputs": [],
   "source": [
    "acoustic_pdfs = (\n",
    "    (reindexed * masks.astype(float))\n",
    "    .sum(dim=\"receiver_id\")\n",
    "    .where(combined_mask, fill_values)\n",
    "    .chunk()\n",
    ")\n",
    "acoustic_pdfs"
   ]
  },
  {
   "cell_type": "code",
   "execution_count": null,
   "id": "4a57a424-c134-46e2-983e-2cf659ad9ba9",
   "metadata": {},
   "outputs": [],
   "source": [
    "combined = ds.assign(acoustic=acoustic_pdfs)\n",
    "combined"
   ]
  },
  {
   "cell_type": "markdown",
   "id": "7517d21e-5fd2-4113-a272-b002a331ee07",
   "metadata": {},
   "source": [
    "write to disk"
   ]
  },
  {
   "cell_type": "code",
   "execution_count": null,
   "id": "f808b5b0-3438-4d9b-a536-70f7326236d2",
   "metadata": {},
   "outputs": [],
   "source": [
    "combined.drop_vars([\"time_bins\"]).to_zarr(output_path, mode=\"w\", consolidated=True)"
   ]
  },
  {
   "cell_type": "markdown",
   "id": "f2746232-8032-4cbf-a5ba-90e029144bef",
   "metadata": {},
   "source": [
    "plotting"
   ]
  },
  {
   "cell_type": "raw",
   "id": "c804601b-d32e-4e22-86b8-cd8b65f317d9",
   "metadata": {},
   "source": [
    "ds = xr.open_dataset(output_path, engine=\"zarr\", chunks={})"
   ]
  },
  {
   "cell_type": "raw",
   "id": "b2ae9eef-f9b5-401e-a60c-1f903e95afe9",
   "metadata": {},
   "source": [
    "plot1 = combined.acoustic.hvplot.quadmesh(\n",
    "    x=\"longitude\",\n",
    "    y=\"latitude\",\n",
    "    geo=True,\n",
    "    rasterize=True,\n",
    "    coastline=\"10m\",\n",
    "    cmap=\"cmo.amp\",\n",
    "    clim=(0, 1),\n",
    ").opts(frame_width=400)\n",
    "plot2 = receivers.to_pandas().hvplot.points(\n",
    "    x=\"deploy_longitude\", y=\"deploy_latitude\", geo=True, coastline=\"10m\"\n",
    ")\n",
    "(plot1 + plot2).cols(1)"
   ]
  },
  {
   "cell_type": "raw",
   "id": "18e2fc3e-6e1b-4f60-b9bb-df02b50754e1",
   "metadata": {},
   "source": [
    "def in_range(ds, coords):\n",
    "    maps = [\n",
    "        (ds[name] >= min_) & (ds[name] <= max_) for name, (min_, max_) in coords.items()\n",
    "    ]\n",
    "\n",
    "    return xr.concat(maps, dim=\"map\").all(dim=\"map\")\n",
    "\n",
    "\n",
    "plot1 = (\n",
    "    combined.acoustic.where(\n",
    "        lambda ds: in_range(ds, {\"latitude\": (48, 49), \"longitude\": (-5.8, -4.4)}),\n",
    "        drop=True,\n",
    "    )\n",
    "    .sel(time=\"2022-07-20 10:00:00\")\n",
    "    .hvplot.quadmesh(\n",
    "        x=\"longitude\",\n",
    "        y=\"latitude\",\n",
    "        geo=True,\n",
    "        rasterize=True,\n",
    "        cmap=\"cmo.amp\",\n",
    "    )\n",
    "    .opts(padding=0)\n",
    ")\n",
    "plot2 = (\n",
    "    receivers.where(\n",
    "        lambda ds: in_range(\n",
    "            ds, {\"deploy_latitude\": (48, 49), \"deploy_longitude\": (-5.8, -4.4)}\n",
    "        ),\n",
    "        drop=True,\n",
    "    )\n",
    "    .to_pandas()\n",
    "    .hvplot.points(x=\"deploy_longitude\", y=\"deploy_latitude\", geo=True, coastline=\"10m\")\n",
    "    .opts(padding=0)\n",
    ")\n",
    "\n",
    "plot = (\n",
    "    hv.Overlay([plot1, plot2])\n",
    "    .collate()\n",
    "    .opts(frame_width=800, frame_height=800, padding=0)\n",
    ")\n",
    "plot"
   ]
  },
  {
   "cell_type": "raw",
   "id": "910d64a3-14a0-4711-8a13-c99aaf9bb3de",
   "metadata": {},
   "source": [
    "hv.save(plot, \"acoustic_map.png\", fmt=\"png\")"
   ]
  },
  {
   "cell_type": "raw",
   "id": "643b5314-f873-488e-a25e-83027f15d210",
   "metadata": {
    "tags": []
   },
   "source": [
    "combined.assign(pdf_=lambda ds: ds.pdf * ds.acoustic).pipe(\n",
    "    lambda ds: ds.pdf_ / ds.pdf_.sum([\"x\", \"y\"])\n",
    ").hvplot.quadmesh(\n",
    "    x=\"longitude\",\n",
    "    y=\"latitude\",\n",
    "    geo=True,\n",
    "    projection=\"Miller\",\n",
    "    rasterize=True,\n",
    "    coastline=\"10m\",\n",
    "    cmap=\"cmo.amp\",\n",
    ")"
   ]
  }
 ],
 "metadata": {
  "language_info": {
   "codemirror_mode": {
    "name": "ipython",
    "version": 3
   },
   "file_extension": ".py",
   "mimetype": "text/x-python",
   "name": "python",
   "nbconvert_exporter": "python",
   "pygments_lexer": "ipython3"
  }
 },
 "nbformat": 4,
 "nbformat_minor": 5
}
