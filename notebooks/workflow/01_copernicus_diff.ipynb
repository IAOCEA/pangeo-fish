{
 "cells": [
  {
   "cell_type": "markdown",
   "id": "da8eb767-1c3c-4114-99fc-1c55c9476c0a",
   "metadata": {
    "tags": []
   },
   "source": [
    "# temperature differences\n",
    "\n",
    "In this notebook, we compute the difference between the temperature mesured by the tag and the temperature from the reference model\n",
    "\n",
    "**Summary:**\n",
    "\n",
    "1. Opening the data: reference model (copernicus) and tag log\n",
    "2. Set up the dask cluster\n",
    "3. Data alignment\n",
    "4. Compute the differences\n",
    "5. Save to disk"
   ]
  },
  {
   "cell_type": "code",
   "execution_count": null,
   "id": "47590a14-4478-4952-ad85-c7a885bca9ab",
   "metadata": {
    "tags": []
   },
   "outputs": [],
   "source": [
    "import cf_xarray\n",
    "import dask\n",
    "import fsspec\n",
    "import intake\n",
    "import numba\n",
    "import numpy as np\n",
    "import pandas as pd\n",
    "import xarray as xr\n",
    "\n",
    "from pangeo_fish.cf import bounds_to_bins\n",
    "from pangeo_fish.diff import marc_diff_z\n",
    "from pangeo_fish.model import marc_sigma_to_depth\n",
    "from pangeo_fish.tags import adapt_model_time, reshape_by_bins, to_time_slice"
   ]
  },
  {
   "cell_type": "markdown",
   "id": "840e9cdb-9af4-4c66-8110-83e174905bd9",
   "metadata": {},
   "source": [
    "parametrize with [papermill](https://papermill.readthedocs.io/en/latest/)"
   ]
  },
  {
   "cell_type": "code",
   "execution_count": null,
   "id": "6a204eca-b06d-4a63-ab8c-4acbab82fb17",
   "metadata": {
    "tags": [
     "parameters"
    ]
   },
   "outputs": [],
   "source": [
    "tag_url: str\n",
    "\n",
    "catalog: str\n",
    "catalog_parameters: dict = {}\n",
    "\n",
    "scheduler_address: str | None = None\n",
    "\n",
    "relative_depth_threshold: float = 0.8\n",
    "\n",
    "diff_path: str\n",
    "\n",
    "# local PC\n",
    "tag_url=\"/Users/todaka/python/git/pangeo-fish/data_local/fish-intel/tag/nc/A18832.nc\"\n",
    "catalog = \"https://data-taos.ifremer.fr/kerchunk/ref-copernicus.yaml\"\n",
    "scheduler_address: str | None = None\n",
    "catalog = \"https://data-taos.ifremer.fr/kerchunk/ref-marc.yaml\"\n",
    "diff_path=\"/Users/todaka/python/git/pangeo-fish/data_local/fish-intel/A18832-f1_e2500/diff.zarr\"\n",
    "\n",
    "\n",
    "# Datarmor\n",
    "tag_url=\"/home/datawork-lops-iaocea/data/fish-intel/tag/nc/A18832.nc\"\n",
    "\n",
    "# mars\n",
    "catalog_mars = \"/home/datawork-taos-s/intranet/kerchunk/ref-marc.yaml\"\n",
    "catalog_parameters: dict = {  \"region\": \"f1_e2500\",  \"year\": \"2022\"}\n",
    "diff_path=\"/home/datawork-taos-s/public/fish/A18832-f1_e2500/diff.zarr\"\n",
    "\n",
    "\n",
    "# copernicus\n",
    "catalog=\"/home/datawork-taos-s/intranet/kerchunk/ref-copernicus.yaml\"\n",
    "#catalog_parameters: dict = {  \"type\": [\"2022_3D\",\"2022_2D\",\"mdt\"]}\n",
    "diff_path=\"/home/datawork-taos-s/public/fish/A18832-copernicus/diff.zarr\"\n",
    "\n"
   ]
  },
  {
   "cell_type": "markdown",
   "id": "84c6822e-1ddd-4205-84d0-4c751fb5e9fe",
   "metadata": {},
   "source": [
    "cluster"
   ]
  },
  {
   "cell_type": "code",
   "execution_count": null,
   "id": "10ee916a-c475-4abe-8a57-bfd2779275b5",
   "metadata": {},
   "outputs": [],
   "source": [
    "import dask_hpcconfig\n",
    "from distributed import Client"
   ]
  },
  {
   "cell_type": "code",
   "execution_count": null,
   "id": "be1ef85d-7573-4a58-93a3-bf78e554cd24",
   "metadata": {},
   "outputs": [],
   "source": [
    "overrides = {}\n",
    "# overrides = { \"cluster.cores\": 28 , \"cluster.processes\": 6 }\n",
    "\n",
    "cluster = dask_hpcconfig.cluster(\"datarmor\", **overrides)\n",
    "client = Client(cluster)\n",
    "cluster.scale(50)\n",
    "client"
   ]
  },
  {
   "cell_type": "raw",
   "id": "01b3b4e6-3dc0-4963-98b3-fdd2105bf594",
   "metadata": {
    "tags": []
   },
   "source": [
    "cluster = dask_hpcconfig.cluster(\"datarmor-local\")\n",
    "client = Client(cluster)\n",
    "client"
   ]
  },
  {
   "cell_type": "raw",
   "id": "7419f6fc-c19e-468b-b2a3-e208d3a7b1ca",
   "metadata": {
    "tags": []
   },
   "source": [
    "from distributed import Client, LocalCluster\n",
    "\n",
    "if scheduler_address is None:\n",
    "    cluster = LocalCluster()\n",
    "    client = cluster.get_client()\n",
    "else:\n",
    "    client = Client(scheduler_address)\n",
    "client"
   ]
  },
  {
   "cell_type": "markdown",
   "id": "cc937595-002b-441c-9d86-671fc0820b8d",
   "metadata": {
    "tags": []
   },
   "source": [
    "## Open the data: reference model (mars) and tag log"
   ]
  },
  {
   "cell_type": "markdown",
   "id": "b4ef2aa5-14ba-4468-8238-7e3e5985b6a3",
   "metadata": {},
   "source": [
    "open the tag log"
   ]
  },
  {
   "cell_type": "code",
   "execution_count": null,
   "id": "e55e6a6e-0c04-4761-aeeb-16364bb1ec09",
   "metadata": {
    "tags": []
   },
   "outputs": [],
   "source": [
    "tag = xr.open_dataset(fsspec.open(tag_url).open(), engine=\"h5netcdf\").load()\n",
    "tag"
   ]
  },
  {
   "cell_type": "markdown",
   "id": "7f279d9a-3a96-4d66-824f-f96f293b6345",
   "metadata": {},
   "source": [
    "open the reference model\n",
    "\n",
    "TODO: for now, we will directly read the data, but in the future we might want to use [xpublish](https://github.com/xpublish-community/xpublish) to hide the reading / preprocessing of the reference model (especially computing the depth / pressure and stitching together different models)"
   ]
  },
  {
   "cell_type": "raw",
   "id": "0cfcae2a-9c08-45bc-b495-9345fa6c49f7",
   "metadata": {
    "tags": []
   },
   "source": [
    "cat = intake.open_catalog(catalog_mars)[\"marc\"]\n",
    "\n",
    "catalog_kwargs = {\n",
    "    \"chunks\": {\"ni\": -1, \"nj\": -1, \"level\": -1, \"time\": 1},\n",
    "    \"inline_array\": True,\n",
    "}\n",
    "marc_ds = (\n",
    "    cat(**catalog_kwargs, **catalog_parameters)\n",
    "    .to_dask()[[\"H0\", \"level\", \"XE\", \"theta\", \"b\", \"hc\", \"TEMP\"]]\n",
    "    .assign_coords(time=lambda ds: ds.time.astype(\"datetime64[ns]\"))\n",
    ")\n",
    "marc_ds"
   ]
  },
  {
   "cell_type": "raw",
   "id": "740c0c72-2a90-4c1d-8582-d9417dcc7d14",
   "metadata": {},
   "source": [
    "#do we need this value ?\n",
    "cat.data_tmp(type=\"mdt\").to_dask().deptho_lev_interp.plot()"
   ]
  },
  {
   "cell_type": "code",
   "execution_count": null,
   "id": "7c237576-f179-4597-bf44-bd498af9cf79",
   "metadata": {},
   "outputs": [],
   "source": [
    "cat = intake.open_catalog(catalog)\n",
    "ds=cat.data_tmp(type=\"2022_3D\").to_dask().rename({\"thetao\":\"TEMP\"})[[\"TEMP\"]]\n",
    "ds[\"XE\"]=cat.data_tmp(type=\"2022_2D\").to_dask().zos\n",
    "ds[\"H0\"]=cat.data_tmp(type=\"mdt\").to_dask().deptho.rename({\"latitude\":\"lat\",\"longitude\":\"lon\"})\n",
    "ds[\"mask\"]=cat.data_tmp(type=\"mdt\").to_dask().mask.rename({\"latitude\":\"lat\",\"longitude\":\"lon\"})\n",
    "\n",
    "ds=ds.assign_coords(time=lambda ds: ds.time.astype(\"datetime64[ns]\"))\n",
    "ds"
   ]
  },
  {
   "cell_type": "markdown",
   "id": "086d84fd-bb16-41db-adda-0f4b087711d4",
   "metadata": {
    "tags": []
   },
   "source": [
    "## data alignment\n",
    "\n",
    "In order to compare measured temperature with the model, we need to\n",
    "1. align time ranges\n",
    "2. calculate the modelled depth\n",
    "3. group the measured data into bins"
   ]
  },
  {
   "cell_type": "markdown",
   "id": "37c7e1de-feda-416e-90c1-70078c3ff85a",
   "metadata": {},
   "source": [
    "### align time ranges"
   ]
  },
  {
   "cell_type": "code",
   "execution_count": null,
   "id": "9b76184c-1b8f-44c2-b286-a97a7f989016",
   "metadata": {
    "tags": []
   },
   "outputs": [],
   "source": [
    "slice_ = to_time_slice(tag.times)"
   ]
  },
  {
   "cell_type": "code",
   "execution_count": null,
   "id": "dce50a2c-006e-491b-94fe-93086ee4519f",
   "metadata": {
    "scrolled": true,
    "tags": []
   },
   "outputs": [],
   "source": [
    "tag_log = tag.sel(time=slice_)\n",
    "tag_log"
   ]
  },
  {
   "cell_type": "code",
   "execution_count": null,
   "id": "80b61319-4f9a-4eac-b840-57b3ed07b529",
   "metadata": {
    "scrolled": true,
    "tags": []
   },
   "outputs": [],
   "source": [
    "#subset with time\n",
    "model_subset = ds.sel(time=adapt_model_time(slice_))\n",
    "#take out the depths where fish will never go.\n",
    "depth_max=(tag_log.pressure.max() - model_subset.XE.min()).compute()\n",
    "model_subset=model_subset.sel(depth=slice(0,depth_max))\n",
    "\n",
    "#subset with location(iroise ocean) for quick computational tests\n",
    "model_subset=model_subset.sel(lat=slice(45,51),lon=slice(-8,0))#.H0.plot()\n",
    "model_subset"
   ]
  },
  {
   "cell_type": "markdown",
   "id": "54a1a1c2-2254-40e1-bd48-e2916460fd0b",
   "metadata": {},
   "source": [
    "### Convert sigma level to depth\n",
    "\n",
    "The formula for the computation of the depth is model-specific.\n",
    "\n",
    "*TODO*:\n",
    "- calculate the modelled pressure and use that to compute the diff – essentially, that's what the tag measured\n",
    "- have the hosted model (using `xpublish`) calculate the depth – that way, we don't need to worry about the model-specific formula"
   ]
  },
  {
   "cell_type": "code",
   "execution_count": null,
   "id": "5eaa6a72-cf7b-4e6c-81a1-8d1e9e310457",
   "metadata": {},
   "outputs": [],
   "source": [
    "reference_model_=model_subset.rename({\"depth\":\"level\"}).chunk({\"level\": -1})\n",
    "reference_model_['depth']=reference_model_.XE+reference_model_.level\n",
    "reference_model_['bottom']=reference_model_.XE+reference_model_.H0\n",
    "\n"
   ]
  },
  {
   "cell_type": "code",
   "execution_count": null,
   "id": "afbb0318-38e6-4d29-a73f-45ab13b25143",
   "metadata": {},
   "outputs": [],
   "source": [
    "#set  coordinates to have 2 D coordinate system\n",
    "\n",
    "broadcasted, = xr.broadcast(\n",
    "    reference_model_[[\"lat\",\"lon\"]].reset_index([\"lat\",\"lon\"]).rename_vars(\n",
    "        {\"lat\":\"latitude\",\"lon\":\"longitude\"}).reset_coords())\n",
    "reference_model_=reference_model_.merge(broadcasted).set_coords([\"latitude\",\"longitude\"])"
   ]
  },
  {
   "cell_type": "code",
   "execution_count": null,
   "id": "838a2ea0-31f8-4083-a1e5-d4650e65cb80",
   "metadata": {
    "tags": []
   },
   "outputs": [],
   "source": [
    "reference_model = reference_model_.cf.add_bounds([\"time\"], output_dim=\"bounds\").pipe(\n",
    "    bounds_to_bins, bounds_dim=\"bounds\"\n",
    ")\n",
    "reference_model"
   ]
  },
  {
   "cell_type": "markdown",
   "id": "94e5bdb9-c7fd-4a8e-b220-68329f5033da",
   "metadata": {},
   "source": [
    "### reshape the tag data\n",
    "\n",
    "To further align both datasets, we need to reshape the data into bins, such that the `temperature(measured_time)` and `depth(measured_time)` coordinates become `temperature(model_time, obs)` and `depth(model_time, obs)`."
   ]
  },
  {
   "cell_type": "markdown",
   "id": "df73f629-f001-4ff2-a706-4d725f3264d0",
   "metadata": {},
   "source": [
    "determine the bins"
   ]
  },
  {
   "cell_type": "markdown",
   "id": "618ef1fc-dd07-40d7-bffd-4c22aad41edb",
   "metadata": {},
   "source": [
    "reshape"
   ]
  },
  {
   "cell_type": "code",
   "execution_count": null,
   "id": "b0cfe4bf-66ea-4386-a24c-c9735d8084d4",
   "metadata": {
    "scrolled": true,
    "tags": []
   },
   "outputs": [],
   "source": [
    "%%time\n",
    "reshaped_tag = (\n",
    "    tag_log[[\"water_temperature\", \"pressure\"]]\n",
    "    .pipe(\n",
    "        reshape_by_bins,\n",
    "        dim=\"time\",\n",
    "        bins=reference_model.time_bins,\n",
    "        bin_dim=\"bincount\",\n",
    "        other_dim=\"obs\",\n",
    "    )\n",
    "    .assign_coords(time=lambda ds: reference_model.time.isel(time=ds.bincount))\n",
    "    .swap_dims({\"bincount\": \"time\"})\n",
    "    .drop_vars([\"bincount\", \"time_bins\"])\n",
    "    .chunk({\"time\": 1})\n",
    ")\n",
    "reshaped_tag"
   ]
  },
  {
   "cell_type": "raw",
   "id": "9db37da1-8d88-4c03-a22b-677ab98e0dab",
   "metadata": {},
   "source": [
    "reshaped_tag"
   ]
  },
  {
   "cell_type": "markdown",
   "id": "3a6e6d45-52da-4621-b752-d15ba56e9434",
   "metadata": {},
   "source": [
    "## compute the differences\n",
    "\n",
    "Now that both datasets are aligned, we can compute the actual difference. However, since the model's depth is a function of time and position, we can't just subtract the tag log from the model. Instead, we have to find the matching depth for each pixel separately, take the temperature at that depth and calculate the difference. Finally, we can compute the mean along the observation dimension to get a single value per pixel and timestep."
   ]
  },
  {
   "cell_type": "code",
   "execution_count": null,
   "id": "8d5d08e5-332c-4d21-aa3f-131917b651fa",
   "metadata": {
    "tags": []
   },
   "outputs": [],
   "source": [
    "%%time\n",
    "diff = (\n",
    "    marc_diff_z(reference_model, reshaped_tag, depth_threshold=relative_depth_threshold)\n",
    "    .to_dataset()\n",
    "    .assign_attrs({\"tag_id\": tag_log.attrs[\"tag_id\"]})\n",
    "    .assign({\"H0\": reference_model.H0})\n",
    "    .chunk({\"time\": 1,\"lat\":-1,\"lon\":-1})\n",
    ")\n",
    "diff"
   ]
  },
  {
   "cell_type": "markdown",
   "id": "928a4a28-0bbd-433f-81cb-3c24de6440d1",
   "metadata": {},
   "source": [
    "## Save the differences to disk"
   ]
  },
  {
   "cell_type": "code",
   "execution_count": null,
   "id": "8aac0179-c39d-4962-abe2-f0e041c82c3e",
   "metadata": {
    "scrolled": true,
    "tags": []
   },
   "outputs": [],
   "source": [
    "%%time\n",
    "# need to drop the bins since zarr cannot represent that\n",
    "diff.drop_vars([\"time_bins\"]).to_zarr(diff_path, mode=\"w\", consolidated=True)"
   ]
  },
  {
   "cell_type": "code",
   "execution_count": null,
   "id": "ae6a1e10-5423-4e94-87da-15c2aa33dba1",
   "metadata": {},
   "outputs": [],
   "source": [
    "import xarray as xr\n",
    "diff_=xr.open_zarr(diff_path)\n"
   ]
  },
  {
   "cell_type": "code",
   "execution_count": null,
   "id": "e4487a69-a6cd-4eb2-86e7-c80b404866ba",
   "metadata": {},
   "outputs": [],
   "source": [
    "import hvplot.xarray\n",
    "diff_['diff'].isel(time=0).plot(x='longitude',y='latitude')"
   ]
  },
  {
   "cell_type": "raw",
   "id": "d12b1e2a-f43a-44ff-bcf8-4ab3fe71ff68",
   "metadata": {},
   "source": [
    "diff_marc=xr.open_zarr(\"/home/datawork-taos-s/public/fish/A18832-f1_e2500/diff.zarr\")\n",
    "\n",
    "ylim=(46,51)\n",
    "xlim=(-8,0)\n",
    "diff_['diff'].hvplot(x='lon',y='lat',rasterize=True,width=500,xlim=xlim,ylim=ylim) +diff_marc['diff'].hvplot.quadmesh(x='longitude',y='latitude',xlim=xlim,ylim=ylim, rasterize=True,width=500)"
   ]
  }
 ],
 "metadata": {
  "kernelspec": {
   "display_name": "pangeo-fish-iaocea",
   "language": "python",
   "name": "pangeo-fish-iaocea"
  },
  "language_info": {
   "codemirror_mode": {
    "name": "ipython",
    "version": 3
   },
   "file_extension": ".py",
   "mimetype": "text/x-python",
   "name": "python",
   "nbconvert_exporter": "python",
   "pygments_lexer": "ipython3",
   "version": "3.11.4"
  }
 },
 "nbformat": 4,
 "nbformat_minor": 5
}
