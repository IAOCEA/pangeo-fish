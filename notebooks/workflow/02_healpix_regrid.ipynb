{
 "cells": [
  {
   "cell_type": "markdown",
   "id": "91c09108-130a-4a2f-a5ff-1fb670b32397",
   "metadata": {
    "tags": []
   },
   "source": [
    "# regrid the dataset to a healpix grid\n",
    "\n",
    "Since the default geographic rectilinear grid has non-uniform grid sizes and distances and is thus not suitable for this application, we have to transform the dataset to one with equal distances between the cell centers. The Healpix cells satisfy these conditions, and can be used for spatial convolutions when reshaped to a 2D array according to the \"nested\" cell numbering.\n",
    "\n",
    "As with any interpolation, the linear interpolation supported by the `healpy` library is split into the computation of weights and the application of those weights to the data."
   ]
  },
  {
   "cell_type": "code",
   "execution_count": null,
   "id": "c2316e94-e143-45ad-9da7-b5fd7ad2b76e",
   "metadata": {
    "tags": []
   },
   "outputs": [],
   "source": [
    "import xarray as xr\n",
    "import numpy as np\n",
    "from xarray_healpy import HealpyGridInfo, HealpyRegridder"
   ]
  },
  {
   "cell_type": "markdown",
   "id": "112131ee-01cb-41b8-9728-d3ebf7d8e4ef",
   "metadata": {},
   "source": [
    "## parametrize with [papermill](https://papermill.readthedocs.io/en/latest/)"
   ]
  },
  {
   "cell_type": "code",
   "execution_count": null,
   "id": "d32fde80-dab5-4530-b2ac-ababa129a09d",
   "metadata": {
    "editable": true,
    "slideshow": {
     "slide_type": ""
    },
    "tags": [
     "parameters"
    ]
   },
   "outputs": [],
   "source": [
    "# Notebook specification\n",
    "nside: int = 4096*2  # healpix resolution\n",
    "rot = {\"lat\": 0, \"lon\": 30}\n",
    "#rot = {\"lat\": 0, \"lon\": 0}\n",
    "min_vertices: int = 1\n",
    "\n",
    "# Dask parameters (Machine, and configuration dependent)\n",
    "cluster_size: int | None = None\n",
    "cluster_name: str = \"datarmor-local\"\n",
    "cluster_overrides: dict = {}\n",
    "\n",
    "# Run specific\n",
    "working_path: str = \"/home/datawork-taos-s/public/fish_huge//\"\n",
    "tag_name: str = \"A18832\"\n",
    "tag_name: str = \"A19056\"\n",
    "\n",
    "tag_base_path: str = \"/home/datawork-lops-iaocea/data/fish-intel/tag/nc/\"\n",
    "tag_db_path: str = (\n",
    "    \"/home/datawork-lops-iaocea/data/fish-intel/acoustic/FishIntel_tagging_France.csv\"\n",
    ")\n",
    "detections_path: str = \"/home/datawork-lops-iaocea/data/fish-intel/acoustic/Acoustic_Data/detections_recaptured_fishintel.csv\"\n",
    "\n",
    "ref_model_name: str = \"copernicus\""
   ]
  },
  {
   "cell_type": "markdown",
   "id": "57f183b6-f4e9-462f-a439-216ed0d17e33",
   "metadata": {},
   "source": [
    "## set path using the parameters\n"
   ]
  },
  {
   "cell_type": "code",
   "execution_count": null,
   "id": "f9f9718e-5823-49d2-a0c3-c43e52117fb0",
   "metadata": {
    "tags": []
   },
   "outputs": [],
   "source": [
    "tag_url = tag_base_path + tag_name + \".nc\"\n",
    "input_path = working_path + tag_name + \"/\" + ref_model_name + \"/diff.zarr\"\n",
    "output_path = (\n",
    "    working_path + tag_name + \"/\" + ref_model_name + \"/diff_\" + str(nside) + \".zarr\"\n",
    ")"
   ]
  },
  {
   "cell_type": "markdown",
   "id": "fd3cc248-9a40-4e94-b170-1d27b7ea215a",
   "metadata": {},
   "source": [
    "## Specify machine dependent parameters\n",
    "\n"
   ]
  },
  {
   "cell_type": "code",
   "execution_count": null,
   "id": "0e19ffda-84a9-4a36-aa55-52dada8c2dc4",
   "metadata": {
    "tags": []
   },
   "outputs": [],
   "source": [
    "domainname = !domainname\n",
    "\n",
    "if domainname == [\"nisdatarmor\"]:\n",
    "    # Datarmor\n",
    "    catalog = \"/home/datawork-taos-s/intranet/kerchunk/ref-copernicus.yaml\"\n",
    "else:\n",
    "    # local PC\n",
    "    catalog = \"https://data-taos.ifremer.fr/kerchunk/ref-copernicus.yaml\""
   ]
  },
  {
   "cell_type": "markdown",
   "id": "eabd1da0-021e-40e7-805b-5e71611e1ccc",
   "metadata": {},
   "source": [
    "## Start Dask cluster"
   ]
  },
  {
   "cell_type": "code",
   "execution_count": null,
   "id": "dadc099d-05c4-4045-b17d-ebf7a6adb100",
   "metadata": {
    "tags": []
   },
   "outputs": [],
   "source": [
    "import dask_hpcconfig\n",
    "from distributed import Client"
   ]
  },
  {
   "cell_type": "code",
   "execution_count": null,
   "id": "84df6e2c-5e0a-4a2f-a0ed-d75d3d1814fe",
   "metadata": {
    "tags": []
   },
   "outputs": [],
   "source": [
    "if domainname == [\"nisdatarmor\"]:\n",
    "    cluster = dask_hpcconfig.cluster(cluster_name, **cluster_overrides)\n",
    "    if cluster_size is not None:\n",
    "        cluster.scale(cluster_size)\n",
    "else:\n",
    "    cluster = dask_hpcconfig.cluster(\"local\")\n",
    "\n",
    "client = Client(cluster)\n",
    "client"
   ]
  },
  {
   "cell_type": "raw",
   "id": "55dd99cd-6900-4c5b-9ceb-d57eda503b14",
   "metadata": {
    "tags": []
   },
   "source": [
    "from distributed import Client, LocalCluster\n",
    "\n",
    "if scheduler_address is None:\n",
    "    cluster = LocalCluster()\n",
    "    client = cluster.get_client()\n",
    "else:\n",
    "    client = Client(scheduler_address)\n",
    "\n",
    "client"
   ]
  },
  {
   "cell_type": "markdown",
   "id": "32902392-8ed2-4e3d-a27e-77cc837fe9ac",
   "metadata": {},
   "source": [
    "## read the data"
   ]
  },
  {
   "cell_type": "raw",
   "id": "28c5c02f-8535-47ba-b191-77591f49efee",
   "metadata": {
    "tags": []
   },
   "source": [
    "%%time\n",
    "ds = xr.open_dataset(input_path, engine=\"zarr\", chunks={})\n",
    "ds"
   ]
  },
  {
   "cell_type": "code",
   "execution_count": null,
   "id": "625ff1b5-94d9-4eec-b1ae-2637d931899c",
   "metadata": {
    "tags": []
   },
   "outputs": [],
   "source": [
    "input_path"
   ]
  },
  {
   "cell_type": "code",
   "execution_count": null,
   "id": "86d533df-e23e-4788-8923-d2a07d0ae17d",
   "metadata": {
    "tags": []
   },
   "outputs": [],
   "source": [
    "%%time\n",
    "ds = (\n",
    "    xr.open_dataset(input_path, engine=\"zarr\", chunks={})\n",
    "    .assign_coords(\n",
    "        latitude=lambda ds: ds.latitude.compute(),\n",
    "        longitude=lambda ds: ds.longitude.compute(),\n",
    "    )\n",
    "    .swap_dims({\"lat\": \"yi\", \"lon\": \"xi\"})\n",
    "    .drop_vars([\"lat\", \"lon\"])\n",
    "    .assign(ocean_mask=lambda ds: ds[\"H0\"].notnull())\n",
    ")\n",
    "ds"
   ]
  },
  {
   "cell_type": "code",
   "execution_count": null,
   "id": "c582c00d-9ad4-4016-a241-ce5bfc7bac4e",
   "metadata": {
    "tags": []
   },
   "outputs": [],
   "source": [
    "ds.H0.plot()"
   ]
  },
  {
   "cell_type": "markdown",
   "id": "e0c41721-c1f2-4839-b0dc-3b6a2550537e",
   "metadata": {},
   "source": [
    "## fill the coast with neighboring values\n"
   ]
  },
  {
   "cell_type": "raw",
   "id": "ae555b9a-e8f2-46fd-838d-e77f3eb37c0f",
   "metadata": {},
   "source": [
    "max_gap=2\n",
    "limit=1\n",
    "method='nearest'\n",
    "ds=ds.interpolate_na(dim=\"lon\",method=method,limit=limit,max_gap=max_gap).interpolate_na(dim=\"lat\",method=method,limit=limit,max_gap=max_gap)#, fill_value=\"extrapolate\")\n"
   ]
  },
  {
   "cell_type": "markdown",
   "id": "df6fcd12-b268-45df-b259-cd02ef3aa469",
   "metadata": {},
   "source": [
    "## define the target grid"
   ]
  },
  {
   "cell_type": "code",
   "execution_count": null,
   "id": "3a9fe981-fe46-4267-8d9a-d92f92fd09e2",
   "metadata": {
    "tags": []
   },
   "outputs": [],
   "source": [
    "%%time\n",
    "\n",
    "grid = HealpyGridInfo(level=int(np.log2(nside)), rot=rot)\n",
    "grid"
   ]
  },
  {
   "cell_type": "raw",
   "id": "5c9480ed-2b3a-4d7d-b91f-48e4dacc3130",
   "metadata": {
    "tags": []
   },
   "source": [
    "target_grid = grid.target_grid(ds)\n",
    "target_grid"
   ]
  },
  {
   "cell_type": "code",
   "execution_count": null,
   "id": "655bd3b6-d537-49b0-bc81-db6a0e717826",
   "metadata": {
    "tags": []
   },
   "outputs": [],
   "source": [
    "def center_longitude(ds, center):\n",
    "    if center == 0:\n",
    "        centered = (ds.longitude + 180) % 360 - 180\n",
    "    else:\n",
    "        centered = (ds.longitude - 180) % 360 + 180\n",
    "\n",
    "    return ds.assign_coords(longitude=centered)\n",
    "\n",
    "target_grid = grid.target_grid(ds).pipe(center_longitude, 0)\n",
    "target_grid"
   ]
  },
  {
   "cell_type": "raw",
   "id": "bcba7881-ff87-4a66-9b82-cf123a39f9f9",
   "metadata": {
    "tags": []
   },
   "source": [
    "ds=ds.assign_coords(latitude=lambda ds: ds.latitude.compute(), longitude=lambda ds: ds.longitude.compute())\n",
    "ds_grid=ds.drop_vars(['H0','diff'])\n",
    "ds_grid"
   ]
  },
  {
   "cell_type": "raw",
   "id": "cf4a8f29-76c8-46ce-b28d-e3779e380f6e",
   "metadata": {},
   "source": [
    "ds.drop_vars(['H0','diff'])"
   ]
  },
  {
   "cell_type": "markdown",
   "id": "ae32fbef-a0d1-40eb-bc67-4731d748e3cc",
   "metadata": {},
   "source": [
    "## compute the weights"
   ]
  },
  {
   "cell_type": "code",
   "execution_count": null,
   "id": "ccc2b29a-2cbe-4e87-b7dc-5b9ce4319989",
   "metadata": {
    "tags": []
   },
   "outputs": [],
   "source": [
    "%%time\n",
    "regridder = HealpyRegridder(\n",
    "    ds.drop_vars(['H0','diff']),\n",
    "    target_grid,\n",
    "    method=\"bilinear\",\n",
    "    interpolation_kwargs={\"mask\": \"ocean_mask\", \"min_vertices\": min_vertices},\n",
    ")\n",
    "regridder"
   ]
  },
  {
   "cell_type": "markdown",
   "id": "87a78c0f-6cc8-484e-b963-d1ad0aefb6e3",
   "metadata": {},
   "source": [
    "## apply the weights"
   ]
  },
  {
   "cell_type": "code",
   "execution_count": null,
   "id": "917503bd-460b-4eca-8f79-055524d10014",
   "metadata": {},
   "outputs": [],
   "source": []
  },
  {
   "cell_type": "code",
   "execution_count": null,
   "id": "cffef897-8975-4df2-98d3-cd5381af1f06",
   "metadata": {
    "tags": []
   },
   "outputs": [],
   "source": [
    "%%time\n",
    "regridded = regridder.regrid_ds(ds).persist() #.persist() does not work. \n",
    "regridded\n"
   ]
  },
  {
   "cell_type": "raw",
   "id": "d5f877b6-e928-4d90-8ef6-51f4c9264716",
   "metadata": {
    "tags": []
   },
   "source": [
    "%%time\n",
    "regridded = regridded.compute() #.persist() does not work. \n",
    "regridded\n"
   ]
  },
  {
   "cell_type": "code",
   "execution_count": null,
   "id": "5f206d4a-79e3-4840-a69c-3774145f7bcd",
   "metadata": {
    "tags": []
   },
   "outputs": [],
   "source": [
    "%%time\n",
    "reshaped = grid.to_2d(regridded).persist()\n",
    "reshaped"
   ]
  },
  {
   "cell_type": "markdown",
   "id": "20e6d3a7-5e12-4858-ae27-a0eaec16a32a",
   "metadata": {},
   "source": [
    "## compute and save to disk"
   ]
  },
  {
   "cell_type": "code",
   "execution_count": null,
   "id": "6bd7bc03-a4f1-4e84-8217-e6d9248ed4b5",
   "metadata": {
    "tags": []
   },
   "outputs": [],
   "source": [
    "%%time\n",
    "reshaped.to_zarr(output_path, mode=\"w\", consolidated=True, compute=True)"
   ]
  },
  {
   "cell_type": "markdown",
   "id": "ce5c4d6d-71f3-4066-85c8-d3b622883b68",
   "metadata": {},
   "source": [
    "## visualize the results"
   ]
  },
  {
   "cell_type": "raw",
   "id": "62edd7d3-561e-4b69-b54f-9aea7a3b6d49",
   "metadata": {
    "tags": []
   },
   "source": [
    "regridded_ = xr.open_dataset(output_path, engine=\"zarr\", chunks={})\n",
    "regridded_"
   ]
  },
  {
   "cell_type": "raw",
   "id": "3177fc78-eb32-417f-a023-ddcea5b50f3b",
   "metadata": {
    "tags": []
   },
   "source": [
    "plotval=regridded_.assign_coords(\n",
    "        latitude=lambda ds: ds.latitude.compute(),\n",
    "        longitude=lambda ds: ds.longitude.compute(),\n",
    "    )\n",
    "plotval"
   ]
  },
  {
   "cell_type": "raw",
   "id": "7594e85f-92f1-402f-8862-19dddf341c82",
   "metadata": {},
   "source": [
    "\n",
    "plotval[\"H0\"].hvplot.quadmesh( \n",
    "    geo=True,coastline='10m',\n",
    "    xlim=(-8,5),\n",
    "    #clim=(-130,-250),\n",
    "    cmap='viridis'  # cm.cm.deep,\n",
    ")(x=\"longitude\", y=\"latitude\")"
   ]
  },
  {
   "cell_type": "raw",
   "id": "5b0c1c92-c7ec-4b7c-811d-89063dbb71d3",
   "metadata": {
    "tags": []
   },
   "source": [
    "#rot = {\"lat\": 0, \"lon\": 30}\n",
    "#\"min_vertices\": 2\n",
    "#nside8k\n",
    "import hvplot.xarray\n",
    "subset: dict = {\n",
    "    \"lat_min\": 48.35,\n",
    "    \"lat_max\": 48.55,\n",
    "    \"lon_min\": -5.25,\n",
    "    \"lon_max\": -4.95,\n",
    "    \"depth_min\": -100,\n",
    "    \"depth_max\": 0,\n",
    "}\n",
    "cmap = \"ocean\"\n",
    "(-plotval[\"H0\"]).hvplot.quadmesh(\n",
    "    x=\"longitude\",\n",
    "    y=\"latitude\",\n",
    "    geo=True,\n",
    "    coastline=\"10m\",\n",
    "    xlim=(subset[\"lon_min\"], subset[\"lon_max\"]),\n",
    "    ylim=(subset[\"lat_min\"], subset[\"lat_max\"]),\n",
    "    clim=((subset[\"depth_min\"], subset[\"depth_max\"])),\n",
    "    cmap=cmap,  \n",
    "    #title='max_gap '# cm.cm.deep,\n",
    ")"
   ]
  },
  {
   "cell_type": "raw",
   "id": "0ad8fc8b-3961-4819-9532-7d9987e48efd",
   "metadata": {
    "tags": []
   },
   "source": [
    "import hvplot.xarray\n",
    "#import cmocean\n",
    "import holoviews as hv\n",
    "\n",
    "hv.output(widget_location=\"bottom\")"
   ]
  },
  {
   "cell_type": "raw",
   "id": "f1c6bed6-3ac9-48f0-8616-825cbace4471",
   "metadata": {
    "tags": []
   },
   "source": [
    "regridded_[\"diff\"].hvplot.quadmesh(\n",
    "    x=\"longitude\",\n",
    "    y=\"latitude\",\n",
    "#    rasterize=True,\n",
    "#    cmap=\"cmo.diff\",\n",
    "#    coastline=\"10m\",\n",
    "    clim=(-5, 5),\n",
    ").opts(frame_width=400)"
   ]
  },
  {
   "cell_type": "code",
   "execution_count": null,
   "id": "428c34bf-f2e6-4416-8390-4ed4194ec5ef",
   "metadata": {},
   "outputs": [],
   "source": []
  }
 ],
 "metadata": {
  "kernelspec": {
   "display_name": "Python 3 (ipykernel)",
   "language": "python",
   "name": "python3"
  },
  "language_info": {
   "codemirror_mode": {
    "name": "ipython",
    "version": 3
   },
   "file_extension": ".py",
   "mimetype": "text/x-python",
   "name": "python",
   "nbconvert_exporter": "python",
   "pygments_lexer": "ipython3",
   "version": "3.10.13"
  }
 },
 "nbformat": 4,
 "nbformat_minor": 5
}
