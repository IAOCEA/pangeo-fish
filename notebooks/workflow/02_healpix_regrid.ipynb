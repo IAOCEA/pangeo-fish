{
 "cells": [
  {
   "cell_type": "markdown",
   "id": "91c09108-130a-4a2f-a5ff-1fb670b32397",
   "metadata": {
    "tags": []
   },
   "source": [
    "# regrid the dataset to a healpix grid\n",
    "\n",
    "Since the default geographic rectilinear grid has non-uniform grid sizes and distances and is thus not suitable for this application, we have to transform the dataset to one with equal distances between the cell centers. The Healpix cells satisfy these conditions, and can be used for spatial convolutions when reshaped to a 2D array according to the \"nested\" cell numbering.\n",
    "\n",
    "As with any interpolation, the linear interpolation supported by the `healpy` library is split into the computation of weights and the application of those weights to the data."
   ]
  },
  {
   "cell_type": "code",
   "execution_count": null,
   "id": "c2316e94-e143-45ad-9da7-b5fd7ad2b76e",
   "metadata": {
    "tags": []
   },
   "outputs": [],
   "source": [
    "import xarray as xr\n",
    "from xarray_healpy import HealpyGridInfo, HealpyRegridder"
   ]
  },
  {
   "cell_type": "markdown",
   "id": "112131ee-01cb-41b8-9728-d3ebf7d8e4ef",
   "metadata": {},
   "source": [
    "## parametrize with [papermill](https://papermill.readthedocs.io/en/latest/)"
   ]
  },
  {
   "cell_type": "code",
   "execution_count": null,
   "id": "d32fde80-dab5-4530-b2ac-ababa129a09d",
   "metadata": {
    "editable": true,
    "slideshow": {
     "slide_type": ""
    },
    "tags": [
     "parameters"
    ]
   },
   "outputs": [],
   "source": [
    "# Notebook specification\n",
    "nside: int = 4096  # healpix resolution\n",
    "rot = {\"lat\": 0, \"lon\": 30}\n",
    "\n",
    "\n",
    "# Dask parameters (Machine, and configuration dependent)\n",
    "cluster_size: int | None = None\n",
    "cluster_name: str = \"datarmor-local\"\n",
    "cluster_overrides: dict = {}\n",
    "\n",
    "# Run specific\n",
    "working_path: str = \"/home/datawork-taos-s/public/fish/\"\n",
    "tag_name: str = \"A18832\"\n",
    "tag_base_path: str = \"/home/datawork-lops-iaocea/data/fish-intel/tag/nc/\"\n",
    "tag_db_path: str = (\n",
    "    \"/home/datawork-lops-iaocea/data/fish-intel/acoustic/FishIntel_tagging_France.csv\"\n",
    ")\n",
    "detections_path: str = \"/home/datawork-lops-iaocea/data/fish-intel/acoustic/Acoustic_Data/detections_recaptured_fishintel.csv\"\n",
    "\n",
    "ref_model_name: str = \"copernicus\""
   ]
  },
  {
   "cell_type": "markdown",
   "id": "57f183b6-f4e9-462f-a439-216ed0d17e33",
   "metadata": {},
   "source": [
    "## set path using the parameters\n"
   ]
  },
  {
   "cell_type": "code",
   "execution_count": null,
   "id": "f9f9718e-5823-49d2-a0c3-c43e52117fb0",
   "metadata": {},
   "outputs": [],
   "source": [
    "tag_url = tag_base_path + tag_name + \".nc\"\n",
    "input_path = working_path + tag_name + \"/\" + ref_model_name + \"/diff.zarr\"\n",
    "output_path = (\n",
    "    working_path + tag_name + \"/\" + ref_model_name + \"/diff_\" + str(nside) + \".zarr\"\n",
    ")"
   ]
  },
  {
   "cell_type": "markdown",
   "id": "fd3cc248-9a40-4e94-b170-1d27b7ea215a",
   "metadata": {},
   "source": [
    "## Specify machine dependent parameters\n",
    "\n"
   ]
  },
  {
   "cell_type": "code",
   "execution_count": null,
   "id": "0e19ffda-84a9-4a36-aa55-52dada8c2dc4",
   "metadata": {},
   "outputs": [],
   "source": [
    "domainname = !domainname\n",
    "\n",
    "if domainname == [\"nisdatarmor\"]:\n",
    "    # Datarmor\n",
    "    catalog = \"/home/datawork-taos-s/intranet/kerchunk/ref-copernicus.yaml\"\n",
    "else:\n",
    "    # local PC\n",
    "    catalog = \"https://data-taos.ifremer.fr/kerchunk/ref-copernicus.yaml\""
   ]
  },
  {
   "cell_type": "markdown",
   "id": "eabd1da0-021e-40e7-805b-5e71611e1ccc",
   "metadata": {},
   "source": [
    "## Start Dask cluster"
   ]
  },
  {
   "cell_type": "code",
   "execution_count": null,
   "id": "dadc099d-05c4-4045-b17d-ebf7a6adb100",
   "metadata": {},
   "outputs": [],
   "source": [
    "import dask_hpcconfig\n",
    "from distributed import Client"
   ]
  },
  {
   "cell_type": "code",
   "execution_count": null,
   "id": "84df6e2c-5e0a-4a2f-a0ed-d75d3d1814fe",
   "metadata": {},
   "outputs": [],
   "source": [
    "if domainname == [\"nisdatarmor\"]:\n",
    "    cluster = dask_hpcconfig.cluster(cluster_name, **cluster_overrides)\n",
    "    if cluster_size is not None:\n",
    "        cluster.scale(cluster_size)\n",
    "else:\n",
    "    cluster = dask_hpcconfig.cluster(\"local\")\n",
    "\n",
    "client = Client(cluster)\n",
    "client"
   ]
  },
  {
   "cell_type": "raw",
   "id": "55dd99cd-6900-4c5b-9ceb-d57eda503b14",
   "metadata": {
    "tags": []
   },
   "source": [
    "from distributed import Client, LocalCluster\n",
    "\n",
    "if scheduler_address is None:\n",
    "    cluster = LocalCluster()\n",
    "    client = cluster.get_client()\n",
    "else:\n",
    "    client = Client(scheduler_address)\n",
    "\n",
    "client"
   ]
  },
  {
   "cell_type": "markdown",
   "id": "32902392-8ed2-4e3d-a27e-77cc837fe9ac",
   "metadata": {},
   "source": [
    "## read the data"
   ]
  },
  {
   "cell_type": "code",
   "execution_count": null,
   "id": "d41617f6-0d16-47ea-87f6-5546db4a41c5",
   "metadata": {
    "tags": []
   },
   "outputs": [],
   "source": [
    "%%time\n",
    "ds = xr.open_dataset(input_path, engine=\"zarr\", chunks={})\n",
    "ds"
   ]
  },
  {
   "cell_type": "markdown",
   "id": "e0c41721-c1f2-4839-b0dc-3b6a2550537e",
   "metadata": {},
   "source": [
    "## fill the coast with neighboring values\n"
   ]
  },
  {
   "cell_type": "raw",
   "id": "ae555b9a-e8f2-46fd-838d-e77f3eb37c0f",
   "metadata": {},
   "source": [
    "max_gap=2\n",
    "limit=1\n",
    "method='nearest'\n",
    "ds=ds.interpolate_na(dim=\"lon\",method=method,limit=limit,max_gap=max_gap).interpolate_na(dim=\"lat\",method=method,limit=limit,max_gap=max_gap)#, fill_value=\"extrapolate\")\n"
   ]
  },
  {
   "cell_type": "markdown",
   "id": "df6fcd12-b268-45df-b259-cd02ef3aa469",
   "metadata": {},
   "source": [
    "## define the target grid"
   ]
  },
  {
   "cell_type": "code",
   "execution_count": null,
   "id": "3a9fe981-fe46-4267-8d9a-d92f92fd09e2",
   "metadata": {
    "tags": []
   },
   "outputs": [],
   "source": [
    "%%time\n",
    "grid = HealpyGridInfo(level=np.log2(nside), rot=rot)\n",
    "grid"
   ]
  },
  {
   "cell_type": "code",
   "execution_count": null,
   "id": "30272c0c-a7df-487e-9281-d493ec13f754",
   "metadata": {
    "tags": []
   },
   "outputs": [],
   "source": [
    "target_grid = grid.target_grid(ds)\n",
    "target_grid"
   ]
  },
  {
   "cell_type": "markdown",
   "id": "ae32fbef-a0d1-40eb-bc67-4731d748e3cc",
   "metadata": {},
   "source": [
    "## compute the weights"
   ]
  },
  {
   "cell_type": "code",
   "execution_count": null,
   "id": "ccc2b29a-2cbe-4e87-b7dc-5b9ce4319989",
   "metadata": {
    "tags": []
   },
   "outputs": [],
   "source": [
    "%%time\n",
    "regridder = HealpyRegridder(\n",
    "    ds,\n",
    "    target_grid,\n",
    "    method=\"bilinear\",\n",
    "    interpolation_kwargs={\"mask\": \"ocean_mask\", \"min_vertices\": 4},\n",
    ")\n",
    "regridder"
   ]
  },
  {
   "cell_type": "markdown",
   "id": "87a78c0f-6cc8-484e-b963-d1ad0aefb6e3",
   "metadata": {},
   "source": [
    "## apply the weights"
   ]
  },
  {
   "cell_type": "code",
   "execution_count": null,
   "id": "cffef897-8975-4df2-98d3-cd5381af1f06",
   "metadata": {
    "tags": []
   },
   "outputs": [],
   "source": [
    "%%time\n",
    "regridded = regridder.regrid_ds(ds)\n",
    "regridded"
   ]
  },
  {
   "cell_type": "code",
   "execution_count": null,
   "id": "6b6fee4b-4c0d-4a48-8e69-916dcf0be27f",
   "metadata": {},
   "outputs": [],
   "source": [
    "reshaped = grid.to_2d(regridded)\n",
    "reshaped"
   ]
  },
  {
   "cell_type": "markdown",
   "id": "20e6d3a7-5e12-4858-ae27-a0eaec16a32a",
   "metadata": {},
   "source": [
    "## compute and save to disk"
   ]
  },
  {
   "cell_type": "code",
   "execution_count": null,
   "id": "6bd7bc03-a4f1-4e84-8217-e6d9248ed4b5",
   "metadata": {
    "tags": []
   },
   "outputs": [],
   "source": [
    "%%time\n",
    "reshaped.to_zarr(output_path, mode=\"w\", consolidated=True, compute=True)"
   ]
  },
  {
   "cell_type": "markdown",
   "id": "ce5c4d6d-71f3-4066-85c8-d3b622883b68",
   "metadata": {},
   "source": [
    "## visualize the results"
   ]
  },
  {
   "cell_type": "code",
   "execution_count": null,
   "id": "92c90272-be84-474c-979c-b4751b460a3e",
   "metadata": {
    "tags": []
   },
   "outputs": [],
   "source": [
    "regridded_ = xr.open_dataset(output_path, engine=\"zarr\", chunks={})\n",
    "regridded_"
   ]
  },
  {
   "cell_type": "code",
   "execution_count": null,
   "id": "e4487a69-a6cd-4eb2-86e7-c80b404866ba",
   "metadata": {},
   "outputs": [],
   "source": [
    "regridded_[\"diff\"].isel(time=0).plot(x=\"longitude\", y=\"latitude\")"
   ]
  },
  {
   "cell_type": "code",
   "execution_count": null,
   "id": "862e2736-c000-4bf6-a05e-6f51af2def45",
   "metadata": {},
   "outputs": [],
   "source": []
  },
  {
   "cell_type": "raw",
   "id": "0ad8fc8b-3961-4819-9532-7d9987e48efd",
   "metadata": {
    "tags": []
   },
   "source": [
    "import hvplot.xarray\n",
    "#import cmocean\n",
    "import holoviews as hv\n",
    "\n",
    "hv.output(widget_location=\"bottom\")"
   ]
  },
  {
   "cell_type": "raw",
   "id": "f1c6bed6-3ac9-48f0-8616-825cbace4471",
   "metadata": {
    "tags": []
   },
   "source": [
    "regridded_[\"diff\"].hvplot.quadmesh(\n",
    "    x=\"longitude\",\n",
    "    y=\"latitude\",\n",
    "#    rasterize=True,\n",
    "#    cmap=\"cmo.diff\",\n",
    "#    coastline=\"10m\",\n",
    "    clim=(-5, 5),\n",
    ").opts(frame_width=400)"
   ]
  },
  {
   "cell_type": "code",
   "execution_count": null,
   "id": "428c34bf-f2e6-4416-8390-4ed4194ec5ef",
   "metadata": {},
   "outputs": [],
   "source": []
  }
 ],
 "metadata": {
  "language_info": {
   "codemirror_mode": {
    "name": "ipython",
    "version": 3
   },
   "file_extension": ".py",
   "mimetype": "text/x-python",
   "name": "python",
   "nbconvert_exporter": "python",
   "pygments_lexer": "ipython3"
  }
 },
 "nbformat": 4,
 "nbformat_minor": 5
}
