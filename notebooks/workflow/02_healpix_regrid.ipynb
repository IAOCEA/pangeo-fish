{
 "cells": [
  {
   "cell_type": "markdown",
   "id": "91c09108-130a-4a2f-a5ff-1fb670b32397",
   "metadata": {
    "tags": []
   },
   "source": [
    "# regrid the dataset to a healpix grid\n",
    "\n",
    "Since the default geographic rectilinear grid has non-uniform grid sizes and distances and is thus not suitable for this application, we have to transform the dataset to one with equal distances between the cell centers. The Healpix cells satisfy these conditions, and can be used for spatial convolutions when reshaped to a 2D array according to the \"nested\" cell numbering.\n",
    "\n",
    "As with any interpolation, the linear interpolation supported by the `healpy` library is split into the computation of weights and the application of those weights to the data."
   ]
  },
  {
   "cell_type": "code",
   "execution_count": null,
   "id": "c2316e94-e143-45ad-9da7-b5fd7ad2b76e",
   "metadata": {},
   "outputs": [],
   "source": [
    "import xarray as xr\n",
    "from pangeo_fish.healpy import create_grid, HealpyRegridder"
   ]
  },
  {
   "cell_type": "markdown",
   "id": "823a4832-2c13-4fa5-b2b7-4b423355d747",
   "metadata": {},
   "source": [
    "parameters"
   ]
  },
  {
   "cell_type": "code",
   "execution_count": null,
   "id": "d32fde80-dab5-4530-b2ac-ababa129a09d",
   "metadata": {
    "editable": true,
    "slideshow": {
     "slide_type": ""
    },
    "tags": [
     "parameters"
    ]
   },
   "outputs": [],
   "source": [
    "nside: int = 4096  # healpix resolution\n",
    "rot = {\"lat\": 0, \"lon\": 30}\n",
    "original_path: str\n",
    "regridded_path: str\n",
    "\n",
    "scheduler_address: str = None"
   ]
  },
  {
   "cell_type": "code",
   "execution_count": null,
   "id": "79fd427b-e47a-43a5-ae73-98a0a62a0a50",
   "metadata": {},
   "outputs": [],
   "source": [
    "root = \"/home/jmagin/work/data/fish-intel\"\n",
    "input_path = f\"{root}/diff/A18832-f1_e2500.zarr\"\n",
    "output_path = f\"{root}/diff_healpix/A18832-f1_e2500_hp{nside}.zarr\""
   ]
  },
  {
   "cell_type": "markdown",
   "id": "8ce972e7-8e80-405d-9248-10e2151955dd",
   "metadata": {},
   "source": [
    "cluster"
   ]
  },
  {
   "cell_type": "code",
   "execution_count": null,
   "id": "88241f8c-5440-49fd-9ab5-29a32b95cb0c",
   "metadata": {},
   "outputs": [],
   "source": [
    "from distributed import Client, LocalCluster\n",
    "\n",
    "if scheduler_address is None:\n",
    "    cluster = LocalCluster()\n",
    "    client = cluster.get_client()\n",
    "else:\n",
    "    client = Client(scheduler_address)\n",
    "\n",
    "client"
   ]
  },
  {
   "cell_type": "markdown",
   "id": "32902392-8ed2-4e3d-a27e-77cc837fe9ac",
   "metadata": {},
   "source": [
    "## read the data"
   ]
  },
  {
   "cell_type": "code",
   "execution_count": null,
   "id": "d41617f6-0d16-47ea-87f6-5546db4a41c5",
   "metadata": {},
   "outputs": [],
   "source": [
    "ds = xr.open_dataset(input_path, engine=\"zarr\", chunks={})\n",
    "ds"
   ]
  },
  {
   "cell_type": "markdown",
   "id": "df6fcd12-b268-45df-b259-cd02ef3aa469",
   "metadata": {},
   "source": [
    "## define the target grid"
   ]
  },
  {
   "cell_type": "code",
   "execution_count": null,
   "id": "ee7cbcfc-810c-4f93-a713-7a15f34666be",
   "metadata": {
    "tags": []
   },
   "outputs": [],
   "source": [
    "%%time\n",
    "grid = create_grid(nside=nside, rot=rot)\n",
    "grid"
   ]
  },
  {
   "cell_type": "markdown",
   "id": "ae32fbef-a0d1-40eb-bc67-4731d748e3cc",
   "metadata": {},
   "source": [
    "## compute the weights"
   ]
  },
  {
   "cell_type": "code",
   "execution_count": null,
   "id": "ccc2b29a-2cbe-4e87-b7dc-5b9ce4319989",
   "metadata": {
    "tags": []
   },
   "outputs": [],
   "source": [
    "%%time\n",
    "regridder = HealpyRegridder(ds, grid)\n",
    "regridder"
   ]
  },
  {
   "cell_type": "markdown",
   "id": "87a78c0f-6cc8-484e-b963-d1ad0aefb6e3",
   "metadata": {},
   "source": [
    "## apply the weights"
   ]
  },
  {
   "cell_type": "code",
   "execution_count": null,
   "id": "cffef897-8975-4df2-98d3-cd5381af1f06",
   "metadata": {
    "tags": []
   },
   "outputs": [],
   "source": [
    "%%time\n",
    "regridded = regridder.regrid_ds(ds)\n",
    "regridded"
   ]
  },
  {
   "cell_type": "markdown",
   "id": "20e6d3a7-5e12-4858-ae27-a0eaec16a32a",
   "metadata": {},
   "source": [
    "## compute and save to disk"
   ]
  },
  {
   "cell_type": "code",
   "execution_count": null,
   "id": "6bd7bc03-a4f1-4e84-8217-e6d9248ed4b5",
   "metadata": {
    "tags": []
   },
   "outputs": [],
   "source": [
    "regridded.to_zarr(output_path, mode=\"w\", consolidated=True, compute=True)"
   ]
  },
  {
   "cell_type": "markdown",
   "id": "ce5c4d6d-71f3-4066-85c8-d3b622883b68",
   "metadata": {},
   "source": [
    "## visualize the results"
   ]
  },
  {
   "cell_type": "code",
   "execution_count": null,
   "id": "92c90272-be84-474c-979c-b4751b460a3e",
   "metadata": {
    "tags": []
   },
   "outputs": [],
   "source": [
    "regridded_ = xr.open_dataset(output_path, engine=\"zarr\", chunks={})\n",
    "regridded_"
   ]
  },
  {
   "cell_type": "code",
   "execution_count": null,
   "id": "63a502c7-06f6-4c73-9b1c-882ceb4d8647",
   "metadata": {
    "tags": []
   },
   "outputs": [],
   "source": [
    "import hvplot.xarray\n",
    "import cmocean\n",
    "import holoviews as hv\n",
    "\n",
    "hv.output(widget_location=\"bottom\")"
   ]
  },
  {
   "cell_type": "code",
   "execution_count": null,
   "id": "396a95d6-3782-4435-a8fc-941efc31ce7e",
   "metadata": {
    "tags": []
   },
   "outputs": [],
   "source": [
    "regridded_[\"diff\"].hvplot.quadmesh(\n",
    "    x=\"longitude\",\n",
    "    y=\"latitude\",\n",
    "    rasterize=True,\n",
    "    cmap=\"cmo.diff\",\n",
    "    coastline=\"10m\",\n",
    "    clim=(-5, 5),\n",
    ").opts(frame_width=400)"
   ]
  }
 ],
 "metadata": {
  "language_info": {
   "codemirror_mode": {
    "name": "ipython",
    "version": 3
   },
   "file_extension": ".py",
   "mimetype": "text/x-python",
   "name": "python",
   "nbconvert_exporter": "python",
   "pygments_lexer": "ipython3"
  }
 },
 "nbformat": 4,
 "nbformat_minor": 5
}
