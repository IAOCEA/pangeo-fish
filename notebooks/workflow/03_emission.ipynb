{
 "cells": [
  {
   "cell_type": "markdown",
   "id": "ad14eed7-f804-4079-9fb9-7591b58dd460",
   "metadata": {},
   "source": [
    "# preparations for the optimization\n",
    "\n",
    "From the temperature differences, we can compute:\n",
    "- the emission probability matrix\n",
    "- the initial probability\n",
    "- the final probability\n",
    "- the ocean mask\n",
    "- the maximum sigma"
   ]
  },
  {
   "cell_type": "code",
   "execution_count": null,
   "id": "0de569fc-a314-40f4-a947-488ba0d33f33",
   "metadata": {
    "tags": []
   },
   "outputs": [],
   "source": [
    "import pint_xarray\n",
    "import xarray as xr"
   ]
  },
  {
   "cell_type": "code",
   "execution_count": null,
   "id": "63fc8614-a806-43ee-8165-a9a6c3c8ec5f",
   "metadata": {
    "tags": []
   },
   "outputs": [],
   "source": [
    "from pangeo_fish.distributions import create_covariances, normal_at\n",
    "from pangeo_fish.pdf import normal\n",
    "from pangeo_fish.utils import temporal_resolution"
   ]
  },
  {
   "cell_type": "markdown",
   "id": "fbdbe1d3-7fa2-4b3f-b0c3-ebf205c89533",
   "metadata": {
    "tags": []
   },
   "source": [
    "## parametrize with [papermill](https://papermill.readthedocs.io/en/latest/)"
   ]
  },
  {
   "cell_type": "code",
   "execution_count": null,
   "id": "4964c7e1-9fc8-4ad1-a043-78fc6a492535",
   "metadata": {
    "tags": [
     "parameters"
    ]
   },
   "outputs": [],
   "source": [
    "#Notebook specification\n",
    "diff_std: float = 0.75\n",
    "recapture_std: float = 1e-2\n",
    "truncate: float = 4.0\n",
    "\n",
    "\n",
    "#Dask parameters (Machine, and configuration dependent) \n",
    "cluster_size: int | None = None\n",
    "cluster_name: str = \"datarmor-local\"\n",
    "cluster_overrides: dict = {}\n",
    "\n",
    "#Run specific \n",
    "working_path: str = \"/home/datawork-taos-s/public/fish/\"\n",
    "tag_name: str = \"A18832\"\n",
    "tag_base_path: str = \"/home/datawork-lops-iaocea/data/fish-intel/tag/nc/\"\n",
    "tag_db_path: str = \"/home/datawork-lops-iaocea/data/fish-intel/acoustic/FishIntel_tagging_France.csv\"\n",
    "detections_path: str = \"/home/datawork-lops-iaocea/data/fish-intel/acoustic/Acoustic_Data/detections_recaptured_fishintel.csv\"\n",
    "\n",
    "ref_model_name: str = \"copernicus\"\n",
    "nside: int = 4096  # healpix resolution\n"
   ]
  },
  {
   "cell_type": "markdown",
   "id": "0a540526-f66b-4486-97bb-efdeaca02153",
   "metadata": {},
   "source": [
    "## set path using the parameters\n"
   ]
  },
  {
   "cell_type": "code",
   "execution_count": null,
   "id": "f09ae76f-e74f-4070-89cb-e7b9f15b5ee8",
   "metadata": {},
   "outputs": [],
   "source": [
    "tag_url = tag_base_path +   tag_name + \".nc\"\n",
    "\n",
    "input_path = (\n",
    "    working_path + tag_name + \"/\" + ref_model_name + \"/diff_\" + str(nside) + \".zarr\"\n",
    ")\n",
    "output_path = (\n",
    "    working_path + tag_name + \"/\" + ref_model_name + \"/emission_\" + str(nside) + \".zarr\"\n",
    ")"
   ]
  },
  {
   "cell_type": "markdown",
   "id": "e26bd9cd-a816-4732-92fa-fbb06bb907c3",
   "metadata": {},
   "source": [
    "## Specify machine dependent parameters\n",
    "\n"
   ]
  },
  {
   "cell_type": "code",
   "execution_count": null,
   "id": "d926fcf1-4484-4bd2-af49-51322d0a62b3",
   "metadata": {},
   "outputs": [],
   "source": [
    "domainname=!domainname\n",
    "\n",
    "if domainname == [\"nisdatarmor\"]:\n",
    "    # Datarmor\n",
    "    catalog = \"/home/datawork-taos-s/intranet/kerchunk/ref-copernicus.yaml\"\n",
    "else:\n",
    "    # local PC\n",
    "    catalog = \"https://data-taos.ifremer.fr/kerchunk/ref-copernicus.yaml\""
   ]
  },
  {
   "cell_type": "markdown",
   "id": "983d0de0-9236-4440-91c5-de460f403b08",
   "metadata": {},
   "source": [
    "## Start Dask cluster"
   ]
  },
  {
   "cell_type": "code",
   "execution_count": null,
   "id": "466e5e30-a9fb-44d7-b985-a60142441565",
   "metadata": {},
   "outputs": [],
   "source": [
    "import dask_hpcconfig\n",
    "from distributed import Client"
   ]
  },
  {
   "cell_type": "code",
   "execution_count": null,
   "id": "45f3c4dc-af81-4317-a8dd-4c99c96917f4",
   "metadata": {},
   "outputs": [],
   "source": [
    "if domainname == [\"nisdatarmor\"]:\n",
    "    cluster = dask_hpcconfig.cluster(cluster_name, **cluster_overrides)\n",
    "    if cluster_size is not None:\n",
    "        cluster.scale(cluster_size)\n",
    "else:\n",
    "    cluster = dask_hpcconfig.cluster(\"local\")\n",
    "\n",
    "client = Client(cluster)\n",
    "client"
   ]
  },
  {
   "cell_type": "raw",
   "id": "0c099a94-af3e-466e-82d3-b33cc2ea91b4",
   "metadata": {
    "tags": []
   },
   "source": [
    "from distributed import Client, LocalCluster\n",
    "\n",
    "if scheduler_address is None:\n",
    "    cluster = LocalCluster()\n",
    "    client = cluster.get_client()\n",
    "else:\n",
    "    client = Client(scheduler_address)\n",
    "client"
   ]
  },
  {
   "cell_type": "markdown",
   "id": "ee4fd3ac-635c-49c6-8441-bd4f43d08d03",
   "metadata": {},
   "source": [
    "## open the data"
   ]
  },
  {
   "cell_type": "code",
   "execution_count": null,
   "id": "b9c92b19-5532-4e91-94b6-f8babb486ce9",
   "metadata": {
    "tags": []
   },
   "outputs": [],
   "source": [
    "tag = xr.open_dataset(tag_url, engine=\"netcdf4\")\n",
    "tag"
   ]
  },
  {
   "cell_type": "code",
   "execution_count": null,
   "id": "1d15f21b-4010-4791-9bd3-347bd0ec335a",
   "metadata": {
    "tags": []
   },
   "outputs": [],
   "source": [
    "differences = xr.open_dataset(input_path, engine=\"zarr\", chunks={})\n",
    "differences"
   ]
  },
  {
   "cell_type": "markdown",
   "id": "5dbd0dda-2ccb-46c4-b4b7-f34ffbc7150c",
   "metadata": {},
   "source": [
    "## ocean mask"
   ]
  },
  {
   "cell_type": "code",
   "execution_count": null,
   "id": "7a15c3f3-4cee-4d2d-a008-1f0d2f845783",
   "metadata": {
    "tags": []
   },
   "outputs": [],
   "source": [
    "ocean_mask = differences[\"H0\"].notnull()\n",
    "ocean_mask"
   ]
  },
  {
   "cell_type": "markdown",
   "id": "8e763973-dc8a-4f1d-827a-de5aede98c0c",
   "metadata": {},
   "source": [
    "## emission probability matrix"
   ]
  },
  {
   "cell_type": "code",
   "execution_count": null,
   "id": "4697e04f-5f7b-4066-8dc2-ba207d60052d",
   "metadata": {
    "tags": []
   },
   "outputs": [],
   "source": [
    "%%time\n",
    "emission_pdf = normal(\n",
    "    differences[\"diff\"],\n",
    "    mean=0,\n",
    "    std=diff_std,\n",
    "    dims=[\"x\", \"y\"],\n",
    ")\n",
    "emission_pdf"
   ]
  },
  {
   "cell_type": "markdown",
   "id": "84a4d8ba-56e2-4331-b1fd-ca17cb9633be",
   "metadata": {},
   "source": [
    "## initial and final probability"
   ]
  },
  {
   "cell_type": "code",
   "execution_count": null,
   "id": "55dc879b-6083-497f-8b0e-2a033fa27952",
   "metadata": {
    "tags": []
   },
   "outputs": [],
   "source": [
    "%%time\n",
    "grid = differences[[\"latitude\", \"longitude\"]].compute()\n",
    "grid"
   ]
  },
  {
   "cell_type": "markdown",
   "id": "abf5cd27-218c-4ce7-affe-24ee5d725b90",
   "metadata": {},
   "source": [
    "initial"
   ]
  },
  {
   "cell_type": "code",
   "execution_count": null,
   "id": "441a3ff4-21f2-42fd-bc94-e68bea27f497",
   "metadata": {
    "tags": []
   },
   "outputs": [],
   "source": [
    "%%time\n",
    "initial_position = tag[[\"latitude\", \"longitude\", \"time\"]].sel(events=\"release\")\n",
    "cov = create_covariances(1e-6, coord_names=[\"latitude\", \"longitude\"])\n",
    "initial_probability = normal_at(\n",
    "    grid, pos=initial_position, cov=cov, normalize=True, axes=[\"latitude\", \"longitude\"]\n",
    ")\n",
    "initial_probability"
   ]
  },
  {
   "cell_type": "markdown",
   "id": "ffc1f2bd-c27c-48d8-8187-32bbfd4f6e68",
   "metadata": {},
   "source": [
    "final"
   ]
  },
  {
   "cell_type": "code",
   "execution_count": null,
   "id": "82caa356-a4c9-4ec1-b8e9-4ed3870fb6e2",
   "metadata": {
    "tags": []
   },
   "outputs": [],
   "source": [
    "%%time\n",
    "final_position = tag[[\"longitude\", \"latitude\", \"times\"]].sel(events=\"recapture\")\n",
    "\n",
    "cov = create_covariances(recapture_std**2, coord_names=[\"latitude\", \"longitude\"])\n",
    "final_probability = normal_at(\n",
    "    grid, pos=final_position, cov=cov, normalize=True, axes=[\"latitude\", \"longitude\"]\n",
    ")"
   ]
  },
  {
   "cell_type": "markdown",
   "id": "8b7a4359-fb31-475e-b000-fb95f3378580",
   "metadata": {},
   "source": [
    "## maximum sigma"
   ]
  },
  {
   "cell_type": "code",
   "execution_count": null,
   "id": "f36416ba-2f15-42b8-8893-7d5cf36b769c",
   "metadata": {
    "tags": []
   },
   "outputs": [],
   "source": [
    "%%time\n",
    "earth_radius = xr.DataArray(6371, dims=None).pint.quantify(\"km\")\n",
    "\n",
    "timedelta = temporal_resolution(differences.time).pint.quantify().pint.to(\"h\")\n",
    "grid_resolution = earth_radius * differences[\"resolution\"].pint.quantify()\n",
    "\n",
    "max_speed = xr.DataArray(60, dims=None).pint.quantify(\"km / day\").pint.to(\"km / h\")\n",
    "# to make the search a bit more fuzzy\n",
    "adjustment_factor = 10\n",
    "max_grid_displacement = max_speed * timedelta * adjustment_factor / grid_resolution\n",
    "\n",
    "max_sigma = max_grid_displacement.pint.to(\"dimensionless\").pint.magnitude / truncate\n",
    "max_sigma"
   ]
  },
  {
   "cell_type": "markdown",
   "id": "a1eba84c-0fce-4a7c-a54c-70e6584e5875",
   "metadata": {},
   "source": [
    "## pull everything together and write to disk"
   ]
  },
  {
   "cell_type": "code",
   "execution_count": null,
   "id": "356cf71d-9fdd-4a8b-84c1-78cd6094fa05",
   "metadata": {
    "tags": []
   },
   "outputs": [],
   "source": [
    "%%time\n",
    "emission = xr.Dataset(\n",
    "    {\n",
    "        \"pdf\": emission_pdf,\n",
    "        \"mask\": ocean_mask,\n",
    "        \"initial\": initial_probability,\n",
    "        \"final\": final_probability,\n",
    "    },\n",
    "    attrs=differences.attrs | {\"max_sigma\": max_sigma},\n",
    ").chunk()\n",
    "emission"
   ]
  },
  {
   "cell_type": "code",
   "execution_count": null,
   "id": "469a8e9e-f007-4e5d-b9e4-c136471faeb7",
   "metadata": {
    "tags": []
   },
   "outputs": [],
   "source": [
    "%%time\n",
    "emission.to_zarr(output_path, mode=\"w\", consolidated=True, compute=True)"
   ]
  },
  {
   "cell_type": "markdown",
   "id": "ce5c4d6d-71f3-4066-85c8-d3b622883b68",
   "metadata": {},
   "source": [
    "## visualize the results"
   ]
  },
  {
   "cell_type": "code",
   "execution_count": null,
   "id": "ab545b9c-a628-438f-a018-08bfc51f9dcb",
   "metadata": {},
   "outputs": [],
   "source": [
    "emission_ = xr.open_zarr(output_path)\n",
    "emission_"
   ]
  },
  {
   "cell_type": "code",
   "execution_count": null,
   "id": "e4487a69-a6cd-4eb2-86e7-c80b404866ba",
   "metadata": {},
   "outputs": [],
   "source": [
    "emission_[\"pdf\"].isel(time=0).plot(x=\"longitude\", y=\"latitude\")"
   ]
  }
 ],
 "metadata": {
  "kernelspec": {
   "display_name": "Python 3 (ipykernel)",
   "language": "python",
   "name": "python3"
  },
  "language_info": {
   "codemirror_mode": {
    "name": "ipython",
    "version": 3
   },
   "file_extension": ".py",
   "mimetype": "text/x-python",
   "name": "python",
   "nbconvert_exporter": "python",
   "pygments_lexer": "ipython3",
   "version": "3.11.4"
  }
 },
 "nbformat": 4,
 "nbformat_minor": 5
}
