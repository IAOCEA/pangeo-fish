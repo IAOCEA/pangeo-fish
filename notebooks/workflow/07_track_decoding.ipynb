{
 "cells": [
  {
   "cell_type": "markdown",
   "id": "4500c524-65cf-4edc-a7ba-0c06cf8c9619",
   "metadata": {
    "tags": []
   },
   "source": [
    "# track decoding\n",
    "\n",
    "With the model parameter $\\sigma$ estimated, we can proceed to estimating tracks.\n",
    "\n",
    "There's multiple different ways:\n",
    "- mean track\n",
    "- mode track\n",
    "- most probable track\n",
    "\n",
    "Of all of these, the most probable track is the most meaningful one."
   ]
  },
  {
   "cell_type": "markdown",
   "id": "14e5001b-d4a0-4a38-aa9e-628ad9fa24ef",
   "metadata": {},
   "source": [
    "imports"
   ]
  },
  {
   "cell_type": "code",
   "execution_count": null,
   "id": "419f0a40-b314-4d48-8b00-8417b5fd4bef",
   "metadata": {
    "tags": []
   },
   "outputs": [],
   "source": [
    "import xarray as xr\n",
    "import fsspec\n",
    "import json\n",
    "\n",
    "from pangeo_fish.hmm.estimator import EagerScoreEstimator\n",
    "from pangeo_fish import tracks\n",
    "from pangeo_fish.pdf import combine_emission_pdf"
   ]
  },
  {
   "cell_type": "markdown",
   "id": "0677544b-8239-4437-b760-bab297d5014d",
   "metadata": {
    "tags": []
   },
   "source": [
    "## parametrize with [papermill](https://papermill.readthedocs.io/en/latest/)"
   ]
  },
  {
   "cell_type": "code",
   "execution_count": null,
   "id": "85f796a8-7430-4f54-9106-d99c7e6271e0",
   "metadata": {
    "tags": [
     "parameters"
    ]
   },
   "outputs": [],
   "source": [
    "# Notebook specification\n",
    "# For the moment limiting the plot only mean and mode\n",
    "track_modes: str | list = [\"mean\", \"mode\"]  # , \"viterbi\"]\n",
    "# Defining if we re-use computed state for plotting mean and mode\n",
    "state_modes: str | list = [\"mean\", \"mode\"]  # , \"viterbi\"]\n",
    "additional_track_quantities: str | list = [\"speed\", \"distance\"]\n",
    "\n",
    "\n",
    "# Dask parameters (Machine, and configuration dependent)\n",
    "# cluster_size: int | None = None\n",
    "cluster_name: str = \"datarmor-local\"\n",
    "cluster_overrides: dict = {}\n",
    "\n",
    "\n",
    "# Run specific\n",
    "working_path: str = \"/home/datawork-taos-s/public/fish/\"\n",
    "tag_name: str = \"A18832\"\n",
    "tag_base_path: str = \"/home/datawork-lops-iaocea/data/fish-intel/tag/nc/\"\n",
    "tag_db_path: str = (\n",
    "    \"/home/datawork-lops-iaocea/data/fish-intel/acoustic/FishIntel_tagging_France.csv\"\n",
    ")\n",
    "detections_path: str = \"/home/datawork-lops-iaocea/data/fish-intel/acoustic/detections_recaptured_fishintel.csv\"\n",
    "ref_model_name: str = \"copernicus\"\n",
    "nside: int = 4096  # healpix resolution\n",
    "# we can set the parameter acoustic to use acoustic information or not\n",
    "\n",
    "acoustic: str = \"/acoustic\""
   ]
  },
  {
   "cell_type": "markdown",
   "id": "6dc34e4c-a064-48ae-b0c0-c03c4d0a546a",
   "metadata": {},
   "source": [
    "## set path using the parameters\n"
   ]
  },
  {
   "cell_type": "code",
   "execution_count": null,
   "id": "f4d1b623-de7b-4e0b-ac2d-c0d18a28a087",
   "metadata": {},
   "outputs": [],
   "source": [
    "tag_url = tag_base_path + tag_name + \".nc\"\n",
    "emission_path = (\n",
    "    working_path\n",
    "    + tag_name\n",
    "    + \"/\"\n",
    "    + ref_model_name\n",
    "    + acoustic\n",
    "    + \"/emission_\"\n",
    "    + str(nside)\n",
    "    + \".zarr\"\n",
    ")\n",
    "states_path = (\n",
    "    working_path\n",
    "    + tag_name\n",
    "    + \"/\"\n",
    "    + ref_model_name\n",
    "    + acoustic\n",
    "    + \"/state_\"\n",
    "    + str(nside)\n",
    "    + \".zarr\"\n",
    ")\n",
    "tracks_root = working_path + tag_name + \"/\" + ref_model_name + acoustic + \"/\"\n",
    "parameter_path = (\n",
    "    working_path\n",
    "    + tag_name\n",
    "    + \"/\"\n",
    "    + ref_model_name\n",
    "    + acoustic\n",
    "    + \"/sigma_\"\n",
    "    + str(nside)\n",
    "    + \".json\"\n",
    ")"
   ]
  },
  {
   "cell_type": "markdown",
   "id": "9be05aee-a3a7-4df7-a7ef-c57b622976dc",
   "metadata": {},
   "source": [
    "## Start Dask cluster"
   ]
  },
  {
   "cell_type": "code",
   "execution_count": null,
   "id": "b90cfc98-b2c9-4b93-a419-46bf61ded958",
   "metadata": {},
   "outputs": [],
   "source": [
    "import dask_hpcconfig\n",
    "from distributed import Client"
   ]
  },
  {
   "cell_type": "code",
   "execution_count": null,
   "id": "a74bcc9c-ebda-4fc3-af1b-55327e3fd215",
   "metadata": {},
   "outputs": [],
   "source": [
    "domainname = !domainname\n",
    "\n",
    "if domainname == [\"nisdatarmor\"]:\n",
    "    cluster = dask_hpcconfig.cluster(cluster_name, **cluster_overrides)\n",
    "    if cluster_size is not None:\n",
    "        cluster.scale(cluster_size)\n",
    "else:\n",
    "    cluster = dask_hpcconfig.cluster(\"local\")\n",
    "\n",
    "client = Client(cluster)\n",
    "client"
   ]
  },
  {
   "cell_type": "raw",
   "id": "71ae48b6-6ab0-4774-befc-9a20a6c2e5cb",
   "metadata": {
    "tags": []
   },
   "source": [
    "from distributed import Client, LocalCluster\n",
    "\n",
    "if scheduler_address is None:\n",
    "    cluster = LocalCluster()\n",
    "    client = cluster.get_client()\n",
    "else:\n",
    "    client = Client(scheduler_address)\n",
    "client"
   ]
  },
  {
   "cell_type": "markdown",
   "id": "31b58cf1-742d-4eee-8912-75812daa11e6",
   "metadata": {},
   "source": [
    "open emission probabilities"
   ]
  },
  {
   "cell_type": "code",
   "execution_count": null,
   "id": "513cfd27-bd25-4f8d-826d-ebb8c7af14a9",
   "metadata": {
    "tags": []
   },
   "outputs": [],
   "source": [
    "emission = (\n",
    "    xr.open_dataset(emission_path, engine=\"zarr\", chunks={}, inline_array=True)\n",
    "    .pipe(combine_emission_pdf)\n",
    "    .drop_vars(\"resolution\")\n",
    ")\n",
    "emission"
   ]
  },
  {
   "cell_type": "markdown",
   "id": "afbb9e43-5153-43ff-b565-016dff687e53",
   "metadata": {},
   "source": [
    "open state probabilities"
   ]
  },
  {
   "cell_type": "code",
   "execution_count": null,
   "id": "8b9676f7-85cc-4570-b586-f1aef74cb8eb",
   "metadata": {
    "tags": []
   },
   "outputs": [],
   "source": [
    "%%time\n",
    "if states_path is not None:\n",
    "    states = xr.open_dataset(states_path, engine=\"zarr\", chunks={}, inline_array=True)\n",
    "else:\n",
    "    states = None\n",
    "states"
   ]
  },
  {
   "cell_type": "markdown",
   "id": "8d646737-fcfa-4478-b5c2-c65e7b5555ad",
   "metadata": {},
   "source": [
    "read the estimated parameters"
   ]
  },
  {
   "cell_type": "code",
   "execution_count": null,
   "id": "7c7de936-41f8-4002-bd29-9ea0dba23ac4",
   "metadata": {
    "tags": []
   },
   "outputs": [],
   "source": [
    "with fsspec.open(parameter_path, mode=\"r\") as f:\n",
    "    parameters = json.load(f)\n",
    "parameters.pop(\"tolerance\", None)\n",
    "parameters"
   ]
  },
  {
   "cell_type": "markdown",
   "id": "73ff40c8-ef54-4ea6-a8fa-df484004d85a",
   "metadata": {},
   "source": [
    "create the estimator"
   ]
  },
  {
   "cell_type": "code",
   "execution_count": null,
   "id": "e3e0c462-773e-48ea-8337-755994d0d947",
   "metadata": {
    "tags": []
   },
   "outputs": [],
   "source": [
    "estimator = EagerScoreEstimator(**parameters)\n",
    "estimator"
   ]
  },
  {
   "cell_type": "markdown",
   "id": "6379bfe1-54ce-499d-baed-776e08a2bff5",
   "metadata": {},
   "source": [
    "compute the tracks"
   ]
  },
  {
   "cell_type": "code",
   "execution_count": null,
   "id": "5b50b99d-ccd2-44c7-bbf0-a34e680e430f",
   "metadata": {
    "tags": []
   },
   "outputs": [],
   "source": [
    "fs, _ = fsspec.core.url_to_fs(tracks_root)\n",
    "fs.mkdirs(tracks_root, exist_ok=True)"
   ]
  },
  {
   "cell_type": "code",
   "execution_count": null,
   "id": "1a20331b-8521-4adc-ba3f-dc124f7b5783",
   "metadata": {
    "tags": []
   },
   "outputs": [],
   "source": [
    "for mode in track_modes:\n",
    "    reuse_states = mode in state_modes and states is not None\n",
    "    raw_track = estimator.decode(\n",
    "        states if reuse_states else emission, mode=mode, is_states=reuse_states\n",
    "    )\n",
    "    track = tracks.additional_quantities(raw_track, additional_track_quantities)\n",
    "    track.df.to_parquet(f\"{tracks_root}/{mode}.parquet\")"
   ]
  },
  {
   "cell_type": "markdown",
   "id": "10469279-c7c5-4b8e-8019-0187f20cb06a",
   "metadata": {},
   "source": [
    "visualization"
   ]
  },
  {
   "cell_type": "code",
   "execution_count": null,
   "id": "84a5810a-d362-4234-8aab-5579f2fef4a7",
   "metadata": {
    "tags": []
   },
   "outputs": [],
   "source": [
    "import cmocean\n",
    "import hvplot.xarray\n",
    "import movingpandas as mpd\n",
    "import geopandas as gpd\n",
    "import xarray as xr\n",
    "import holoviews as hv"
   ]
  },
  {
   "cell_type": "code",
   "execution_count": null,
   "id": "04379f40-8cbd-41f1-aaa7-f378d93bea8f",
   "metadata": {
    "tags": []
   },
   "outputs": [],
   "source": [
    "track_paths = [f\"{tracks_root}/{mode}.parquet\" for mode in track_modes]\n",
    "tracks = {\n",
    "    mode: mpd.Trajectory(\n",
    "        gpd.read_parquet(f\"{tracks_root}/{mode}.parquet\"), traj_id=mode\n",
    "    )\n",
    "    for mode in track_modes\n",
    "}"
   ]
  },
  {
   "cell_type": "code",
   "execution_count": null,
   "id": "3251f426-bbf6-4a42-85a8-88957c91b911",
   "metadata": {
    "tags": []
   },
   "outputs": [],
   "source": [
    "hv.Layout(\n",
    "    [\n",
    "        track.hvplot(c=\"speed\", tiles=\"CartoLight\", title=name, cmap=\"cmo.speed\")\n",
    "        for name, track in tracks.items()\n",
    "    ]\n",
    ").cols(2)"
   ]
  },
  {
   "cell_type": "code",
   "execution_count": null,
   "id": "c57febc3-04ad-41fd-bbc3-e92301639acf",
   "metadata": {},
   "outputs": [],
   "source": [
    "for name, track in tracks.items():\n",
    "    plot = track.hvplot(\n",
    "        c=\"speed\",\n",
    "        tiles=\"CartoLight\",\n",
    "        title=name,\n",
    "        cmap=\"cmo.speed\",\n",
    "        width=500,\n",
    "        height=400,\n",
    "    )\n",
    "    hvplot.save(plot, tracks_root + name + \".html\")"
   ]
  },
  {
   "cell_type": "code",
   "execution_count": null,
   "id": "636eec1b-ccb3-4270-a09e-1fb8c18328de",
   "metadata": {},
   "outputs": [],
   "source": []
  }
 ],
 "metadata": {
  "language_info": {
   "codemirror_mode": {
    "name": "ipython",
    "version": 3
   },
   "file_extension": ".py",
   "mimetype": "text/x-python",
   "name": "python",
   "nbconvert_exporter": "python",
   "pygments_lexer": "ipython3"
  }
 },
 "nbformat": 4,
 "nbformat_minor": 5
}
